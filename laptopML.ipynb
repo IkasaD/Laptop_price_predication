{
 "cells": [
  {
   "cell_type": "markdown",
   "metadata": {
    "id": "5-k6J6Jyxy-h"
   },
   "source": [
    "# Importing the Data"
   ]
  },
  {
   "cell_type": "code",
   "execution_count": 1,
   "metadata": {
    "executionInfo": {
     "elapsed": 513,
     "status": "ok",
     "timestamp": 1682549766914,
     "user": {
      "displayName": "Sarfraz Hussain Mohammed",
      "userId": "04740348016143627760"
     },
     "user_tz": -330
    },
    "id": "qfmnqfh1InAW"
   },
   "outputs": [],
   "source": [
    "import pandas as pd"
   ]
  },
  {
   "cell_type": "code",
   "execution_count": 2,
   "metadata": {
    "executionInfo": {
     "elapsed": 4,
     "status": "ok",
     "timestamp": 1682549767541,
     "user": {
      "displayName": "Sarfraz Hussain Mohammed",
      "userId": "04740348016143627760"
     },
     "user_tz": -330
    },
    "id": "ruy4XSGzKn-A"
   },
   "outputs": [],
   "source": [
    "df = pd.read_csv(\"laptop.csv\")"
   ]
  },
  {
   "cell_type": "code",
   "execution_count": 3,
   "metadata": {
    "executionInfo": {
     "elapsed": 4,
     "status": "ok",
     "timestamp": 1682549767542,
     "user": {
      "displayName": "Sarfraz Hussain Mohammed",
      "userId": "04740348016143627760"
     },
     "user_tz": -330
    },
    "id": "yR5L1nC2Z6N1"
   },
   "outputs": [],
   "source": [
    "df = df.drop('Unnamed: 0',axis=1)"
   ]
  },
  {
   "cell_type": "code",
   "execution_count": 4,
   "metadata": {
    "colab": {
     "base_uri": "https://localhost:8080/"
    },
    "executionInfo": {
     "elapsed": 3,
     "status": "ok",
     "timestamp": 1682549767913,
     "user": {
      "displayName": "Sarfraz Hussain Mohammed",
      "userId": "04740348016143627760"
     },
     "user_tz": -330
    },
    "id": "SPcs2F6faAb4",
    "outputId": "ca8a3331-fc6b-4cc6-a052-c921cc46d7f3"
   },
   "outputs": [
    {
     "data": {
      "text/plain": [
       "Index(['index', 'Product', 'Rating', 'MRP', 'Feature', 'Processor', 'Core',\n",
       "       'RAM', 'RAM_type', 'Storage(GB)', 'Storagetype', 'Brand', 'OS',\n",
       "       'Screen_Size'],\n",
       "      dtype='object')"
      ]
     },
     "execution_count": 4,
     "metadata": {},
     "output_type": "execute_result"
    }
   ],
   "source": [
    "df.columns"
   ]
  },
  {
   "cell_type": "code",
   "execution_count": 5,
   "metadata": {
    "colab": {
     "base_uri": "https://localhost:8080/",
     "height": 493
    },
    "executionInfo": {
     "elapsed": 8,
     "status": "ok",
     "timestamp": 1682549768624,
     "user": {
      "displayName": "Sarfraz Hussain Mohammed",
      "userId": "04740348016143627760"
     },
     "user_tz": -330
    },
    "id": "vxaTu4tIKtk6",
    "outputId": "40f49374-ee3c-4ba5-8f2a-b240e7e65cb0"
   },
   "outputs": [
    {
     "data": {
      "text/html": [
       "<div>\n",
       "<style scoped>\n",
       "    .dataframe tbody tr th:only-of-type {\n",
       "        vertical-align: middle;\n",
       "    }\n",
       "\n",
       "    .dataframe tbody tr th {\n",
       "        vertical-align: top;\n",
       "    }\n",
       "\n",
       "    .dataframe thead th {\n",
       "        text-align: right;\n",
       "    }\n",
       "</style>\n",
       "<table border=\"1\" class=\"dataframe\">\n",
       "  <thead>\n",
       "    <tr style=\"text-align: right;\">\n",
       "      <th></th>\n",
       "      <th>index</th>\n",
       "      <th>Product</th>\n",
       "      <th>Rating</th>\n",
       "      <th>MRP</th>\n",
       "      <th>Feature</th>\n",
       "      <th>Processor</th>\n",
       "      <th>Core</th>\n",
       "      <th>RAM</th>\n",
       "      <th>RAM_type</th>\n",
       "      <th>Storage(GB)</th>\n",
       "      <th>Storagetype</th>\n",
       "      <th>Brand</th>\n",
       "      <th>OS</th>\n",
       "      <th>Screen_Size</th>\n",
       "    </tr>\n",
       "  </thead>\n",
       "  <tbody>\n",
       "    <tr>\n",
       "      <th>0</th>\n",
       "      <td>0</td>\n",
       "      <td>Lenovo IdeaPad 3 Core i3 11th Gen - (8 GB/256 ...</td>\n",
       "      <td>4.2</td>\n",
       "      <td>36990.0</td>\n",
       "      <td>Intel Core i3 Processor (11th Gen)8 GB DDR4 RA...</td>\n",
       "      <td>Intel i3</td>\n",
       "      <td>Hexa</td>\n",
       "      <td>8</td>\n",
       "      <td>DDR4</td>\n",
       "      <td>256</td>\n",
       "      <td>SSD</td>\n",
       "      <td>Lenovo</td>\n",
       "      <td>Windows 11</td>\n",
       "      <td>14.0</td>\n",
       "    </tr>\n",
       "    <tr>\n",
       "      <th>1</th>\n",
       "      <td>1</td>\n",
       "      <td>Lenovo IdeaPad 3 Core i3 11th Gen - (8 GB/512 ...</td>\n",
       "      <td>4.2</td>\n",
       "      <td>39990.0</td>\n",
       "      <td>Intel Core i3 Processor (11th Gen)8 GB DDR4 RA...</td>\n",
       "      <td>Intel i3</td>\n",
       "      <td>Hexa</td>\n",
       "      <td>8</td>\n",
       "      <td>DDR4</td>\n",
       "      <td>512</td>\n",
       "      <td>SSD</td>\n",
       "      <td>Lenovo</td>\n",
       "      <td>Windows 11</td>\n",
       "      <td>15.6</td>\n",
       "    </tr>\n",
       "    <tr>\n",
       "      <th>2</th>\n",
       "      <td>2</td>\n",
       "      <td>ASUS VivoBook 15 (2022) Core i3 10th Gen - (8 ...</td>\n",
       "      <td>4.3</td>\n",
       "      <td>32990.0</td>\n",
       "      <td>Intel Core i3 Processor (10th Gen)8 GB DDR4 RA...</td>\n",
       "      <td>Intel i3</td>\n",
       "      <td>Hexa</td>\n",
       "      <td>8</td>\n",
       "      <td>DDR4</td>\n",
       "      <td>512</td>\n",
       "      <td>SSD</td>\n",
       "      <td>ASUS</td>\n",
       "      <td>Windows 11</td>\n",
       "      <td>15.6</td>\n",
       "    </tr>\n",
       "    <tr>\n",
       "      <th>3</th>\n",
       "      <td>3</td>\n",
       "      <td>HP Pavilion Ryzen 5 Hexa Core AMD R5-5600H - (...</td>\n",
       "      <td>4.4</td>\n",
       "      <td>49990.0</td>\n",
       "      <td>AMD Ryzen 5 Hexa Core Processor8 GB DDR4 RAM64...</td>\n",
       "      <td>AMD Ryzen 5</td>\n",
       "      <td>Hexa</td>\n",
       "      <td>8</td>\n",
       "      <td>DDR4</td>\n",
       "      <td>512</td>\n",
       "      <td>SSD</td>\n",
       "      <td>HP</td>\n",
       "      <td>Windows 10</td>\n",
       "      <td>15.6</td>\n",
       "    </tr>\n",
       "    <tr>\n",
       "      <th>4</th>\n",
       "      <td>4</td>\n",
       "      <td>ASUS TUF Gaming F15 Core i5 10th Gen - (8 GB/5...</td>\n",
       "      <td>4.4</td>\n",
       "      <td>49990.0</td>\n",
       "      <td>Intel Core i5 Processor (10th Gen)8 GB DDR4 RA...</td>\n",
       "      <td>Intel i5</td>\n",
       "      <td>Hexa</td>\n",
       "      <td>8</td>\n",
       "      <td>DDR4</td>\n",
       "      <td>512</td>\n",
       "      <td>SSD</td>\n",
       "      <td>ASUS</td>\n",
       "      <td>Windows 11</td>\n",
       "      <td>15.6</td>\n",
       "    </tr>\n",
       "  </tbody>\n",
       "</table>\n",
       "</div>"
      ],
      "text/plain": [
       "   index                                            Product  Rating      MRP  \\\n",
       "0      0  Lenovo IdeaPad 3 Core i3 11th Gen - (8 GB/256 ...     4.2  36990.0   \n",
       "1      1  Lenovo IdeaPad 3 Core i3 11th Gen - (8 GB/512 ...     4.2  39990.0   \n",
       "2      2  ASUS VivoBook 15 (2022) Core i3 10th Gen - (8 ...     4.3  32990.0   \n",
       "3      3  HP Pavilion Ryzen 5 Hexa Core AMD R5-5600H - (...     4.4  49990.0   \n",
       "4      4  ASUS TUF Gaming F15 Core i5 10th Gen - (8 GB/5...     4.4  49990.0   \n",
       "\n",
       "                                             Feature    Processor  Core  RAM  \\\n",
       "0  Intel Core i3 Processor (11th Gen)8 GB DDR4 RA...     Intel i3  Hexa    8   \n",
       "1  Intel Core i3 Processor (11th Gen)8 GB DDR4 RA...     Intel i3  Hexa    8   \n",
       "2  Intel Core i3 Processor (10th Gen)8 GB DDR4 RA...     Intel i3  Hexa    8   \n",
       "3  AMD Ryzen 5 Hexa Core Processor8 GB DDR4 RAM64...  AMD Ryzen 5  Hexa    8   \n",
       "4  Intel Core i5 Processor (10th Gen)8 GB DDR4 RA...     Intel i5  Hexa    8   \n",
       "\n",
       "  RAM_type  Storage(GB) Storagetype   Brand          OS  Screen_Size  \n",
       "0     DDR4          256         SSD  Lenovo  Windows 11         14.0  \n",
       "1     DDR4          512         SSD  Lenovo  Windows 11         15.6  \n",
       "2     DDR4          512         SSD    ASUS  Windows 11         15.6  \n",
       "3     DDR4          512         SSD      HP  Windows 10         15.6  \n",
       "4     DDR4          512         SSD    ASUS  Windows 11         15.6  "
      ]
     },
     "execution_count": 5,
     "metadata": {},
     "output_type": "execute_result"
    }
   ],
   "source": [
    "df.head()"
   ]
  },
  {
   "cell_type": "code",
   "execution_count": 6,
   "metadata": {
    "colab": {
     "base_uri": "https://localhost:8080/",
     "height": 510
    },
    "executionInfo": {
     "elapsed": 549,
     "status": "ok",
     "timestamp": 1682549771345,
     "user": {
      "displayName": "Sarfraz Hussain Mohammed",
      "userId": "04740348016143627760"
     },
     "user_tz": -330
    },
    "id": "MWyTjDOvMVUJ",
    "outputId": "4d475668-43d9-442d-9052-379c97e2e04a"
   },
   "outputs": [
    {
     "data": {
      "text/html": [
       "<div>\n",
       "<style scoped>\n",
       "    .dataframe tbody tr th:only-of-type {\n",
       "        vertical-align: middle;\n",
       "    }\n",
       "\n",
       "    .dataframe tbody tr th {\n",
       "        vertical-align: top;\n",
       "    }\n",
       "\n",
       "    .dataframe thead th {\n",
       "        text-align: right;\n",
       "    }\n",
       "</style>\n",
       "<table border=\"1\" class=\"dataframe\">\n",
       "  <thead>\n",
       "    <tr style=\"text-align: right;\">\n",
       "      <th></th>\n",
       "      <th>index</th>\n",
       "      <th>Product</th>\n",
       "      <th>Rating</th>\n",
       "      <th>MRP</th>\n",
       "      <th>Feature</th>\n",
       "      <th>Processor</th>\n",
       "      <th>Core</th>\n",
       "      <th>RAM</th>\n",
       "      <th>RAM_type</th>\n",
       "      <th>Storage(GB)</th>\n",
       "      <th>Storagetype</th>\n",
       "      <th>Brand</th>\n",
       "      <th>OS</th>\n",
       "      <th>Screen_Size</th>\n",
       "    </tr>\n",
       "  </thead>\n",
       "  <tbody>\n",
       "    <tr>\n",
       "      <th>708</th>\n",
       "      <td>715</td>\n",
       "      <td>ASUS Chromebook Flip Touch Celeron Dual Core -...</td>\n",
       "      <td>4.0</td>\n",
       "      <td>23490.0</td>\n",
       "      <td>Intel Celeron Dual Core Processor4 GB LPDDR4 R...</td>\n",
       "      <td>Intel Celeron</td>\n",
       "      <td>Dual</td>\n",
       "      <td>4</td>\n",
       "      <td>LPDDR4</td>\n",
       "      <td>64</td>\n",
       "      <td>EMMC</td>\n",
       "      <td>ASUS</td>\n",
       "      <td>Chrome</td>\n",
       "      <td>11.6</td>\n",
       "    </tr>\n",
       "    <tr>\n",
       "      <th>709</th>\n",
       "      <td>716</td>\n",
       "      <td>Lenovo IdeaPad Gaming 3 Ryzen 7 Octa Core AMD ...</td>\n",
       "      <td>4.5</td>\n",
       "      <td>73490.0</td>\n",
       "      <td>AMD Ryzen 7 Octa Core Processor8 GB DDR4 RAM64...</td>\n",
       "      <td>AMD Ryzen 7</td>\n",
       "      <td>Octa</td>\n",
       "      <td>8</td>\n",
       "      <td>DDR4</td>\n",
       "      <td>512</td>\n",
       "      <td>SSD</td>\n",
       "      <td>Lenovo</td>\n",
       "      <td>Windows 11</td>\n",
       "      <td>15.6</td>\n",
       "    </tr>\n",
       "    <tr>\n",
       "      <th>710</th>\n",
       "      <td>717</td>\n",
       "      <td>ASUS ROG Zephyrus G15 Ryzen 9 Octa Core 6900HS...</td>\n",
       "      <td>NaN</td>\n",
       "      <td>194990.0</td>\n",
       "      <td>AMD Ryzen 9 Octa Core Processor16 GB DDR5 RAM6...</td>\n",
       "      <td>AMD Ryzen 9</td>\n",
       "      <td>Octa</td>\n",
       "      <td>16</td>\n",
       "      <td>DDR5</td>\n",
       "      <td>1000</td>\n",
       "      <td>SSD</td>\n",
       "      <td>ASUS</td>\n",
       "      <td>Windows 11</td>\n",
       "      <td>15.6</td>\n",
       "    </tr>\n",
       "    <tr>\n",
       "      <th>711</th>\n",
       "      <td>718</td>\n",
       "      <td>ASUS Zenbook Flip 14 OLED (2022) Touch Panel C...</td>\n",
       "      <td>3.0</td>\n",
       "      <td>125990.0</td>\n",
       "      <td>Intel Core i7 Processor (12th Gen)16 GB LPDDR5...</td>\n",
       "      <td>Intel i7</td>\n",
       "      <td>Octa</td>\n",
       "      <td>16</td>\n",
       "      <td>LPDDR5</td>\n",
       "      <td>512</td>\n",
       "      <td>SSD</td>\n",
       "      <td>ASUS</td>\n",
       "      <td>Windows 11</td>\n",
       "      <td>14.0</td>\n",
       "    </tr>\n",
       "    <tr>\n",
       "      <th>712</th>\n",
       "      <td>719</td>\n",
       "      <td>Lenovo Ideapad Slim 3i Core i5 10th Gen - (8 G...</td>\n",
       "      <td>4.2</td>\n",
       "      <td>50990.0</td>\n",
       "      <td>Intel Core i5 Processor (10th Gen)8 GB DDR4 RA...</td>\n",
       "      <td>Intel i5</td>\n",
       "      <td>Hexa</td>\n",
       "      <td>8</td>\n",
       "      <td>DDR4</td>\n",
       "      <td>1000</td>\n",
       "      <td>HDD</td>\n",
       "      <td>Lenovo</td>\n",
       "      <td>Windows 10</td>\n",
       "      <td>15.6</td>\n",
       "    </tr>\n",
       "  </tbody>\n",
       "</table>\n",
       "</div>"
      ],
      "text/plain": [
       "     index                                            Product  Rating  \\\n",
       "708    715  ASUS Chromebook Flip Touch Celeron Dual Core -...     4.0   \n",
       "709    716  Lenovo IdeaPad Gaming 3 Ryzen 7 Octa Core AMD ...     4.5   \n",
       "710    717  ASUS ROG Zephyrus G15 Ryzen 9 Octa Core 6900HS...     NaN   \n",
       "711    718  ASUS Zenbook Flip 14 OLED (2022) Touch Panel C...     3.0   \n",
       "712    719  Lenovo Ideapad Slim 3i Core i5 10th Gen - (8 G...     4.2   \n",
       "\n",
       "          MRP                                            Feature  \\\n",
       "708   23490.0  Intel Celeron Dual Core Processor4 GB LPDDR4 R...   \n",
       "709   73490.0  AMD Ryzen 7 Octa Core Processor8 GB DDR4 RAM64...   \n",
       "710  194990.0  AMD Ryzen 9 Octa Core Processor16 GB DDR5 RAM6...   \n",
       "711  125990.0  Intel Core i7 Processor (12th Gen)16 GB LPDDR5...   \n",
       "712   50990.0  Intel Core i5 Processor (10th Gen)8 GB DDR4 RA...   \n",
       "\n",
       "         Processor  Core  RAM RAM_type  Storage(GB) Storagetype   Brand  \\\n",
       "708  Intel Celeron  Dual    4   LPDDR4           64        EMMC    ASUS   \n",
       "709    AMD Ryzen 7  Octa    8     DDR4          512         SSD  Lenovo   \n",
       "710    AMD Ryzen 9  Octa   16     DDR5         1000         SSD    ASUS   \n",
       "711       Intel i7  Octa   16   LPDDR5          512         SSD    ASUS   \n",
       "712       Intel i5  Hexa    8     DDR4         1000         HDD  Lenovo   \n",
       "\n",
       "             OS  Screen_Size  \n",
       "708      Chrome         11.6  \n",
       "709  Windows 11         15.6  \n",
       "710  Windows 11         15.6  \n",
       "711  Windows 11         14.0  \n",
       "712  Windows 10         15.6  "
      ]
     },
     "execution_count": 6,
     "metadata": {},
     "output_type": "execute_result"
    }
   ],
   "source": [
    "df.tail()"
   ]
  },
  {
   "cell_type": "code",
   "execution_count": null,
   "metadata": {
    "id": "dBrXN5-_yChR"
   },
   "outputs": [],
   "source": []
  },
  {
   "cell_type": "code",
   "execution_count": null,
   "metadata": {
    "id": "XPWHbHPHyCdn"
   },
   "outputs": [],
   "source": []
  },
  {
   "cell_type": "markdown",
   "metadata": {
    "id": "Jq5LDLoLyDeC"
   },
   "source": [
    "## Removing the single data points "
   ]
  },
  {
   "cell_type": "code",
   "execution_count": 7,
   "metadata": {
    "colab": {
     "base_uri": "https://localhost:8080/"
    },
    "executionInfo": {
     "elapsed": 400,
     "status": "ok",
     "timestamp": 1682549918332,
     "user": {
      "displayName": "Sarfraz Hussain Mohammed",
      "userId": "04740348016143627760"
     },
     "user_tz": -330
    },
    "id": "-p2PLsW-M6e4",
    "outputId": "2725f022-f6b6-4f4a-b9b9-73b9a2bc395e"
   },
   "outputs": [
    {
     "data": {
      "text/plain": [
       "(713, 14)"
      ]
     },
     "execution_count": 7,
     "metadata": {},
     "output_type": "execute_result"
    }
   ],
   "source": [
    "df.shape"
   ]
  },
  {
   "cell_type": "code",
   "execution_count": 8,
   "metadata": {
    "colab": {
     "base_uri": "https://localhost:8080/"
    },
    "executionInfo": {
     "elapsed": 9,
     "status": "ok",
     "timestamp": 1682549919871,
     "user": {
      "displayName": "Sarfraz Hussain Mohammed",
      "userId": "04740348016143627760"
     },
     "user_tz": -330
    },
    "id": "XaL0-5RZGhSD",
    "outputId": "2f78dd9e-0f3a-42be-a616-a223d12373dc"
   },
   "outputs": [
    {
     "data": {
      "text/plain": [
       "Intel i5                156\n",
       "Intel i3                135\n",
       "AMD Ryzen 5              90\n",
       "AMD Ryzen 9              87\n",
       "AMD Ryzen 7              81\n",
       "Intel i7                 56\n",
       "AMD Ryzen 3              48\n",
       "Intel Celeron            23\n",
       "Intel i9                 11\n",
       "Apple M1                  7\n",
       "Intel Pentium Silver      6\n",
       "Apple M1 Pro              6\n",
       "Apple M2                  5\n",
       "AMD Athlon                2\n",
       "Name: Processor, dtype: int64"
      ]
     },
     "execution_count": 8,
     "metadata": {},
     "output_type": "execute_result"
    }
   ],
   "source": [
    "df['Processor'].value_counts()"
   ]
  },
  {
   "cell_type": "code",
   "execution_count": 9,
   "metadata": {
    "colab": {
     "base_uri": "https://localhost:8080/",
     "height": 447
    },
    "executionInfo": {
     "elapsed": 799,
     "status": "ok",
     "timestamp": 1682549923626,
     "user": {
      "displayName": "Sarfraz Hussain Mohammed",
      "userId": "04740348016143627760"
     },
     "user_tz": -330
    },
    "id": "XS8YP91jGjOe",
    "outputId": "de7244f7-8d74-4cea-f024-a4148c698188"
   },
   "outputs": [
    {
     "data": {
      "text/plain": [
       "<AxesSubplot:>"
      ]
     },
     "execution_count": 9,
     "metadata": {},
     "output_type": "execute_result"
    },
    {
     "data": {
      "image/png": "[encoded data removed]",
      "text/plain": [
       "<Figure size 432x288 with 1 Axes>"
      ]
     },
     "metadata": {
      "needs_background": "light"
     },
     "output_type": "display_data"
    }
   ],
   "source": [
    "df['Processor'].value_counts().plot(kind='barh')"
   ]
  },
  {
   "cell_type": "code",
   "execution_count": 10,
   "metadata": {
    "colab": {
     "base_uri": "https://localhost:8080/"
    },
    "executionInfo": {
     "elapsed": 761,
     "status": "ok",
     "timestamp": 1682549926150,
     "user": {
      "displayName": "Sarfraz Hussain Mohammed",
      "userId": "04740348016143627760"
     },
     "user_tz": -330
    },
    "id": "9iZoBT31HKW1",
    "outputId": "c5b1e5d4-9cb9-48b1-df93-29161aef2fa6"
   },
   "outputs": [
    {
     "data": {
      "text/plain": [
       "(713, 14)"
      ]
     },
     "execution_count": 10,
     "metadata": {},
     "output_type": "execute_result"
    }
   ],
   "source": [
    "df.shape"
   ]
  },
  {
   "cell_type": "code",
   "execution_count": 11,
   "metadata": {
    "executionInfo": {
     "elapsed": 2,
     "status": "ok",
     "timestamp": 1682549927694,
     "user": {
      "displayName": "Sarfraz Hussain Mohammed",
      "userId": "04740348016143627760"
     },
     "user_tz": -330
    },
    "id": "lOYm1kmPG4z7"
   },
   "outputs": [],
   "source": [
    "df = df[df['Processor'] != 'Apple M1 Max']"
   ]
  },
  {
   "cell_type": "code",
   "execution_count": 12,
   "metadata": {
    "executionInfo": {
     "elapsed": 2,
     "status": "ok",
     "timestamp": 1682549928263,
     "user": {
      "displayName": "Sarfraz Hussain Mohammed",
      "userId": "04740348016143627760"
     },
     "user_tz": -330
    },
    "id": "iMliE1n6G4oh"
   },
   "outputs": [],
   "source": [
    "df = df[df['Processor'] != 'Qualcomm Snapdragon']"
   ]
  },
  {
   "cell_type": "code",
   "execution_count": 13,
   "metadata": {
    "executionInfo": {
     "elapsed": 3,
     "status": "ok",
     "timestamp": 1682549928635,
     "user": {
      "displayName": "Sarfraz Hussain Mohammed",
      "userId": "04740348016143627760"
     },
     "user_tz": -330
    },
    "id": "RP67rBsxG4fP"
   },
   "outputs": [],
   "source": [
    "df = df[df['Processor'] != 'AMD']"
   ]
  },
  {
   "cell_type": "code",
   "execution_count": 14,
   "metadata": {
    "colab": {
     "base_uri": "https://localhost:8080/"
    },
    "executionInfo": {
     "elapsed": 584,
     "status": "ok",
     "timestamp": 1682549932118,
     "user": {
      "displayName": "Sarfraz Hussain Mohammed",
      "userId": "04740348016143627760"
     },
     "user_tz": -330
    },
    "id": "BIbYAVcjyR_q",
    "outputId": "5c12243b-c955-467d-cf75-ac3fb752df02"
   },
   "outputs": [
    {
     "data": {
      "text/plain": [
       "ASUS         251\n",
       "Lenovo       195\n",
       "HP            61\n",
       "DELL          61\n",
       "acer          35\n",
       "RedmiBook     31\n",
       "MSI           30\n",
       "Infinix       20\n",
       "APPLE         18\n",
       "realme         6\n",
       "ALIENWARE      3\n",
       "Ultimus        2\n",
       "Name: Brand, dtype: int64"
      ]
     },
     "execution_count": 14,
     "metadata": {},
     "output_type": "execute_result"
    }
   ],
   "source": [
    "df['Brand'].value_counts()"
   ]
  },
  {
   "cell_type": "code",
   "execution_count": 15,
   "metadata": {
    "executionInfo": {
     "elapsed": 430,
     "status": "ok",
     "timestamp": 1682550531279,
     "user": {
      "displayName": "Sarfraz Hussain Mohammed",
      "userId": "04740348016143627760"
     },
     "user_tz": -330
    },
    "id": "h0rC3Oh-0oNE"
   },
   "outputs": [],
   "source": [
    "df = df[df['Brand']!='GIGABYTE']"
   ]
  },
  {
   "cell_type": "code",
   "execution_count": 16,
   "metadata": {
    "executionInfo": {
     "elapsed": 9,
     "status": "ok",
     "timestamp": 1682550531886,
     "user": {
      "displayName": "Sarfraz Hussain Mohammed",
      "userId": "04740348016143627760"
     },
     "user_tz": -330
    },
    "id": "Y5nD-KZa0wKt"
   },
   "outputs": [],
   "source": [
    "df = df[df['Brand']!='Nokia']"
   ]
  },
  {
   "cell_type": "code",
   "execution_count": 17,
   "metadata": {
    "executionInfo": {
     "elapsed": 8,
     "status": "ok",
     "timestamp": 1682550531887,
     "user": {
      "displayName": "Sarfraz Hussain Mohammed",
      "userId": "04740348016143627760"
     },
     "user_tz": -330
    },
    "id": "ezVVSw8cyZ-p"
   },
   "outputs": [],
   "source": [
    "df = df[df['Brand']!='Vaio']"
   ]
  },
  {
   "cell_type": "code",
   "execution_count": 18,
   "metadata": {
    "executionInfo": {
     "elapsed": 363,
     "status": "ok",
     "timestamp": 1682550322280,
     "user": {
      "displayName": "Sarfraz Hussain Mohammed",
      "userId": "04740348016143627760"
     },
     "user_tz": -330
    },
    "id": "_LGDBiYyxOQM"
   },
   "outputs": [],
   "source": [
    "df = df[df['Brand']!='SAMSUNG']"
   ]
  },
  {
   "cell_type": "code",
   "execution_count": 19,
   "metadata": {
    "colab": {
     "base_uri": "https://localhost:8080/"
    },
    "executionInfo": {
     "elapsed": 511,
     "status": "ok",
     "timestamp": 1682551163871,
     "user": {
      "displayName": "Sarfraz Hussain Mohammed",
      "userId": "04740348016143627760"
     },
     "user_tz": -330
    },
    "id": "szwZcH5LHIOX",
    "outputId": "5923c435-ee7e-4785-afa5-14f091872c9d"
   },
   "outputs": [
    {
     "data": {
      "text/plain": [
       "(713, 14)"
      ]
     },
     "execution_count": 19,
     "metadata": {},
     "output_type": "execute_result"
    }
   ],
   "source": [
    "df.shape"
   ]
  },
  {
   "cell_type": "code",
   "execution_count": 20,
   "metadata": {
    "executionInfo": {
     "elapsed": 415,
     "status": "ok",
     "timestamp": 1682551243508,
     "user": {
      "displayName": "Sarfraz Hussain Mohammed",
      "userId": "04740348016143627760"
     },
     "user_tz": -330
    },
    "id": "RsuWnRJ53S3z"
   },
   "outputs": [],
   "source": [
    "df.reset_index(inplace = True)"
   ]
  },
  {
   "cell_type": "code",
   "execution_count": 21,
   "metadata": {
    "colab": {
     "base_uri": "https://localhost:8080/",
     "height": 1000
    },
    "executionInfo": {
     "elapsed": 493,
     "status": "ok",
     "timestamp": 1682551250785,
     "user": {
      "displayName": "Sarfraz Hussain Mohammed",
      "userId": "04740348016143627760"
     },
     "user_tz": -330
    },
    "id": "8Cw5ghCy3pLz",
    "outputId": "334fd030-c120-4cfc-cb61-c2bfdfb99272"
   },
   "outputs": [
    {
     "data": {
      "text/html": [
       "<div>\n",
       "<style scoped>\n",
       "    .dataframe tbody tr th:only-of-type {\n",
       "        vertical-align: middle;\n",
       "    }\n",
       "\n",
       "    .dataframe tbody tr th {\n",
       "        vertical-align: top;\n",
       "    }\n",
       "\n",
       "    .dataframe thead th {\n",
       "        text-align: right;\n",
       "    }\n",
       "</style>\n",
       "<table border=\"1\" class=\"dataframe\">\n",
       "  <thead>\n",
       "    <tr style=\"text-align: right;\">\n",
       "      <th></th>\n",
       "      <th>level_0</th>\n",
       "      <th>index</th>\n",
       "      <th>Product</th>\n",
       "      <th>Rating</th>\n",
       "      <th>MRP</th>\n",
       "      <th>Feature</th>\n",
       "      <th>Processor</th>\n",
       "      <th>Core</th>\n",
       "      <th>RAM</th>\n",
       "      <th>RAM_type</th>\n",
       "      <th>Storage(GB)</th>\n",
       "      <th>Storagetype</th>\n",
       "      <th>Brand</th>\n",
       "      <th>OS</th>\n",
       "      <th>Screen_Size</th>\n",
       "    </tr>\n",
       "  </thead>\n",
       "  <tbody>\n",
       "    <tr>\n",
       "      <th>0</th>\n",
       "      <td>0</td>\n",
       "      <td>0</td>\n",
       "      <td>Lenovo IdeaPad 3 Core i3 11th Gen - (8 GB/256 ...</td>\n",
       "      <td>4.2</td>\n",
       "      <td>36990.0</td>\n",
       "      <td>Intel Core i3 Processor (11th Gen)8 GB DDR4 RA...</td>\n",
       "      <td>Intel i3</td>\n",
       "      <td>Hexa</td>\n",
       "      <td>8</td>\n",
       "      <td>DDR4</td>\n",
       "      <td>256</td>\n",
       "      <td>SSD</td>\n",
       "      <td>Lenovo</td>\n",
       "      <td>Windows 11</td>\n",
       "      <td>14.0</td>\n",
       "    </tr>\n",
       "    <tr>\n",
       "      <th>1</th>\n",
       "      <td>1</td>\n",
       "      <td>1</td>\n",
       "      <td>Lenovo IdeaPad 3 Core i3 11th Gen - (8 GB/512 ...</td>\n",
       "      <td>4.2</td>\n",
       "      <td>39990.0</td>\n",
       "      <td>Intel Core i3 Processor (11th Gen)8 GB DDR4 RA...</td>\n",
       "      <td>Intel i3</td>\n",
       "      <td>Hexa</td>\n",
       "      <td>8</td>\n",
       "      <td>DDR4</td>\n",
       "      <td>512</td>\n",
       "      <td>SSD</td>\n",
       "      <td>Lenovo</td>\n",
       "      <td>Windows 11</td>\n",
       "      <td>15.6</td>\n",
       "    </tr>\n",
       "    <tr>\n",
       "      <th>2</th>\n",
       "      <td>2</td>\n",
       "      <td>2</td>\n",
       "      <td>ASUS VivoBook 15 (2022) Core i3 10th Gen - (8 ...</td>\n",
       "      <td>4.3</td>\n",
       "      <td>32990.0</td>\n",
       "      <td>Intel Core i3 Processor (10th Gen)8 GB DDR4 RA...</td>\n",
       "      <td>Intel i3</td>\n",
       "      <td>Hexa</td>\n",
       "      <td>8</td>\n",
       "      <td>DDR4</td>\n",
       "      <td>512</td>\n",
       "      <td>SSD</td>\n",
       "      <td>ASUS</td>\n",
       "      <td>Windows 11</td>\n",
       "      <td>15.6</td>\n",
       "    </tr>\n",
       "    <tr>\n",
       "      <th>3</th>\n",
       "      <td>3</td>\n",
       "      <td>3</td>\n",
       "      <td>HP Pavilion Ryzen 5 Hexa Core AMD R5-5600H - (...</td>\n",
       "      <td>4.4</td>\n",
       "      <td>49990.0</td>\n",
       "      <td>AMD Ryzen 5 Hexa Core Processor8 GB DDR4 RAM64...</td>\n",
       "      <td>AMD Ryzen 5</td>\n",
       "      <td>Hexa</td>\n",
       "      <td>8</td>\n",
       "      <td>DDR4</td>\n",
       "      <td>512</td>\n",
       "      <td>SSD</td>\n",
       "      <td>HP</td>\n",
       "      <td>Windows 10</td>\n",
       "      <td>15.6</td>\n",
       "    </tr>\n",
       "    <tr>\n",
       "      <th>4</th>\n",
       "      <td>4</td>\n",
       "      <td>4</td>\n",
       "      <td>ASUS TUF Gaming F15 Core i5 10th Gen - (8 GB/5...</td>\n",
       "      <td>4.4</td>\n",
       "      <td>49990.0</td>\n",
       "      <td>Intel Core i5 Processor (10th Gen)8 GB DDR4 RA...</td>\n",
       "      <td>Intel i5</td>\n",
       "      <td>Hexa</td>\n",
       "      <td>8</td>\n",
       "      <td>DDR4</td>\n",
       "      <td>512</td>\n",
       "      <td>SSD</td>\n",
       "      <td>ASUS</td>\n",
       "      <td>Windows 11</td>\n",
       "      <td>15.6</td>\n",
       "    </tr>\n",
       "    <tr>\n",
       "      <th>...</th>\n",
       "      <td>...</td>\n",
       "      <td>...</td>\n",
       "      <td>...</td>\n",
       "      <td>...</td>\n",
       "      <td>...</td>\n",
       "      <td>...</td>\n",
       "      <td>...</td>\n",
       "      <td>...</td>\n",
       "      <td>...</td>\n",
       "      <td>...</td>\n",
       "      <td>...</td>\n",
       "      <td>...</td>\n",
       "      <td>...</td>\n",
       "      <td>...</td>\n",
       "      <td>...</td>\n",
       "    </tr>\n",
       "    <tr>\n",
       "      <th>708</th>\n",
       "      <td>708</td>\n",
       "      <td>715</td>\n",
       "      <td>ASUS Chromebook Flip Touch Celeron Dual Core -...</td>\n",
       "      <td>4.0</td>\n",
       "      <td>23490.0</td>\n",
       "      <td>Intel Celeron Dual Core Processor4 GB LPDDR4 R...</td>\n",
       "      <td>Intel Celeron</td>\n",
       "      <td>Dual</td>\n",
       "      <td>4</td>\n",
       "      <td>LPDDR4</td>\n",
       "      <td>64</td>\n",
       "      <td>EMMC</td>\n",
       "      <td>ASUS</td>\n",
       "      <td>Chrome</td>\n",
       "      <td>11.6</td>\n",
       "    </tr>\n",
       "    <tr>\n",
       "      <th>709</th>\n",
       "      <td>709</td>\n",
       "      <td>716</td>\n",
       "      <td>Lenovo IdeaPad Gaming 3 Ryzen 7 Octa Core AMD ...</td>\n",
       "      <td>4.5</td>\n",
       "      <td>73490.0</td>\n",
       "      <td>AMD Ryzen 7 Octa Core Processor8 GB DDR4 RAM64...</td>\n",
       "      <td>AMD Ryzen 7</td>\n",
       "      <td>Octa</td>\n",
       "      <td>8</td>\n",
       "      <td>DDR4</td>\n",
       "      <td>512</td>\n",
       "      <td>SSD</td>\n",
       "      <td>Lenovo</td>\n",
       "      <td>Windows 11</td>\n",
       "      <td>15.6</td>\n",
       "    </tr>\n",
       "    <tr>\n",
       "      <th>710</th>\n",
       "      <td>710</td>\n",
       "      <td>717</td>\n",
       "      <td>ASUS ROG Zephyrus G15 Ryzen 9 Octa Core 6900HS...</td>\n",
       "      <td>NaN</td>\n",
       "      <td>194990.0</td>\n",
       "      <td>AMD Ryzen 9 Octa Core Processor16 GB DDR5 RAM6...</td>\n",
       "      <td>AMD Ryzen 9</td>\n",
       "      <td>Octa</td>\n",
       "      <td>16</td>\n",
       "      <td>DDR5</td>\n",
       "      <td>1000</td>\n",
       "      <td>SSD</td>\n",
       "      <td>ASUS</td>\n",
       "      <td>Windows 11</td>\n",
       "      <td>15.6</td>\n",
       "    </tr>\n",
       "    <tr>\n",
       "      <th>711</th>\n",
       "      <td>711</td>\n",
       "      <td>718</td>\n",
       "      <td>ASUS Zenbook Flip 14 OLED (2022) Touch Panel C...</td>\n",
       "      <td>3.0</td>\n",
       "      <td>125990.0</td>\n",
       "      <td>Intel Core i7 Processor (12th Gen)16 GB LPDDR5...</td>\n",
       "      <td>Intel i7</td>\n",
       "      <td>Octa</td>\n",
       "      <td>16</td>\n",
       "      <td>LPDDR5</td>\n",
       "      <td>512</td>\n",
       "      <td>SSD</td>\n",
       "      <td>ASUS</td>\n",
       "      <td>Windows 11</td>\n",
       "      <td>14.0</td>\n",
       "    </tr>\n",
       "    <tr>\n",
       "      <th>712</th>\n",
       "      <td>712</td>\n",
       "      <td>719</td>\n",
       "      <td>Lenovo Ideapad Slim 3i Core i5 10th Gen - (8 G...</td>\n",
       "      <td>4.2</td>\n",
       "      <td>50990.0</td>\n",
       "      <td>Intel Core i5 Processor (10th Gen)8 GB DDR4 RA...</td>\n",
       "      <td>Intel i5</td>\n",
       "      <td>Hexa</td>\n",
       "      <td>8</td>\n",
       "      <td>DDR4</td>\n",
       "      <td>1000</td>\n",
       "      <td>HDD</td>\n",
       "      <td>Lenovo</td>\n",
       "      <td>Windows 10</td>\n",
       "      <td>15.6</td>\n",
       "    </tr>\n",
       "  </tbody>\n",
       "</table>\n",
       "<p>713 rows × 15 columns</p>\n",
       "</div>"
      ],
      "text/plain": [
       "     level_0  index                                            Product  \\\n",
       "0          0      0  Lenovo IdeaPad 3 Core i3 11th Gen - (8 GB/256 ...   \n",
       "1          1      1  Lenovo IdeaPad 3 Core i3 11th Gen - (8 GB/512 ...   \n",
       "2          2      2  ASUS VivoBook 15 (2022) Core i3 10th Gen - (8 ...   \n",
       "3          3      3  HP Pavilion Ryzen 5 Hexa Core AMD R5-5600H - (...   \n",
       "4          4      4  ASUS TUF Gaming F15 Core i5 10th Gen - (8 GB/5...   \n",
       "..       ...    ...                                                ...   \n",
       "708      708    715  ASUS Chromebook Flip Touch Celeron Dual Core -...   \n",
       "709      709    716  Lenovo IdeaPad Gaming 3 Ryzen 7 Octa Core AMD ...   \n",
       "710      710    717  ASUS ROG Zephyrus G15 Ryzen 9 Octa Core 6900HS...   \n",
       "711      711    718  ASUS Zenbook Flip 14 OLED (2022) Touch Panel C...   \n",
       "712      712    719  Lenovo Ideapad Slim 3i Core i5 10th Gen - (8 G...   \n",
       "\n",
       "     Rating       MRP                                            Feature  \\\n",
       "0       4.2   36990.0  Intel Core i3 Processor (11th Gen)8 GB DDR4 RA...   \n",
       "1       4.2   39990.0  Intel Core i3 Processor (11th Gen)8 GB DDR4 RA...   \n",
       "2       4.3   32990.0  Intel Core i3 Processor (10th Gen)8 GB DDR4 RA...   \n",
       "3       4.4   49990.0  AMD Ryzen 5 Hexa Core Processor8 GB DDR4 RAM64...   \n",
       "4       4.4   49990.0  Intel Core i5 Processor (10th Gen)8 GB DDR4 RA...   \n",
       "..      ...       ...                                                ...   \n",
       "708     4.0   23490.0  Intel Celeron Dual Core Processor4 GB LPDDR4 R...   \n",
       "709     4.5   73490.0  AMD Ryzen 7 Octa Core Processor8 GB DDR4 RAM64...   \n",
       "710     NaN  194990.0  AMD Ryzen 9 Octa Core Processor16 GB DDR5 RAM6...   \n",
       "711     3.0  125990.0  Intel Core i7 Processor (12th Gen)16 GB LPDDR5...   \n",
       "712     4.2   50990.0  Intel Core i5 Processor (10th Gen)8 GB DDR4 RA...   \n",
       "\n",
       "         Processor  Core  RAM RAM_type  Storage(GB) Storagetype   Brand  \\\n",
       "0         Intel i3  Hexa    8     DDR4          256         SSD  Lenovo   \n",
       "1         Intel i3  Hexa    8     DDR4          512         SSD  Lenovo   \n",
       "2         Intel i3  Hexa    8     DDR4          512         SSD    ASUS   \n",
       "3      AMD Ryzen 5  Hexa    8     DDR4          512         SSD      HP   \n",
       "4         Intel i5  Hexa    8     DDR4          512         SSD    ASUS   \n",
       "..             ...   ...  ...      ...          ...         ...     ...   \n",
       "708  Intel Celeron  Dual    4   LPDDR4           64        EMMC    ASUS   \n",
       "709    AMD Ryzen 7  Octa    8     DDR4          512         SSD  Lenovo   \n",
       "710    AMD Ryzen 9  Octa   16     DDR5         1000         SSD    ASUS   \n",
       "711       Intel i7  Octa   16   LPDDR5          512         SSD    ASUS   \n",
       "712       Intel i5  Hexa    8     DDR4         1000         HDD  Lenovo   \n",
       "\n",
       "             OS  Screen_Size  \n",
       "0    Windows 11         14.0  \n",
       "1    Windows 11         15.6  \n",
       "2    Windows 11         15.6  \n",
       "3    Windows 10         15.6  \n",
       "4    Windows 11         15.6  \n",
       "..          ...          ...  \n",
       "708      Chrome         11.6  \n",
       "709  Windows 11         15.6  \n",
       "710  Windows 11         15.6  \n",
       "711  Windows 11         14.0  \n",
       "712  Windows 10         15.6  \n",
       "\n",
       "[713 rows x 15 columns]"
      ]
     },
     "execution_count": 21,
     "metadata": {},
     "output_type": "execute_result"
    }
   ],
   "source": [
    "df"
   ]
  },
  {
   "cell_type": "code",
   "execution_count": 22,
   "metadata": {
    "executionInfo": {
     "elapsed": 370,
     "status": "ok",
     "timestamp": 1682551266062,
     "user": {
      "displayName": "Sarfraz Hussain Mohammed",
      "userId": "04740348016143627760"
     },
     "user_tz": -330
    },
    "id": "s5qOKf0zzR_r"
   },
   "outputs": [],
   "source": [
    "df.to_csv('file.csv')"
   ]
  },
  {
   "cell_type": "code",
   "execution_count": null,
   "metadata": {
    "id": "vvWwI1KGzRkf"
   },
   "outputs": [],
   "source": []
  },
  {
   "cell_type": "markdown",
   "metadata": {
    "id": "LSEJx9-rzSey"
   },
   "source": [
    "## X - Y Train & Test"
   ]
  },
  {
   "cell_type": "code",
   "execution_count": 23,
   "metadata": {
    "executionInfo": {
     "elapsed": 505,
     "status": "ok",
     "timestamp": 1682550544947,
     "user": {
      "displayName": "Sarfraz Hussain Mohammed",
      "userId": "04740348016143627760"
     },
     "user_tz": -330
    },
    "id": "RXL0otBXMZQd"
   },
   "outputs": [],
   "source": [
    "y = df['MRP']\n",
    "\n",
    "X = df[['Brand','Processor', 'Core', 'RAM','RAM_type', 'Storage(GB)', 'Storagetype', 'OS', 'Screen_Size']]"
   ]
  },
  {
   "cell_type": "code",
   "execution_count": 24,
   "metadata": {
    "executionInfo": {
     "elapsed": 15,
     "status": "ok",
     "timestamp": 1682550545761,
     "user": {
      "displayName": "Sarfraz Hussain Mohammed",
      "userId": "04740348016143627760"
     },
     "user_tz": -330
    },
    "id": "fEzl0IehNHg3"
   },
   "outputs": [],
   "source": [
    "from sklearn.model_selection import train_test_split\n",
    "\n",
    "X_train, X_test, y_train, y_test = train_test_split(X, y, train_size=0.7, random_state=50,stratify=df['Processor'])"
   ]
  },
  {
   "cell_type": "code",
   "execution_count": 25,
   "metadata": {
    "colab": {
     "base_uri": "https://localhost:8080/",
     "height": 206
    },
    "executionInfo": {
     "elapsed": 15,
     "status": "ok",
     "timestamp": 1682550545762,
     "user": {
      "displayName": "Sarfraz Hussain Mohammed",
      "userId": "04740348016143627760"
     },
     "user_tz": -330
    },
    "id": "40XSyQ8VNKfK",
    "outputId": "bdcf48cf-c4a2-4f82-b8cf-1a820e573856"
   },
   "outputs": [
    {
     "data": {
      "text/html": [
       "<div>\n",
       "<style scoped>\n",
       "    .dataframe tbody tr th:only-of-type {\n",
       "        vertical-align: middle;\n",
       "    }\n",
       "\n",
       "    .dataframe tbody tr th {\n",
       "        vertical-align: top;\n",
       "    }\n",
       "\n",
       "    .dataframe thead th {\n",
       "        text-align: right;\n",
       "    }\n",
       "</style>\n",
       "<table border=\"1\" class=\"dataframe\">\n",
       "  <thead>\n",
       "    <tr style=\"text-align: right;\">\n",
       "      <th></th>\n",
       "      <th>Brand</th>\n",
       "      <th>Processor</th>\n",
       "      <th>Core</th>\n",
       "      <th>RAM</th>\n",
       "      <th>RAM_type</th>\n",
       "      <th>Storage(GB)</th>\n",
       "      <th>Storagetype</th>\n",
       "      <th>OS</th>\n",
       "      <th>Screen_Size</th>\n",
       "    </tr>\n",
       "  </thead>\n",
       "  <tbody>\n",
       "    <tr>\n",
       "      <th>20</th>\n",
       "      <td>APPLE</td>\n",
       "      <td>Apple M1</td>\n",
       "      <td>M</td>\n",
       "      <td>8</td>\n",
       "      <td>DDR4</td>\n",
       "      <td>256</td>\n",
       "      <td>SSD</td>\n",
       "      <td>Mac OS</td>\n",
       "      <td>13.3</td>\n",
       "    </tr>\n",
       "    <tr>\n",
       "      <th>365</th>\n",
       "      <td>acer</td>\n",
       "      <td>AMD Ryzen 5</td>\n",
       "      <td>Hexa</td>\n",
       "      <td>8</td>\n",
       "      <td>DDR4</td>\n",
       "      <td>512</td>\n",
       "      <td>SSD</td>\n",
       "      <td>Windows 11</td>\n",
       "      <td>15.6</td>\n",
       "    </tr>\n",
       "    <tr>\n",
       "      <th>496</th>\n",
       "      <td>acer</td>\n",
       "      <td>AMD Ryzen 5</td>\n",
       "      <td>Hexa</td>\n",
       "      <td>8</td>\n",
       "      <td>DDR4</td>\n",
       "      <td>1000</td>\n",
       "      <td>HDD</td>\n",
       "      <td>Windows 11</td>\n",
       "      <td>15.6</td>\n",
       "    </tr>\n",
       "    <tr>\n",
       "      <th>19</th>\n",
       "      <td>ASUS</td>\n",
       "      <td>AMD Ryzen 7</td>\n",
       "      <td>Octa</td>\n",
       "      <td>16</td>\n",
       "      <td>DDR4</td>\n",
       "      <td>1000</td>\n",
       "      <td>SSD</td>\n",
       "      <td>Windows 11</td>\n",
       "      <td>15.6</td>\n",
       "    </tr>\n",
       "    <tr>\n",
       "      <th>177</th>\n",
       "      <td>Lenovo</td>\n",
       "      <td>AMD Ryzen 5</td>\n",
       "      <td>Hexa</td>\n",
       "      <td>16</td>\n",
       "      <td>DDR4</td>\n",
       "      <td>512</td>\n",
       "      <td>SSD</td>\n",
       "      <td>Windows 10</td>\n",
       "      <td>13.3</td>\n",
       "    </tr>\n",
       "  </tbody>\n",
       "</table>\n",
       "</div>"
      ],
      "text/plain": [
       "      Brand    Processor  Core  RAM RAM_type  Storage(GB) Storagetype  \\\n",
       "20    APPLE     Apple M1     M    8     DDR4          256         SSD   \n",
       "365    acer  AMD Ryzen 5  Hexa    8     DDR4          512         SSD   \n",
       "496    acer  AMD Ryzen 5  Hexa    8     DDR4         1000         HDD   \n",
       "19     ASUS  AMD Ryzen 7  Octa   16     DDR4         1000         SSD   \n",
       "177  Lenovo  AMD Ryzen 5  Hexa   16     DDR4          512         SSD   \n",
       "\n",
       "             OS  Screen_Size  \n",
       "20       Mac OS         13.3  \n",
       "365  Windows 11         15.6  \n",
       "496  Windows 11         15.6  \n",
       "19   Windows 11         15.6  \n",
       "177  Windows 10         13.3  "
      ]
     },
     "execution_count": 25,
     "metadata": {},
     "output_type": "execute_result"
    }
   ],
   "source": [
    "X_train.head()"
   ]
  },
  {
   "cell_type": "code",
   "execution_count": 26,
   "metadata": {
    "colab": {
     "base_uri": "https://localhost:8080/"
    },
    "executionInfo": {
     "elapsed": 12,
     "status": "ok",
     "timestamp": 1682550545762,
     "user": {
      "displayName": "Sarfraz Hussain Mohammed",
      "userId": "04740348016143627760"
     },
     "user_tz": -330
    },
    "id": "B1A1Fa5-NNky",
    "outputId": "1cf567b8-46dc-4ff0-9471-01a74cc6f0eb"
   },
   "outputs": [
    {
     "name": "stdout",
     "output_type": "stream",
     "text": [
      "(499, 9) (499,)\n",
      "(214, 9) (214,)\n"
     ]
    }
   ],
   "source": [
    "print(X_train.shape, y_train.shape)\n",
    "\n",
    "print(X_test.shape, y_test.shape)"
   ]
  },
  {
   "cell_type": "code",
   "execution_count": 27,
   "metadata": {
    "colab": {
     "base_uri": "https://localhost:8080/",
     "height": 206
    },
    "executionInfo": {
     "elapsed": 13,
     "status": "ok",
     "timestamp": 1682550546479,
     "user": {
      "displayName": "Sarfraz Hussain Mohammed",
      "userId": "04740348016143627760"
     },
     "user_tz": -330
    },
    "id": "5v476BFTNR-F",
    "outputId": "5113d32a-db9d-4fbe-9084-510a5e49f026"
   },
   "outputs": [
    {
     "data": {
      "text/html": [
       "<div>\n",
       "<style scoped>\n",
       "    .dataframe tbody tr th:only-of-type {\n",
       "        vertical-align: middle;\n",
       "    }\n",
       "\n",
       "    .dataframe tbody tr th {\n",
       "        vertical-align: top;\n",
       "    }\n",
       "\n",
       "    .dataframe thead th {\n",
       "        text-align: right;\n",
       "    }\n",
       "</style>\n",
       "<table border=\"1\" class=\"dataframe\">\n",
       "  <thead>\n",
       "    <tr style=\"text-align: right;\">\n",
       "      <th></th>\n",
       "      <th>Brand</th>\n",
       "      <th>Processor</th>\n",
       "      <th>Core</th>\n",
       "      <th>RAM</th>\n",
       "      <th>RAM_type</th>\n",
       "      <th>Storage(GB)</th>\n",
       "      <th>Storagetype</th>\n",
       "      <th>OS</th>\n",
       "      <th>Screen_Size</th>\n",
       "    </tr>\n",
       "  </thead>\n",
       "  <tbody>\n",
       "    <tr>\n",
       "      <th>20</th>\n",
       "      <td>APPLE</td>\n",
       "      <td>Apple M1</td>\n",
       "      <td>M</td>\n",
       "      <td>8</td>\n",
       "      <td>DDR4</td>\n",
       "      <td>256</td>\n",
       "      <td>SSD</td>\n",
       "      <td>Mac OS</td>\n",
       "      <td>13.3</td>\n",
       "    </tr>\n",
       "    <tr>\n",
       "      <th>365</th>\n",
       "      <td>acer</td>\n",
       "      <td>AMD Ryzen 5</td>\n",
       "      <td>Hexa</td>\n",
       "      <td>8</td>\n",
       "      <td>DDR4</td>\n",
       "      <td>512</td>\n",
       "      <td>SSD</td>\n",
       "      <td>Windows 11</td>\n",
       "      <td>15.6</td>\n",
       "    </tr>\n",
       "    <tr>\n",
       "      <th>496</th>\n",
       "      <td>acer</td>\n",
       "      <td>AMD Ryzen 5</td>\n",
       "      <td>Hexa</td>\n",
       "      <td>8</td>\n",
       "      <td>DDR4</td>\n",
       "      <td>1000</td>\n",
       "      <td>HDD</td>\n",
       "      <td>Windows 11</td>\n",
       "      <td>15.6</td>\n",
       "    </tr>\n",
       "    <tr>\n",
       "      <th>19</th>\n",
       "      <td>ASUS</td>\n",
       "      <td>AMD Ryzen 7</td>\n",
       "      <td>Octa</td>\n",
       "      <td>16</td>\n",
       "      <td>DDR4</td>\n",
       "      <td>1000</td>\n",
       "      <td>SSD</td>\n",
       "      <td>Windows 11</td>\n",
       "      <td>15.6</td>\n",
       "    </tr>\n",
       "    <tr>\n",
       "      <th>177</th>\n",
       "      <td>Lenovo</td>\n",
       "      <td>AMD Ryzen 5</td>\n",
       "      <td>Hexa</td>\n",
       "      <td>16</td>\n",
       "      <td>DDR4</td>\n",
       "      <td>512</td>\n",
       "      <td>SSD</td>\n",
       "      <td>Windows 10</td>\n",
       "      <td>13.3</td>\n",
       "    </tr>\n",
       "  </tbody>\n",
       "</table>\n",
       "</div>"
      ],
      "text/plain": [
       "      Brand    Processor  Core  RAM RAM_type  Storage(GB) Storagetype  \\\n",
       "20    APPLE     Apple M1     M    8     DDR4          256         SSD   \n",
       "365    acer  AMD Ryzen 5  Hexa    8     DDR4          512         SSD   \n",
       "496    acer  AMD Ryzen 5  Hexa    8     DDR4         1000         HDD   \n",
       "19     ASUS  AMD Ryzen 7  Octa   16     DDR4         1000         SSD   \n",
       "177  Lenovo  AMD Ryzen 5  Hexa   16     DDR4          512         SSD   \n",
       "\n",
       "             OS  Screen_Size  \n",
       "20       Mac OS         13.3  \n",
       "365  Windows 11         15.6  \n",
       "496  Windows 11         15.6  \n",
       "19   Windows 11         15.6  \n",
       "177  Windows 10         13.3  "
      ]
     },
     "execution_count": 27,
     "metadata": {},
     "output_type": "execute_result"
    }
   ],
   "source": [
    "X_train.head()"
   ]
  },
  {
   "cell_type": "code",
   "execution_count": 28,
   "metadata": {
    "colab": {
     "base_uri": "https://localhost:8080/"
    },
    "executionInfo": {
     "elapsed": 11,
     "status": "ok",
     "timestamp": 1682550546479,
     "user": {
      "displayName": "Sarfraz Hussain Mohammed",
      "userId": "04740348016143627760"
     },
     "user_tz": -330
    },
    "id": "_ZXi8Ha8NVq1",
    "outputId": "fe3e04db-63b6-4992-882c-345454092adc"
   },
   "outputs": [
    {
     "data": {
      "text/plain": [
       "Brand           object\n",
       "Processor       object\n",
       "Core            object\n",
       "RAM              int64\n",
       "RAM_type        object\n",
       "Storage(GB)      int64\n",
       "Storagetype     object\n",
       "OS              object\n",
       "Screen_Size    float64\n",
       "dtype: object"
      ]
     },
     "execution_count": 28,
     "metadata": {},
     "output_type": "execute_result"
    }
   ],
   "source": [
    "X_train.dtypes"
   ]
  },
  {
   "cell_type": "code",
   "execution_count": 29,
   "metadata": {
    "colab": {
     "base_uri": "https://localhost:8080/",
     "height": 206
    },
    "executionInfo": {
     "elapsed": 16,
     "status": "ok",
     "timestamp": 1682550547023,
     "user": {
      "displayName": "Sarfraz Hussain Mohammed",
      "userId": "04740348016143627760"
     },
     "user_tz": -330
    },
    "id": "IaKf3FjbNYNh",
    "outputId": "7345e94d-7754-43b1-ac89-6331dd24fb44"
   },
   "outputs": [
    {
     "data": {
      "text/html": [
       "<div>\n",
       "<style scoped>\n",
       "    .dataframe tbody tr th:only-of-type {\n",
       "        vertical-align: middle;\n",
       "    }\n",
       "\n",
       "    .dataframe tbody tr th {\n",
       "        vertical-align: top;\n",
       "    }\n",
       "\n",
       "    .dataframe thead th {\n",
       "        text-align: right;\n",
       "    }\n",
       "</style>\n",
       "<table border=\"1\" class=\"dataframe\">\n",
       "  <thead>\n",
       "    <tr style=\"text-align: right;\">\n",
       "      <th></th>\n",
       "      <th>Brand</th>\n",
       "      <th>Processor</th>\n",
       "      <th>Core</th>\n",
       "      <th>RAM_type</th>\n",
       "      <th>Storagetype</th>\n",
       "      <th>OS</th>\n",
       "    </tr>\n",
       "  </thead>\n",
       "  <tbody>\n",
       "    <tr>\n",
       "      <th>20</th>\n",
       "      <td>APPLE</td>\n",
       "      <td>Apple M1</td>\n",
       "      <td>M</td>\n",
       "      <td>DDR4</td>\n",
       "      <td>SSD</td>\n",
       "      <td>Mac OS</td>\n",
       "    </tr>\n",
       "    <tr>\n",
       "      <th>365</th>\n",
       "      <td>acer</td>\n",
       "      <td>AMD Ryzen 5</td>\n",
       "      <td>Hexa</td>\n",
       "      <td>DDR4</td>\n",
       "      <td>SSD</td>\n",
       "      <td>Windows 11</td>\n",
       "    </tr>\n",
       "    <tr>\n",
       "      <th>496</th>\n",
       "      <td>acer</td>\n",
       "      <td>AMD Ryzen 5</td>\n",
       "      <td>Hexa</td>\n",
       "      <td>DDR4</td>\n",
       "      <td>HDD</td>\n",
       "      <td>Windows 11</td>\n",
       "    </tr>\n",
       "    <tr>\n",
       "      <th>19</th>\n",
       "      <td>ASUS</td>\n",
       "      <td>AMD Ryzen 7</td>\n",
       "      <td>Octa</td>\n",
       "      <td>DDR4</td>\n",
       "      <td>SSD</td>\n",
       "      <td>Windows 11</td>\n",
       "    </tr>\n",
       "    <tr>\n",
       "      <th>177</th>\n",
       "      <td>Lenovo</td>\n",
       "      <td>AMD Ryzen 5</td>\n",
       "      <td>Hexa</td>\n",
       "      <td>DDR4</td>\n",
       "      <td>SSD</td>\n",
       "      <td>Windows 10</td>\n",
       "    </tr>\n",
       "  </tbody>\n",
       "</table>\n",
       "</div>"
      ],
      "text/plain": [
       "      Brand    Processor  Core RAM_type Storagetype          OS\n",
       "20    APPLE     Apple M1     M     DDR4         SSD      Mac OS\n",
       "365    acer  AMD Ryzen 5  Hexa     DDR4         SSD  Windows 11\n",
       "496    acer  AMD Ryzen 5  Hexa     DDR4         HDD  Windows 11\n",
       "19     ASUS  AMD Ryzen 7  Octa     DDR4         SSD  Windows 11\n",
       "177  Lenovo  AMD Ryzen 5  Hexa     DDR4         SSD  Windows 10"
      ]
     },
     "execution_count": 29,
     "metadata": {},
     "output_type": "execute_result"
    }
   ],
   "source": [
    "X_train_cat = X_train.select_dtypes(include=['object'])\n",
    "\n",
    "X_train_cat.head()"
   ]
  },
  {
   "cell_type": "code",
   "execution_count": 30,
   "metadata": {
    "colab": {
     "base_uri": "https://localhost:8080/",
     "height": 206
    },
    "executionInfo": {
     "elapsed": 15,
     "status": "ok",
     "timestamp": 1682550547024,
     "user": {
      "displayName": "Sarfraz Hussain Mohammed",
      "userId": "04740348016143627760"
     },
     "user_tz": -330
    },
    "id": "L03tNH26NbOE",
    "outputId": "7c9bb829-f8cf-43c7-9d2d-0d865a25859c"
   },
   "outputs": [
    {
     "data": {
      "text/html": [
       "<div>\n",
       "<style scoped>\n",
       "    .dataframe tbody tr th:only-of-type {\n",
       "        vertical-align: middle;\n",
       "    }\n",
       "\n",
       "    .dataframe tbody tr th {\n",
       "        vertical-align: top;\n",
       "    }\n",
       "\n",
       "    .dataframe thead th {\n",
       "        text-align: right;\n",
       "    }\n",
       "</style>\n",
       "<table border=\"1\" class=\"dataframe\">\n",
       "  <thead>\n",
       "    <tr style=\"text-align: right;\">\n",
       "      <th></th>\n",
       "      <th>RAM</th>\n",
       "      <th>Storage(GB)</th>\n",
       "      <th>Screen_Size</th>\n",
       "    </tr>\n",
       "  </thead>\n",
       "  <tbody>\n",
       "    <tr>\n",
       "      <th>20</th>\n",
       "      <td>8</td>\n",
       "      <td>256</td>\n",
       "      <td>13.3</td>\n",
       "    </tr>\n",
       "    <tr>\n",
       "      <th>365</th>\n",
       "      <td>8</td>\n",
       "      <td>512</td>\n",
       "      <td>15.6</td>\n",
       "    </tr>\n",
       "    <tr>\n",
       "      <th>496</th>\n",
       "      <td>8</td>\n",
       "      <td>1000</td>\n",
       "      <td>15.6</td>\n",
       "    </tr>\n",
       "    <tr>\n",
       "      <th>19</th>\n",
       "      <td>16</td>\n",
       "      <td>1000</td>\n",
       "      <td>15.6</td>\n",
       "    </tr>\n",
       "    <tr>\n",
       "      <th>177</th>\n",
       "      <td>16</td>\n",
       "      <td>512</td>\n",
       "      <td>13.3</td>\n",
       "    </tr>\n",
       "  </tbody>\n",
       "</table>\n",
       "</div>"
      ],
      "text/plain": [
       "     RAM  Storage(GB)  Screen_Size\n",
       "20     8          256         13.3\n",
       "365    8          512         15.6\n",
       "496    8         1000         15.6\n",
       "19    16         1000         15.6\n",
       "177   16          512         13.3"
      ]
     },
     "execution_count": 30,
     "metadata": {},
     "output_type": "execute_result"
    }
   ],
   "source": [
    "X_train_num = X_train.select_dtypes(include=['int64', 'float64'])\n",
    "\n",
    "X_train_num.head()"
   ]
  },
  {
   "cell_type": "code",
   "execution_count": 31,
   "metadata": {
    "colab": {
     "base_uri": "https://localhost:8080/",
     "height": 206
    },
    "executionInfo": {
     "elapsed": 14,
     "status": "ok",
     "timestamp": 1682550547025,
     "user": {
      "displayName": "Sarfraz Hussain Mohammed",
      "userId": "04740348016143627760"
     },
     "user_tz": -330
    },
    "id": "r3LKpr9yNfxq",
    "outputId": "b42b1905-9912-4d96-f76c-0fce0d0a3406"
   },
   "outputs": [
    {
     "data": {
      "text/html": [
       "<div>\n",
       "<style scoped>\n",
       "    .dataframe tbody tr th:only-of-type {\n",
       "        vertical-align: middle;\n",
       "    }\n",
       "\n",
       "    .dataframe tbody tr th {\n",
       "        vertical-align: top;\n",
       "    }\n",
       "\n",
       "    .dataframe thead th {\n",
       "        text-align: right;\n",
       "    }\n",
       "</style>\n",
       "<table border=\"1\" class=\"dataframe\">\n",
       "  <thead>\n",
       "    <tr style=\"text-align: right;\">\n",
       "      <th></th>\n",
       "      <th>RAM</th>\n",
       "      <th>Storage(GB)</th>\n",
       "      <th>Screen_Size</th>\n",
       "    </tr>\n",
       "  </thead>\n",
       "  <tbody>\n",
       "    <tr>\n",
       "      <th>20</th>\n",
       "      <td>-0.612306</td>\n",
       "      <td>-1.257434</td>\n",
       "      <td>-1.997598</td>\n",
       "    </tr>\n",
       "    <tr>\n",
       "      <th>365</th>\n",
       "      <td>-0.612306</td>\n",
       "      <td>-0.384523</td>\n",
       "      <td>0.498312</td>\n",
       "    </tr>\n",
       "    <tr>\n",
       "      <th>496</th>\n",
       "      <td>-0.612306</td>\n",
       "      <td>1.279464</td>\n",
       "      <td>0.498312</td>\n",
       "    </tr>\n",
       "    <tr>\n",
       "      <th>19</th>\n",
       "      <td>0.970806</td>\n",
       "      <td>1.279464</td>\n",
       "      <td>0.498312</td>\n",
       "    </tr>\n",
       "    <tr>\n",
       "      <th>177</th>\n",
       "      <td>0.970806</td>\n",
       "      <td>-0.384523</td>\n",
       "      <td>-1.997598</td>\n",
       "    </tr>\n",
       "  </tbody>\n",
       "</table>\n",
       "</div>"
      ],
      "text/plain": [
       "          RAM  Storage(GB)  Screen_Size\n",
       "20  -0.612306    -1.257434    -1.997598\n",
       "365 -0.612306    -0.384523     0.498312\n",
       "496 -0.612306     1.279464     0.498312\n",
       "19   0.970806     1.279464     0.498312\n",
       "177  0.970806    -0.384523    -1.997598"
      ]
     },
     "execution_count": 31,
     "metadata": {},
     "output_type": "execute_result"
    }
   ],
   "source": [
    "from sklearn.preprocessing import StandardScaler\n",
    "\n",
    "scaler = StandardScaler()\n",
    "\n",
    "X_train_num_rescaled = pd.DataFrame(scaler.fit_transform(X_train_num), columns = X_train_num.columns, index = X_train_num.index)\n",
    "\n",
    "X_train_num_rescaled.head()"
   ]
  },
  {
   "cell_type": "code",
   "execution_count": 32,
   "metadata": {
    "colab": {
     "base_uri": "https://localhost:8080/",
     "height": 300
    },
    "executionInfo": {
     "elapsed": 15,
     "status": "ok",
     "timestamp": 1682550547740,
     "user": {
      "displayName": "Sarfraz Hussain Mohammed",
      "userId": "04740348016143627760"
     },
     "user_tz": -330
    },
    "id": "V5GRRr3RQxfY",
    "outputId": "45b585c5-83d5-4012-b24d-753ae0b86870"
   },
   "outputs": [
    {
     "data": {
      "text/html": [
       "<div>\n",
       "<style scoped>\n",
       "    .dataframe tbody tr th:only-of-type {\n",
       "        vertical-align: middle;\n",
       "    }\n",
       "\n",
       "    .dataframe tbody tr th {\n",
       "        vertical-align: top;\n",
       "    }\n",
       "\n",
       "    .dataframe thead th {\n",
       "        text-align: right;\n",
       "    }\n",
       "</style>\n",
       "<table border=\"1\" class=\"dataframe\">\n",
       "  <thead>\n",
       "    <tr style=\"text-align: right;\">\n",
       "      <th></th>\n",
       "      <th>RAM</th>\n",
       "      <th>Storage(GB)</th>\n",
       "      <th>Screen_Size</th>\n",
       "    </tr>\n",
       "  </thead>\n",
       "  <tbody>\n",
       "    <tr>\n",
       "      <th>count</th>\n",
       "      <td>499.000000</td>\n",
       "      <td>499.000000</td>\n",
       "      <td>499.000000</td>\n",
       "    </tr>\n",
       "    <tr>\n",
       "      <th>mean</th>\n",
       "      <td>11.094188</td>\n",
       "      <td>624.769539</td>\n",
       "      <td>15.140802</td>\n",
       "    </tr>\n",
       "    <tr>\n",
       "      <th>std</th>\n",
       "      <td>5.058408</td>\n",
       "      <td>293.565892</td>\n",
       "      <td>0.922432</td>\n",
       "    </tr>\n",
       "    <tr>\n",
       "      <th>min</th>\n",
       "      <td>4.000000</td>\n",
       "      <td>32.000000</td>\n",
       "      <td>11.600000</td>\n",
       "    </tr>\n",
       "    <tr>\n",
       "      <th>25%</th>\n",
       "      <td>8.000000</td>\n",
       "      <td>512.000000</td>\n",
       "      <td>14.000000</td>\n",
       "    </tr>\n",
       "    <tr>\n",
       "      <th>50%</th>\n",
       "      <td>8.000000</td>\n",
       "      <td>512.000000</td>\n",
       "      <td>15.600000</td>\n",
       "    </tr>\n",
       "    <tr>\n",
       "      <th>75%</th>\n",
       "      <td>16.000000</td>\n",
       "      <td>1000.000000</td>\n",
       "      <td>15.600000</td>\n",
       "    </tr>\n",
       "    <tr>\n",
       "      <th>max</th>\n",
       "      <td>32.000000</td>\n",
       "      <td>2000.000000</td>\n",
       "      <td>17.300000</td>\n",
       "    </tr>\n",
       "  </tbody>\n",
       "</table>\n",
       "</div>"
      ],
      "text/plain": [
       "              RAM  Storage(GB)  Screen_Size\n",
       "count  499.000000   499.000000   499.000000\n",
       "mean    11.094188   624.769539    15.140802\n",
       "std      5.058408   293.565892     0.922432\n",
       "min      4.000000    32.000000    11.600000\n",
       "25%      8.000000   512.000000    14.000000\n",
       "50%      8.000000   512.000000    15.600000\n",
       "75%     16.000000  1000.000000    15.600000\n",
       "max     32.000000  2000.000000    17.300000"
      ]
     },
     "execution_count": 32,
     "metadata": {},
     "output_type": "execute_result"
    }
   ],
   "source": [
    "X_train_num.describe()"
   ]
  },
  {
   "cell_type": "code",
   "execution_count": 33,
   "metadata": {
    "colab": {
     "base_uri": "https://localhost:8080/"
    },
    "executionInfo": {
     "elapsed": 14,
     "status": "ok",
     "timestamp": 1682550547741,
     "user": {
      "displayName": "Sarfraz Hussain Mohammed",
      "userId": "04740348016143627760"
     },
     "user_tz": -330
    },
    "id": "vd-5Z-Y4Q1od",
    "outputId": "1cab225e-69b5-418d-9257-86b9d503ad4a"
   },
   "outputs": [
    {
     "data": {
      "text/plain": [
       "Intel i5                0.218437\n",
       "Intel i3                0.188377\n",
       "AMD Ryzen 5             0.126253\n",
       "AMD Ryzen 9             0.122244\n",
       "AMD Ryzen 7             0.114228\n",
       "Intel i7                0.078156\n",
       "AMD Ryzen 3             0.068136\n",
       "Intel Celeron           0.032064\n",
       "Intel i9                0.016032\n",
       "Apple M1                0.010020\n",
       "Apple M2                0.008016\n",
       "Apple M1 Pro            0.008016\n",
       "Intel Pentium Silver    0.008016\n",
       "AMD Athlon              0.002004\n",
       "Name: Processor, dtype: float64"
      ]
     },
     "execution_count": 33,
     "metadata": {},
     "output_type": "execute_result"
    }
   ],
   "source": [
    "X_train_cat['Processor'].value_counts(normalize=True)"
   ]
  },
  {
   "cell_type": "code",
   "execution_count": 34,
   "metadata": {
    "colab": {
     "base_uri": "https://localhost:8080/"
    },
    "executionInfo": {
     "elapsed": 10,
     "status": "ok",
     "timestamp": 1682550547741,
     "user": {
      "displayName": "Sarfraz Hussain Mohammed",
      "userId": "04740348016143627760"
     },
     "user_tz": -330
    },
    "id": "5zv_QZKzeCji",
    "outputId": "83c91136-267a-467a-fa87-44f7a113574e"
   },
   "outputs": [
    {
     "data": {
      "text/plain": [
       "Hexa    0.496994\n",
       "Octa    0.308617\n",
       "Dual    0.100200\n",
       "Quad    0.064128\n",
       "M       0.026052\n",
       "Evo     0.004008\n",
       "Name: Core, dtype: float64"
      ]
     },
     "execution_count": 34,
     "metadata": {},
     "output_type": "execute_result"
    }
   ],
   "source": [
    "X_train_cat['Core'].value_counts(normalize=True)"
   ]
  },
  {
   "cell_type": "code",
   "execution_count": 35,
   "metadata": {
    "colab": {
     "base_uri": "https://localhost:8080/"
    },
    "executionInfo": {
     "elapsed": 24,
     "status": "ok",
     "timestamp": 1682550548411,
     "user": {
      "displayName": "Sarfraz Hussain Mohammed",
      "userId": "04740348016143627760"
     },
     "user_tz": -330
    },
    "id": "VoHbWA_uRMVC",
    "outputId": "84512422-7b07-44ba-d5c0-08e2bccb5287"
   },
   "outputs": [
    {
     "data": {
      "text/plain": [
       "DDR4              0.793587\n",
       "DDR5              0.110220\n",
       "LPDDR4X           0.052104\n",
       "Unified Memory    0.016032\n",
       "LPDDR5            0.014028\n",
       "LPDDR4            0.012024\n",
       "LPDDR3            0.002004\n",
       "Name: RAM_type, dtype: float64"
      ]
     },
     "execution_count": 35,
     "metadata": {},
     "output_type": "execute_result"
    }
   ],
   "source": [
    "X_train_cat['RAM_type'].value_counts(normalize=True)"
   ]
  },
  {
   "cell_type": "code",
   "execution_count": 36,
   "metadata": {
    "colab": {
     "base_uri": "https://localhost:8080/"
    },
    "executionInfo": {
     "elapsed": 23,
     "status": "ok",
     "timestamp": 1682550548413,
     "user": {
      "displayName": "Sarfraz Hussain Mohammed",
      "userId": "04740348016143627760"
     },
     "user_tz": -330
    },
    "id": "bHm7yRGNd57x",
    "outputId": "fe9a39d7-0e40-41aa-8801-be27f8f729ce"
   },
   "outputs": [
    {
     "data": {
      "text/plain": [
       "SSD     0.919840\n",
       "HDD     0.068136\n",
       "EMMC    0.012024\n",
       "Name: Storagetype, dtype: float64"
      ]
     },
     "execution_count": 36,
     "metadata": {},
     "output_type": "execute_result"
    }
   ],
   "source": [
    "X_train_cat['Storagetype'].value_counts(normalize=True)"
   ]
  },
  {
   "cell_type": "code",
   "execution_count": 37,
   "metadata": {
    "colab": {
     "base_uri": "https://localhost:8080/"
    },
    "executionInfo": {
     "elapsed": 15,
     "status": "ok",
     "timestamp": 1682550548414,
     "user": {
      "displayName": "Sarfraz Hussain Mohammed",
      "userId": "04740348016143627760"
     },
     "user_tz": -330
    },
    "id": "a2sOpKCPWw0J",
    "outputId": "9a58ad03-32ee-49a5-b0b9-7a4a33b3db2c"
   },
   "outputs": [
    {
     "data": {
      "text/plain": [
       "Windows 11    0.773547\n",
       "Windows 10    0.182365\n",
       "Mac OS        0.026052\n",
       "Chrome        0.010020\n",
       "DOS           0.008016\n",
       "Name: OS, dtype: float64"
      ]
     },
     "execution_count": 37,
     "metadata": {},
     "output_type": "execute_result"
    }
   ],
   "source": [
    "X_train_cat['OS'].value_counts(normalize=True)"
   ]
  },
  {
   "cell_type": "code",
   "execution_count": null,
   "metadata": {
    "executionInfo": {
     "elapsed": 4,
     "status": "ok",
     "timestamp": 1682550548995,
     "user": {
      "displayName": "Sarfraz Hussain Mohammed",
      "userId": "04740348016143627760"
     },
     "user_tz": -330
    },
    "id": "uki2_y6Uzxag"
   },
   "outputs": [],
   "source": []
  },
  {
   "cell_type": "code",
   "execution_count": null,
   "metadata": {
    "executionInfo": {
     "elapsed": 3,
     "status": "ok",
     "timestamp": 1682550548995,
     "user": {
      "displayName": "Sarfraz Hussain Mohammed",
      "userId": "04740348016143627760"
     },
     "user_tz": -330
    },
    "id": "9KxR3iYvzxW-"
   },
   "outputs": [],
   "source": []
  },
  {
   "cell_type": "code",
   "execution_count": 38,
   "metadata": {
    "colab": {
     "base_uri": "https://localhost:8080/",
     "height": 423
    },
    "executionInfo": {
     "elapsed": 428,
     "status": "ok",
     "timestamp": 1682551616422,
     "user": {
      "displayName": "Sarfraz Hussain Mohammed",
      "userId": "04740348016143627760"
     },
     "user_tz": -330
    },
    "id": "6sJgITgjeHXQ",
    "outputId": "ad7f6fbc-f368-44da-b800-026f8c94ec1e"
   },
   "outputs": [
    {
     "data": {
      "text/html": [
       "<div>\n",
       "<style scoped>\n",
       "    .dataframe tbody tr th:only-of-type {\n",
       "        vertical-align: middle;\n",
       "    }\n",
       "\n",
       "    .dataframe tbody tr th {\n",
       "        vertical-align: top;\n",
       "    }\n",
       "\n",
       "    .dataframe thead th {\n",
       "        text-align: right;\n",
       "    }\n",
       "</style>\n",
       "<table border=\"1\" class=\"dataframe\">\n",
       "  <thead>\n",
       "    <tr style=\"text-align: right;\">\n",
       "      <th></th>\n",
       "      <th>Brand</th>\n",
       "      <th>Processor</th>\n",
       "      <th>Core</th>\n",
       "      <th>RAM_type</th>\n",
       "      <th>Storagetype</th>\n",
       "      <th>OS</th>\n",
       "    </tr>\n",
       "  </thead>\n",
       "  <tbody>\n",
       "    <tr>\n",
       "      <th>20</th>\n",
       "      <td>APPLE</td>\n",
       "      <td>Apple M1</td>\n",
       "      <td>M</td>\n",
       "      <td>DDR4</td>\n",
       "      <td>SSD</td>\n",
       "      <td>Mac OS</td>\n",
       "    </tr>\n",
       "    <tr>\n",
       "      <th>365</th>\n",
       "      <td>acer</td>\n",
       "      <td>AMD Ryzen 5</td>\n",
       "      <td>Hexa</td>\n",
       "      <td>DDR4</td>\n",
       "      <td>SSD</td>\n",
       "      <td>Windows 11</td>\n",
       "    </tr>\n",
       "    <tr>\n",
       "      <th>496</th>\n",
       "      <td>acer</td>\n",
       "      <td>AMD Ryzen 5</td>\n",
       "      <td>Hexa</td>\n",
       "      <td>DDR4</td>\n",
       "      <td>HDD</td>\n",
       "      <td>Windows 11</td>\n",
       "    </tr>\n",
       "    <tr>\n",
       "      <th>19</th>\n",
       "      <td>ASUS</td>\n",
       "      <td>AMD Ryzen 7</td>\n",
       "      <td>Octa</td>\n",
       "      <td>DDR4</td>\n",
       "      <td>SSD</td>\n",
       "      <td>Windows 11</td>\n",
       "    </tr>\n",
       "    <tr>\n",
       "      <th>177</th>\n",
       "      <td>Lenovo</td>\n",
       "      <td>AMD Ryzen 5</td>\n",
       "      <td>Hexa</td>\n",
       "      <td>DDR4</td>\n",
       "      <td>SSD</td>\n",
       "      <td>Windows 10</td>\n",
       "    </tr>\n",
       "    <tr>\n",
       "      <th>...</th>\n",
       "      <td>...</td>\n",
       "      <td>...</td>\n",
       "      <td>...</td>\n",
       "      <td>...</td>\n",
       "      <td>...</td>\n",
       "      <td>...</td>\n",
       "    </tr>\n",
       "    <tr>\n",
       "      <th>544</th>\n",
       "      <td>ASUS</td>\n",
       "      <td>AMD Ryzen 9</td>\n",
       "      <td>Octa</td>\n",
       "      <td>DDR5</td>\n",
       "      <td>SSD</td>\n",
       "      <td>Windows 11</td>\n",
       "    </tr>\n",
       "    <tr>\n",
       "      <th>304</th>\n",
       "      <td>HP</td>\n",
       "      <td>Intel i5</td>\n",
       "      <td>Hexa</td>\n",
       "      <td>DDR4</td>\n",
       "      <td>SSD</td>\n",
       "      <td>Windows 10</td>\n",
       "    </tr>\n",
       "    <tr>\n",
       "      <th>181</th>\n",
       "      <td>Infinix</td>\n",
       "      <td>Intel Celeron</td>\n",
       "      <td>Quad</td>\n",
       "      <td>LPDDR4X</td>\n",
       "      <td>SSD</td>\n",
       "      <td>Windows 11</td>\n",
       "    </tr>\n",
       "    <tr>\n",
       "      <th>338</th>\n",
       "      <td>Infinix</td>\n",
       "      <td>Intel i7</td>\n",
       "      <td>Hexa</td>\n",
       "      <td>LPDDR4X</td>\n",
       "      <td>SSD</td>\n",
       "      <td>Windows 11</td>\n",
       "    </tr>\n",
       "    <tr>\n",
       "      <th>547</th>\n",
       "      <td>ASUS</td>\n",
       "      <td>Intel i5</td>\n",
       "      <td>Hexa</td>\n",
       "      <td>DDR4</td>\n",
       "      <td>SSD</td>\n",
       "      <td>Windows 10</td>\n",
       "    </tr>\n",
       "  </tbody>\n",
       "</table>\n",
       "<p>499 rows × 6 columns</p>\n",
       "</div>"
      ],
      "text/plain": [
       "       Brand      Processor  Core RAM_type Storagetype          OS\n",
       "20     APPLE       Apple M1     M     DDR4         SSD      Mac OS\n",
       "365     acer    AMD Ryzen 5  Hexa     DDR4         SSD  Windows 11\n",
       "496     acer    AMD Ryzen 5  Hexa     DDR4         HDD  Windows 11\n",
       "19      ASUS    AMD Ryzen 7  Octa     DDR4         SSD  Windows 11\n",
       "177   Lenovo    AMD Ryzen 5  Hexa     DDR4         SSD  Windows 10\n",
       "..       ...            ...   ...      ...         ...         ...\n",
       "544     ASUS    AMD Ryzen 9  Octa     DDR5         SSD  Windows 11\n",
       "304       HP       Intel i5  Hexa     DDR4         SSD  Windows 10\n",
       "181  Infinix  Intel Celeron  Quad  LPDDR4X         SSD  Windows 11\n",
       "338  Infinix       Intel i7  Hexa  LPDDR4X         SSD  Windows 11\n",
       "547     ASUS       Intel i5  Hexa     DDR4         SSD  Windows 10\n",
       "\n",
       "[499 rows x 6 columns]"
      ]
     },
     "execution_count": 38,
     "metadata": {},
     "output_type": "execute_result"
    }
   ],
   "source": [
    "X_train_cat"
   ]
  },
  {
   "cell_type": "code",
   "execution_count": 39,
   "metadata": {
    "colab": {
     "base_uri": "https://localhost:8080/",
     "height": 243
    },
    "executionInfo": {
     "elapsed": 15,
     "status": "ok",
     "timestamp": 1682550557152,
     "user": {
      "displayName": "Sarfraz Hussain Mohammed",
      "userId": "04740348016143627760"
     },
     "user_tz": -330
    },
    "id": "d4Q0P_rMW1hP",
    "outputId": "2727660c-4ae0-48bc-e157-18c2ecb9cfa0"
   },
   "outputs": [
    {
     "data": {
      "text/html": [
       "<div>\n",
       "<style scoped>\n",
       "    .dataframe tbody tr th:only-of-type {\n",
       "        vertical-align: middle;\n",
       "    }\n",
       "\n",
       "    .dataframe tbody tr th {\n",
       "        vertical-align: top;\n",
       "    }\n",
       "\n",
       "    .dataframe thead th {\n",
       "        text-align: right;\n",
       "    }\n",
       "</style>\n",
       "<table border=\"1\" class=\"dataframe\">\n",
       "  <thead>\n",
       "    <tr style=\"text-align: right;\">\n",
       "      <th></th>\n",
       "    </tr>\n",
       "  </thead>\n",
       "  <tbody>\n",
       "    <tr>\n",
       "      <th>20</th>\n",
       "    </tr>\n",
       "    <tr>\n",
       "      <th>365</th>\n",
       "    </tr>\n",
       "    <tr>\n",
       "      <th>496</th>\n",
       "    </tr>\n",
       "    <tr>\n",
       "      <th>19</th>\n",
       "    </tr>\n",
       "    <tr>\n",
       "      <th>177</th>\n",
       "    </tr>\n",
       "  </tbody>\n",
       "</table>\n",
       "</div>"
      ],
      "text/plain": [
       "Empty DataFrame\n",
       "Columns: []\n",
       "Index: [20, 365, 496, 19, 177]"
      ]
     },
     "execution_count": 39,
     "metadata": {},
     "output_type": "execute_result"
    }
   ],
   "source": [
    "from sklearn.preprocessing import OneHotEncoder\n",
    "\n",
    "encoder_ = OneHotEncoder(drop='first', min_frequency=3000, sparse=False)\n",
    "\n",
    "X_train_cat_ohe = pd.DataFrame(encoder_.fit_transform(X_train_cat), columns=encoder_.get_feature_names_out(X_train_cat.columns), index = X_train_cat.index)\n",
    "\n",
    "X_train_cat_ohe.head()"
   ]
  },
  {
   "cell_type": "code",
   "execution_count": 40,
   "metadata": {
    "colab": {
     "base_uri": "https://localhost:8080/"
    },
    "executionInfo": {
     "elapsed": 10,
     "status": "ok",
     "timestamp": 1682550557153,
     "user": {
      "displayName": "Sarfraz Hussain Mohammed",
      "userId": "04740348016143627760"
     },
     "user_tz": -330
    },
    "id": "rkH2Y4rGYLX-",
    "outputId": "f734cd87-fadf-476f-b3d6-342d5656356c"
   },
   "outputs": [
    {
     "data": {
      "text/plain": [
       "[array(['ALIENWARE', 'APPLE', 'ASUS', 'DELL', 'HP', 'Infinix', 'Lenovo',\n",
       "        'MSI', 'RedmiBook', 'Ultimus', 'acer', 'realme'], dtype=object),\n",
       " array(['AMD Athlon', 'AMD Ryzen 3', 'AMD Ryzen 5', 'AMD Ryzen 7',\n",
       "        'AMD Ryzen 9', 'Apple M1', 'Apple M1 Pro', 'Apple M2',\n",
       "        'Intel Celeron', 'Intel Pentium Silver', 'Intel i3', 'Intel i5',\n",
       "        'Intel i7', 'Intel i9'], dtype=object),\n",
       " array(['Dual', 'Evo', 'Hexa', 'M', 'Octa', 'Quad'], dtype=object),\n",
       " array(['DDR4', 'DDR5', 'LPDDR3', 'LPDDR4', 'LPDDR4X', 'LPDDR5',\n",
       "        'Unified Memory'], dtype=object),\n",
       " array(['EMMC', 'HDD', 'SSD'], dtype=object),\n",
       " array(['Chrome', 'DOS', 'Mac OS', 'Windows 10', 'Windows 11'],\n",
       "       dtype=object)]"
      ]
     },
     "execution_count": 40,
     "metadata": {},
     "output_type": "execute_result"
    }
   ],
   "source": [
    "encoder_.categories_"
   ]
  },
  {
   "cell_type": "code",
   "execution_count": 41,
   "metadata": {
    "colab": {
     "base_uri": "https://localhost:8080/"
    },
    "executionInfo": {
     "elapsed": 18,
     "status": "ok",
     "timestamp": 1682550557791,
     "user": {
      "displayName": "Sarfraz Hussain Mohammed",
      "userId": "04740348016143627760"
     },
     "user_tz": -330
    },
    "id": "o7mnQFUJYd6y",
    "outputId": "efa409e3-2e13-4aea-a15c-2d309a25095f"
   },
   "outputs": [
    {
     "data": {
      "text/plain": [
       "[array(['ALIENWARE', 'APPLE', 'ASUS', 'DELL', 'HP', 'Infinix', 'Lenovo',\n",
       "        'MSI', 'RedmiBook', 'Ultimus', 'acer', 'realme'], dtype=object),\n",
       " array(['AMD Athlon', 'AMD Ryzen 3', 'AMD Ryzen 5', 'AMD Ryzen 7',\n",
       "        'AMD Ryzen 9', 'Apple M1', 'Apple M1 Pro', 'Apple M2',\n",
       "        'Intel Celeron', 'Intel Pentium Silver', 'Intel i3', 'Intel i5',\n",
       "        'Intel i7', 'Intel i9'], dtype=object),\n",
       " array(['Dual', 'Evo', 'Hexa', 'M', 'Octa', 'Quad'], dtype=object),\n",
       " array(['DDR4', 'DDR5', 'LPDDR3', 'LPDDR4', 'LPDDR4X', 'LPDDR5',\n",
       "        'Unified Memory'], dtype=object),\n",
       " array(['EMMC', 'HDD', 'SSD'], dtype=object),\n",
       " array(['Chrome', 'DOS', 'Mac OS', 'Windows 10', 'Windows 11'],\n",
       "       dtype=object)]"
      ]
     },
     "execution_count": 41,
     "metadata": {},
     "output_type": "execute_result"
    }
   ],
   "source": [
    "encoder_.infrequent_categories_"
   ]
  },
  {
   "cell_type": "code",
   "execution_count": 42,
   "metadata": {
    "colab": {
     "base_uri": "https://localhost:8080/",
     "height": 351
    },
    "executionInfo": {
     "elapsed": 13,
     "status": "ok",
     "timestamp": 1682550557792,
     "user": {
      "displayName": "Sarfraz Hussain Mohammed",
      "userId": "04740348016143627760"
     },
     "user_tz": -330
    },
    "id": "wLgPkHPjYlWu",
    "outputId": "913c1022-78f5-4741-dd7b-6efd40a60cf4"
   },
   "outputs": [
    {
     "data": {
      "text/html": [
       "<div>\n",
       "<style scoped>\n",
       "    .dataframe tbody tr th:only-of-type {\n",
       "        vertical-align: middle;\n",
       "    }\n",
       "\n",
       "    .dataframe tbody tr th {\n",
       "        vertical-align: top;\n",
       "    }\n",
       "\n",
       "    .dataframe thead th {\n",
       "        text-align: right;\n",
       "    }\n",
       "</style>\n",
       "<table border=\"1\" class=\"dataframe\">\n",
       "  <thead>\n",
       "    <tr style=\"text-align: right;\">\n",
       "      <th></th>\n",
       "      <th>Brand_APPLE</th>\n",
       "      <th>Brand_ASUS</th>\n",
       "      <th>Brand_DELL</th>\n",
       "      <th>Brand_HP</th>\n",
       "      <th>Brand_Infinix</th>\n",
       "      <th>Brand_Lenovo</th>\n",
       "      <th>Brand_MSI</th>\n",
       "      <th>Brand_RedmiBook</th>\n",
       "      <th>Brand_Ultimus</th>\n",
       "      <th>Brand_acer</th>\n",
       "      <th>...</th>\n",
       "      <th>RAM_type_LPDDR4</th>\n",
       "      <th>RAM_type_LPDDR4X</th>\n",
       "      <th>RAM_type_LPDDR5</th>\n",
       "      <th>RAM_type_Unified Memory</th>\n",
       "      <th>Storagetype_HDD</th>\n",
       "      <th>Storagetype_SSD</th>\n",
       "      <th>OS_DOS</th>\n",
       "      <th>OS_Mac OS</th>\n",
       "      <th>OS_Windows 10</th>\n",
       "      <th>OS_Windows 11</th>\n",
       "    </tr>\n",
       "  </thead>\n",
       "  <tbody>\n",
       "    <tr>\n",
       "      <th>20</th>\n",
       "      <td>1.0</td>\n",
       "      <td>0.0</td>\n",
       "      <td>0.0</td>\n",
       "      <td>0.0</td>\n",
       "      <td>0.0</td>\n",
       "      <td>0.0</td>\n",
       "      <td>0.0</td>\n",
       "      <td>0.0</td>\n",
       "      <td>0.0</td>\n",
       "      <td>0.0</td>\n",
       "      <td>...</td>\n",
       "      <td>0.0</td>\n",
       "      <td>0.0</td>\n",
       "      <td>0.0</td>\n",
       "      <td>0.0</td>\n",
       "      <td>0.0</td>\n",
       "      <td>1.0</td>\n",
       "      <td>0.0</td>\n",
       "      <td>1.0</td>\n",
       "      <td>0.0</td>\n",
       "      <td>0.0</td>\n",
       "    </tr>\n",
       "    <tr>\n",
       "      <th>365</th>\n",
       "      <td>0.0</td>\n",
       "      <td>0.0</td>\n",
       "      <td>0.0</td>\n",
       "      <td>0.0</td>\n",
       "      <td>0.0</td>\n",
       "      <td>0.0</td>\n",
       "      <td>0.0</td>\n",
       "      <td>0.0</td>\n",
       "      <td>0.0</td>\n",
       "      <td>1.0</td>\n",
       "      <td>...</td>\n",
       "      <td>0.0</td>\n",
       "      <td>0.0</td>\n",
       "      <td>0.0</td>\n",
       "      <td>0.0</td>\n",
       "      <td>0.0</td>\n",
       "      <td>1.0</td>\n",
       "      <td>0.0</td>\n",
       "      <td>0.0</td>\n",
       "      <td>0.0</td>\n",
       "      <td>1.0</td>\n",
       "    </tr>\n",
       "    <tr>\n",
       "      <th>496</th>\n",
       "      <td>0.0</td>\n",
       "      <td>0.0</td>\n",
       "      <td>0.0</td>\n",
       "      <td>0.0</td>\n",
       "      <td>0.0</td>\n",
       "      <td>0.0</td>\n",
       "      <td>0.0</td>\n",
       "      <td>0.0</td>\n",
       "      <td>0.0</td>\n",
       "      <td>1.0</td>\n",
       "      <td>...</td>\n",
       "      <td>0.0</td>\n",
       "      <td>0.0</td>\n",
       "      <td>0.0</td>\n",
       "      <td>0.0</td>\n",
       "      <td>1.0</td>\n",
       "      <td>0.0</td>\n",
       "      <td>0.0</td>\n",
       "      <td>0.0</td>\n",
       "      <td>0.0</td>\n",
       "      <td>1.0</td>\n",
       "    </tr>\n",
       "    <tr>\n",
       "      <th>19</th>\n",
       "      <td>0.0</td>\n",
       "      <td>1.0</td>\n",
       "      <td>0.0</td>\n",
       "      <td>0.0</td>\n",
       "      <td>0.0</td>\n",
       "      <td>0.0</td>\n",
       "      <td>0.0</td>\n",
       "      <td>0.0</td>\n",
       "      <td>0.0</td>\n",
       "      <td>0.0</td>\n",
       "      <td>...</td>\n",
       "      <td>0.0</td>\n",
       "      <td>0.0</td>\n",
       "      <td>0.0</td>\n",
       "      <td>0.0</td>\n",
       "      <td>0.0</td>\n",
       "      <td>1.0</td>\n",
       "      <td>0.0</td>\n",
       "      <td>0.0</td>\n",
       "      <td>0.0</td>\n",
       "      <td>1.0</td>\n",
       "    </tr>\n",
       "    <tr>\n",
       "      <th>177</th>\n",
       "      <td>0.0</td>\n",
       "      <td>0.0</td>\n",
       "      <td>0.0</td>\n",
       "      <td>0.0</td>\n",
       "      <td>0.0</td>\n",
       "      <td>1.0</td>\n",
       "      <td>0.0</td>\n",
       "      <td>0.0</td>\n",
       "      <td>0.0</td>\n",
       "      <td>0.0</td>\n",
       "      <td>...</td>\n",
       "      <td>0.0</td>\n",
       "      <td>0.0</td>\n",
       "      <td>0.0</td>\n",
       "      <td>0.0</td>\n",
       "      <td>0.0</td>\n",
       "      <td>1.0</td>\n",
       "      <td>0.0</td>\n",
       "      <td>0.0</td>\n",
       "      <td>1.0</td>\n",
       "      <td>0.0</td>\n",
       "    </tr>\n",
       "  </tbody>\n",
       "</table>\n",
       "<p>5 rows × 41 columns</p>\n",
       "</div>"
      ],
      "text/plain": [
       "     Brand_APPLE  Brand_ASUS  Brand_DELL  Brand_HP  Brand_Infinix  \\\n",
       "20           1.0         0.0         0.0       0.0            0.0   \n",
       "365          0.0         0.0         0.0       0.0            0.0   \n",
       "496          0.0         0.0         0.0       0.0            0.0   \n",
       "19           0.0         1.0         0.0       0.0            0.0   \n",
       "177          0.0         0.0         0.0       0.0            0.0   \n",
       "\n",
       "     Brand_Lenovo  Brand_MSI  Brand_RedmiBook  Brand_Ultimus  Brand_acer  ...  \\\n",
       "20            0.0        0.0              0.0            0.0         0.0  ...   \n",
       "365           0.0        0.0              0.0            0.0         1.0  ...   \n",
       "496           0.0        0.0              0.0            0.0         1.0  ...   \n",
       "19            0.0        0.0              0.0            0.0         0.0  ...   \n",
       "177           1.0        0.0              0.0            0.0         0.0  ...   \n",
       "\n",
       "     RAM_type_LPDDR4  RAM_type_LPDDR4X  RAM_type_LPDDR5  \\\n",
       "20               0.0               0.0              0.0   \n",
       "365              0.0               0.0              0.0   \n",
       "496              0.0               0.0              0.0   \n",
       "19               0.0               0.0              0.0   \n",
       "177              0.0               0.0              0.0   \n",
       "\n",
       "     RAM_type_Unified Memory  Storagetype_HDD  Storagetype_SSD  OS_DOS  \\\n",
       "20                       0.0              0.0              1.0     0.0   \n",
       "365                      0.0              0.0              1.0     0.0   \n",
       "496                      0.0              1.0              0.0     0.0   \n",
       "19                       0.0              0.0              1.0     0.0   \n",
       "177                      0.0              0.0              1.0     0.0   \n",
       "\n",
       "     OS_Mac OS  OS_Windows 10  OS_Windows 11  \n",
       "20         1.0            0.0            0.0  \n",
       "365        0.0            0.0            1.0  \n",
       "496        0.0            0.0            1.0  \n",
       "19         0.0            0.0            1.0  \n",
       "177        0.0            1.0            0.0  \n",
       "\n",
       "[5 rows x 41 columns]"
      ]
     },
     "execution_count": 42,
     "metadata": {},
     "output_type": "execute_result"
    }
   ],
   "source": [
    "from sklearn.preprocessing import OneHotEncoder\n",
    "\n",
    "encoder = OneHotEncoder(drop='first', sparse=False)\n",
    "\n",
    "X_train_cat_ohe = pd.DataFrame(encoder.fit_transform(X_train_cat), \n",
    "                               columns=encoder.get_feature_names_out(X_train_cat.columns), \n",
    "                               index = X_train_cat.index)\n",
    "\n",
    "X_train_cat_ohe.head()"
   ]
  },
  {
   "cell_type": "code",
   "execution_count": null,
   "metadata": {
    "executionInfo": {
     "elapsed": 5,
     "status": "ok",
     "timestamp": 1682550557792,
     "user": {
      "displayName": "Sarfraz Hussain Mohammed",
      "userId": "04740348016143627760"
     },
     "user_tz": -330
    },
    "id": "Y5aMXZrCmJ9n"
   },
   "outputs": [],
   "source": []
  },
  {
   "cell_type": "code",
   "execution_count": 43,
   "metadata": {
    "colab": {
     "base_uri": "https://localhost:8080/",
     "height": 317
    },
    "executionInfo": {
     "elapsed": 7,
     "status": "ok",
     "timestamp": 1682550558321,
     "user": {
      "displayName": "Sarfraz Hussain Mohammed",
      "userId": "04740348016143627760"
     },
     "user_tz": -330
    },
    "id": "9GIWBtxYhOju",
    "outputId": "b45b3d10-031d-4c33-8a45-415157ce73d7"
   },
   "outputs": [
    {
     "data": {
      "text/html": [
       "<div>\n",
       "<style scoped>\n",
       "    .dataframe tbody tr th:only-of-type {\n",
       "        vertical-align: middle;\n",
       "    }\n",
       "\n",
       "    .dataframe tbody tr th {\n",
       "        vertical-align: top;\n",
       "    }\n",
       "\n",
       "    .dataframe thead th {\n",
       "        text-align: right;\n",
       "    }\n",
       "</style>\n",
       "<table border=\"1\" class=\"dataframe\">\n",
       "  <thead>\n",
       "    <tr style=\"text-align: right;\">\n",
       "      <th></th>\n",
       "      <th>Brand_APPLE</th>\n",
       "      <th>Brand_ASUS</th>\n",
       "      <th>Brand_DELL</th>\n",
       "      <th>Brand_HP</th>\n",
       "      <th>Brand_Infinix</th>\n",
       "      <th>Brand_Lenovo</th>\n",
       "      <th>Brand_MSI</th>\n",
       "      <th>Brand_RedmiBook</th>\n",
       "      <th>Brand_Ultimus</th>\n",
       "      <th>Brand_acer</th>\n",
       "      <th>...</th>\n",
       "      <th>RAM_type_LPDDR4</th>\n",
       "      <th>RAM_type_LPDDR4X</th>\n",
       "      <th>RAM_type_LPDDR5</th>\n",
       "      <th>RAM_type_Unified Memory</th>\n",
       "      <th>Storagetype_HDD</th>\n",
       "      <th>Storagetype_SSD</th>\n",
       "      <th>OS_DOS</th>\n",
       "      <th>OS_Mac OS</th>\n",
       "      <th>OS_Windows 10</th>\n",
       "      <th>OS_Windows 11</th>\n",
       "    </tr>\n",
       "  </thead>\n",
       "  <tbody>\n",
       "    <tr>\n",
       "      <th>20</th>\n",
       "      <td>1.0</td>\n",
       "      <td>0.0</td>\n",
       "      <td>0.0</td>\n",
       "      <td>0.0</td>\n",
       "      <td>0.0</td>\n",
       "      <td>0.0</td>\n",
       "      <td>0.0</td>\n",
       "      <td>0.0</td>\n",
       "      <td>0.0</td>\n",
       "      <td>0.0</td>\n",
       "      <td>...</td>\n",
       "      <td>0.0</td>\n",
       "      <td>0.0</td>\n",
       "      <td>0.0</td>\n",
       "      <td>0.0</td>\n",
       "      <td>0.0</td>\n",
       "      <td>1.0</td>\n",
       "      <td>0.0</td>\n",
       "      <td>1.0</td>\n",
       "      <td>0.0</td>\n",
       "      <td>0.0</td>\n",
       "    </tr>\n",
       "    <tr>\n",
       "      <th>365</th>\n",
       "      <td>0.0</td>\n",
       "      <td>0.0</td>\n",
       "      <td>0.0</td>\n",
       "      <td>0.0</td>\n",
       "      <td>0.0</td>\n",
       "      <td>0.0</td>\n",
       "      <td>0.0</td>\n",
       "      <td>0.0</td>\n",
       "      <td>0.0</td>\n",
       "      <td>1.0</td>\n",
       "      <td>...</td>\n",
       "      <td>0.0</td>\n",
       "      <td>0.0</td>\n",
       "      <td>0.0</td>\n",
       "      <td>0.0</td>\n",
       "      <td>0.0</td>\n",
       "      <td>1.0</td>\n",
       "      <td>0.0</td>\n",
       "      <td>0.0</td>\n",
       "      <td>0.0</td>\n",
       "      <td>1.0</td>\n",
       "    </tr>\n",
       "    <tr>\n",
       "      <th>496</th>\n",
       "      <td>0.0</td>\n",
       "      <td>0.0</td>\n",
       "      <td>0.0</td>\n",
       "      <td>0.0</td>\n",
       "      <td>0.0</td>\n",
       "      <td>0.0</td>\n",
       "      <td>0.0</td>\n",
       "      <td>0.0</td>\n",
       "      <td>0.0</td>\n",
       "      <td>1.0</td>\n",
       "      <td>...</td>\n",
       "      <td>0.0</td>\n",
       "      <td>0.0</td>\n",
       "      <td>0.0</td>\n",
       "      <td>0.0</td>\n",
       "      <td>1.0</td>\n",
       "      <td>0.0</td>\n",
       "      <td>0.0</td>\n",
       "      <td>0.0</td>\n",
       "      <td>0.0</td>\n",
       "      <td>1.0</td>\n",
       "    </tr>\n",
       "    <tr>\n",
       "      <th>19</th>\n",
       "      <td>0.0</td>\n",
       "      <td>1.0</td>\n",
       "      <td>0.0</td>\n",
       "      <td>0.0</td>\n",
       "      <td>0.0</td>\n",
       "      <td>0.0</td>\n",
       "      <td>0.0</td>\n",
       "      <td>0.0</td>\n",
       "      <td>0.0</td>\n",
       "      <td>0.0</td>\n",
       "      <td>...</td>\n",
       "      <td>0.0</td>\n",
       "      <td>0.0</td>\n",
       "      <td>0.0</td>\n",
       "      <td>0.0</td>\n",
       "      <td>0.0</td>\n",
       "      <td>1.0</td>\n",
       "      <td>0.0</td>\n",
       "      <td>0.0</td>\n",
       "      <td>0.0</td>\n",
       "      <td>1.0</td>\n",
       "    </tr>\n",
       "    <tr>\n",
       "      <th>177</th>\n",
       "      <td>0.0</td>\n",
       "      <td>0.0</td>\n",
       "      <td>0.0</td>\n",
       "      <td>0.0</td>\n",
       "      <td>0.0</td>\n",
       "      <td>1.0</td>\n",
       "      <td>0.0</td>\n",
       "      <td>0.0</td>\n",
       "      <td>0.0</td>\n",
       "      <td>0.0</td>\n",
       "      <td>...</td>\n",
       "      <td>0.0</td>\n",
       "      <td>0.0</td>\n",
       "      <td>0.0</td>\n",
       "      <td>0.0</td>\n",
       "      <td>0.0</td>\n",
       "      <td>1.0</td>\n",
       "      <td>0.0</td>\n",
       "      <td>0.0</td>\n",
       "      <td>1.0</td>\n",
       "      <td>0.0</td>\n",
       "    </tr>\n",
       "  </tbody>\n",
       "</table>\n",
       "<p>5 rows × 41 columns</p>\n",
       "</div>"
      ],
      "text/plain": [
       "     Brand_APPLE  Brand_ASUS  Brand_DELL  Brand_HP  Brand_Infinix  \\\n",
       "20           1.0         0.0         0.0       0.0            0.0   \n",
       "365          0.0         0.0         0.0       0.0            0.0   \n",
       "496          0.0         0.0         0.0       0.0            0.0   \n",
       "19           0.0         1.0         0.0       0.0            0.0   \n",
       "177          0.0         0.0         0.0       0.0            0.0   \n",
       "\n",
       "     Brand_Lenovo  Brand_MSI  Brand_RedmiBook  Brand_Ultimus  Brand_acer  ...  \\\n",
       "20            0.0        0.0              0.0            0.0         0.0  ...   \n",
       "365           0.0        0.0              0.0            0.0         1.0  ...   \n",
       "496           0.0        0.0              0.0            0.0         1.0  ...   \n",
       "19            0.0        0.0              0.0            0.0         0.0  ...   \n",
       "177           1.0        0.0              0.0            0.0         0.0  ...   \n",
       "\n",
       "     RAM_type_LPDDR4  RAM_type_LPDDR4X  RAM_type_LPDDR5  \\\n",
       "20               0.0               0.0              0.0   \n",
       "365              0.0               0.0              0.0   \n",
       "496              0.0               0.0              0.0   \n",
       "19               0.0               0.0              0.0   \n",
       "177              0.0               0.0              0.0   \n",
       "\n",
       "     RAM_type_Unified Memory  Storagetype_HDD  Storagetype_SSD  OS_DOS  \\\n",
       "20                       0.0              0.0              1.0     0.0   \n",
       "365                      0.0              0.0              1.0     0.0   \n",
       "496                      0.0              1.0              0.0     0.0   \n",
       "19                       0.0              0.0              1.0     0.0   \n",
       "177                      0.0              0.0              1.0     0.0   \n",
       "\n",
       "     OS_Mac OS  OS_Windows 10  OS_Windows 11  \n",
       "20         1.0            0.0            0.0  \n",
       "365        0.0            0.0            1.0  \n",
       "496        0.0            0.0            1.0  \n",
       "19         0.0            0.0            1.0  \n",
       "177        0.0            1.0            0.0  \n",
       "\n",
       "[5 rows x 41 columns]"
      ]
     },
     "execution_count": 43,
     "metadata": {},
     "output_type": "execute_result"
    }
   ],
   "source": [
    "X_train_cat_ohe.head()"
   ]
  },
  {
   "cell_type": "code",
   "execution_count": null,
   "metadata": {
    "executionInfo": {
     "elapsed": 7,
     "status": "ok",
     "timestamp": 1682550558322,
     "user": {
      "displayName": "Sarfraz Hussain Mohammed",
      "userId": "04740348016143627760"
     },
     "user_tz": -330
    },
    "id": "_9ipWMZOhOZH"
   },
   "outputs": [],
   "source": []
  },
  {
   "cell_type": "code",
   "execution_count": null,
   "metadata": {
    "executionInfo": {
     "elapsed": 7,
     "status": "ok",
     "timestamp": 1682550558322,
     "user": {
      "displayName": "Sarfraz Hussain Mohammed",
      "userId": "04740348016143627760"
     },
     "user_tz": -330
    },
    "id": "q6eyoTOAhOMv"
   },
   "outputs": [],
   "source": []
  },
  {
   "cell_type": "code",
   "execution_count": 44,
   "metadata": {
    "colab": {
     "base_uri": "https://localhost:8080/",
     "height": 317
    },
    "executionInfo": {
     "elapsed": 7,
     "status": "ok",
     "timestamp": 1682550558960,
     "user": {
      "displayName": "Sarfraz Hussain Mohammed",
      "userId": "04740348016143627760"
     },
     "user_tz": -330
    },
    "id": "aw9iW0YaYtUG",
    "outputId": "9c8968c7-4648-440f-d820-36c0a8f408e2"
   },
   "outputs": [
    {
     "data": {
      "text/html": [
       "<div>\n",
       "<style scoped>\n",
       "    .dataframe tbody tr th:only-of-type {\n",
       "        vertical-align: middle;\n",
       "    }\n",
       "\n",
       "    .dataframe tbody tr th {\n",
       "        vertical-align: top;\n",
       "    }\n",
       "\n",
       "    .dataframe thead th {\n",
       "        text-align: right;\n",
       "    }\n",
       "</style>\n",
       "<table border=\"1\" class=\"dataframe\">\n",
       "  <thead>\n",
       "    <tr style=\"text-align: right;\">\n",
       "      <th></th>\n",
       "      <th>RAM</th>\n",
       "      <th>Storage(GB)</th>\n",
       "      <th>Screen_Size</th>\n",
       "      <th>Brand_APPLE</th>\n",
       "      <th>Brand_ASUS</th>\n",
       "      <th>Brand_DELL</th>\n",
       "      <th>Brand_HP</th>\n",
       "      <th>Brand_Infinix</th>\n",
       "      <th>Brand_Lenovo</th>\n",
       "      <th>Brand_MSI</th>\n",
       "      <th>...</th>\n",
       "      <th>RAM_type_LPDDR4</th>\n",
       "      <th>RAM_type_LPDDR4X</th>\n",
       "      <th>RAM_type_LPDDR5</th>\n",
       "      <th>RAM_type_Unified Memory</th>\n",
       "      <th>Storagetype_HDD</th>\n",
       "      <th>Storagetype_SSD</th>\n",
       "      <th>OS_DOS</th>\n",
       "      <th>OS_Mac OS</th>\n",
       "      <th>OS_Windows 10</th>\n",
       "      <th>OS_Windows 11</th>\n",
       "    </tr>\n",
       "  </thead>\n",
       "  <tbody>\n",
       "    <tr>\n",
       "      <th>20</th>\n",
       "      <td>-0.612306</td>\n",
       "      <td>-1.257434</td>\n",
       "      <td>-1.997598</td>\n",
       "      <td>1.0</td>\n",
       "      <td>0.0</td>\n",
       "      <td>0.0</td>\n",
       "      <td>0.0</td>\n",
       "      <td>0.0</td>\n",
       "      <td>0.0</td>\n",
       "      <td>0.0</td>\n",
       "      <td>...</td>\n",
       "      <td>0.0</td>\n",
       "      <td>0.0</td>\n",
       "      <td>0.0</td>\n",
       "      <td>0.0</td>\n",
       "      <td>0.0</td>\n",
       "      <td>1.0</td>\n",
       "      <td>0.0</td>\n",
       "      <td>1.0</td>\n",
       "      <td>0.0</td>\n",
       "      <td>0.0</td>\n",
       "    </tr>\n",
       "    <tr>\n",
       "      <th>365</th>\n",
       "      <td>-0.612306</td>\n",
       "      <td>-0.384523</td>\n",
       "      <td>0.498312</td>\n",
       "      <td>0.0</td>\n",
       "      <td>0.0</td>\n",
       "      <td>0.0</td>\n",
       "      <td>0.0</td>\n",
       "      <td>0.0</td>\n",
       "      <td>0.0</td>\n",
       "      <td>0.0</td>\n",
       "      <td>...</td>\n",
       "      <td>0.0</td>\n",
       "      <td>0.0</td>\n",
       "      <td>0.0</td>\n",
       "      <td>0.0</td>\n",
       "      <td>0.0</td>\n",
       "      <td>1.0</td>\n",
       "      <td>0.0</td>\n",
       "      <td>0.0</td>\n",
       "      <td>0.0</td>\n",
       "      <td>1.0</td>\n",
       "    </tr>\n",
       "    <tr>\n",
       "      <th>496</th>\n",
       "      <td>-0.612306</td>\n",
       "      <td>1.279464</td>\n",
       "      <td>0.498312</td>\n",
       "      <td>0.0</td>\n",
       "      <td>0.0</td>\n",
       "      <td>0.0</td>\n",
       "      <td>0.0</td>\n",
       "      <td>0.0</td>\n",
       "      <td>0.0</td>\n",
       "      <td>0.0</td>\n",
       "      <td>...</td>\n",
       "      <td>0.0</td>\n",
       "      <td>0.0</td>\n",
       "      <td>0.0</td>\n",
       "      <td>0.0</td>\n",
       "      <td>1.0</td>\n",
       "      <td>0.0</td>\n",
       "      <td>0.0</td>\n",
       "      <td>0.0</td>\n",
       "      <td>0.0</td>\n",
       "      <td>1.0</td>\n",
       "    </tr>\n",
       "    <tr>\n",
       "      <th>19</th>\n",
       "      <td>0.970806</td>\n",
       "      <td>1.279464</td>\n",
       "      <td>0.498312</td>\n",
       "      <td>0.0</td>\n",
       "      <td>1.0</td>\n",
       "      <td>0.0</td>\n",
       "      <td>0.0</td>\n",
       "      <td>0.0</td>\n",
       "      <td>0.0</td>\n",
       "      <td>0.0</td>\n",
       "      <td>...</td>\n",
       "      <td>0.0</td>\n",
       "      <td>0.0</td>\n",
       "      <td>0.0</td>\n",
       "      <td>0.0</td>\n",
       "      <td>0.0</td>\n",
       "      <td>1.0</td>\n",
       "      <td>0.0</td>\n",
       "      <td>0.0</td>\n",
       "      <td>0.0</td>\n",
       "      <td>1.0</td>\n",
       "    </tr>\n",
       "    <tr>\n",
       "      <th>177</th>\n",
       "      <td>0.970806</td>\n",
       "      <td>-0.384523</td>\n",
       "      <td>-1.997598</td>\n",
       "      <td>0.0</td>\n",
       "      <td>0.0</td>\n",
       "      <td>0.0</td>\n",
       "      <td>0.0</td>\n",
       "      <td>0.0</td>\n",
       "      <td>1.0</td>\n",
       "      <td>0.0</td>\n",
       "      <td>...</td>\n",
       "      <td>0.0</td>\n",
       "      <td>0.0</td>\n",
       "      <td>0.0</td>\n",
       "      <td>0.0</td>\n",
       "      <td>0.0</td>\n",
       "      <td>1.0</td>\n",
       "      <td>0.0</td>\n",
       "      <td>0.0</td>\n",
       "      <td>1.0</td>\n",
       "      <td>0.0</td>\n",
       "    </tr>\n",
       "  </tbody>\n",
       "</table>\n",
       "<p>5 rows × 44 columns</p>\n",
       "</div>"
      ],
      "text/plain": [
       "          RAM  Storage(GB)  Screen_Size  Brand_APPLE  Brand_ASUS  Brand_DELL  \\\n",
       "20  -0.612306    -1.257434    -1.997598          1.0         0.0         0.0   \n",
       "365 -0.612306    -0.384523     0.498312          0.0         0.0         0.0   \n",
       "496 -0.612306     1.279464     0.498312          0.0         0.0         0.0   \n",
       "19   0.970806     1.279464     0.498312          0.0         1.0         0.0   \n",
       "177  0.970806    -0.384523    -1.997598          0.0         0.0         0.0   \n",
       "\n",
       "     Brand_HP  Brand_Infinix  Brand_Lenovo  Brand_MSI  ...  RAM_type_LPDDR4  \\\n",
       "20        0.0            0.0           0.0        0.0  ...              0.0   \n",
       "365       0.0            0.0           0.0        0.0  ...              0.0   \n",
       "496       0.0            0.0           0.0        0.0  ...              0.0   \n",
       "19        0.0            0.0           0.0        0.0  ...              0.0   \n",
       "177       0.0            0.0           1.0        0.0  ...              0.0   \n",
       "\n",
       "     RAM_type_LPDDR4X  RAM_type_LPDDR5  RAM_type_Unified Memory  \\\n",
       "20                0.0              0.0                      0.0   \n",
       "365               0.0              0.0                      0.0   \n",
       "496               0.0              0.0                      0.0   \n",
       "19                0.0              0.0                      0.0   \n",
       "177               0.0              0.0                      0.0   \n",
       "\n",
       "     Storagetype_HDD  Storagetype_SSD  OS_DOS  OS_Mac OS  OS_Windows 10  \\\n",
       "20               0.0              1.0     0.0        1.0            0.0   \n",
       "365              0.0              1.0     0.0        0.0            0.0   \n",
       "496              1.0              0.0     0.0        0.0            0.0   \n",
       "19               0.0              1.0     0.0        0.0            0.0   \n",
       "177              0.0              1.0     0.0        0.0            1.0   \n",
       "\n",
       "     OS_Windows 11  \n",
       "20             0.0  \n",
       "365            1.0  \n",
       "496            1.0  \n",
       "19             1.0  \n",
       "177            0.0  \n",
       "\n",
       "[5 rows x 44 columns]"
      ]
     },
     "execution_count": 44,
     "metadata": {},
     "output_type": "execute_result"
    }
   ],
   "source": [
    "X_train_transformed = pd.concat([X_train_num_rescaled, X_train_cat_ohe], axis=1)\n",
    "\n",
    "X_train_transformed.head()"
   ]
  },
  {
   "cell_type": "code",
   "execution_count": null,
   "metadata": {
    "executionInfo": {
     "elapsed": 5,
     "status": "ok",
     "timestamp": 1682550558960,
     "user": {
      "displayName": "Sarfraz Hussain Mohammed",
      "userId": "04740348016143627760"
     },
     "user_tz": -330
    },
    "id": "3K5_GRT5nNNx"
   },
   "outputs": [],
   "source": []
  },
  {
   "cell_type": "code",
   "execution_count": null,
   "metadata": {
    "executionInfo": {
     "elapsed": 5,
     "status": "ok",
     "timestamp": 1682550558961,
     "user": {
      "displayName": "Sarfraz Hussain Mohammed",
      "userId": "04740348016143627760"
     },
     "user_tz": -330
    },
    "id": "25KA6S3wnNBP"
   },
   "outputs": [],
   "source": []
  },
  {
   "cell_type": "code",
   "execution_count": null,
   "metadata": {
    "executionInfo": {
     "elapsed": 6,
     "status": "ok",
     "timestamp": 1682550558962,
     "user": {
      "displayName": "Sarfraz Hussain Mohammed",
      "userId": "04740348016143627760"
     },
     "user_tz": -330
    },
    "id": "8TzPb1hknM9z"
   },
   "outputs": [],
   "source": []
  },
  {
   "cell_type": "code",
   "execution_count": null,
   "metadata": {
    "executionInfo": {
     "elapsed": 2,
     "status": "ok",
     "timestamp": 1682550559443,
     "user": {
      "displayName": "Sarfraz Hussain Mohammed",
      "userId": "04740348016143627760"
     },
     "user_tz": -330
    },
    "id": "LTZuCV7UnM3M"
   },
   "outputs": [],
   "source": []
  },
  {
   "cell_type": "markdown",
   "metadata": {
    "id": "fiLjJnnenODj"
   },
   "source": [
    "TEST"
   ]
  },
  {
   "cell_type": "code",
   "execution_count": null,
   "metadata": {
    "executionInfo": {
     "elapsed": 3,
     "status": "ok",
     "timestamp": 1682550560013,
     "user": {
      "displayName": "Sarfraz Hussain Mohammed",
      "userId": "04740348016143627760"
     },
     "user_tz": -330
    },
    "id": "ovXVSc5B9pGp"
   },
   "outputs": [],
   "source": []
  },
  {
   "cell_type": "code",
   "execution_count": 45,
   "metadata": {
    "executionInfo": {
     "elapsed": 3,
     "status": "ok",
     "timestamp": 1682550560014,
     "user": {
      "displayName": "Sarfraz Hussain Mohammed",
      "userId": "04740348016143627760"
     },
     "user_tz": -330
    },
    "id": "HK12J2f6AsiS"
   },
   "outputs": [],
   "source": [
    "X_test.loc[800] = {'Brand':'ASUS',\"Processor\" : \"Intel i5\"\t, 'Core' : 'Hexa', 'RAM' : 8 \t, 'RAM_type' : 'LPDDR5',\t'Storage(GB)' : 512 , \"Storagetype\" : 'SSD','OS' : 'Windows 11'\t,'Screen_Size' : 15.6 }"
   ]
  },
  {
   "cell_type": "code",
   "execution_count": 46,
   "metadata": {
    "colab": {
     "base_uri": "https://localhost:8080/"
    },
    "executionInfo": {
     "elapsed": 11,
     "status": "ok",
     "timestamp": 1682550560630,
     "user": {
      "displayName": "Sarfraz Hussain Mohammed",
      "userId": "04740348016143627760"
     },
     "user_tz": -330
    },
    "id": "WNtWTywGwtRK",
    "outputId": "7b1a9838-b788-4c95-baa1-1bc463fbe5a7"
   },
   "outputs": [
    {
     "data": {
      "text/plain": [
       "Brand                ASUS\n",
       "Processor        Intel i5\n",
       "Core                 Hexa\n",
       "RAM                     8\n",
       "RAM_type           LPDDR5\n",
       "Storage(GB)           512\n",
       "Storagetype           SSD\n",
       "OS             Windows 11\n",
       "Screen_Size          15.6\n",
       "Name: 800, dtype: object"
      ]
     },
     "execution_count": 46,
     "metadata": {},
     "output_type": "execute_result"
    }
   ],
   "source": [
    "X_test.loc[800]"
   ]
  },
  {
   "cell_type": "code",
   "execution_count": 47,
   "metadata": {
    "executionInfo": {
     "elapsed": 6,
     "status": "ok",
     "timestamp": 1682550560630,
     "user": {
      "displayName": "Sarfraz Hussain Mohammed",
      "userId": "04740348016143627760"
     },
     "user_tz": -330
    },
    "id": "LY7UAIjtVw7i"
   },
   "outputs": [],
   "source": [
    "y_test.loc[800] = 0"
   ]
  },
  {
   "cell_type": "code",
   "execution_count": 48,
   "metadata": {
    "colab": {
     "base_uri": "https://localhost:8080/"
    },
    "executionInfo": {
     "elapsed": 5,
     "status": "ok",
     "timestamp": 1682550560630,
     "user": {
      "displayName": "Sarfraz Hussain Mohammed",
      "userId": "04740348016143627760"
     },
     "user_tz": -330
    },
    "id": "hxzWHV3mWL0X",
    "outputId": "95cd0662-8936-4467-c689-542ab3c9887e"
   },
   "outputs": [
    {
     "data": {
      "text/plain": [
       "584     85990.0\n",
       "438     75990.0\n",
       "413     50499.0\n",
       "464     35590.0\n",
       "286    135990.0\n",
       "         ...   \n",
       "350     63990.0\n",
       "621    345390.0\n",
       "215     67990.0\n",
       "234     40190.0\n",
       "800         0.0\n",
       "Name: MRP, Length: 215, dtype: float64"
      ]
     },
     "execution_count": 48,
     "metadata": {},
     "output_type": "execute_result"
    }
   ],
   "source": [
    "y_test"
   ]
  },
  {
   "cell_type": "code",
   "execution_count": 49,
   "metadata": {
    "colab": {
     "base_uri": "https://localhost:8080/",
     "height": 206
    },
    "executionInfo": {
     "elapsed": 6,
     "status": "ok",
     "timestamp": 1682550561875,
     "user": {
      "displayName": "Sarfraz Hussain Mohammed",
      "userId": "04740348016143627760"
     },
     "user_tz": -330
    },
    "id": "J-wnsx7cE5JT",
    "outputId": "c94e5b76-165f-4fbe-c95b-7142537dbe6e"
   },
   "outputs": [
    {
     "data": {
      "text/html": [
       "<div>\n",
       "<style scoped>\n",
       "    .dataframe tbody tr th:only-of-type {\n",
       "        vertical-align: middle;\n",
       "    }\n",
       "\n",
       "    .dataframe tbody tr th {\n",
       "        vertical-align: top;\n",
       "    }\n",
       "\n",
       "    .dataframe thead th {\n",
       "        text-align: right;\n",
       "    }\n",
       "</style>\n",
       "<table border=\"1\" class=\"dataframe\">\n",
       "  <thead>\n",
       "    <tr style=\"text-align: right;\">\n",
       "      <th></th>\n",
       "      <th>Brand</th>\n",
       "      <th>Processor</th>\n",
       "      <th>Core</th>\n",
       "      <th>RAM</th>\n",
       "      <th>RAM_type</th>\n",
       "      <th>Storage(GB)</th>\n",
       "      <th>Storagetype</th>\n",
       "      <th>OS</th>\n",
       "      <th>Screen_Size</th>\n",
       "    </tr>\n",
       "  </thead>\n",
       "  <tbody>\n",
       "    <tr>\n",
       "      <th>350</th>\n",
       "      <td>ASUS</td>\n",
       "      <td>Intel i5</td>\n",
       "      <td>Hexa</td>\n",
       "      <td>8</td>\n",
       "      <td>LPDDR4X</td>\n",
       "      <td>512</td>\n",
       "      <td>SSD</td>\n",
       "      <td>Windows 11</td>\n",
       "      <td>14.0</td>\n",
       "    </tr>\n",
       "    <tr>\n",
       "      <th>621</th>\n",
       "      <td>ALIENWARE</td>\n",
       "      <td>Intel i9</td>\n",
       "      <td>Octa</td>\n",
       "      <td>32</td>\n",
       "      <td>DDR4</td>\n",
       "      <td>1000</td>\n",
       "      <td>SSD</td>\n",
       "      <td>Windows 10</td>\n",
       "      <td>15.6</td>\n",
       "    </tr>\n",
       "    <tr>\n",
       "      <th>215</th>\n",
       "      <td>ASUS</td>\n",
       "      <td>AMD Ryzen 7</td>\n",
       "      <td>Octa</td>\n",
       "      <td>16</td>\n",
       "      <td>DDR4</td>\n",
       "      <td>512</td>\n",
       "      <td>SSD</td>\n",
       "      <td>Windows 11</td>\n",
       "      <td>15.6</td>\n",
       "    </tr>\n",
       "    <tr>\n",
       "      <th>234</th>\n",
       "      <td>DELL</td>\n",
       "      <td>AMD Ryzen 3</td>\n",
       "      <td>Dual</td>\n",
       "      <td>8</td>\n",
       "      <td>DDR4</td>\n",
       "      <td>512</td>\n",
       "      <td>SSD</td>\n",
       "      <td>Windows 11</td>\n",
       "      <td>15.6</td>\n",
       "    </tr>\n",
       "    <tr>\n",
       "      <th>800</th>\n",
       "      <td>ASUS</td>\n",
       "      <td>Intel i5</td>\n",
       "      <td>Hexa</td>\n",
       "      <td>8</td>\n",
       "      <td>LPDDR5</td>\n",
       "      <td>512</td>\n",
       "      <td>SSD</td>\n",
       "      <td>Windows 11</td>\n",
       "      <td>15.6</td>\n",
       "    </tr>\n",
       "  </tbody>\n",
       "</table>\n",
       "</div>"
      ],
      "text/plain": [
       "         Brand    Processor  Core  RAM RAM_type  Storage(GB) Storagetype  \\\n",
       "350       ASUS     Intel i5  Hexa    8  LPDDR4X          512         SSD   \n",
       "621  ALIENWARE     Intel i9  Octa   32     DDR4         1000         SSD   \n",
       "215       ASUS  AMD Ryzen 7  Octa   16     DDR4          512         SSD   \n",
       "234       DELL  AMD Ryzen 3  Dual    8     DDR4          512         SSD   \n",
       "800       ASUS     Intel i5  Hexa    8   LPDDR5          512         SSD   \n",
       "\n",
       "             OS  Screen_Size  \n",
       "350  Windows 11         14.0  \n",
       "621  Windows 10         15.6  \n",
       "215  Windows 11         15.6  \n",
       "234  Windows 11         15.6  \n",
       "800  Windows 11         15.6  "
      ]
     },
     "execution_count": 49,
     "metadata": {},
     "output_type": "execute_result"
    }
   ],
   "source": [
    "X_test.tail()"
   ]
  },
  {
   "cell_type": "code",
   "execution_count": 50,
   "metadata": {
    "colab": {
     "base_uri": "https://localhost:8080/",
     "height": 206
    },
    "executionInfo": {
     "elapsed": 11,
     "status": "ok",
     "timestamp": 1682550562518,
     "user": {
      "displayName": "Sarfraz Hussain Mohammed",
      "userId": "04740348016143627760"
     },
     "user_tz": -330
    },
    "id": "g4O3aPuvfh8J",
    "outputId": "a8fcda37-8265-4d8a-b31c-637c92feb7dd"
   },
   "outputs": [
    {
     "data": {
      "text/html": [
       "<div>\n",
       "<style scoped>\n",
       "    .dataframe tbody tr th:only-of-type {\n",
       "        vertical-align: middle;\n",
       "    }\n",
       "\n",
       "    .dataframe tbody tr th {\n",
       "        vertical-align: top;\n",
       "    }\n",
       "\n",
       "    .dataframe thead th {\n",
       "        text-align: right;\n",
       "    }\n",
       "</style>\n",
       "<table border=\"1\" class=\"dataframe\">\n",
       "  <thead>\n",
       "    <tr style=\"text-align: right;\">\n",
       "      <th></th>\n",
       "      <th>Brand</th>\n",
       "      <th>Processor</th>\n",
       "      <th>Core</th>\n",
       "      <th>RAM_type</th>\n",
       "      <th>Storagetype</th>\n",
       "      <th>OS</th>\n",
       "    </tr>\n",
       "  </thead>\n",
       "  <tbody>\n",
       "    <tr>\n",
       "      <th>584</th>\n",
       "      <td>ASUS</td>\n",
       "      <td>AMD Ryzen 7</td>\n",
       "      <td>Octa</td>\n",
       "      <td>DDR4</td>\n",
       "      <td>SSD</td>\n",
       "      <td>Windows 11</td>\n",
       "    </tr>\n",
       "    <tr>\n",
       "      <th>438</th>\n",
       "      <td>DELL</td>\n",
       "      <td>Intel i5</td>\n",
       "      <td>Hexa</td>\n",
       "      <td>DDR4</td>\n",
       "      <td>SSD</td>\n",
       "      <td>Windows 11</td>\n",
       "    </tr>\n",
       "    <tr>\n",
       "      <th>413</th>\n",
       "      <td>Lenovo</td>\n",
       "      <td>Intel i5</td>\n",
       "      <td>Hexa</td>\n",
       "      <td>DDR4</td>\n",
       "      <td>SSD</td>\n",
       "      <td>Windows 10</td>\n",
       "    </tr>\n",
       "    <tr>\n",
       "      <th>464</th>\n",
       "      <td>Lenovo</td>\n",
       "      <td>AMD Ryzen 3</td>\n",
       "      <td>Dual</td>\n",
       "      <td>DDR4</td>\n",
       "      <td>SSD</td>\n",
       "      <td>Windows 11</td>\n",
       "    </tr>\n",
       "    <tr>\n",
       "      <th>286</th>\n",
       "      <td>ASUS</td>\n",
       "      <td>AMD Ryzen 7</td>\n",
       "      <td>Octa</td>\n",
       "      <td>DDR5</td>\n",
       "      <td>SSD</td>\n",
       "      <td>Windows 11</td>\n",
       "    </tr>\n",
       "  </tbody>\n",
       "</table>\n",
       "</div>"
      ],
      "text/plain": [
       "      Brand    Processor  Core RAM_type Storagetype          OS\n",
       "584    ASUS  AMD Ryzen 7  Octa     DDR4         SSD  Windows 11\n",
       "438    DELL     Intel i5  Hexa     DDR4         SSD  Windows 11\n",
       "413  Lenovo     Intel i5  Hexa     DDR4         SSD  Windows 10\n",
       "464  Lenovo  AMD Ryzen 3  Dual     DDR4         SSD  Windows 11\n",
       "286    ASUS  AMD Ryzen 7  Octa     DDR5         SSD  Windows 11"
      ]
     },
     "execution_count": 50,
     "metadata": {},
     "output_type": "execute_result"
    }
   ],
   "source": [
    "X_test_cat = X_test.select_dtypes(include=['object'])\n",
    "\n",
    "X_test_cat.head()"
   ]
  },
  {
   "cell_type": "code",
   "execution_count": 51,
   "metadata": {
    "colab": {
     "base_uri": "https://localhost:8080/",
     "height": 206
    },
    "executionInfo": {
     "elapsed": 10,
     "status": "ok",
     "timestamp": 1682550562519,
     "user": {
      "displayName": "Sarfraz Hussain Mohammed",
      "userId": "04740348016143627760"
     },
     "user_tz": -330
    },
    "id": "Iik3mxGLfh53",
    "outputId": "b80a5858-352f-406f-b078-3dbc65b00229"
   },
   "outputs": [
    {
     "data": {
      "text/html": [
       "<div>\n",
       "<style scoped>\n",
       "    .dataframe tbody tr th:only-of-type {\n",
       "        vertical-align: middle;\n",
       "    }\n",
       "\n",
       "    .dataframe tbody tr th {\n",
       "        vertical-align: top;\n",
       "    }\n",
       "\n",
       "    .dataframe thead th {\n",
       "        text-align: right;\n",
       "    }\n",
       "</style>\n",
       "<table border=\"1\" class=\"dataframe\">\n",
       "  <thead>\n",
       "    <tr style=\"text-align: right;\">\n",
       "      <th></th>\n",
       "      <th>RAM</th>\n",
       "      <th>Storage(GB)</th>\n",
       "      <th>Screen_Size</th>\n",
       "    </tr>\n",
       "  </thead>\n",
       "  <tbody>\n",
       "    <tr>\n",
       "      <th>584</th>\n",
       "      <td>16</td>\n",
       "      <td>1000</td>\n",
       "      <td>15.6</td>\n",
       "    </tr>\n",
       "    <tr>\n",
       "      <th>438</th>\n",
       "      <td>16</td>\n",
       "      <td>512</td>\n",
       "      <td>14.0</td>\n",
       "    </tr>\n",
       "    <tr>\n",
       "      <th>413</th>\n",
       "      <td>8</td>\n",
       "      <td>256</td>\n",
       "      <td>15.6</td>\n",
       "    </tr>\n",
       "    <tr>\n",
       "      <th>464</th>\n",
       "      <td>8</td>\n",
       "      <td>512</td>\n",
       "      <td>15.6</td>\n",
       "    </tr>\n",
       "    <tr>\n",
       "      <th>286</th>\n",
       "      <td>16</td>\n",
       "      <td>1000</td>\n",
       "      <td>15.6</td>\n",
       "    </tr>\n",
       "  </tbody>\n",
       "</table>\n",
       "</div>"
      ],
      "text/plain": [
       "     RAM  Storage(GB)  Screen_Size\n",
       "584   16         1000         15.6\n",
       "438   16          512         14.0\n",
       "413    8          256         15.6\n",
       "464    8          512         15.6\n",
       "286   16         1000         15.6"
      ]
     },
     "execution_count": 51,
     "metadata": {},
     "output_type": "execute_result"
    }
   ],
   "source": [
    "X_test_num = X_test.select_dtypes(include=['int64', 'float64'])\n",
    "\n",
    "X_test_num.head()"
   ]
  },
  {
   "cell_type": "code",
   "execution_count": 52,
   "metadata": {
    "colab": {
     "base_uri": "https://localhost:8080/",
     "height": 206
    },
    "executionInfo": {
     "elapsed": 5,
     "status": "ok",
     "timestamp": 1682550563157,
     "user": {
      "displayName": "Sarfraz Hussain Mohammed",
      "userId": "04740348016143627760"
     },
     "user_tz": -330
    },
    "id": "pRYuvTKwfh2s",
    "outputId": "0571cc67-a98c-462c-a5b9-c9da543fa303"
   },
   "outputs": [
    {
     "data": {
      "text/html": [
       "<div>\n",
       "<style scoped>\n",
       "    .dataframe tbody tr th:only-of-type {\n",
       "        vertical-align: middle;\n",
       "    }\n",
       "\n",
       "    .dataframe tbody tr th {\n",
       "        vertical-align: top;\n",
       "    }\n",
       "\n",
       "    .dataframe thead th {\n",
       "        text-align: right;\n",
       "    }\n",
       "</style>\n",
       "<table border=\"1\" class=\"dataframe\">\n",
       "  <thead>\n",
       "    <tr style=\"text-align: right;\">\n",
       "      <th></th>\n",
       "      <th>RAM</th>\n",
       "      <th>Storage(GB)</th>\n",
       "      <th>Screen_Size</th>\n",
       "    </tr>\n",
       "  </thead>\n",
       "  <tbody>\n",
       "    <tr>\n",
       "      <th>584</th>\n",
       "      <td>0.970806</td>\n",
       "      <td>1.279464</td>\n",
       "      <td>0.498312</td>\n",
       "    </tr>\n",
       "    <tr>\n",
       "      <th>438</th>\n",
       "      <td>0.970806</td>\n",
       "      <td>-0.384523</td>\n",
       "      <td>-1.237973</td>\n",
       "    </tr>\n",
       "    <tr>\n",
       "      <th>413</th>\n",
       "      <td>-0.612306</td>\n",
       "      <td>-1.257434</td>\n",
       "      <td>0.498312</td>\n",
       "    </tr>\n",
       "    <tr>\n",
       "      <th>464</th>\n",
       "      <td>-0.612306</td>\n",
       "      <td>-0.384523</td>\n",
       "      <td>0.498312</td>\n",
       "    </tr>\n",
       "    <tr>\n",
       "      <th>286</th>\n",
       "      <td>0.970806</td>\n",
       "      <td>1.279464</td>\n",
       "      <td>0.498312</td>\n",
       "    </tr>\n",
       "  </tbody>\n",
       "</table>\n",
       "</div>"
      ],
      "text/plain": [
       "          RAM  Storage(GB)  Screen_Size\n",
       "584  0.970806     1.279464     0.498312\n",
       "438  0.970806    -0.384523    -1.237973\n",
       "413 -0.612306    -1.257434     0.498312\n",
       "464 -0.612306    -0.384523     0.498312\n",
       "286  0.970806     1.279464     0.498312"
      ]
     },
     "execution_count": 52,
     "metadata": {},
     "output_type": "execute_result"
    }
   ],
   "source": [
    "X_test_num_rescaled = pd.DataFrame(scaler.transform(X_test_num), \n",
    "                                   columns = X_test_num.columns, \n",
    "                                   index = X_test_num.index)\n",
    "\n",
    "X_test_num_rescaled.head()"
   ]
  },
  {
   "cell_type": "code",
   "execution_count": null,
   "metadata": {
    "executionInfo": {
     "elapsed": 5,
     "status": "ok",
     "timestamp": 1682550563158,
     "user": {
      "displayName": "Sarfraz Hussain Mohammed",
      "userId": "04740348016143627760"
     },
     "user_tz": -330
    },
    "id": "KGUQmZMy0AJi"
   },
   "outputs": [],
   "source": []
  },
  {
   "cell_type": "code",
   "execution_count": null,
   "metadata": {
    "executionInfo": {
     "elapsed": 7,
     "status": "ok",
     "timestamp": 1682550563592,
     "user": {
      "displayName": "Sarfraz Hussain Mohammed",
      "userId": "04740348016143627760"
     },
     "user_tz": -330
    },
    "id": "VeU-cEyJ0AF-"
   },
   "outputs": [],
   "source": []
  },
  {
   "cell_type": "code",
   "execution_count": 53,
   "metadata": {
    "colab": {
     "base_uri": "https://localhost:8080/",
     "height": 423
    },
    "executionInfo": {
     "elapsed": 526,
     "status": "ok",
     "timestamp": 1682552402783,
     "user": {
      "displayName": "Sarfraz Hussain Mohammed",
      "userId": "04740348016143627760"
     },
     "user_tz": -330
    },
    "id": "87dD0KLsnjxk",
    "outputId": "0233b3b2-6df7-40f1-819e-e1e9ac1fdb56"
   },
   "outputs": [
    {
     "data": {
      "text/html": [
       "<div>\n",
       "<style scoped>\n",
       "    .dataframe tbody tr th:only-of-type {\n",
       "        vertical-align: middle;\n",
       "    }\n",
       "\n",
       "    .dataframe tbody tr th {\n",
       "        vertical-align: top;\n",
       "    }\n",
       "\n",
       "    .dataframe thead th {\n",
       "        text-align: right;\n",
       "    }\n",
       "</style>\n",
       "<table border=\"1\" class=\"dataframe\">\n",
       "  <thead>\n",
       "    <tr style=\"text-align: right;\">\n",
       "      <th></th>\n",
       "      <th>Brand</th>\n",
       "      <th>Processor</th>\n",
       "      <th>Core</th>\n",
       "      <th>RAM_type</th>\n",
       "      <th>Storagetype</th>\n",
       "      <th>OS</th>\n",
       "    </tr>\n",
       "  </thead>\n",
       "  <tbody>\n",
       "    <tr>\n",
       "      <th>584</th>\n",
       "      <td>ASUS</td>\n",
       "      <td>AMD Ryzen 7</td>\n",
       "      <td>Octa</td>\n",
       "      <td>DDR4</td>\n",
       "      <td>SSD</td>\n",
       "      <td>Windows 11</td>\n",
       "    </tr>\n",
       "    <tr>\n",
       "      <th>438</th>\n",
       "      <td>DELL</td>\n",
       "      <td>Intel i5</td>\n",
       "      <td>Hexa</td>\n",
       "      <td>DDR4</td>\n",
       "      <td>SSD</td>\n",
       "      <td>Windows 11</td>\n",
       "    </tr>\n",
       "    <tr>\n",
       "      <th>413</th>\n",
       "      <td>Lenovo</td>\n",
       "      <td>Intel i5</td>\n",
       "      <td>Hexa</td>\n",
       "      <td>DDR4</td>\n",
       "      <td>SSD</td>\n",
       "      <td>Windows 10</td>\n",
       "    </tr>\n",
       "    <tr>\n",
       "      <th>464</th>\n",
       "      <td>Lenovo</td>\n",
       "      <td>AMD Ryzen 3</td>\n",
       "      <td>Dual</td>\n",
       "      <td>DDR4</td>\n",
       "      <td>SSD</td>\n",
       "      <td>Windows 11</td>\n",
       "    </tr>\n",
       "    <tr>\n",
       "      <th>286</th>\n",
       "      <td>ASUS</td>\n",
       "      <td>AMD Ryzen 7</td>\n",
       "      <td>Octa</td>\n",
       "      <td>DDR5</td>\n",
       "      <td>SSD</td>\n",
       "      <td>Windows 11</td>\n",
       "    </tr>\n",
       "    <tr>\n",
       "      <th>...</th>\n",
       "      <td>...</td>\n",
       "      <td>...</td>\n",
       "      <td>...</td>\n",
       "      <td>...</td>\n",
       "      <td>...</td>\n",
       "      <td>...</td>\n",
       "    </tr>\n",
       "    <tr>\n",
       "      <th>350</th>\n",
       "      <td>ASUS</td>\n",
       "      <td>Intel i5</td>\n",
       "      <td>Hexa</td>\n",
       "      <td>LPDDR4X</td>\n",
       "      <td>SSD</td>\n",
       "      <td>Windows 11</td>\n",
       "    </tr>\n",
       "    <tr>\n",
       "      <th>621</th>\n",
       "      <td>ALIENWARE</td>\n",
       "      <td>Intel i9</td>\n",
       "      <td>Octa</td>\n",
       "      <td>DDR4</td>\n",
       "      <td>SSD</td>\n",
       "      <td>Windows 10</td>\n",
       "    </tr>\n",
       "    <tr>\n",
       "      <th>215</th>\n",
       "      <td>ASUS</td>\n",
       "      <td>AMD Ryzen 7</td>\n",
       "      <td>Octa</td>\n",
       "      <td>DDR4</td>\n",
       "      <td>SSD</td>\n",
       "      <td>Windows 11</td>\n",
       "    </tr>\n",
       "    <tr>\n",
       "      <th>234</th>\n",
       "      <td>DELL</td>\n",
       "      <td>AMD Ryzen 3</td>\n",
       "      <td>Dual</td>\n",
       "      <td>DDR4</td>\n",
       "      <td>SSD</td>\n",
       "      <td>Windows 11</td>\n",
       "    </tr>\n",
       "    <tr>\n",
       "      <th>800</th>\n",
       "      <td>ASUS</td>\n",
       "      <td>Intel i5</td>\n",
       "      <td>Hexa</td>\n",
       "      <td>LPDDR5</td>\n",
       "      <td>SSD</td>\n",
       "      <td>Windows 11</td>\n",
       "    </tr>\n",
       "  </tbody>\n",
       "</table>\n",
       "<p>215 rows × 6 columns</p>\n",
       "</div>"
      ],
      "text/plain": [
       "         Brand    Processor  Core RAM_type Storagetype          OS\n",
       "584       ASUS  AMD Ryzen 7  Octa     DDR4         SSD  Windows 11\n",
       "438       DELL     Intel i5  Hexa     DDR4         SSD  Windows 11\n",
       "413     Lenovo     Intel i5  Hexa     DDR4         SSD  Windows 10\n",
       "464     Lenovo  AMD Ryzen 3  Dual     DDR4         SSD  Windows 11\n",
       "286       ASUS  AMD Ryzen 7  Octa     DDR5         SSD  Windows 11\n",
       "..         ...          ...   ...      ...         ...         ...\n",
       "350       ASUS     Intel i5  Hexa  LPDDR4X         SSD  Windows 11\n",
       "621  ALIENWARE     Intel i9  Octa     DDR4         SSD  Windows 10\n",
       "215       ASUS  AMD Ryzen 7  Octa     DDR4         SSD  Windows 11\n",
       "234       DELL  AMD Ryzen 3  Dual     DDR4         SSD  Windows 11\n",
       "800       ASUS     Intel i5  Hexa   LPDDR5         SSD  Windows 11\n",
       "\n",
       "[215 rows x 6 columns]"
      ]
     },
     "execution_count": 53,
     "metadata": {},
     "output_type": "execute_result"
    }
   ],
   "source": [
    "X_test_cat"
   ]
  },
  {
   "cell_type": "code",
   "execution_count": 54,
   "metadata": {
    "colab": {
     "base_uri": "https://localhost:8080/",
     "height": 317
    },
    "executionInfo": {
     "elapsed": 7,
     "status": "ok",
     "timestamp": 1682550564384,
     "user": {
      "displayName": "Sarfraz Hussain Mohammed",
      "userId": "04740348016143627760"
     },
     "user_tz": -330
    },
    "id": "9idYZ2X5fh0B",
    "outputId": "59fe4915-6de2-47b0-9088-5d4af1cd7f56"
   },
   "outputs": [
    {
     "data": {
      "text/html": [
       "<div>\n",
       "<style scoped>\n",
       "    .dataframe tbody tr th:only-of-type {\n",
       "        vertical-align: middle;\n",
       "    }\n",
       "\n",
       "    .dataframe tbody tr th {\n",
       "        vertical-align: top;\n",
       "    }\n",
       "\n",
       "    .dataframe thead th {\n",
       "        text-align: right;\n",
       "    }\n",
       "</style>\n",
       "<table border=\"1\" class=\"dataframe\">\n",
       "  <thead>\n",
       "    <tr style=\"text-align: right;\">\n",
       "      <th></th>\n",
       "      <th>Brand_APPLE</th>\n",
       "      <th>Brand_ASUS</th>\n",
       "      <th>Brand_DELL</th>\n",
       "      <th>Brand_HP</th>\n",
       "      <th>Brand_Infinix</th>\n",
       "      <th>Brand_Lenovo</th>\n",
       "      <th>Brand_MSI</th>\n",
       "      <th>Brand_RedmiBook</th>\n",
       "      <th>Brand_Ultimus</th>\n",
       "      <th>Brand_acer</th>\n",
       "      <th>...</th>\n",
       "      <th>RAM_type_LPDDR4</th>\n",
       "      <th>RAM_type_LPDDR4X</th>\n",
       "      <th>RAM_type_LPDDR5</th>\n",
       "      <th>RAM_type_Unified Memory</th>\n",
       "      <th>Storagetype_HDD</th>\n",
       "      <th>Storagetype_SSD</th>\n",
       "      <th>OS_DOS</th>\n",
       "      <th>OS_Mac OS</th>\n",
       "      <th>OS_Windows 10</th>\n",
       "      <th>OS_Windows 11</th>\n",
       "    </tr>\n",
       "  </thead>\n",
       "  <tbody>\n",
       "    <tr>\n",
       "      <th>584</th>\n",
       "      <td>0.0</td>\n",
       "      <td>1.0</td>\n",
       "      <td>0.0</td>\n",
       "      <td>0.0</td>\n",
       "      <td>0.0</td>\n",
       "      <td>0.0</td>\n",
       "      <td>0.0</td>\n",
       "      <td>0.0</td>\n",
       "      <td>0.0</td>\n",
       "      <td>0.0</td>\n",
       "      <td>...</td>\n",
       "      <td>0.0</td>\n",
       "      <td>0.0</td>\n",
       "      <td>0.0</td>\n",
       "      <td>0.0</td>\n",
       "      <td>0.0</td>\n",
       "      <td>1.0</td>\n",
       "      <td>0.0</td>\n",
       "      <td>0.0</td>\n",
       "      <td>0.0</td>\n",
       "      <td>1.0</td>\n",
       "    </tr>\n",
       "    <tr>\n",
       "      <th>438</th>\n",
       "      <td>0.0</td>\n",
       "      <td>0.0</td>\n",
       "      <td>1.0</td>\n",
       "      <td>0.0</td>\n",
       "      <td>0.0</td>\n",
       "      <td>0.0</td>\n",
       "      <td>0.0</td>\n",
       "      <td>0.0</td>\n",
       "      <td>0.0</td>\n",
       "      <td>0.0</td>\n",
       "      <td>...</td>\n",
       "      <td>0.0</td>\n",
       "      <td>0.0</td>\n",
       "      <td>0.0</td>\n",
       "      <td>0.0</td>\n",
       "      <td>0.0</td>\n",
       "      <td>1.0</td>\n",
       "      <td>0.0</td>\n",
       "      <td>0.0</td>\n",
       "      <td>0.0</td>\n",
       "      <td>1.0</td>\n",
       "    </tr>\n",
       "    <tr>\n",
       "      <th>413</th>\n",
       "      <td>0.0</td>\n",
       "      <td>0.0</td>\n",
       "      <td>0.0</td>\n",
       "      <td>0.0</td>\n",
       "      <td>0.0</td>\n",
       "      <td>1.0</td>\n",
       "      <td>0.0</td>\n",
       "      <td>0.0</td>\n",
       "      <td>0.0</td>\n",
       "      <td>0.0</td>\n",
       "      <td>...</td>\n",
       "      <td>0.0</td>\n",
       "      <td>0.0</td>\n",
       "      <td>0.0</td>\n",
       "      <td>0.0</td>\n",
       "      <td>0.0</td>\n",
       "      <td>1.0</td>\n",
       "      <td>0.0</td>\n",
       "      <td>0.0</td>\n",
       "      <td>1.0</td>\n",
       "      <td>0.0</td>\n",
       "    </tr>\n",
       "    <tr>\n",
       "      <th>464</th>\n",
       "      <td>0.0</td>\n",
       "      <td>0.0</td>\n",
       "      <td>0.0</td>\n",
       "      <td>0.0</td>\n",
       "      <td>0.0</td>\n",
       "      <td>1.0</td>\n",
       "      <td>0.0</td>\n",
       "      <td>0.0</td>\n",
       "      <td>0.0</td>\n",
       "      <td>0.0</td>\n",
       "      <td>...</td>\n",
       "      <td>0.0</td>\n",
       "      <td>0.0</td>\n",
       "      <td>0.0</td>\n",
       "      <td>0.0</td>\n",
       "      <td>0.0</td>\n",
       "      <td>1.0</td>\n",
       "      <td>0.0</td>\n",
       "      <td>0.0</td>\n",
       "      <td>0.0</td>\n",
       "      <td>1.0</td>\n",
       "    </tr>\n",
       "    <tr>\n",
       "      <th>286</th>\n",
       "      <td>0.0</td>\n",
       "      <td>1.0</td>\n",
       "      <td>0.0</td>\n",
       "      <td>0.0</td>\n",
       "      <td>0.0</td>\n",
       "      <td>0.0</td>\n",
       "      <td>0.0</td>\n",
       "      <td>0.0</td>\n",
       "      <td>0.0</td>\n",
       "      <td>0.0</td>\n",
       "      <td>...</td>\n",
       "      <td>0.0</td>\n",
       "      <td>0.0</td>\n",
       "      <td>0.0</td>\n",
       "      <td>0.0</td>\n",
       "      <td>0.0</td>\n",
       "      <td>1.0</td>\n",
       "      <td>0.0</td>\n",
       "      <td>0.0</td>\n",
       "      <td>0.0</td>\n",
       "      <td>1.0</td>\n",
       "    </tr>\n",
       "  </tbody>\n",
       "</table>\n",
       "<p>5 rows × 41 columns</p>\n",
       "</div>"
      ],
      "text/plain": [
       "     Brand_APPLE  Brand_ASUS  Brand_DELL  Brand_HP  Brand_Infinix  \\\n",
       "584          0.0         1.0         0.0       0.0            0.0   \n",
       "438          0.0         0.0         1.0       0.0            0.0   \n",
       "413          0.0         0.0         0.0       0.0            0.0   \n",
       "464          0.0         0.0         0.0       0.0            0.0   \n",
       "286          0.0         1.0         0.0       0.0            0.0   \n",
       "\n",
       "     Brand_Lenovo  Brand_MSI  Brand_RedmiBook  Brand_Ultimus  Brand_acer  ...  \\\n",
       "584           0.0        0.0              0.0            0.0         0.0  ...   \n",
       "438           0.0        0.0              0.0            0.0         0.0  ...   \n",
       "413           1.0        0.0              0.0            0.0         0.0  ...   \n",
       "464           1.0        0.0              0.0            0.0         0.0  ...   \n",
       "286           0.0        0.0              0.0            0.0         0.0  ...   \n",
       "\n",
       "     RAM_type_LPDDR4  RAM_type_LPDDR4X  RAM_type_LPDDR5  \\\n",
       "584              0.0               0.0              0.0   \n",
       "438              0.0               0.0              0.0   \n",
       "413              0.0               0.0              0.0   \n",
       "464              0.0               0.0              0.0   \n",
       "286              0.0               0.0              0.0   \n",
       "\n",
       "     RAM_type_Unified Memory  Storagetype_HDD  Storagetype_SSD  OS_DOS  \\\n",
       "584                      0.0              0.0              1.0     0.0   \n",
       "438                      0.0              0.0              1.0     0.0   \n",
       "413                      0.0              0.0              1.0     0.0   \n",
       "464                      0.0              0.0              1.0     0.0   \n",
       "286                      0.0              0.0              1.0     0.0   \n",
       "\n",
       "     OS_Mac OS  OS_Windows 10  OS_Windows 11  \n",
       "584        0.0            0.0            1.0  \n",
       "438        0.0            0.0            1.0  \n",
       "413        0.0            1.0            0.0  \n",
       "464        0.0            0.0            1.0  \n",
       "286        0.0            0.0            1.0  \n",
       "\n",
       "[5 rows x 41 columns]"
      ]
     },
     "execution_count": 54,
     "metadata": {},
     "output_type": "execute_result"
    }
   ],
   "source": [
    "X_test_cat_ohe = pd.DataFrame(encoder.transform(X_test_cat), \n",
    "                               columns=encoder.get_feature_names_out(X_test_cat.columns), \n",
    "                               index = X_test_cat.index)\n",
    "\n",
    "X_test_cat_ohe.head()"
   ]
  },
  {
   "cell_type": "code",
   "execution_count": null,
   "metadata": {
    "executionInfo": {
     "elapsed": 520,
     "status": "ok",
     "timestamp": 1682550567500,
     "user": {
      "displayName": "Sarfraz Hussain Mohammed",
      "userId": "04740348016143627760"
     },
     "user_tz": -330
    },
    "id": "TJbEbarGpXYT"
   },
   "outputs": [],
   "source": []
  },
  {
   "cell_type": "code",
   "execution_count": null,
   "metadata": {
    "executionInfo": {
     "elapsed": 3,
     "status": "ok",
     "timestamp": 1682550568192,
     "user": {
      "displayName": "Sarfraz Hussain Mohammed",
      "userId": "04740348016143627760"
     },
     "user_tz": -330
    },
    "id": "vXU78c-HpXKx"
   },
   "outputs": [],
   "source": []
  },
  {
   "cell_type": "code",
   "execution_count": null,
   "metadata": {
    "executionInfo": {
     "elapsed": 2,
     "status": "ok",
     "timestamp": 1682550568192,
     "user": {
      "displayName": "Sarfraz Hussain Mohammed",
      "userId": "04740348016143627760"
     },
     "user_tz": -330
    },
    "id": "4d9SFFD_nxcR"
   },
   "outputs": [],
   "source": []
  },
  {
   "cell_type": "code",
   "execution_count": 55,
   "metadata": {
    "colab": {
     "base_uri": "https://localhost:8080/",
     "height": 317
    },
    "executionInfo": {
     "elapsed": 6,
     "status": "ok",
     "timestamp": 1682550568733,
     "user": {
      "displayName": "Sarfraz Hussain Mohammed",
      "userId": "04740348016143627760"
     },
     "user_tz": -330
    },
    "id": "485wHhdmfhwC",
    "outputId": "58af14ff-902e-43ed-9cf1-2db8c0337e09"
   },
   "outputs": [
    {
     "data": {
      "text/html": [
       "<div>\n",
       "<style scoped>\n",
       "    .dataframe tbody tr th:only-of-type {\n",
       "        vertical-align: middle;\n",
       "    }\n",
       "\n",
       "    .dataframe tbody tr th {\n",
       "        vertical-align: top;\n",
       "    }\n",
       "\n",
       "    .dataframe thead th {\n",
       "        text-align: right;\n",
       "    }\n",
       "</style>\n",
       "<table border=\"1\" class=\"dataframe\">\n",
       "  <thead>\n",
       "    <tr style=\"text-align: right;\">\n",
       "      <th></th>\n",
       "      <th>RAM</th>\n",
       "      <th>Storage(GB)</th>\n",
       "      <th>Screen_Size</th>\n",
       "      <th>Brand_APPLE</th>\n",
       "      <th>Brand_ASUS</th>\n",
       "      <th>Brand_DELL</th>\n",
       "      <th>Brand_HP</th>\n",
       "      <th>Brand_Infinix</th>\n",
       "      <th>Brand_Lenovo</th>\n",
       "      <th>Brand_MSI</th>\n",
       "      <th>...</th>\n",
       "      <th>RAM_type_LPDDR4</th>\n",
       "      <th>RAM_type_LPDDR4X</th>\n",
       "      <th>RAM_type_LPDDR5</th>\n",
       "      <th>RAM_type_Unified Memory</th>\n",
       "      <th>Storagetype_HDD</th>\n",
       "      <th>Storagetype_SSD</th>\n",
       "      <th>OS_DOS</th>\n",
       "      <th>OS_Mac OS</th>\n",
       "      <th>OS_Windows 10</th>\n",
       "      <th>OS_Windows 11</th>\n",
       "    </tr>\n",
       "  </thead>\n",
       "  <tbody>\n",
       "    <tr>\n",
       "      <th>584</th>\n",
       "      <td>0.970806</td>\n",
       "      <td>1.279464</td>\n",
       "      <td>0.498312</td>\n",
       "      <td>0.0</td>\n",
       "      <td>1.0</td>\n",
       "      <td>0.0</td>\n",
       "      <td>0.0</td>\n",
       "      <td>0.0</td>\n",
       "      <td>0.0</td>\n",
       "      <td>0.0</td>\n",
       "      <td>...</td>\n",
       "      <td>0.0</td>\n",
       "      <td>0.0</td>\n",
       "      <td>0.0</td>\n",
       "      <td>0.0</td>\n",
       "      <td>0.0</td>\n",
       "      <td>1.0</td>\n",
       "      <td>0.0</td>\n",
       "      <td>0.0</td>\n",
       "      <td>0.0</td>\n",
       "      <td>1.0</td>\n",
       "    </tr>\n",
       "    <tr>\n",
       "      <th>438</th>\n",
       "      <td>0.970806</td>\n",
       "      <td>-0.384523</td>\n",
       "      <td>-1.237973</td>\n",
       "      <td>0.0</td>\n",
       "      <td>0.0</td>\n",
       "      <td>1.0</td>\n",
       "      <td>0.0</td>\n",
       "      <td>0.0</td>\n",
       "      <td>0.0</td>\n",
       "      <td>0.0</td>\n",
       "      <td>...</td>\n",
       "      <td>0.0</td>\n",
       "      <td>0.0</td>\n",
       "      <td>0.0</td>\n",
       "      <td>0.0</td>\n",
       "      <td>0.0</td>\n",
       "      <td>1.0</td>\n",
       "      <td>0.0</td>\n",
       "      <td>0.0</td>\n",
       "      <td>0.0</td>\n",
       "      <td>1.0</td>\n",
       "    </tr>\n",
       "    <tr>\n",
       "      <th>413</th>\n",
       "      <td>-0.612306</td>\n",
       "      <td>-1.257434</td>\n",
       "      <td>0.498312</td>\n",
       "      <td>0.0</td>\n",
       "      <td>0.0</td>\n",
       "      <td>0.0</td>\n",
       "      <td>0.0</td>\n",
       "      <td>0.0</td>\n",
       "      <td>1.0</td>\n",
       "      <td>0.0</td>\n",
       "      <td>...</td>\n",
       "      <td>0.0</td>\n",
       "      <td>0.0</td>\n",
       "      <td>0.0</td>\n",
       "      <td>0.0</td>\n",
       "      <td>0.0</td>\n",
       "      <td>1.0</td>\n",
       "      <td>0.0</td>\n",
       "      <td>0.0</td>\n",
       "      <td>1.0</td>\n",
       "      <td>0.0</td>\n",
       "    </tr>\n",
       "    <tr>\n",
       "      <th>464</th>\n",
       "      <td>-0.612306</td>\n",
       "      <td>-0.384523</td>\n",
       "      <td>0.498312</td>\n",
       "      <td>0.0</td>\n",
       "      <td>0.0</td>\n",
       "      <td>0.0</td>\n",
       "      <td>0.0</td>\n",
       "      <td>0.0</td>\n",
       "      <td>1.0</td>\n",
       "      <td>0.0</td>\n",
       "      <td>...</td>\n",
       "      <td>0.0</td>\n",
       "      <td>0.0</td>\n",
       "      <td>0.0</td>\n",
       "      <td>0.0</td>\n",
       "      <td>0.0</td>\n",
       "      <td>1.0</td>\n",
       "      <td>0.0</td>\n",
       "      <td>0.0</td>\n",
       "      <td>0.0</td>\n",
       "      <td>1.0</td>\n",
       "    </tr>\n",
       "    <tr>\n",
       "      <th>286</th>\n",
       "      <td>0.970806</td>\n",
       "      <td>1.279464</td>\n",
       "      <td>0.498312</td>\n",
       "      <td>0.0</td>\n",
       "      <td>1.0</td>\n",
       "      <td>0.0</td>\n",
       "      <td>0.0</td>\n",
       "      <td>0.0</td>\n",
       "      <td>0.0</td>\n",
       "      <td>0.0</td>\n",
       "      <td>...</td>\n",
       "      <td>0.0</td>\n",
       "      <td>0.0</td>\n",
       "      <td>0.0</td>\n",
       "      <td>0.0</td>\n",
       "      <td>0.0</td>\n",
       "      <td>1.0</td>\n",
       "      <td>0.0</td>\n",
       "      <td>0.0</td>\n",
       "      <td>0.0</td>\n",
       "      <td>1.0</td>\n",
       "    </tr>\n",
       "  </tbody>\n",
       "</table>\n",
       "<p>5 rows × 44 columns</p>\n",
       "</div>"
      ],
      "text/plain": [
       "          RAM  Storage(GB)  Screen_Size  Brand_APPLE  Brand_ASUS  Brand_DELL  \\\n",
       "584  0.970806     1.279464     0.498312          0.0         1.0         0.0   \n",
       "438  0.970806    -0.384523    -1.237973          0.0         0.0         1.0   \n",
       "413 -0.612306    -1.257434     0.498312          0.0         0.0         0.0   \n",
       "464 -0.612306    -0.384523     0.498312          0.0         0.0         0.0   \n",
       "286  0.970806     1.279464     0.498312          0.0         1.0         0.0   \n",
       "\n",
       "     Brand_HP  Brand_Infinix  Brand_Lenovo  Brand_MSI  ...  RAM_type_LPDDR4  \\\n",
       "584       0.0            0.0           0.0        0.0  ...              0.0   \n",
       "438       0.0            0.0           0.0        0.0  ...              0.0   \n",
       "413       0.0            0.0           1.0        0.0  ...              0.0   \n",
       "464       0.0            0.0           1.0        0.0  ...              0.0   \n",
       "286       0.0            0.0           0.0        0.0  ...              0.0   \n",
       "\n",
       "     RAM_type_LPDDR4X  RAM_type_LPDDR5  RAM_type_Unified Memory  \\\n",
       "584               0.0              0.0                      0.0   \n",
       "438               0.0              0.0                      0.0   \n",
       "413               0.0              0.0                      0.0   \n",
       "464               0.0              0.0                      0.0   \n",
       "286               0.0              0.0                      0.0   \n",
       "\n",
       "     Storagetype_HDD  Storagetype_SSD  OS_DOS  OS_Mac OS  OS_Windows 10  \\\n",
       "584              0.0              1.0     0.0        0.0            0.0   \n",
       "438              0.0              1.0     0.0        0.0            0.0   \n",
       "413              0.0              1.0     0.0        0.0            1.0   \n",
       "464              0.0              1.0     0.0        0.0            0.0   \n",
       "286              0.0              1.0     0.0        0.0            0.0   \n",
       "\n",
       "     OS_Windows 11  \n",
       "584            1.0  \n",
       "438            1.0  \n",
       "413            0.0  \n",
       "464            1.0  \n",
       "286            1.0  \n",
       "\n",
       "[5 rows x 44 columns]"
      ]
     },
     "execution_count": 55,
     "metadata": {},
     "output_type": "execute_result"
    }
   ],
   "source": [
    "X_test_transformed = pd.concat([X_test_num_rescaled, X_test_cat_ohe], axis=1)\n",
    "\n",
    "X_test_transformed.head()"
   ]
  },
  {
   "cell_type": "code",
   "execution_count": null,
   "metadata": {
    "executionInfo": {
     "elapsed": 6,
     "status": "ok",
     "timestamp": 1682550568734,
     "user": {
      "displayName": "Sarfraz Hussain Mohammed",
      "userId": "04740348016143627760"
     },
     "user_tz": -330
    },
    "id": "GX_6kdH9fhs7"
   },
   "outputs": [],
   "source": []
  },
  {
   "cell_type": "code",
   "execution_count": null,
   "metadata": {
    "executionInfo": {
     "elapsed": 6,
     "status": "ok",
     "timestamp": 1682550568735,
     "user": {
      "displayName": "Sarfraz Hussain Mohammed",
      "userId": "04740348016143627760"
     },
     "user_tz": -330
    },
    "id": "pD3EMvpRfhp-"
   },
   "outputs": [],
   "source": []
  },
  {
   "cell_type": "code",
   "execution_count": null,
   "metadata": {
    "executionInfo": {
     "elapsed": 2,
     "status": "ok",
     "timestamp": 1682550569796,
     "user": {
      "displayName": "Sarfraz Hussain Mohammed",
      "userId": "04740348016143627760"
     },
     "user_tz": -330
    },
    "id": "qH4eWVOqfhmq"
   },
   "outputs": [],
   "source": []
  },
  {
   "cell_type": "code",
   "execution_count": null,
   "metadata": {
    "executionInfo": {
     "elapsed": 3,
     "status": "ok",
     "timestamp": 1682550569797,
     "user": {
      "displayName": "Sarfraz Hussain Mohammed",
      "userId": "04740348016143627760"
     },
     "user_tz": -330
    },
    "id": "yePWCwRifhYW"
   },
   "outputs": [],
   "source": []
  },
  {
   "cell_type": "markdown",
   "metadata": {
    "id": "rnKVbyQyFcCF"
   },
   "source": [
    "Linear Regression"
   ]
  },
  {
   "cell_type": "code",
   "execution_count": 56,
   "metadata": {
    "colab": {
     "base_uri": "https://localhost:8080/",
     "height": 74
    },
    "executionInfo": {
     "elapsed": 4,
     "status": "ok",
     "timestamp": 1682550572295,
     "user": {
      "displayName": "Sarfraz Hussain Mohammed",
      "userId": "04740348016143627760"
     },
     "user_tz": -330
    },
    "id": "wMv8lMAZZXMZ",
    "outputId": "00284f8f-313f-4f71-b64d-9f350417bcfa"
   },
   "outputs": [
    {
     "data": {
      "text/html": [
       "<style>#sk-container-id-1 {color: black;background-color: white;}#sk-container-id-1 pre{padding: 0;}#sk-container-id-1 div.sk-toggleable {background-color: white;}#sk-container-id-1 label.sk-toggleable__label {cursor: pointer;display: block;width: 100%;margin-bottom: 0;padding: 0.3em;box-sizing: border-box;text-align: center;}#sk-container-id-1 label.sk-toggleable__label-arrow:before {content: \"▸\";float: left;margin-right: 0.25em;color: #696969;}#sk-container-id-1 label.sk-toggleable__label-arrow:hover:before {color: black;}#sk-container-id-1 div.sk-estimator:hover label.sk-toggleable__label-arrow:before {color: black;}#sk-container-id-1 div.sk-toggleable__content {max-height: 0;max-width: 0;overflow: hidden;text-align: left;background-color: #f0f8ff;}#sk-container-id-1 div.sk-toggleable__content pre {margin: 0.2em;color: black;border-radius: 0.25em;background-color: #f0f8ff;}#sk-container-id-1 input.sk-toggleable__control:checked~div.sk-toggleable__content {max-height: 200px;max-width: 100%;overflow: auto;}#sk-container-id-1 input.sk-toggleable__control:checked~label.sk-toggleable__label-arrow:before {content: \"▾\";}#sk-container-id-1 div.sk-estimator input.sk-toggleable__control:checked~label.sk-toggleable__label {background-color: #d4ebff;}#sk-container-id-1 div.sk-label input.sk-toggleable__control:checked~label.sk-toggleable__label {background-color: #d4ebff;}#sk-container-id-1 input.sk-hidden--visually {border: 0;clip: rect(1px 1px 1px 1px);clip: rect(1px, 1px, 1px, 1px);height: 1px;margin: -1px;overflow: hidden;padding: 0;position: absolute;width: 1px;}#sk-container-id-1 div.sk-estimator {font-family: monospace;background-color: #f0f8ff;border: 1px dotted black;border-radius: 0.25em;box-sizing: border-box;margin-bottom: 0.5em;}#sk-container-id-1 div.sk-estimator:hover {background-color: #d4ebff;}#sk-container-id-1 div.sk-parallel-item::after {content: \"\";width: 100%;border-bottom: 1px solid gray;flex-grow: 1;}#sk-container-id-1 div.sk-label:hover label.sk-toggleable__label {background-color: #d4ebff;}#sk-container-id-1 div.sk-serial::before {content: \"\";position: absolute;border-left: 1px solid gray;box-sizing: border-box;top: 0;bottom: 0;left: 50%;z-index: 0;}#sk-container-id-1 div.sk-serial {display: flex;flex-direction: column;align-items: center;background-color: white;padding-right: 0.2em;padding-left: 0.2em;position: relative;}#sk-container-id-1 div.sk-item {position: relative;z-index: 1;}#sk-container-id-1 div.sk-parallel {display: flex;align-items: stretch;justify-content: center;background-color: white;position: relative;}#sk-container-id-1 div.sk-item::before, #sk-container-id-1 div.sk-parallel-item::before {content: \"\";position: absolute;border-left: 1px solid gray;box-sizing: border-box;top: 0;bottom: 0;left: 50%;z-index: -1;}#sk-container-id-1 div.sk-parallel-item {display: flex;flex-direction: column;z-index: 1;position: relative;background-color: white;}#sk-container-id-1 div.sk-parallel-item:first-child::after {align-self: flex-end;width: 50%;}#sk-container-id-1 div.sk-parallel-item:last-child::after {align-self: flex-start;width: 50%;}#sk-container-id-1 div.sk-parallel-item:only-child::after {width: 0;}#sk-container-id-1 div.sk-dashed-wrapped {border: 1px dashed gray;margin: 0 0.4em 0.5em 0.4em;box-sizing: border-box;padding-bottom: 0.4em;background-color: white;}#sk-container-id-1 div.sk-label label {font-family: monospace;font-weight: bold;display: inline-block;line-height: 1.2em;}#sk-container-id-1 div.sk-label-container {text-align: center;}#sk-container-id-1 div.sk-container {/* jupyter's `normalize.less` sets `[hidden] { display: none; }` but bootstrap.min.css set `[hidden] { display: none !important; }` so we also need the `!important` here to be able to override the default hidden behavior on the sphinx rendered scikit-learn.org. See: https://github.com/scikit-learn/scikit-learn/issues/21755 */display: inline-block !important;position: relative;}#sk-container-id-1 div.sk-text-repr-fallback {display: none;}</style><div id=\"sk-container-id-1\" class=\"sk-top-container\"><div class=\"sk-text-repr-fallback\"><pre>LinearRegression()</pre><b>In a Jupyter environment, please rerun this cell to show the HTML representation or trust the notebook. <br />On GitHub, the HTML representation is unable to render, please try loading this page with nbviewer.org.</b></div><div class=\"sk-container\" hidden><div class=\"sk-item\"><div class=\"sk-estimator sk-toggleable\"><input class=\"sk-toggleable__control sk-hidden--visually\" id=\"sk-estimator-id-1\" type=\"checkbox\" checked><label for=\"sk-estimator-id-1\" class=\"sk-toggleable__label sk-toggleable__label-arrow\">LinearRegression</label><div class=\"sk-toggleable__content\"><pre>LinearRegression()</pre></div></div></div></div></div>"
      ],
      "text/plain": [
       "LinearRegression()"
      ]
     },
     "execution_count": 56,
     "metadata": {},
     "output_type": "execute_result"
    }
   ],
   "source": [
    "from sklearn.linear_model import LinearRegression\n",
    "regressor = LinearRegression()\n",
    "regressor.fit(X_train_transformed, y_train)"
   ]
  },
  {
   "cell_type": "code",
   "execution_count": 57,
   "metadata": {
    "executionInfo": {
     "elapsed": 2,
     "status": "ok",
     "timestamp": 1682550572765,
     "user": {
      "displayName": "Sarfraz Hussain Mohammed",
      "userId": "04740348016143627760"
     },
     "user_tz": -330
    },
    "id": "oNA_WYr1fVXf"
   },
   "outputs": [],
   "source": [
    "y_test_pred = regressor.predict(X_test_transformed)"
   ]
  },
  {
   "cell_type": "code",
   "execution_count": 58,
   "metadata": {
    "colab": {
     "base_uri": "https://localhost:8080/",
     "height": 206
    },
    "executionInfo": {
     "elapsed": 564,
     "status": "ok",
     "timestamp": 1682550573843,
     "user": {
      "displayName": "Sarfraz Hussain Mohammed",
      "userId": "04740348016143627760"
     },
     "user_tz": -330
    },
    "id": "ANYsdvmm-u8e",
    "outputId": "8d443ca5-320f-4335-8636-9a55c6dd69f1"
   },
   "outputs": [
    {
     "data": {
      "text/html": [
       "<div>\n",
       "<style scoped>\n",
       "    .dataframe tbody tr th:only-of-type {\n",
       "        vertical-align: middle;\n",
       "    }\n",
       "\n",
       "    .dataframe tbody tr th {\n",
       "        vertical-align: top;\n",
       "    }\n",
       "\n",
       "    .dataframe thead th {\n",
       "        text-align: right;\n",
       "    }\n",
       "</style>\n",
       "<table border=\"1\" class=\"dataframe\">\n",
       "  <thead>\n",
       "    <tr style=\"text-align: right;\">\n",
       "      <th></th>\n",
       "      <th>Actual</th>\n",
       "      <th>Predicted</th>\n",
       "    </tr>\n",
       "  </thead>\n",
       "  <tbody>\n",
       "    <tr>\n",
       "      <th>584</th>\n",
       "      <td>85990.0</td>\n",
       "      <td>96404.756184</td>\n",
       "    </tr>\n",
       "    <tr>\n",
       "      <th>438</th>\n",
       "      <td>75990.0</td>\n",
       "      <td>84870.719284</td>\n",
       "    </tr>\n",
       "    <tr>\n",
       "      <th>413</th>\n",
       "      <td>50499.0</td>\n",
       "      <td>50006.270663</td>\n",
       "    </tr>\n",
       "    <tr>\n",
       "      <th>464</th>\n",
       "      <td>35590.0</td>\n",
       "      <td>35086.601881</td>\n",
       "    </tr>\n",
       "    <tr>\n",
       "      <th>286</th>\n",
       "      <td>135990.0</td>\n",
       "      <td>139948.306216</td>\n",
       "    </tr>\n",
       "  </tbody>\n",
       "</table>\n",
       "</div>"
      ],
      "text/plain": [
       "       Actual      Predicted\n",
       "584   85990.0   96404.756184\n",
       "438   75990.0   84870.719284\n",
       "413   50499.0   50006.270663\n",
       "464   35590.0   35086.601881\n",
       "286  135990.0  139948.306216"
      ]
     },
     "execution_count": 58,
     "metadata": {},
     "output_type": "execute_result"
    }
   ],
   "source": [
    "temp_df = pd.DataFrame({'Actual': y_test, 'Predicted': y_test_pred})\n",
    "\n",
    "temp_df.head()"
   ]
  },
  {
   "cell_type": "code",
   "execution_count": 59,
   "metadata": {
    "colab": {
     "base_uri": "https://localhost:8080/",
     "height": 206
    },
    "executionInfo": {
     "elapsed": 6,
     "status": "ok",
     "timestamp": 1682550583258,
     "user": {
      "displayName": "Sarfraz Hussain Mohammed",
      "userId": "04740348016143627760"
     },
     "user_tz": -330
    },
    "id": "64cMGtzEZfsi",
    "outputId": "3fc5e6e9-bfbc-41a2-c7fe-0c2e0375a9b3"
   },
   "outputs": [
    {
     "data": {
      "text/html": [
       "<div>\n",
       "<style scoped>\n",
       "    .dataframe tbody tr th:only-of-type {\n",
       "        vertical-align: middle;\n",
       "    }\n",
       "\n",
       "    .dataframe tbody tr th {\n",
       "        vertical-align: top;\n",
       "    }\n",
       "\n",
       "    .dataframe thead th {\n",
       "        text-align: right;\n",
       "    }\n",
       "</style>\n",
       "<table border=\"1\" class=\"dataframe\">\n",
       "  <thead>\n",
       "    <tr style=\"text-align: right;\">\n",
       "      <th></th>\n",
       "      <th>Actual</th>\n",
       "      <th>Predicted</th>\n",
       "    </tr>\n",
       "  </thead>\n",
       "  <tbody>\n",
       "    <tr>\n",
       "      <th>350</th>\n",
       "      <td>63990.0</td>\n",
       "      <td>52644.966129</td>\n",
       "    </tr>\n",
       "    <tr>\n",
       "      <th>621</th>\n",
       "      <td>345390.0</td>\n",
       "      <td>339783.095403</td>\n",
       "    </tr>\n",
       "    <tr>\n",
       "      <th>215</th>\n",
       "      <td>67990.0</td>\n",
       "      <td>84864.203613</td>\n",
       "    </tr>\n",
       "    <tr>\n",
       "      <th>234</th>\n",
       "      <td>40190.0</td>\n",
       "      <td>42351.508203</td>\n",
       "    </tr>\n",
       "    <tr>\n",
       "      <th>800</th>\n",
       "      <td>0.0</td>\n",
       "      <td>65744.132580</td>\n",
       "    </tr>\n",
       "  </tbody>\n",
       "</table>\n",
       "</div>"
      ],
      "text/plain": [
       "       Actual      Predicted\n",
       "350   63990.0   52644.966129\n",
       "621  345390.0  339783.095403\n",
       "215   67990.0   84864.203613\n",
       "234   40190.0   42351.508203\n",
       "800       0.0   65744.132580"
      ]
     },
     "execution_count": 59,
     "metadata": {},
     "output_type": "execute_result"
    }
   ],
   "source": [
    "temp_df.tail()"
   ]
  },
  {
   "cell_type": "code",
   "execution_count": 60,
   "metadata": {
    "executionInfo": {
     "elapsed": 411,
     "status": "ok",
     "timestamp": 1682550670944,
     "user": {
      "displayName": "Sarfraz Hussain Mohammed",
      "userId": "04740348016143627760"
     },
     "user_tz": -330
    },
    "id": "GGtpnc6sAiIr"
   },
   "outputs": [],
   "source": [
    "import seaborn as sns"
   ]
  },
  {
   "cell_type": "code",
   "execution_count": 61,
   "metadata": {
    "colab": {
     "base_uri": "https://localhost:8080/",
     "height": 466
    },
    "executionInfo": {
     "elapsed": 15,
     "status": "ok",
     "timestamp": 1682550671820,
     "user": {
      "displayName": "Sarfraz Hussain Mohammed",
      "userId": "04740348016143627760"
     },
     "user_tz": -330
    },
    "id": "0qq-at-EAdg_",
    "outputId": "628ce31e-43c7-41a5-9de1-edb7a0a3a57d"
   },
   "outputs": [
    {
     "data": {
      "text/plain": [
       "<AxesSubplot:xlabel='MRP', ylabel='Count'>"
      ]
     },
     "execution_count": 61,
     "metadata": {},
     "output_type": "execute_result"
    },
    {
     "data": {
      "image/png": "[encoded data removed]",
      "text/plain": [
       "<Figure size 432x288 with 1 Axes>"
      ]
     },
     "metadata": {
      "needs_background": "light"
     },
     "output_type": "display_data"
    }
   ],
   "source": [
    "sns.histplot(y_test, color='blue', alpha=0.5)\n",
    "sns.histplot(y_test_pred, color='red', alpha=0.5)"
   ]
  },
  {
   "cell_type": "code",
   "execution_count": 62,
   "metadata": {
    "executionInfo": {
     "elapsed": 425,
     "status": "ok",
     "timestamp": 1682550677978,
     "user": {
      "displayName": "Sarfraz Hussain Mohammed",
      "userId": "04740348016143627760"
     },
     "user_tz": -330
    },
    "id": "mRySZ7VUAwcg"
   },
   "outputs": [],
   "source": [
    "import numpy as np"
   ]
  },
  {
   "cell_type": "code",
   "execution_count": 63,
   "metadata": {
    "colab": {
     "base_uri": "https://localhost:8080/"
    },
    "executionInfo": {
     "elapsed": 11,
     "status": "ok",
     "timestamp": 1682550678671,
     "user": {
      "displayName": "Sarfraz Hussain Mohammed",
      "userId": "04740348016143627760"
     },
     "user_tz": -330
    },
    "id": "Le00T26ZAujj",
    "outputId": "ea2e2316-4685-43d0-a747-d15f215babe5"
   },
   "outputs": [
    {
     "name": "stdout",
     "output_type": "stream",
     "text": [
      "Mean Absolute Error:  9129.205526402822\n",
      "Mean Squared Error:  269282788.34724975\n",
      "Root Mean Squared Error:  16409.8381572534\n"
     ]
    }
   ],
   "source": [
    "from sklearn import metrics\n",
    "\n",
    "print('Mean Absolute Error: ', metrics.mean_absolute_error(y_test, y_test_pred))\n",
    "\n",
    "print('Mean Squared Error: ', metrics.mean_squared_error(y_test, y_test_pred))\n",
    "\n",
    "print('Root Mean Squared Error: ', np.sqrt(metrics.mean_squared_error(y_test, y_test_pred)))"
   ]
  },
  {
   "cell_type": "code",
   "execution_count": null,
   "metadata": {
    "executionInfo": {
     "elapsed": 419,
     "status": "ok",
     "timestamp": 1682549653857,
     "user": {
      "displayName": "Sarfraz Hussain Mohammed",
      "userId": "04740348016143627760"
     },
     "user_tz": -330
    },
    "id": "GeoWgUdYAdVZ"
   },
   "outputs": [],
   "source": []
  },
  {
   "cell_type": "code",
   "execution_count": null,
   "metadata": {
    "executionInfo": {
     "elapsed": 2,
     "status": "ok",
     "timestamp": 1682549655480,
     "user": {
      "displayName": "Sarfraz Hussain Mohammed",
      "userId": "04740348016143627760"
     },
     "user_tz": -330
    },
    "id": "1VIb4seSAdIa"
   },
   "outputs": [],
   "source": []
  },
  {
   "cell_type": "code",
   "execution_count": null,
   "metadata": {
    "executionInfo": {
     "elapsed": 10,
     "status": "ok",
     "timestamp": 1682549657264,
     "user": {
      "displayName": "Sarfraz Hussain Mohammed",
      "userId": "04740348016143627760"
     },
     "user_tz": -330
    },
    "id": "k5oe_zWp8zrn"
   },
   "outputs": [],
   "source": []
  },
  {
   "cell_type": "code",
   "execution_count": null,
   "metadata": {
    "executionInfo": {
     "elapsed": 6,
     "status": "ok",
     "timestamp": 1682543356105,
     "user": {
      "displayName": "Sarfraz Hussain Mohammed",
      "userId": "04740348016143627760"
     },
     "user_tz": -330
    },
    "id": "rfKH_YWp9BYg"
   },
   "outputs": [],
   "source": []
  },
  {
   "cell_type": "markdown",
   "metadata": {
    "id": "gi2Y1I8qFelz"
   },
   "source": [
    "KNN Regression"
   ]
  },
  {
   "cell_type": "code",
   "execution_count": 64,
   "metadata": {
    "colab": {
     "base_uri": "https://localhost:8080/",
     "height": 74
    },
    "executionInfo": {
     "elapsed": 426,
     "status": "ok",
     "timestamp": 1682550682611,
     "user": {
      "displayName": "Sarfraz Hussain Mohammed",
      "userId": "04740348016143627760"
     },
     "user_tz": -330
    },
    "id": "_Uh0OEsuFhbF",
    "outputId": "a0d39515-3db9-4b38-bb9a-2b5a95df4c41"
   },
   "outputs": [
    {
     "data": {
      "text/html": [
       "<style>#sk-container-id-2 {color: black;background-color: white;}#sk-container-id-2 pre{padding: 0;}#sk-container-id-2 div.sk-toggleable {background-color: white;}#sk-container-id-2 label.sk-toggleable__label {cursor: pointer;display: block;width: 100%;margin-bottom: 0;padding: 0.3em;box-sizing: border-box;text-align: center;}#sk-container-id-2 label.sk-toggleable__label-arrow:before {content: \"▸\";float: left;margin-right: 0.25em;color: #696969;}#sk-container-id-2 label.sk-toggleable__label-arrow:hover:before {color: black;}#sk-container-id-2 div.sk-estimator:hover label.sk-toggleable__label-arrow:before {color: black;}#sk-container-id-2 div.sk-toggleable__content {max-height: 0;max-width: 0;overflow: hidden;text-align: left;background-color: #f0f8ff;}#sk-container-id-2 div.sk-toggleable__content pre {margin: 0.2em;color: black;border-radius: 0.25em;background-color: #f0f8ff;}#sk-container-id-2 input.sk-toggleable__control:checked~div.sk-toggleable__content {max-height: 200px;max-width: 100%;overflow: auto;}#sk-container-id-2 input.sk-toggleable__control:checked~label.sk-toggleable__label-arrow:before {content: \"▾\";}#sk-container-id-2 div.sk-estimator input.sk-toggleable__control:checked~label.sk-toggleable__label {background-color: #d4ebff;}#sk-container-id-2 div.sk-label input.sk-toggleable__control:checked~label.sk-toggleable__label {background-color: #d4ebff;}#sk-container-id-2 input.sk-hidden--visually {border: 0;clip: rect(1px 1px 1px 1px);clip: rect(1px, 1px, 1px, 1px);height: 1px;margin: -1px;overflow: hidden;padding: 0;position: absolute;width: 1px;}#sk-container-id-2 div.sk-estimator {font-family: monospace;background-color: #f0f8ff;border: 1px dotted black;border-radius: 0.25em;box-sizing: border-box;margin-bottom: 0.5em;}#sk-container-id-2 div.sk-estimator:hover {background-color: #d4ebff;}#sk-container-id-2 div.sk-parallel-item::after {content: \"\";width: 100%;border-bottom: 1px solid gray;flex-grow: 1;}#sk-container-id-2 div.sk-label:hover label.sk-toggleable__label {background-color: #d4ebff;}#sk-container-id-2 div.sk-serial::before {content: \"\";position: absolute;border-left: 1px solid gray;box-sizing: border-box;top: 0;bottom: 0;left: 50%;z-index: 0;}#sk-container-id-2 div.sk-serial {display: flex;flex-direction: column;align-items: center;background-color: white;padding-right: 0.2em;padding-left: 0.2em;position: relative;}#sk-container-id-2 div.sk-item {position: relative;z-index: 1;}#sk-container-id-2 div.sk-parallel {display: flex;align-items: stretch;justify-content: center;background-color: white;position: relative;}#sk-container-id-2 div.sk-item::before, #sk-container-id-2 div.sk-parallel-item::before {content: \"\";position: absolute;border-left: 1px solid gray;box-sizing: border-box;top: 0;bottom: 0;left: 50%;z-index: -1;}#sk-container-id-2 div.sk-parallel-item {display: flex;flex-direction: column;z-index: 1;position: relative;background-color: white;}#sk-container-id-2 div.sk-parallel-item:first-child::after {align-self: flex-end;width: 50%;}#sk-container-id-2 div.sk-parallel-item:last-child::after {align-self: flex-start;width: 50%;}#sk-container-id-2 div.sk-parallel-item:only-child::after {width: 0;}#sk-container-id-2 div.sk-dashed-wrapped {border: 1px dashed gray;margin: 0 0.4em 0.5em 0.4em;box-sizing: border-box;padding-bottom: 0.4em;background-color: white;}#sk-container-id-2 div.sk-label label {font-family: monospace;font-weight: bold;display: inline-block;line-height: 1.2em;}#sk-container-id-2 div.sk-label-container {text-align: center;}#sk-container-id-2 div.sk-container {/* jupyter's `normalize.less` sets `[hidden] { display: none; }` but bootstrap.min.css set `[hidden] { display: none !important; }` so we also need the `!important` here to be able to override the default hidden behavior on the sphinx rendered scikit-learn.org. See: https://github.com/scikit-learn/scikit-learn/issues/21755 */display: inline-block !important;position: relative;}#sk-container-id-2 div.sk-text-repr-fallback {display: none;}</style><div id=\"sk-container-id-2\" class=\"sk-top-container\"><div class=\"sk-text-repr-fallback\"><pre>KNeighborsRegressor()</pre><b>In a Jupyter environment, please rerun this cell to show the HTML representation or trust the notebook. <br />On GitHub, the HTML representation is unable to render, please try loading this page with nbviewer.org.</b></div><div class=\"sk-container\" hidden><div class=\"sk-item\"><div class=\"sk-estimator sk-toggleable\"><input class=\"sk-toggleable__control sk-hidden--visually\" id=\"sk-estimator-id-2\" type=\"checkbox\" checked><label for=\"sk-estimator-id-2\" class=\"sk-toggleable__label sk-toggleable__label-arrow\">KNeighborsRegressor</label><div class=\"sk-toggleable__content\"><pre>KNeighborsRegressor()</pre></div></div></div></div></div>"
      ],
      "text/plain": [
       "KNeighborsRegressor()"
      ]
     },
     "execution_count": 64,
     "metadata": {},
     "output_type": "execute_result"
    }
   ],
   "source": [
    "from sklearn.neighbors import KNeighborsRegressor\n",
    "regressor = KNeighborsRegressor()\n",
    "regressor.fit(X_train_transformed, y_train)"
   ]
  },
  {
   "cell_type": "code",
   "execution_count": 65,
   "metadata": {
    "executionInfo": {
     "elapsed": 3,
     "status": "ok",
     "timestamp": 1682550683253,
     "user": {
      "displayName": "Sarfraz Hussain Mohammed",
      "userId": "04740348016143627760"
     },
     "user_tz": -330
    },
    "id": "OEi2PhwWFjDz"
   },
   "outputs": [],
   "source": [
    "y_test_pred = regressor.predict(X_test_transformed)"
   ]
  },
  {
   "cell_type": "code",
   "execution_count": 66,
   "metadata": {
    "colab": {
     "base_uri": "https://localhost:8080/",
     "height": 206
    },
    "executionInfo": {
     "elapsed": 13,
     "status": "ok",
     "timestamp": 1682550684774,
     "user": {
      "displayName": "Sarfraz Hussain Mohammed",
      "userId": "04740348016143627760"
     },
     "user_tz": -330
    },
    "id": "R7of87u0FlMQ",
    "outputId": "ec74d22e-bb4d-49c2-f552-7ab5073ff0eb"
   },
   "outputs": [
    {
     "data": {
      "text/html": [
       "<div>\n",
       "<style scoped>\n",
       "    .dataframe tbody tr th:only-of-type {\n",
       "        vertical-align: middle;\n",
       "    }\n",
       "\n",
       "    .dataframe tbody tr th {\n",
       "        vertical-align: top;\n",
       "    }\n",
       "\n",
       "    .dataframe thead th {\n",
       "        text-align: right;\n",
       "    }\n",
       "</style>\n",
       "<table border=\"1\" class=\"dataframe\">\n",
       "  <thead>\n",
       "    <tr style=\"text-align: right;\">\n",
       "      <th></th>\n",
       "      <th>Actual</th>\n",
       "      <th>Predicted</th>\n",
       "    </tr>\n",
       "  </thead>\n",
       "  <tbody>\n",
       "    <tr>\n",
       "      <th>584</th>\n",
       "      <td>85990.0</td>\n",
       "      <td>85990.0</td>\n",
       "    </tr>\n",
       "    <tr>\n",
       "      <th>438</th>\n",
       "      <td>75990.0</td>\n",
       "      <td>72797.0</td>\n",
       "    </tr>\n",
       "    <tr>\n",
       "      <th>413</th>\n",
       "      <td>50499.0</td>\n",
       "      <td>52433.8</td>\n",
       "    </tr>\n",
       "    <tr>\n",
       "      <th>464</th>\n",
       "      <td>35590.0</td>\n",
       "      <td>35590.0</td>\n",
       "    </tr>\n",
       "    <tr>\n",
       "      <th>286</th>\n",
       "      <td>135990.0</td>\n",
       "      <td>111590.0</td>\n",
       "    </tr>\n",
       "  </tbody>\n",
       "</table>\n",
       "</div>"
      ],
      "text/plain": [
       "       Actual  Predicted\n",
       "584   85990.0    85990.0\n",
       "438   75990.0    72797.0\n",
       "413   50499.0    52433.8\n",
       "464   35590.0    35590.0\n",
       "286  135990.0   111590.0"
      ]
     },
     "execution_count": 66,
     "metadata": {},
     "output_type": "execute_result"
    }
   ],
   "source": [
    "temp_df = pd.DataFrame({'Actual': y_test, 'Predicted': y_test_pred})\n",
    "\n",
    "temp_df.head()"
   ]
  },
  {
   "cell_type": "code",
   "execution_count": 67,
   "metadata": {
    "colab": {
     "base_uri": "https://localhost:8080/",
     "height": 206
    },
    "executionInfo": {
     "elapsed": 369,
     "status": "ok",
     "timestamp": 1682550691086,
     "user": {
      "displayName": "Sarfraz Hussain Mohammed",
      "userId": "04740348016143627760"
     },
     "user_tz": -330
    },
    "id": "oVNZjY6JZQEj",
    "outputId": "de1af3dc-2c61-41b1-93e6-1cfcc527d2e1"
   },
   "outputs": [
    {
     "data": {
      "text/html": [
       "<div>\n",
       "<style scoped>\n",
       "    .dataframe tbody tr th:only-of-type {\n",
       "        vertical-align: middle;\n",
       "    }\n",
       "\n",
       "    .dataframe tbody tr th {\n",
       "        vertical-align: top;\n",
       "    }\n",
       "\n",
       "    .dataframe thead th {\n",
       "        text-align: right;\n",
       "    }\n",
       "</style>\n",
       "<table border=\"1\" class=\"dataframe\">\n",
       "  <thead>\n",
       "    <tr style=\"text-align: right;\">\n",
       "      <th></th>\n",
       "      <th>Actual</th>\n",
       "      <th>Predicted</th>\n",
       "    </tr>\n",
       "  </thead>\n",
       "  <tbody>\n",
       "    <tr>\n",
       "      <th>350</th>\n",
       "      <td>63990.0</td>\n",
       "      <td>51590.0</td>\n",
       "    </tr>\n",
       "    <tr>\n",
       "      <th>621</th>\n",
       "      <td>345390.0</td>\n",
       "      <td>251790.0</td>\n",
       "    </tr>\n",
       "    <tr>\n",
       "      <th>215</th>\n",
       "      <td>67990.0</td>\n",
       "      <td>76608.2</td>\n",
       "    </tr>\n",
       "    <tr>\n",
       "      <th>234</th>\n",
       "      <td>40190.0</td>\n",
       "      <td>38449.4</td>\n",
       "    </tr>\n",
       "    <tr>\n",
       "      <th>800</th>\n",
       "      <td>0.0</td>\n",
       "      <td>52589.2</td>\n",
       "    </tr>\n",
       "  </tbody>\n",
       "</table>\n",
       "</div>"
      ],
      "text/plain": [
       "       Actual  Predicted\n",
       "350   63990.0    51590.0\n",
       "621  345390.0   251790.0\n",
       "215   67990.0    76608.2\n",
       "234   40190.0    38449.4\n",
       "800       0.0    52589.2"
      ]
     },
     "execution_count": 67,
     "metadata": {},
     "output_type": "execute_result"
    }
   ],
   "source": [
    "temp_df.tail()"
   ]
  },
  {
   "cell_type": "code",
   "execution_count": 68,
   "metadata": {
    "colab": {
     "base_uri": "https://localhost:8080/",
     "height": 466
    },
    "executionInfo": {
     "elapsed": 425,
     "status": "ok",
     "timestamp": 1682550693642,
     "user": {
      "displayName": "Sarfraz Hussain Mohammed",
      "userId": "04740348016143627760"
     },
     "user_tz": -330
    },
    "id": "-qt2GwCcFns9",
    "outputId": "3d7c0d88-e2ee-4e7b-efe9-b2d0d8e3910a"
   },
   "outputs": [
    {
     "data": {
      "text/plain": [
       "<AxesSubplot:xlabel='MRP', ylabel='Count'>"
      ]
     },
     "execution_count": 68,
     "metadata": {},
     "output_type": "execute_result"
    },
    {
     "data": {
      "image/png": "[encoded data removed]",
      "text/plain": [
       "<Figure size 432x288 with 1 Axes>"
      ]
     },
     "metadata": {
      "needs_background": "light"
     },
     "output_type": "display_data"
    }
   ],
   "source": [
    "sns.histplot(y_test, color='blue', alpha=0.5)\n",
    "sns.histplot(y_test_pred, color='red', alpha=0.5)"
   ]
  },
  {
   "cell_type": "code",
   "execution_count": 69,
   "metadata": {
    "colab": {
     "base_uri": "https://localhost:8080/"
    },
    "executionInfo": {
     "elapsed": 405,
     "status": "ok",
     "timestamp": 1682550705519,
     "user": {
      "displayName": "Sarfraz Hussain Mohammed",
      "userId": "04740348016143627760"
     },
     "user_tz": -330
    },
    "id": "daXvDqnCFroL",
    "outputId": "677b2740-ed96-4ae0-a1c8-a95e88cc8c33"
   },
   "outputs": [
    {
     "name": "stdout",
     "output_type": "stream",
     "text": [
      "Mean Absolute Error:  9980.830697674417\n",
      "Mean Squared Error:  410348961.18009305\n",
      "Root Mean Squared Error:  20257.071880706084\n"
     ]
    }
   ],
   "source": [
    "print('Mean Absolute Error: ', metrics.mean_absolute_error(y_test, y_test_pred))\n",
    "\n",
    "print('Mean Squared Error: ', metrics.mean_squared_error(y_test, y_test_pred))\n",
    "\n",
    "print('Root Mean Squared Error: ', np.sqrt(metrics.mean_squared_error(y_test, y_test_pred)))"
   ]
  },
  {
   "cell_type": "code",
   "execution_count": null,
   "metadata": {
    "executionInfo": {
     "elapsed": 348,
     "status": "ok",
     "timestamp": 1682550707941,
     "user": {
      "displayName": "Sarfraz Hussain Mohammed",
      "userId": "04740348016143627760"
     },
     "user_tz": -330
    },
    "id": "6q-QYUtnFuh3"
   },
   "outputs": [],
   "source": []
  },
  {
   "cell_type": "markdown",
   "metadata": {
    "id": "7Kt4V8YhFx04"
   },
   "source": [
    "Decision Tree Regression"
   ]
  },
  {
   "cell_type": "code",
   "execution_count": 70,
   "metadata": {
    "colab": {
     "base_uri": "https://localhost:8080/",
     "height": 74
    },
    "executionInfo": {
     "elapsed": 7,
     "status": "ok",
     "timestamp": 1682550709501,
     "user": {
      "displayName": "Sarfraz Hussain Mohammed",
      "userId": "04740348016143627760"
     },
     "user_tz": -330
    },
    "id": "degzyoyFFxjJ",
    "outputId": "a1036772-82b4-44d7-d003-14ae3a950293"
   },
   "outputs": [
    {
     "data": {
      "text/html": [
       "<style>#sk-container-id-3 {color: black;background-color: white;}#sk-container-id-3 pre{padding: 0;}#sk-container-id-3 div.sk-toggleable {background-color: white;}#sk-container-id-3 label.sk-toggleable__label {cursor: pointer;display: block;width: 100%;margin-bottom: 0;padding: 0.3em;box-sizing: border-box;text-align: center;}#sk-container-id-3 label.sk-toggleable__label-arrow:before {content: \"▸\";float: left;margin-right: 0.25em;color: #696969;}#sk-container-id-3 label.sk-toggleable__label-arrow:hover:before {color: black;}#sk-container-id-3 div.sk-estimator:hover label.sk-toggleable__label-arrow:before {color: black;}#sk-container-id-3 div.sk-toggleable__content {max-height: 0;max-width: 0;overflow: hidden;text-align: left;background-color: #f0f8ff;}#sk-container-id-3 div.sk-toggleable__content pre {margin: 0.2em;color: black;border-radius: 0.25em;background-color: #f0f8ff;}#sk-container-id-3 input.sk-toggleable__control:checked~div.sk-toggleable__content {max-height: 200px;max-width: 100%;overflow: auto;}#sk-container-id-3 input.sk-toggleable__control:checked~label.sk-toggleable__label-arrow:before {content: \"▾\";}#sk-container-id-3 div.sk-estimator input.sk-toggleable__control:checked~label.sk-toggleable__label {background-color: #d4ebff;}#sk-container-id-3 div.sk-label input.sk-toggleable__control:checked~label.sk-toggleable__label {background-color: #d4ebff;}#sk-container-id-3 input.sk-hidden--visually {border: 0;clip: rect(1px 1px 1px 1px);clip: rect(1px, 1px, 1px, 1px);height: 1px;margin: -1px;overflow: hidden;padding: 0;position: absolute;width: 1px;}#sk-container-id-3 div.sk-estimator {font-family: monospace;background-color: #f0f8ff;border: 1px dotted black;border-radius: 0.25em;box-sizing: border-box;margin-bottom: 0.5em;}#sk-container-id-3 div.sk-estimator:hover {background-color: #d4ebff;}#sk-container-id-3 div.sk-parallel-item::after {content: \"\";width: 100%;border-bottom: 1px solid gray;flex-grow: 1;}#sk-container-id-3 div.sk-label:hover label.sk-toggleable__label {background-color: #d4ebff;}#sk-container-id-3 div.sk-serial::before {content: \"\";position: absolute;border-left: 1px solid gray;box-sizing: border-box;top: 0;bottom: 0;left: 50%;z-index: 0;}#sk-container-id-3 div.sk-serial {display: flex;flex-direction: column;align-items: center;background-color: white;padding-right: 0.2em;padding-left: 0.2em;position: relative;}#sk-container-id-3 div.sk-item {position: relative;z-index: 1;}#sk-container-id-3 div.sk-parallel {display: flex;align-items: stretch;justify-content: center;background-color: white;position: relative;}#sk-container-id-3 div.sk-item::before, #sk-container-id-3 div.sk-parallel-item::before {content: \"\";position: absolute;border-left: 1px solid gray;box-sizing: border-box;top: 0;bottom: 0;left: 50%;z-index: -1;}#sk-container-id-3 div.sk-parallel-item {display: flex;flex-direction: column;z-index: 1;position: relative;background-color: white;}#sk-container-id-3 div.sk-parallel-item:first-child::after {align-self: flex-end;width: 50%;}#sk-container-id-3 div.sk-parallel-item:last-child::after {align-self: flex-start;width: 50%;}#sk-container-id-3 div.sk-parallel-item:only-child::after {width: 0;}#sk-container-id-3 div.sk-dashed-wrapped {border: 1px dashed gray;margin: 0 0.4em 0.5em 0.4em;box-sizing: border-box;padding-bottom: 0.4em;background-color: white;}#sk-container-id-3 div.sk-label label {font-family: monospace;font-weight: bold;display: inline-block;line-height: 1.2em;}#sk-container-id-3 div.sk-label-container {text-align: center;}#sk-container-id-3 div.sk-container {/* jupyter's `normalize.less` sets `[hidden] { display: none; }` but bootstrap.min.css set `[hidden] { display: none !important; }` so we also need the `!important` here to be able to override the default hidden behavior on the sphinx rendered scikit-learn.org. See: https://github.com/scikit-learn/scikit-learn/issues/21755 */display: inline-block !important;position: relative;}#sk-container-id-3 div.sk-text-repr-fallback {display: none;}</style><div id=\"sk-container-id-3\" class=\"sk-top-container\"><div class=\"sk-text-repr-fallback\"><pre>DecisionTreeRegressor()</pre><b>In a Jupyter environment, please rerun this cell to show the HTML representation or trust the notebook. <br />On GitHub, the HTML representation is unable to render, please try loading this page with nbviewer.org.</b></div><div class=\"sk-container\" hidden><div class=\"sk-item\"><div class=\"sk-estimator sk-toggleable\"><input class=\"sk-toggleable__control sk-hidden--visually\" id=\"sk-estimator-id-3\" type=\"checkbox\" checked><label for=\"sk-estimator-id-3\" class=\"sk-toggleable__label sk-toggleable__label-arrow\">DecisionTreeRegressor</label><div class=\"sk-toggleable__content\"><pre>DecisionTreeRegressor()</pre></div></div></div></div></div>"
      ],
      "text/plain": [
       "DecisionTreeRegressor()"
      ]
     },
     "execution_count": 70,
     "metadata": {},
     "output_type": "execute_result"
    }
   ],
   "source": [
    "from sklearn.tree import DecisionTreeRegressor\n",
    "regressor = DecisionTreeRegressor()\n",
    "regressor.fit(X_train_transformed, y_train)"
   ]
  },
  {
   "cell_type": "code",
   "execution_count": 71,
   "metadata": {
    "executionInfo": {
     "elapsed": 529,
     "status": "ok",
     "timestamp": 1682550710536,
     "user": {
      "displayName": "Sarfraz Hussain Mohammed",
      "userId": "04740348016143627760"
     },
     "user_tz": -330
    },
    "id": "Xtu8UhzLFyor"
   },
   "outputs": [],
   "source": [
    "y_test_pred = regressor.predict(X_test_transformed)"
   ]
  },
  {
   "cell_type": "code",
   "execution_count": 72,
   "metadata": {
    "colab": {
     "base_uri": "https://localhost:8080/",
     "height": 206
    },
    "executionInfo": {
     "elapsed": 418,
     "status": "ok",
     "timestamp": 1682550729331,
     "user": {
      "displayName": "Sarfraz Hussain Mohammed",
      "userId": "04740348016143627760"
     },
     "user_tz": -330
    },
    "id": "U-rbH6-iF4e3",
    "outputId": "2e39e2d9-7c34-432e-e372-c24c79f760fb"
   },
   "outputs": [
    {
     "data": {
      "text/html": [
       "<div>\n",
       "<style scoped>\n",
       "    .dataframe tbody tr th:only-of-type {\n",
       "        vertical-align: middle;\n",
       "    }\n",
       "\n",
       "    .dataframe tbody tr th {\n",
       "        vertical-align: top;\n",
       "    }\n",
       "\n",
       "    .dataframe thead th {\n",
       "        text-align: right;\n",
       "    }\n",
       "</style>\n",
       "<table border=\"1\" class=\"dataframe\">\n",
       "  <thead>\n",
       "    <tr style=\"text-align: right;\">\n",
       "      <th></th>\n",
       "      <th>Actual</th>\n",
       "      <th>Predicted</th>\n",
       "    </tr>\n",
       "  </thead>\n",
       "  <tbody>\n",
       "    <tr>\n",
       "      <th>350</th>\n",
       "      <td>63990.0</td>\n",
       "      <td>79990.000000</td>\n",
       "    </tr>\n",
       "    <tr>\n",
       "      <th>621</th>\n",
       "      <td>345390.0</td>\n",
       "      <td>224990.000000</td>\n",
       "    </tr>\n",
       "    <tr>\n",
       "      <th>215</th>\n",
       "      <td>67990.0</td>\n",
       "      <td>72656.666667</td>\n",
       "    </tr>\n",
       "    <tr>\n",
       "      <th>234</th>\n",
       "      <td>40190.0</td>\n",
       "      <td>41600.000000</td>\n",
       "    </tr>\n",
       "    <tr>\n",
       "      <th>800</th>\n",
       "      <td>0.0</td>\n",
       "      <td>52589.200000</td>\n",
       "    </tr>\n",
       "  </tbody>\n",
       "</table>\n",
       "</div>"
      ],
      "text/plain": [
       "       Actual      Predicted\n",
       "350   63990.0   79990.000000\n",
       "621  345390.0  224990.000000\n",
       "215   67990.0   72656.666667\n",
       "234   40190.0   41600.000000\n",
       "800       0.0   52589.200000"
      ]
     },
     "execution_count": 72,
     "metadata": {},
     "output_type": "execute_result"
    }
   ],
   "source": [
    "temp_df = pd.DataFrame({'Actual': y_test, 'Predicted': y_test_pred})\n",
    "\n",
    "temp_df.tail()"
   ]
  },
  {
   "cell_type": "code",
   "execution_count": 73,
   "metadata": {
    "colab": {
     "base_uri": "https://localhost:8080/"
    },
    "executionInfo": {
     "elapsed": 389,
     "status": "ok",
     "timestamp": 1682550743547,
     "user": {
      "displayName": "Sarfraz Hussain Mohammed",
      "userId": "04740348016143627760"
     },
     "user_tz": -330
    },
    "id": "dmGpK3uKF8Eg",
    "outputId": "1f6b17f9-7fc5-4475-951d-b0069c1f567c"
   },
   "outputs": [
    {
     "name": "stdout",
     "output_type": "stream",
     "text": [
      "Mean Absolute Error:  8438.889090909091\n",
      "Mean Squared Error:  344956849.1635426\n",
      "Root Mean Squared Error:  18573.014003212906\n"
     ]
    }
   ],
   "source": [
    "print('Mean Absolute Error: ', metrics.mean_absolute_error(y_test, y_test_pred))\n",
    "\n",
    "print('Mean Squared Error: ', metrics.mean_squared_error(y_test, y_test_pred))\n",
    "\n",
    "print('Root Mean Squared Error: ', np.sqrt(metrics.mean_squared_error(y_test, y_test_pred)))"
   ]
  },
  {
   "cell_type": "code",
   "execution_count": 74,
   "metadata": {
    "colab": {
     "base_uri": "https://localhost:8080/",
     "height": 466
    },
    "executionInfo": {
     "elapsed": 1139,
     "status": "ok",
     "timestamp": 1682550747902,
     "user": {
      "displayName": "Sarfraz Hussain Mohammed",
      "userId": "04740348016143627760"
     },
     "user_tz": -330
    },
    "id": "1oyUqPAAGAgv",
    "outputId": "938fc7a4-5c3d-4c59-def7-2094c7ae583a"
   },
   "outputs": [
    {
     "data": {
      "text/plain": [
       "<AxesSubplot:xlabel='MRP', ylabel='Count'>"
      ]
     },
     "execution_count": 74,
     "metadata": {},
     "output_type": "execute_result"
    },
    {
     "data": {
      "image/png": "[encoded data removed]",
      "text/plain": [
       "<Figure size 432x288 with 1 Axes>"
      ]
     },
     "metadata": {
      "needs_background": "light"
     },
     "output_type": "display_data"
    }
   ],
   "source": [
    "sns.histplot(y_test, color='blue', alpha=0.5)\n",
    "sns.histplot(y_test_pred, color='red', alpha=0.5)"
   ]
  },
  {
   "cell_type": "code",
   "execution_count": null,
   "metadata": {
    "executionInfo": {
     "elapsed": 1,
     "status": "ok",
     "timestamp": 1682544004971,
     "user": {
      "displayName": "Sarfraz Hussain Mohammed",
      "userId": "04740348016143627760"
     },
     "user_tz": -330
    },
    "id": "Gw3MCfqMGFxI"
   },
   "outputs": [],
   "source": []
  },
  {
   "cell_type": "markdown",
   "metadata": {
    "id": "OPpuyoJDGHjV"
   },
   "source": [
    "Random Forest Regression"
   ]
  },
  {
   "cell_type": "code",
   "execution_count": 75,
   "metadata": {
    "colab": {
     "base_uri": "https://localhost:8080/",
     "height": 74
    },
    "executionInfo": {
     "elapsed": 516,
     "status": "ok",
     "timestamp": 1682550756900,
     "user": {
      "displayName": "Sarfraz Hussain Mohammed",
      "userId": "04740348016143627760"
     },
     "user_tz": -330
    },
    "id": "hYVgLkBeGLho",
    "outputId": "bf6d58aa-1425-4e4b-e938-f76ccf87d6b2"
   },
   "outputs": [
    {
     "data": {
      "text/html": [
       "<style>#sk-container-id-4 {color: black;background-color: white;}#sk-container-id-4 pre{padding: 0;}#sk-container-id-4 div.sk-toggleable {background-color: white;}#sk-container-id-4 label.sk-toggleable__label {cursor: pointer;display: block;width: 100%;margin-bottom: 0;padding: 0.3em;box-sizing: border-box;text-align: center;}#sk-container-id-4 label.sk-toggleable__label-arrow:before {content: \"▸\";float: left;margin-right: 0.25em;color: #696969;}#sk-container-id-4 label.sk-toggleable__label-arrow:hover:before {color: black;}#sk-container-id-4 div.sk-estimator:hover label.sk-toggleable__label-arrow:before {color: black;}#sk-container-id-4 div.sk-toggleable__content {max-height: 0;max-width: 0;overflow: hidden;text-align: left;background-color: #f0f8ff;}#sk-container-id-4 div.sk-toggleable__content pre {margin: 0.2em;color: black;border-radius: 0.25em;background-color: #f0f8ff;}#sk-container-id-4 input.sk-toggleable__control:checked~div.sk-toggleable__content {max-height: 200px;max-width: 100%;overflow: auto;}#sk-container-id-4 input.sk-toggleable__control:checked~label.sk-toggleable__label-arrow:before {content: \"▾\";}#sk-container-id-4 div.sk-estimator input.sk-toggleable__control:checked~label.sk-toggleable__label {background-color: #d4ebff;}#sk-container-id-4 div.sk-label input.sk-toggleable__control:checked~label.sk-toggleable__label {background-color: #d4ebff;}#sk-container-id-4 input.sk-hidden--visually {border: 0;clip: rect(1px 1px 1px 1px);clip: rect(1px, 1px, 1px, 1px);height: 1px;margin: -1px;overflow: hidden;padding: 0;position: absolute;width: 1px;}#sk-container-id-4 div.sk-estimator {font-family: monospace;background-color: #f0f8ff;border: 1px dotted black;border-radius: 0.25em;box-sizing: border-box;margin-bottom: 0.5em;}#sk-container-id-4 div.sk-estimator:hover {background-color: #d4ebff;}#sk-container-id-4 div.sk-parallel-item::after {content: \"\";width: 100%;border-bottom: 1px solid gray;flex-grow: 1;}#sk-container-id-4 div.sk-label:hover label.sk-toggleable__label {background-color: #d4ebff;}#sk-container-id-4 div.sk-serial::before {content: \"\";position: absolute;border-left: 1px solid gray;box-sizing: border-box;top: 0;bottom: 0;left: 50%;z-index: 0;}#sk-container-id-4 div.sk-serial {display: flex;flex-direction: column;align-items: center;background-color: white;padding-right: 0.2em;padding-left: 0.2em;position: relative;}#sk-container-id-4 div.sk-item {position: relative;z-index: 1;}#sk-container-id-4 div.sk-parallel {display: flex;align-items: stretch;justify-content: center;background-color: white;position: relative;}#sk-container-id-4 div.sk-item::before, #sk-container-id-4 div.sk-parallel-item::before {content: \"\";position: absolute;border-left: 1px solid gray;box-sizing: border-box;top: 0;bottom: 0;left: 50%;z-index: -1;}#sk-container-id-4 div.sk-parallel-item {display: flex;flex-direction: column;z-index: 1;position: relative;background-color: white;}#sk-container-id-4 div.sk-parallel-item:first-child::after {align-self: flex-end;width: 50%;}#sk-container-id-4 div.sk-parallel-item:last-child::after {align-self: flex-start;width: 50%;}#sk-container-id-4 div.sk-parallel-item:only-child::after {width: 0;}#sk-container-id-4 div.sk-dashed-wrapped {border: 1px dashed gray;margin: 0 0.4em 0.5em 0.4em;box-sizing: border-box;padding-bottom: 0.4em;background-color: white;}#sk-container-id-4 div.sk-label label {font-family: monospace;font-weight: bold;display: inline-block;line-height: 1.2em;}#sk-container-id-4 div.sk-label-container {text-align: center;}#sk-container-id-4 div.sk-container {/* jupyter's `normalize.less` sets `[hidden] { display: none; }` but bootstrap.min.css set `[hidden] { display: none !important; }` so we also need the `!important` here to be able to override the default hidden behavior on the sphinx rendered scikit-learn.org. See: https://github.com/scikit-learn/scikit-learn/issues/21755 */display: inline-block !important;position: relative;}#sk-container-id-4 div.sk-text-repr-fallback {display: none;}</style><div id=\"sk-container-id-4\" class=\"sk-top-container\"><div class=\"sk-text-repr-fallback\"><pre>RandomForestRegressor()</pre><b>In a Jupyter environment, please rerun this cell to show the HTML representation or trust the notebook. <br />On GitHub, the HTML representation is unable to render, please try loading this page with nbviewer.org.</b></div><div class=\"sk-container\" hidden><div class=\"sk-item\"><div class=\"sk-estimator sk-toggleable\"><input class=\"sk-toggleable__control sk-hidden--visually\" id=\"sk-estimator-id-4\" type=\"checkbox\" checked><label for=\"sk-estimator-id-4\" class=\"sk-toggleable__label sk-toggleable__label-arrow\">RandomForestRegressor</label><div class=\"sk-toggleable__content\"><pre>RandomForestRegressor()</pre></div></div></div></div></div>"
      ],
      "text/plain": [
       "RandomForestRegressor()"
      ]
     },
     "execution_count": 75,
     "metadata": {},
     "output_type": "execute_result"
    }
   ],
   "source": [
    "from sklearn.ensemble import RandomForestRegressor\n",
    "regressor = RandomForestRegressor()\n",
    "regressor.fit(X_train_transformed, y_train)\n"
   ]
  },
  {
   "cell_type": "code",
   "execution_count": 76,
   "metadata": {
    "executionInfo": {
     "elapsed": 6,
     "status": "ok",
     "timestamp": 1682550757512,
     "user": {
      "displayName": "Sarfraz Hussain Mohammed",
      "userId": "04740348016143627760"
     },
     "user_tz": -330
    },
    "id": "Iqk28a9sGNbq"
   },
   "outputs": [],
   "source": [
    "y_test_pred = regressor.predict(X_test_transformed)"
   ]
  },
  {
   "cell_type": "code",
   "execution_count": 77,
   "metadata": {
    "colab": {
     "base_uri": "https://localhost:8080/",
     "height": 206
    },
    "executionInfo": {
     "elapsed": 12,
     "status": "ok",
     "timestamp": 1682550758063,
     "user": {
      "displayName": "Sarfraz Hussain Mohammed",
      "userId": "04740348016143627760"
     },
     "user_tz": -330
    },
    "id": "hu-p7axJGPM_",
    "outputId": "d051e847-0c4d-4689-abc5-834a6980a454"
   },
   "outputs": [
    {
     "data": {
      "text/html": [
       "<div>\n",
       "<style scoped>\n",
       "    .dataframe tbody tr th:only-of-type {\n",
       "        vertical-align: middle;\n",
       "    }\n",
       "\n",
       "    .dataframe tbody tr th {\n",
       "        vertical-align: top;\n",
       "    }\n",
       "\n",
       "    .dataframe thead th {\n",
       "        text-align: right;\n",
       "    }\n",
       "</style>\n",
       "<table border=\"1\" class=\"dataframe\">\n",
       "  <thead>\n",
       "    <tr style=\"text-align: right;\">\n",
       "      <th></th>\n",
       "      <th>Actual</th>\n",
       "      <th>Predicted</th>\n",
       "    </tr>\n",
       "  </thead>\n",
       "  <tbody>\n",
       "    <tr>\n",
       "      <th>584</th>\n",
       "      <td>85990.0</td>\n",
       "      <td>85990.000000</td>\n",
       "    </tr>\n",
       "    <tr>\n",
       "      <th>438</th>\n",
       "      <td>75990.0</td>\n",
       "      <td>77693.291667</td>\n",
       "    </tr>\n",
       "    <tr>\n",
       "      <th>413</th>\n",
       "      <td>50499.0</td>\n",
       "      <td>51479.108571</td>\n",
       "    </tr>\n",
       "    <tr>\n",
       "      <th>464</th>\n",
       "      <td>35590.0</td>\n",
       "      <td>35556.265490</td>\n",
       "    </tr>\n",
       "    <tr>\n",
       "      <th>286</th>\n",
       "      <td>135990.0</td>\n",
       "      <td>145313.076923</td>\n",
       "    </tr>\n",
       "  </tbody>\n",
       "</table>\n",
       "</div>"
      ],
      "text/plain": [
       "       Actual      Predicted\n",
       "584   85990.0   85990.000000\n",
       "438   75990.0   77693.291667\n",
       "413   50499.0   51479.108571\n",
       "464   35590.0   35556.265490\n",
       "286  135990.0  145313.076923"
      ]
     },
     "execution_count": 77,
     "metadata": {},
     "output_type": "execute_result"
    }
   ],
   "source": [
    "temp_df = pd.DataFrame({'Actual': y_test, 'Predicted': y_test_pred})\n",
    "\n",
    "temp_df.head()"
   ]
  },
  {
   "cell_type": "code",
   "execution_count": 78,
   "metadata": {
    "colab": {
     "base_uri": "https://localhost:8080/",
     "height": 206
    },
    "executionInfo": {
     "elapsed": 393,
     "status": "ok",
     "timestamp": 1682550760994,
     "user": {
      "displayName": "Sarfraz Hussain Mohammed",
      "userId": "04740348016143627760"
     },
     "user_tz": -330
    },
    "id": "cMqBPK2RZZ1q",
    "outputId": "61272bec-e8fd-4cd6-e4a3-94911e5dd39d"
   },
   "outputs": [
    {
     "data": {
      "text/html": [
       "<div>\n",
       "<style scoped>\n",
       "    .dataframe tbody tr th:only-of-type {\n",
       "        vertical-align: middle;\n",
       "    }\n",
       "\n",
       "    .dataframe tbody tr th {\n",
       "        vertical-align: top;\n",
       "    }\n",
       "\n",
       "    .dataframe thead th {\n",
       "        text-align: right;\n",
       "    }\n",
       "</style>\n",
       "<table border=\"1\" class=\"dataframe\">\n",
       "  <thead>\n",
       "    <tr style=\"text-align: right;\">\n",
       "      <th></th>\n",
       "      <th>Actual</th>\n",
       "      <th>Predicted</th>\n",
       "    </tr>\n",
       "  </thead>\n",
       "  <tbody>\n",
       "    <tr>\n",
       "      <th>350</th>\n",
       "      <td>63990.0</td>\n",
       "      <td>56672.409697</td>\n",
       "    </tr>\n",
       "    <tr>\n",
       "      <th>621</th>\n",
       "      <td>345390.0</td>\n",
       "      <td>256089.690000</td>\n",
       "    </tr>\n",
       "    <tr>\n",
       "      <th>215</th>\n",
       "      <td>67990.0</td>\n",
       "      <td>72975.743333</td>\n",
       "    </tr>\n",
       "    <tr>\n",
       "      <th>234</th>\n",
       "      <td>40190.0</td>\n",
       "      <td>39792.341195</td>\n",
       "    </tr>\n",
       "    <tr>\n",
       "      <th>800</th>\n",
       "      <td>0.0</td>\n",
       "      <td>52528.298602</td>\n",
       "    </tr>\n",
       "  </tbody>\n",
       "</table>\n",
       "</div>"
      ],
      "text/plain": [
       "       Actual      Predicted\n",
       "350   63990.0   56672.409697\n",
       "621  345390.0  256089.690000\n",
       "215   67990.0   72975.743333\n",
       "234   40190.0   39792.341195\n",
       "800       0.0   52528.298602"
      ]
     },
     "execution_count": 78,
     "metadata": {},
     "output_type": "execute_result"
    }
   ],
   "source": [
    "temp_df.tail()"
   ]
  },
  {
   "cell_type": "code",
   "execution_count": 79,
   "metadata": {
    "colab": {
     "base_uri": "https://localhost:8080/",
     "height": 466
    },
    "executionInfo": {
     "elapsed": 448,
     "status": "ok",
     "timestamp": 1682550768082,
     "user": {
      "displayName": "Sarfraz Hussain Mohammed",
      "userId": "04740348016143627760"
     },
     "user_tz": -330
    },
    "id": "yLLFIV_fGSO3",
    "outputId": "d2d0bab9-e17d-4073-9cb3-975c41845aa0"
   },
   "outputs": [
    {
     "data": {
      "text/plain": [
       "<AxesSubplot:xlabel='MRP', ylabel='Count'>"
      ]
     },
     "execution_count": 79,
     "metadata": {},
     "output_type": "execute_result"
    },
    {
     "data": {
      "image/png": "[encoded data removed]",
      "text/plain": [
       "<Figure size 432x288 with 1 Axes>"
      ]
     },
     "metadata": {
      "needs_background": "light"
     },
     "output_type": "display_data"
    }
   ],
   "source": [
    "sns.histplot(y_test, color='blue', alpha=0.5)\n",
    "sns.histplot(y_test_pred, color='red', alpha=0.5)"
   ]
  },
  {
   "cell_type": "code",
   "execution_count": 80,
   "metadata": {
    "colab": {
     "base_uri": "https://localhost:8080/"
    },
    "executionInfo": {
     "elapsed": 413,
     "status": "ok",
     "timestamp": 1682550770327,
     "user": {
      "displayName": "Sarfraz Hussain Mohammed",
      "userId": "04740348016143627760"
     },
     "user_tz": -330
    },
    "id": "qYMNrCrZGW8g",
    "outputId": "15cd8225-fe55-497c-e0ca-0f1d9b04265e"
   },
   "outputs": [
    {
     "name": "stdout",
     "output_type": "stream",
     "text": [
      "Mean Absolute Error:  8708.027804589397\n",
      "Mean Squared Error:  339183932.24633354\n",
      "Root Mean Squared Error:  18416.946876350965\n"
     ]
    }
   ],
   "source": [
    "print('Mean Absolute Error: ', metrics.mean_absolute_error(y_test, y_test_pred))\n",
    "\n",
    "print('Mean Squared Error: ', metrics.mean_squared_error(y_test, y_test_pred))\n",
    "\n",
    "print('Root Mean Squared Error: ', np.sqrt(metrics.mean_squared_error(y_test, y_test_pred)))"
   ]
  },
  {
   "cell_type": "code",
   "execution_count": null,
   "metadata": {
    "executionInfo": {
     "elapsed": 11,
     "status": "ok",
     "timestamp": 1682543363571,
     "user": {
      "displayName": "Sarfraz Hussain Mohammed",
      "userId": "04740348016143627760"
     },
     "user_tz": -330
    },
    "id": "bloSr06IGacn"
   },
   "outputs": [],
   "source": []
  },
  {
   "cell_type": "markdown",
   "metadata": {},
   "source": [
    "Decision Tree Regression has the low MAE compared to other regressor models "
   ]
  },
  {
   "cell_type": "code",
   "execution_count": null,
   "metadata": {},
   "outputs": [],
   "source": []
  }
 ],
 "metadata": {
  "colab": {
   "authorship_tag": "ABX9TyOdcKTDNYyOtT15yiImcFqt",
   "mount_file_id": "1Ll0CQgReCI2OE-RL2I1DRARWYDxc1XAX",
   "provenance": []
  },
  "kernelspec": {
   "display_name": "Python 3",
   "language": "python",
   "name": "python3"
  },
  "language_info": {
   "codemirror_mode": {
    "name": "ipython",
    "version": 3
   },
   "file_extension": ".py",
   "mimetype": "text/x-python",
   "name": "python",
   "nbconvert_exporter": "python",
   "pygments_lexer": "ipython3",
   "version": "3.8.8"
  }
 },
 "nbformat": 4,
 "nbformat_minor": 1
}
