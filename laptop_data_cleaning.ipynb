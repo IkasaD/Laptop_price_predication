{
 "cells": [
  {
   "cell_type": "code",
   "execution_count": 1,
   "metadata": {
    "executionInfo": {
     "elapsed": 1998,
     "status": "ok",
     "timestamp": 1682430286910,
     "user": {
      "displayName": "Sarfraz Hussain Mohammed",
      "userId": "04740348016143627760"
     },
     "user_tz": -330
    },
    "id": "nkPqv2X1GSdH"
   },
   "outputs": [],
   "source": [
    "import pandas as pd"
   ]
  },
  {
   "cell_type": "code",
   "execution_count": 2,
   "metadata": {
    "executionInfo": {
     "elapsed": 12,
     "status": "ok",
     "timestamp": 1682430286913,
     "user": {
      "displayName": "Sarfraz Hussain Mohammed",
      "userId": "04740348016143627760"
     },
     "user_tz": -330
    },
    "id": "RN9GpChBH6aD"
   },
   "outputs": [],
   "source": [
    "df = pd.read_csv(\"laptop_details.csv\")"
   ]
  },
  {
   "cell_type": "code",
   "execution_count": 3,
   "metadata": {
    "colab": {
     "base_uri": "https://localhost:8080/",
     "height": 206
    },
    "executionInfo": {
     "elapsed": 1299,
     "status": "ok",
     "timestamp": 1682430293170,
     "user": {
      "displayName": "Sarfraz Hussain Mohammed",
      "userId": "04740348016143627760"
     },
     "user_tz": -330
    },
    "id": "4T7kJN8NIunv",
    "outputId": "cdf5df04-2d05-4212-8df9-ec773950f451"
   },
   "outputs": [
    {
     "data": {
      "text/html": [
       "<div>\n",
       "<style scoped>\n",
       "    .dataframe tbody tr th:only-of-type {\n",
       "        vertical-align: middle;\n",
       "    }\n",
       "\n",
       "    .dataframe tbody tr th {\n",
       "        vertical-align: top;\n",
       "    }\n",
       "\n",
       "    .dataframe thead th {\n",
       "        text-align: right;\n",
       "    }\n",
       "</style>\n",
       "<table border=\"1\" class=\"dataframe\">\n",
       "  <thead>\n",
       "    <tr style=\"text-align: right;\">\n",
       "      <th></th>\n",
       "      <th>Product</th>\n",
       "      <th>Rating</th>\n",
       "      <th>MRP</th>\n",
       "      <th>Feature</th>\n",
       "    </tr>\n",
       "  </thead>\n",
       "  <tbody>\n",
       "    <tr>\n",
       "      <th>0</th>\n",
       "      <td>Lenovo IdeaPad 3 Core i3 11th Gen - (8 GB/256 ...</td>\n",
       "      <td>4.2</td>\n",
       "      <td>₹36,990</td>\n",
       "      <td>Intel Core i3 Processor (11th Gen)8 GB DDR4 RA...</td>\n",
       "    </tr>\n",
       "    <tr>\n",
       "      <th>1</th>\n",
       "      <td>Lenovo IdeaPad 3 Core i3 11th Gen - (8 GB/512 ...</td>\n",
       "      <td>4.2</td>\n",
       "      <td>₹39,990</td>\n",
       "      <td>Intel Core i3 Processor (11th Gen)8 GB DDR4 RA...</td>\n",
       "    </tr>\n",
       "    <tr>\n",
       "      <th>2</th>\n",
       "      <td>ASUS VivoBook 15 (2022) Core i3 10th Gen - (8 ...</td>\n",
       "      <td>4.3</td>\n",
       "      <td>₹32,990</td>\n",
       "      <td>Intel Core i3 Processor (10th Gen)8 GB DDR4 RA...</td>\n",
       "    </tr>\n",
       "    <tr>\n",
       "      <th>3</th>\n",
       "      <td>HP Pavilion Ryzen 5 Hexa Core AMD R5-5600H - (...</td>\n",
       "      <td>4.4</td>\n",
       "      <td>₹49,990</td>\n",
       "      <td>AMD Ryzen 5 Hexa Core Processor8 GB DDR4 RAM64...</td>\n",
       "    </tr>\n",
       "    <tr>\n",
       "      <th>4</th>\n",
       "      <td>ASUS TUF Gaming F15 Core i5 10th Gen - (8 GB/5...</td>\n",
       "      <td>4.4</td>\n",
       "      <td>₹49,990</td>\n",
       "      <td>Intel Core i5 Processor (10th Gen)8 GB DDR4 RA...</td>\n",
       "    </tr>\n",
       "  </tbody>\n",
       "</table>\n",
       "</div>"
      ],
      "text/plain": [
       "                                             Product  Rating      MRP  \\\n",
       "0  Lenovo IdeaPad 3 Core i3 11th Gen - (8 GB/256 ...     4.2  ₹36,990   \n",
       "1  Lenovo IdeaPad 3 Core i3 11th Gen - (8 GB/512 ...     4.2  ₹39,990   \n",
       "2  ASUS VivoBook 15 (2022) Core i3 10th Gen - (8 ...     4.3  ₹32,990   \n",
       "3  HP Pavilion Ryzen 5 Hexa Core AMD R5-5600H - (...     4.4  ₹49,990   \n",
       "4  ASUS TUF Gaming F15 Core i5 10th Gen - (8 GB/5...     4.4  ₹49,990   \n",
       "\n",
       "                                             Feature  \n",
       "0  Intel Core i3 Processor (11th Gen)8 GB DDR4 RA...  \n",
       "1  Intel Core i3 Processor (11th Gen)8 GB DDR4 RA...  \n",
       "2  Intel Core i3 Processor (10th Gen)8 GB DDR4 RA...  \n",
       "3  AMD Ryzen 5 Hexa Core Processor8 GB DDR4 RAM64...  \n",
       "4  Intel Core i5 Processor (10th Gen)8 GB DDR4 RA...  "
      ]
     },
     "execution_count": 3,
     "metadata": {},
     "output_type": "execute_result"
    }
   ],
   "source": [
    "df.head()"
   ]
  },
  {
   "cell_type": "code",
   "execution_count": 4,
   "metadata": {
    "colab": {
     "base_uri": "https://localhost:8080/",
     "height": 206
    },
    "executionInfo": {
     "elapsed": 16,
     "status": "ok",
     "timestamp": 1682430293170,
     "user": {
      "displayName": "Sarfraz Hussain Mohammed",
      "userId": "04740348016143627760"
     },
     "user_tz": -330
    },
    "id": "kJGAcbNaAYEf",
    "outputId": "fa6bfe25-c0a8-428a-a97d-bba817b10475"
   },
   "outputs": [
    {
     "data": {
      "text/html": [
       "<div>\n",
       "<style scoped>\n",
       "    .dataframe tbody tr th:only-of-type {\n",
       "        vertical-align: middle;\n",
       "    }\n",
       "\n",
       "    .dataframe tbody tr th {\n",
       "        vertical-align: top;\n",
       "    }\n",
       "\n",
       "    .dataframe thead th {\n",
       "        text-align: right;\n",
       "    }\n",
       "</style>\n",
       "<table border=\"1\" class=\"dataframe\">\n",
       "  <thead>\n",
       "    <tr style=\"text-align: right;\">\n",
       "      <th></th>\n",
       "      <th>Product</th>\n",
       "      <th>Rating</th>\n",
       "      <th>MRP</th>\n",
       "      <th>Feature</th>\n",
       "    </tr>\n",
       "  </thead>\n",
       "  <tbody>\n",
       "    <tr>\n",
       "      <th>715</th>\n",
       "      <td>ASUS Chromebook Flip Touch Celeron Dual Core -...</td>\n",
       "      <td>4.0</td>\n",
       "      <td>₹23,490</td>\n",
       "      <td>Intel Celeron Dual Core Processor4 GB LPDDR4 R...</td>\n",
       "    </tr>\n",
       "    <tr>\n",
       "      <th>716</th>\n",
       "      <td>Lenovo IdeaPad Gaming 3 Ryzen 7 Octa Core AMD ...</td>\n",
       "      <td>4.5</td>\n",
       "      <td>₹73,490</td>\n",
       "      <td>AMD Ryzen 7 Octa Core Processor8 GB DDR4 RAM64...</td>\n",
       "    </tr>\n",
       "    <tr>\n",
       "      <th>717</th>\n",
       "      <td>ASUS ROG Zephyrus G15 Ryzen 9 Octa Core 6900HS...</td>\n",
       "      <td>NaN</td>\n",
       "      <td>₹1,94,990</td>\n",
       "      <td>AMD Ryzen 9 Octa Core Processor16 GB DDR5 RAM6...</td>\n",
       "    </tr>\n",
       "    <tr>\n",
       "      <th>718</th>\n",
       "      <td>ASUS Zenbook Flip 14 OLED (2022) Touch Panel C...</td>\n",
       "      <td>3.0</td>\n",
       "      <td>₹1,25,990</td>\n",
       "      <td>Intel Core i7 Processor (12th Gen)16 GB LPDDR5...</td>\n",
       "    </tr>\n",
       "    <tr>\n",
       "      <th>719</th>\n",
       "      <td>Lenovo Ideapad Slim 3i Core i5 10th Gen - (8 G...</td>\n",
       "      <td>4.2</td>\n",
       "      <td>₹50,990</td>\n",
       "      <td>Intel Core i5 Processor (10th Gen)8 GB DDR4 RA...</td>\n",
       "    </tr>\n",
       "  </tbody>\n",
       "</table>\n",
       "</div>"
      ],
      "text/plain": [
       "                                               Product  Rating        MRP  \\\n",
       "715  ASUS Chromebook Flip Touch Celeron Dual Core -...     4.0    ₹23,490   \n",
       "716  Lenovo IdeaPad Gaming 3 Ryzen 7 Octa Core AMD ...     4.5    ₹73,490   \n",
       "717  ASUS ROG Zephyrus G15 Ryzen 9 Octa Core 6900HS...     NaN  ₹1,94,990   \n",
       "718  ASUS Zenbook Flip 14 OLED (2022) Touch Panel C...     3.0  ₹1,25,990   \n",
       "719  Lenovo Ideapad Slim 3i Core i5 10th Gen - (8 G...     4.2    ₹50,990   \n",
       "\n",
       "                                               Feature  \n",
       "715  Intel Celeron Dual Core Processor4 GB LPDDR4 R...  \n",
       "716  AMD Ryzen 7 Octa Core Processor8 GB DDR4 RAM64...  \n",
       "717  AMD Ryzen 9 Octa Core Processor16 GB DDR5 RAM6...  \n",
       "718  Intel Core i7 Processor (12th Gen)16 GB LPDDR5...  \n",
       "719  Intel Core i5 Processor (10th Gen)8 GB DDR4 RA...  "
      ]
     },
     "execution_count": 4,
     "metadata": {},
     "output_type": "execute_result"
    }
   ],
   "source": [
    "df.tail()"
   ]
  },
  {
   "cell_type": "code",
   "execution_count": 5,
   "metadata": {
    "colab": {
     "base_uri": "https://localhost:8080/"
    },
    "executionInfo": {
     "elapsed": 16,
     "status": "ok",
     "timestamp": 1682430293171,
     "user": {
      "displayName": "Sarfraz Hussain Mohammed",
      "userId": "04740348016143627760"
     },
     "user_tz": -330
    },
    "id": "4JdkCsP3Ab2e",
    "outputId": "6e765c45-1a69-4271-a922-f952bb569e0e"
   },
   "outputs": [
    {
     "data": {
      "text/plain": [
       "(720, 4)"
      ]
     },
     "execution_count": 5,
     "metadata": {},
     "output_type": "execute_result"
    }
   ],
   "source": [
    "df.shape"
   ]
  },
  {
   "cell_type": "code",
   "execution_count": 6,
   "metadata": {
    "colab": {
     "base_uri": "https://localhost:8080/"
    },
    "executionInfo": {
     "elapsed": 13,
     "status": "ok",
     "timestamp": 1682430293172,
     "user": {
      "displayName": "Sarfraz Hussain Mohammed",
      "userId": "04740348016143627760"
     },
     "user_tz": -330
    },
    "id": "g14RXyL6IwnQ",
    "outputId": "3721dbe4-2fa1-4637-f7b5-442dffda06f9"
   },
   "outputs": [
    {
     "name": "stdout",
     "output_type": "stream",
     "text": [
      "<class 'pandas.core.frame.DataFrame'>\n",
      "RangeIndex: 720 entries, 0 to 719\n",
      "Data columns (total 4 columns):\n",
      " #   Column   Non-Null Count  Dtype  \n",
      "---  ------   --------------  -----  \n",
      " 0   Product  720 non-null    object \n",
      " 1   Rating   581 non-null    float64\n",
      " 2   MRP      720 non-null    object \n",
      " 3   Feature  720 non-null    object \n",
      "dtypes: float64(1), object(3)\n",
      "memory usage: 22.6+ KB\n"
     ]
    }
   ],
   "source": [
    "df.info()"
   ]
  },
  {
   "cell_type": "code",
   "execution_count": 7,
   "metadata": {
    "colab": {
     "base_uri": "https://localhost:8080/"
    },
    "executionInfo": {
     "elapsed": 3,
     "status": "ok",
     "timestamp": 1682430293782,
     "user": {
      "displayName": "Sarfraz Hussain Mohammed",
      "userId": "04740348016143627760"
     },
     "user_tz": -330
    },
    "id": "eg3ztksDIzt_",
    "outputId": "0942fc73-ce98-44f4-dd4e-f5f88076d4bf"
   },
   "outputs": [
    {
     "data": {
      "text/plain": [
       "Index(['Product', 'Rating', 'MRP', 'Feature'], dtype='object')"
      ]
     },
     "execution_count": 7,
     "metadata": {},
     "output_type": "execute_result"
    }
   ],
   "source": [
    "df.columns"
   ]
  },
  {
   "cell_type": "markdown",
   "metadata": {
    "id": "OsOvR9GbUvYW"
   },
   "source": [
    "Cleaning the MRP column and changing the datatype "
   ]
  },
  {
   "cell_type": "code",
   "execution_count": 8,
   "metadata": {
    "executionInfo": {
     "elapsed": 1024,
     "status": "ok",
     "timestamp": 1682430295930,
     "user": {
      "displayName": "Sarfraz Hussain Mohammed",
      "userId": "04740348016143627760"
     },
     "user_tz": -330
    },
    "id": "mx5FNorbI7NC"
   },
   "outputs": [],
   "source": [
    "df['MRP'] = df[\"MRP\"].str.replace(\"₹\",\"\")"
   ]
  },
  {
   "cell_type": "code",
   "execution_count": 9,
   "metadata": {
    "colab": {
     "base_uri": "https://localhost:8080/"
    },
    "executionInfo": {
     "elapsed": 6,
     "status": "ok",
     "timestamp": 1682430295930,
     "user": {
      "displayName": "Sarfraz Hussain Mohammed",
      "userId": "04740348016143627760"
     },
     "user_tz": -330
    },
    "id": "pjijpr5cJBme",
    "outputId": "34ff56d0-6fb2-4f3a-e961-c97049cbafd1"
   },
   "outputs": [
    {
     "data": {
      "text/plain": [
       "0        36,990\n",
       "1        39,990\n",
       "2        32,990\n",
       "3        49,990\n",
       "4        49,990\n",
       "         ...   \n",
       "715      23,490\n",
       "716      73,490\n",
       "717    1,94,990\n",
       "718    1,25,990\n",
       "719      50,990\n",
       "Name: MRP, Length: 720, dtype: object"
      ]
     },
     "execution_count": 9,
     "metadata": {},
     "output_type": "execute_result"
    }
   ],
   "source": [
    "df[\"MRP\"]"
   ]
  },
  {
   "cell_type": "code",
   "execution_count": 10,
   "metadata": {
    "executionInfo": {
     "elapsed": 4,
     "status": "ok",
     "timestamp": 1682430295931,
     "user": {
      "displayName": "Sarfraz Hussain Mohammed",
      "userId": "04740348016143627760"
     },
     "user_tz": -330
    },
    "id": "rg8k8DHkJp1s"
   },
   "outputs": [],
   "source": [
    "df['MRP'] = df[\"MRP\"].str.replace(\",\",\"\")"
   ]
  },
  {
   "cell_type": "code",
   "execution_count": 11,
   "metadata": {
    "colab": {
     "base_uri": "https://localhost:8080/"
    },
    "executionInfo": {
     "elapsed": 20,
     "status": "ok",
     "timestamp": 1682430296648,
     "user": {
      "displayName": "Sarfraz Hussain Mohammed",
      "userId": "04740348016143627760"
     },
     "user_tz": -330
    },
    "id": "30XVtSESKViY",
    "outputId": "492f7947-82d5-44a1-81af-5cc3c8c18de5"
   },
   "outputs": [
    {
     "data": {
      "text/plain": [
       "0       36990\n",
       "1       39990\n",
       "2       32990\n",
       "3       49990\n",
       "4       49990\n",
       "        ...  \n",
       "715     23490\n",
       "716     73490\n",
       "717    194990\n",
       "718    125990\n",
       "719     50990\n",
       "Name: MRP, Length: 720, dtype: object"
      ]
     },
     "execution_count": 11,
     "metadata": {},
     "output_type": "execute_result"
    }
   ],
   "source": [
    "df['MRP']"
   ]
  },
  {
   "cell_type": "code",
   "execution_count": 12,
   "metadata": {
    "executionInfo": {
     "elapsed": 15,
     "status": "ok",
     "timestamp": 1682430296649,
     "user": {
      "displayName": "Sarfraz Hussain Mohammed",
      "userId": "04740348016143627760"
     },
     "user_tz": -330
    },
    "id": "bw1AGK1eKYO6"
   },
   "outputs": [],
   "source": [
    "df['MRP'] = df['MRP'].astype('float')"
   ]
  },
  {
   "cell_type": "code",
   "execution_count": 13,
   "metadata": {
    "colab": {
     "base_uri": "https://localhost:8080/"
    },
    "executionInfo": {
     "elapsed": 13,
     "status": "ok",
     "timestamp": 1682430296649,
     "user": {
      "displayName": "Sarfraz Hussain Mohammed",
      "userId": "04740348016143627760"
     },
     "user_tz": -330
    },
    "id": "19uSG9bfKmoJ",
    "outputId": "7f8f8388-8963-40ea-bc0b-423c60ae4697"
   },
   "outputs": [
    {
     "name": "stdout",
     "output_type": "stream",
     "text": [
      "<class 'pandas.core.frame.DataFrame'>\n",
      "RangeIndex: 720 entries, 0 to 719\n",
      "Data columns (total 4 columns):\n",
      " #   Column   Non-Null Count  Dtype  \n",
      "---  ------   --------------  -----  \n",
      " 0   Product  720 non-null    object \n",
      " 1   Rating   581 non-null    float64\n",
      " 2   MRP      720 non-null    float64\n",
      " 3   Feature  720 non-null    object \n",
      "dtypes: float64(2), object(2)\n",
      "memory usage: 22.6+ KB\n"
     ]
    }
   ],
   "source": [
    "df.info()"
   ]
  },
  {
   "cell_type": "code",
   "execution_count": null,
   "metadata": {
    "executionInfo": {
     "elapsed": 757,
     "status": "ok",
     "timestamp": 1682430334698,
     "user": {
      "displayName": "Sarfraz Hussain Mohammed",
      "userId": "04740348016143627760"
     },
     "user_tz": -330
    },
    "id": "-1s-x3CMn7hU"
   },
   "outputs": [],
   "source": []
  },
  {
   "cell_type": "code",
   "execution_count": 14,
   "metadata": {
    "executionInfo": {
     "elapsed": 2,
     "status": "ok",
     "timestamp": 1682430335944,
     "user": {
      "displayName": "Sarfraz Hussain Mohammed",
      "userId": "04740348016143627760"
     },
     "user_tz": -330
    },
    "id": "1oajNalAODyn"
   },
   "outputs": [],
   "source": [
    "import re"
   ]
  },
  {
   "cell_type": "markdown",
   "metadata": {
    "id": "JEdQg7hIWL33"
   },
   "source": [
    "Extracting the new features from Features column "
   ]
  },
  {
   "cell_type": "markdown",
   "metadata": {
    "id": "PFP5pHPYX_Eb"
   },
   "source": [
    "*Processor*"
   ]
  },
  {
   "cell_type": "code",
   "execution_count": 15,
   "metadata": {
    "executionInfo": {
     "elapsed": 3,
     "status": "ok",
     "timestamp": 1682430336774,
     "user": {
      "displayName": "Sarfraz Hussain Mohammed",
      "userId": "04740348016143627760"
     },
     "user_tz": -330
    },
    "id": "i20_qtwJSFt3"
   },
   "outputs": [],
   "source": [
    "df['Processor']=df.Feature.apply(lambda x: re.compile(r'.*\\s+Processor').search(x).group())"
   ]
  },
  {
   "cell_type": "code",
   "execution_count": 16,
   "metadata": {
    "colab": {
     "base_uri": "https://localhost:8080/",
     "height": 49
    },
    "executionInfo": {
     "elapsed": 21,
     "status": "ok",
     "timestamp": 1682430337974,
     "user": {
      "displayName": "Sarfraz Hussain Mohammed",
      "userId": "04740348016143627760"
     },
     "user_tz": -330
    },
    "id": "UX651W_wSi-x",
    "outputId": "87d2d40f-1f6b-4326-8f89-c730a10ef086"
   },
   "outputs": [
    {
     "data": {
      "text/html": [
       "<div>\n",
       "<style scoped>\n",
       "    .dataframe tbody tr th:only-of-type {\n",
       "        vertical-align: middle;\n",
       "    }\n",
       "\n",
       "    .dataframe tbody tr th {\n",
       "        vertical-align: top;\n",
       "    }\n",
       "\n",
       "    .dataframe thead th {\n",
       "        text-align: right;\n",
       "    }\n",
       "</style>\n",
       "<table border=\"1\" class=\"dataframe\">\n",
       "  <thead>\n",
       "    <tr style=\"text-align: right;\">\n",
       "      <th></th>\n",
       "      <th>Product</th>\n",
       "      <th>Rating</th>\n",
       "      <th>MRP</th>\n",
       "      <th>Feature</th>\n",
       "      <th>Processor</th>\n",
       "    </tr>\n",
       "  </thead>\n",
       "  <tbody>\n",
       "  </tbody>\n",
       "</table>\n",
       "</div>"
      ],
      "text/plain": [
       "Empty DataFrame\n",
       "Columns: [Product, Rating, MRP, Feature, Processor]\n",
       "Index: []"
      ]
     },
     "execution_count": 16,
     "metadata": {},
     "output_type": "execute_result"
    }
   ],
   "source": [
    "df[df['Processor'].isnull()]"
   ]
  },
  {
   "cell_type": "code",
   "execution_count": 17,
   "metadata": {
    "colab": {
     "base_uri": "https://localhost:8080/"
    },
    "executionInfo": {
     "elapsed": 21,
     "status": "ok",
     "timestamp": 1682430337974,
     "user": {
      "displayName": "Sarfraz Hussain Mohammed",
      "userId": "04740348016143627760"
     },
     "user_tz": -330
    },
    "id": "K0nG4tyzBCsN",
    "outputId": "d601c512-99f0-44d7-c5b0-34f9f9cbb996"
   },
   "outputs": [
    {
     "data": {
      "text/plain": [
       "array(['Intel Core i3 Processor', 'AMD Ryzen 5 Hexa Core Processor',\n",
       "       'Intel Core i5 Processor',\n",
       "       'Processor: Intel i3-1115G4 (Base- 1.70 GHz & Turbo up to 4.10 GHz) 2 CoresRAM & Storage: 8GB DDR4 & 1TB + 256GB SSDGraphics & Keyboard: Integrated & Standard KeyboardDisplay: 15.6\" FHD WVA AG Narrow BorderPorts: 2x USB 3.2 Gen1 ,1x USB 2.0, HDMI 1.4, SD Card reader, Audio jack, 1 M.2 2230/2280 slot for solid-state drive/Intel OptaneIntel Core i3 Processor',\n",
       "       'Stylish & Portable Thin and Light Laptop14 inch 2K QHD, IPS LCD Display ( 400nits peak brightness, 100% sRGB, 3:2 aspect ratio, Full Vision Display)Finger Print Sensor for Faster System AccessLight Laptop without Optical Disk DriveIntel Core i3 Processor',\n",
       "       'AMD Ryzen 7 Quad Core Processor',\n",
       "       'AMD Ryzen 5 Quad Core Processor',\n",
       "       'AMD Ryzen 9 Octa Core Processor',\n",
       "       'AMD Ryzen 7 Octa Core Processor', 'Apple M1 Processor',\n",
       "       'Intel Celeron Dual Core Processor',\n",
       "       'AMD Ryzen 3 Dual Core Processor',\n",
       "       'Free upgrade to Windows 11 when availableAMD Ryzen 5 Hexa Core Processor',\n",
       "       'AMD Athlon Dual Core Processor',\n",
       "       'Powered by 11th Gen Intel Evo Core i5 ProcessorMicrosoft Office 2019 Home & Student IncludedStylish Thin and Light Laptop without Optical Disk DriveIntel Core i5 Processor',\n",
       "       'Free upgrade to Windows 11 when availableIntel Core i5 Processor',\n",
       "       'AMD Ryzen 3 Quad Core Processor', 'Apple M2 Processor',\n",
       "       'Processor: AMD Ryzen R5-5600H (3.30 GHz up to 4.20 GHz) 16MB L3RAM & Storage: 16GB DDR4 (2 DIMM Slots) & 512GB SSDGraphics: NVIDIA GEFORCE RTX 3050 (4GB GDDR6) TGP Up To 80WDisplay: 15.6\" FHD WVA AG 250 nits 120Hz Narrow Border, Backlit Keyboard OrangeColor: Phantom Grey with specklesPorts: (1) HDMI 2.1, (2) SuperSpeed USB 2.0 Gen 1 Type-A including (1) with PowerShare, (1) SuperSpeed USB 3.2, (1) USB-C Data/Display Port Alt-Mode, Headphone/Mic, (1) RJ45WiFi & BT: Killer Wi-Fi 6 AX1650 (2x2) and BluetoothAMD Ryzen 5 Hexa Core Processor',\n",
       "       'Intel Celeron Quad Core Processor', 'Intel Core i7 Processor',\n",
       "       'Apple M1 Pro Processor', 'Qualcomm Snapdragon 7c Gen 2 Processor',\n",
       "       'Processor: Intel PQC-N5030 (1.10 GHz up to 3.10 GHz)RAM & Storage: 8GB DDR4 & 256GB SSDDisplay: 15.6\" HD AG Narrow BorderSoftware: Win 11 + Office H&S 20212x USB 3.2 Gen1 ,1x USB 2.0, HDMI 1.4, SD Card reader, Audio jack, 1 M.2 2230/2280 slot for solid-state drive/Intel OptaneWiFi & BT: 802.11ac 1x1 WiFi and BluetoothIntel Pentium Silver Processor',\n",
       "       'NVIDIA RTX 3050 Graphics upto 90W TGP15.6 inch Full HD AG Display (250 nits Brightness, 120Hz, Narrow Border)Alienware Command CenterAMD Ryzen 7 Octa Core Processor',\n",
       "       'Processor: AMD Ryzen 3-3250U (2.60 GHz up to 3.50 GHz)RAM & Storage: 8GB DDR4 (2 DIMM Slots) & 1TB HDDSoftware: Win 11 + Office H&S 2021Display: 14.0\" FHD WVA AG Narrow BorderPorts: USB 3.2 Gen 1 (x2), USB2.0 (x1), HDMI 1.4, SD Media Card Reader (SD, SDHC, SDXC), RJ45 - 10/100MbpsWiFi & BT: 802.11ac 1x1 WiFi and BluetoothAMD Ryzen 3 Dual Core Processor',\n",
       "       'Apple M1 Max Processor', 'Intel Core i9 Processor',\n",
       "       'Pre-installed Genuine Windows 10 Home OSIntel Core i7 Processor',\n",
       "       'Intel Pentium Silver Processor',\n",
       "       'Processor: Intel i3-1125G4 (2.00 GHz up to 3.70 GHz)RAM & Storage: 8GB DDR4 (2 DIMM Slots) & 256GB SSDSoftware: Win 11 + Office H&S 2021Display: 14.0\" FHD WVA Truelife Touch Narrow Border 60HzPorts: \"1 HDMI out 1.4a, 2 USB 3.2 Gen 1 Type-A, 1 USB 3.2 Gen 2 Type-C with Power Delivery and Video, 1 DC-in port, 1 3.5mm Headphone/Microphone combination jack\"WiFi & BT: Intel Wi-Fi 6 2x2 (Gig+) and Bluetooth 5.1Intel Core i3 Processor',\n",
       "       'Processor: AMD Ryzen 5-3450U (2.10 GHz up to 3.50 GHz)RAM & Storage: 8GB DDR4 (2 DIMM Slots) & 512GB SSDSoftware: Win 11 + Office H&S 2021Display: 15.6\" FHD WVA AG Narrow BorderPorts: \"2x USB 3.2 Gen1 ,1x USB 2.0, HDMI 1.4b, SD Card reader, Audio jackWiFi & BT: 802.11ac 1x1 WiFi and BluetoothAMD Ryzen 5 Dual Core Processor',\n",
       "       'NVIDIA RTX 3050 Graphics upto 90W TGP15.6 inch Full HD AG Display (250 nits Brightness, 120Hz, Narrow Border)Alienware Command CenterIntel Core i5 Processor',\n",
       "       'AMD Ryzen 5 Dual Core Processor',\n",
       "       'Processor: 11th Generation Intel Core i5-1135G7 Processor (8MB Cache, up to 4.2 GHz),Memory & Storage:8GB DDR4, 2666MHz | 512GB M.2 PCIe NVMe Solid State DriveDisplay:14.0-inch FHD (1920 x 1080) Anti-glare LED Backlight Narrow Border WVA DisplayGraphics: Dedicated NVIDIA MX330 2GB GDDR5Operating System & Software:Windows 10 Home Single Language | Microsoft Office Home and Student 2019I/O ports: 2x USB 3.2 Gen-1, 1xUSB 2.0, 1xHDMI port, 1xEthernet port,1x Headset jack, 1xSD Media Card ReaderIntel Core i5 Processor',\n",
       "       'Processor: 10th Generation Intel Core i3-1005G1 Processor (4MB Cache, up to 3.4 GHz)RAM & Storage:8GB RAM | 512GB M.2 PCIe NVMe Solid State DriveDisplay:14.0-inch FHD (1920 x 1080) Anti-glare LED Backlight Narrow Border WVA DisplayGraphics:Intel UHD Graphics with shared graphics memoryOperating System & Software:Windows 10 Home Single Language | Microsoft Office Home and Student 2019Ports: USB 3.2 Gen 1 (x2), USB2.0 (x1), HDMI 1.4,SD Media Card Reader (SD, SDHC, SDXC), RJ45 - 10/100/1000Mbps GbEIntel Core i3 Processor',\n",
       "       'Intel Pentium Quad Core Processor',\n",
       "       'Pre-installed Genuine Windows 10 Operating System (Includes Built-in Security, Free Automated Updates, Latest Features)Dual Fan Cooling with Metal AeroBlade 3D128 GB SSD for Reduced Boot Up Time and in Game LoadingUpgradable SSD Upto 512 GB and RAM Upto 32 GBNVIDIA Geforce GTX 1050Ti for Desktop Level PerformanceIntel Core i5 Processor',\n",
       "       '15.6 inches Full HD IPS Thin Bezel Display (60Hz, 45% NTSC Color Gamut)Intel Core i5 Processor',\n",
       "       'AMD Dual Core Processor',\n",
       "       'Processor: Intel i7-11800H- (2.30 GHz up to 4.60 GHz) 16MB L3RAM & Storage: 16GB DDR4 (2 DIMM Slots) & 512GB SSDGraphics: NVIDIA� GEFORCE� RTX 3050 Ti (4GB GDDR6)Display: 15.6\" FHD WVA AG 250 nits 120Hz Narrow Border, Backlit Keyboard OrangeColor: Dark Shadow GreyPorts: 1. HiSpeed USB 2.0 | 2. HiSpeed USB 2.0 with PowerShare | 3. USB 3.2 Gen 1 Type-C port with DisplayPort with alt mode | 4. SuperSpeed USB 3.2 | 5. HDMI | 6. Power in | 7. RJ45 | 8. Headphones/micIntel Core i7 Processor',\n",
       "       'AMD Ryzen 3 Hexa Core Processor',\n",
       "       '15.6 inches Full HD IPS Thin Bezel Display (144Hz, 45% NTSC Color Gamut)Intel Core i7 Processor',\n",
       "       'NVIDIA GeForce RTX 2080 with Max-Q15.6 inch Full HD LED Backlit Anti-glare IPS Display, 300 Hz, 300 NitsAlienware Cryo-tech thermal technology to keep the system cool and running at highest performanceTobii-eye tracking to track head pose, presence, fine gaze and eye positionIn-built Alienware Command center software with enhanced control over system settingsIntel Core i9 Processor',\n",
       "       'First Ever ScreenpadNVIDIA GeForce GTX 1050 TiIntel Core i7 Processor',\n",
       "       'NVIDIA Geforce GTX 1050 Ti for Desktop Level PerformanceOptimized Dolby Audio Premium Sound Enhancement128 GB SSD Capacity for Reduced Boot Up Time and in Game LoadingDual Fan Cooling with Metal AeroBlade for Interuption Free GamingFineTip Backlit Keyboard with Independent Standard Numeric KeypadIntel Core i5 Processor',\n",
       "       'NVIDIA RTX 3050 Graphics upto 90W TGP15.6 inch Full HD AG Display (250 nits Brightness, 120Hz, Narrow Border)Alienware Command CenterAMD Ryzen 5 Hexa Core Processor',\n",
       "       'NVIDIA GeForce RTX 206015.6 inch Full HD LED Backlit Anti-glare IPS Display, 300 Hz, 300 NitsAlienware Cryo-tech thermal technology to keep the system cool and running at highest performanceTobii-eye tracking to track head pose, presence, fine gaze and eye positionIn-built Alienware Command center software with enhanced control over system settingsIntel Core i7 Processor',\n",
       "       'NVIDIA GeForce GTX 1660 Ti15.6 inch Full HD LED Backlit Anti-glare IPS Display, 300 Hz, 300 NitsAlienware Cryo-tech thermal technology to keep the system cool and running at highest performanceTobii-eye tracking to track head pose, presence, fine gaze and eye positionIn-built Alienware Command center software with enhanced control over system settingsIntel Core i7 Processor'],\n",
       "      dtype=object)"
      ]
     },
     "execution_count": 17,
     "metadata": {},
     "output_type": "execute_result"
    }
   ],
   "source": [
    "df['Processor'].unique()"
   ]
  },
  {
   "cell_type": "code",
   "execution_count": 18,
   "metadata": {
    "executionInfo": {
     "elapsed": 16,
     "status": "ok",
     "timestamp": 1682430337975,
     "user": {
      "displayName": "Sarfraz Hussain Mohammed",
      "userId": "04740348016143627760"
     },
     "user_tz": -330
    },
    "id": "6UenrVk7BYLo"
   },
   "outputs": [],
   "source": [
    "df['Processor']=df.Feature.apply(lambda x: re.compile(r'(Intel|AMD|Apple|Qualcomm)\\s+\\w+\\s+\\w+\\s+\\w+\\s+').search(x).group())"
   ]
  },
  {
   "cell_type": "code",
   "execution_count": 19,
   "metadata": {
    "colab": {
     "base_uri": "https://localhost:8080/"
    },
    "executionInfo": {
     "elapsed": 16,
     "status": "ok",
     "timestamp": 1682430337976,
     "user": {
      "displayName": "Sarfraz Hussain Mohammed",
      "userId": "04740348016143627760"
     },
     "user_tz": -330
    },
    "id": "vLd4AsRGBZ6j",
    "outputId": "edfc2d1a-ff74-47c1-bee7-04499507a128"
   },
   "outputs": [
    {
     "data": {
      "text/plain": [
       "array(['Intel Core i3 Processor ', 'AMD Ryzen 5 Hexa ',\n",
       "       'Intel Core i5 Processor ', 'Intel OptaneIntel Core i3 ',\n",
       "       'AMD Ryzen 7 Quad ', 'AMD Ryzen 5 Quad ', 'AMD Ryzen 9 Octa ',\n",
       "       'AMD Ryzen 7 Octa ', 'Apple M1 Processor8 GB ',\n",
       "       'Intel Celeron Dual Core ', 'AMD Ryzen 3 Dual ',\n",
       "       'AMD Athlon Dual Core ', 'Intel Evo Core i5 ', 'AMD Ryzen 3 Quad ',\n",
       "       'Apple M2 Processor8 GB ', 'Intel Celeron Quad Core ',\n",
       "       'Intel Core i7 Processor ', 'Apple M1 Pro Processor16 ',\n",
       "       'Qualcomm Snapdragon 7c Gen ', 'Intel Pentium Silver Processor8 ',\n",
       "       'Apple M1 Processor16 GB ', 'Apple M1 Max Processor32 ',\n",
       "       'Intel Core i9 Processor ', 'AMD Ryzen 5 Dual ',\n",
       "       'Intel UHD Graphics with ', 'Intel Pentium Quad Core ',\n",
       "       'AMD Dual Core Processor4 ', 'AMD Ryzen 3 Hexa '], dtype=object)"
      ]
     },
     "execution_count": 19,
     "metadata": {},
     "output_type": "execute_result"
    }
   ],
   "source": [
    "df['Processor'].unique()"
   ]
  },
  {
   "cell_type": "markdown",
   "metadata": {
    "id": "feGlqIryCZFW"
   },
   "source": [
    "**I used the below method to extract the processor is because it is more precise.**"
   ]
  },
  {
   "cell_type": "code",
   "execution_count": 20,
   "metadata": {
    "executionInfo": {
     "elapsed": 8,
     "status": "ok",
     "timestamp": 1682430337977,
     "user": {
      "displayName": "Sarfraz Hussain Mohammed",
      "userId": "04740348016143627760"
     },
     "user_tz": -330
    },
    "id": "zxZ6uTXLOB_P"
   },
   "outputs": [],
   "source": [
    "start = ['Intel','AMD','Apple','Qualcomm']\n",
    "result = []\n",
    "for i in df['Feature']:\n",
    "  for j in start:\n",
    "    if re.search(j,i):\n",
    "      st = i.index(j)\n",
    "      end = i.index('Processor') + len('Processor')\n",
    "      result.append(i[st:end])\n",
    "      break"
   ]
  },
  {
   "cell_type": "code",
   "execution_count": 21,
   "metadata": {
    "executionInfo": {
     "elapsed": 24,
     "status": "ok",
     "timestamp": 1682430338796,
     "user": {
      "displayName": "Sarfraz Hussain Mohammed",
      "userId": "04740348016143627760"
     },
     "user_tz": -330
    },
    "id": "09JbvM1ZLL48"
   },
   "outputs": [],
   "source": [
    "df['Processor'] = result"
   ]
  },
  {
   "cell_type": "code",
   "execution_count": 22,
   "metadata": {
    "colab": {
     "base_uri": "https://localhost:8080/"
    },
    "executionInfo": {
     "elapsed": 24,
     "status": "ok",
     "timestamp": 1682430338797,
     "user": {
      "displayName": "Sarfraz Hussain Mohammed",
      "userId": "04740348016143627760"
     },
     "user_tz": -330
    },
    "id": "fMyAZnO9RDtG",
    "outputId": "8571adf7-5e7a-4428-87d9-af5510bb2830"
   },
   "outputs": [
    {
     "data": {
      "text/plain": [
       "array(['Intel Core i3 Processor', 'AMD Ryzen 5 Hexa Core Processor',\n",
       "       'Intel Core i5 Processor', '', 'AMD Ryzen 7 Quad Core Processor',\n",
       "       'AMD Ryzen 5 Quad Core Processor',\n",
       "       'AMD Ryzen 9 Octa Core Processor',\n",
       "       'AMD Ryzen 7 Octa Core Processor', 'Apple M1 Processor',\n",
       "       'Intel Celeron Dual Core Processor',\n",
       "       'AMD Ryzen 3 Dual Core Processor',\n",
       "       'AMD Athlon Dual Core Processor', 'Intel Evo Core i5 Processor',\n",
       "       'AMD Ryzen 3 Quad Core Processor', 'Apple M2 Processor',\n",
       "       'Intel Celeron Quad Core Processor', 'Intel Core i7 Processor',\n",
       "       'Apple M1 Pro Processor', 'Qualcomm Snapdragon 7c Gen 2 Processor',\n",
       "       'Apple M1 Max Processor', 'Intel Core i9 Processor',\n",
       "       'Intel Pentium Silver Processor',\n",
       "       'AMD Ryzen 5 Dual Core Processor',\n",
       "       'Intel Pentium Quad Core Processor', 'AMD Dual Core Processor',\n",
       "       'AMD Ryzen 3 Hexa Core Processor'], dtype=object)"
      ]
     },
     "execution_count": 22,
     "metadata": {},
     "output_type": "execute_result"
    }
   ],
   "source": [
    "df['Processor'].unique()"
   ]
  },
  {
   "cell_type": "code",
   "execution_count": 23,
   "metadata": {
    "colab": {
     "base_uri": "https://localhost:8080/",
     "height": 519
    },
    "executionInfo": {
     "elapsed": 9,
     "status": "ok",
     "timestamp": 1682430340020,
     "user": {
      "displayName": "Sarfraz Hussain Mohammed",
      "userId": "04740348016143627760"
     },
     "user_tz": -330
    },
    "id": "g_gi2TboXZ1z",
    "outputId": "26dbaf41-8448-47f3-d20b-519e7d472be8"
   },
   "outputs": [
    {
     "data": {
      "text/html": [
       "<div>\n",
       "<style scoped>\n",
       "    .dataframe tbody tr th:only-of-type {\n",
       "        vertical-align: middle;\n",
       "    }\n",
       "\n",
       "    .dataframe tbody tr th {\n",
       "        vertical-align: top;\n",
       "    }\n",
       "\n",
       "    .dataframe thead th {\n",
       "        text-align: right;\n",
       "    }\n",
       "</style>\n",
       "<table border=\"1\" class=\"dataframe\">\n",
       "  <thead>\n",
       "    <tr style=\"text-align: right;\">\n",
       "      <th></th>\n",
       "      <th>Product</th>\n",
       "      <th>Rating</th>\n",
       "      <th>MRP</th>\n",
       "      <th>Feature</th>\n",
       "      <th>Processor</th>\n",
       "    </tr>\n",
       "  </thead>\n",
       "  <tbody>\n",
       "    <tr>\n",
       "      <th>0</th>\n",
       "      <td>Lenovo IdeaPad 3 Core i3 11th Gen - (8 GB/256 ...</td>\n",
       "      <td>4.2</td>\n",
       "      <td>36990.0</td>\n",
       "      <td>Intel Core i3 Processor (11th Gen)8 GB DDR4 RA...</td>\n",
       "      <td>Intel Core i3 Processor</td>\n",
       "    </tr>\n",
       "    <tr>\n",
       "      <th>1</th>\n",
       "      <td>Lenovo IdeaPad 3 Core i3 11th Gen - (8 GB/512 ...</td>\n",
       "      <td>4.2</td>\n",
       "      <td>39990.0</td>\n",
       "      <td>Intel Core i3 Processor (11th Gen)8 GB DDR4 RA...</td>\n",
       "      <td>Intel Core i3 Processor</td>\n",
       "    </tr>\n",
       "    <tr>\n",
       "      <th>2</th>\n",
       "      <td>ASUS VivoBook 15 (2022) Core i3 10th Gen - (8 ...</td>\n",
       "      <td>4.3</td>\n",
       "      <td>32990.0</td>\n",
       "      <td>Intel Core i3 Processor (10th Gen)8 GB DDR4 RA...</td>\n",
       "      <td>Intel Core i3 Processor</td>\n",
       "    </tr>\n",
       "    <tr>\n",
       "      <th>3</th>\n",
       "      <td>HP Pavilion Ryzen 5 Hexa Core AMD R5-5600H - (...</td>\n",
       "      <td>4.4</td>\n",
       "      <td>49990.0</td>\n",
       "      <td>AMD Ryzen 5 Hexa Core Processor8 GB DDR4 RAM64...</td>\n",
       "      <td>AMD Ryzen 5 Hexa Core Processor</td>\n",
       "    </tr>\n",
       "    <tr>\n",
       "      <th>4</th>\n",
       "      <td>ASUS TUF Gaming F15 Core i5 10th Gen - (8 GB/5...</td>\n",
       "      <td>4.4</td>\n",
       "      <td>49990.0</td>\n",
       "      <td>Intel Core i5 Processor (10th Gen)8 GB DDR4 RA...</td>\n",
       "      <td>Intel Core i5 Processor</td>\n",
       "    </tr>\n",
       "    <tr>\n",
       "      <th>...</th>\n",
       "      <td>...</td>\n",
       "      <td>...</td>\n",
       "      <td>...</td>\n",
       "      <td>...</td>\n",
       "      <td>...</td>\n",
       "    </tr>\n",
       "    <tr>\n",
       "      <th>715</th>\n",
       "      <td>ASUS Chromebook Flip Touch Celeron Dual Core -...</td>\n",
       "      <td>4.0</td>\n",
       "      <td>23490.0</td>\n",
       "      <td>Intel Celeron Dual Core Processor4 GB LPDDR4 R...</td>\n",
       "      <td>Intel Celeron Dual Core Processor</td>\n",
       "    </tr>\n",
       "    <tr>\n",
       "      <th>716</th>\n",
       "      <td>Lenovo IdeaPad Gaming 3 Ryzen 7 Octa Core AMD ...</td>\n",
       "      <td>4.5</td>\n",
       "      <td>73490.0</td>\n",
       "      <td>AMD Ryzen 7 Octa Core Processor8 GB DDR4 RAM64...</td>\n",
       "      <td>AMD Ryzen 7 Octa Core Processor</td>\n",
       "    </tr>\n",
       "    <tr>\n",
       "      <th>717</th>\n",
       "      <td>ASUS ROG Zephyrus G15 Ryzen 9 Octa Core 6900HS...</td>\n",
       "      <td>NaN</td>\n",
       "      <td>194990.0</td>\n",
       "      <td>AMD Ryzen 9 Octa Core Processor16 GB DDR5 RAM6...</td>\n",
       "      <td>AMD Ryzen 9 Octa Core Processor</td>\n",
       "    </tr>\n",
       "    <tr>\n",
       "      <th>718</th>\n",
       "      <td>ASUS Zenbook Flip 14 OLED (2022) Touch Panel C...</td>\n",
       "      <td>3.0</td>\n",
       "      <td>125990.0</td>\n",
       "      <td>Intel Core i7 Processor (12th Gen)16 GB LPDDR5...</td>\n",
       "      <td>Intel Core i7 Processor</td>\n",
       "    </tr>\n",
       "    <tr>\n",
       "      <th>719</th>\n",
       "      <td>Lenovo Ideapad Slim 3i Core i5 10th Gen - (8 G...</td>\n",
       "      <td>4.2</td>\n",
       "      <td>50990.0</td>\n",
       "      <td>Intel Core i5 Processor (10th Gen)8 GB DDR4 RA...</td>\n",
       "      <td>Intel Core i5 Processor</td>\n",
       "    </tr>\n",
       "  </tbody>\n",
       "</table>\n",
       "<p>720 rows × 5 columns</p>\n",
       "</div>"
      ],
      "text/plain": [
       "                                               Product  Rating       MRP  \\\n",
       "0    Lenovo IdeaPad 3 Core i3 11th Gen - (8 GB/256 ...     4.2   36990.0   \n",
       "1    Lenovo IdeaPad 3 Core i3 11th Gen - (8 GB/512 ...     4.2   39990.0   \n",
       "2    ASUS VivoBook 15 (2022) Core i3 10th Gen - (8 ...     4.3   32990.0   \n",
       "3    HP Pavilion Ryzen 5 Hexa Core AMD R5-5600H - (...     4.4   49990.0   \n",
       "4    ASUS TUF Gaming F15 Core i5 10th Gen - (8 GB/5...     4.4   49990.0   \n",
       "..                                                 ...     ...       ...   \n",
       "715  ASUS Chromebook Flip Touch Celeron Dual Core -...     4.0   23490.0   \n",
       "716  Lenovo IdeaPad Gaming 3 Ryzen 7 Octa Core AMD ...     4.5   73490.0   \n",
       "717  ASUS ROG Zephyrus G15 Ryzen 9 Octa Core 6900HS...     NaN  194990.0   \n",
       "718  ASUS Zenbook Flip 14 OLED (2022) Touch Panel C...     3.0  125990.0   \n",
       "719  Lenovo Ideapad Slim 3i Core i5 10th Gen - (8 G...     4.2   50990.0   \n",
       "\n",
       "                                               Feature  \\\n",
       "0    Intel Core i3 Processor (11th Gen)8 GB DDR4 RA...   \n",
       "1    Intel Core i3 Processor (11th Gen)8 GB DDR4 RA...   \n",
       "2    Intel Core i3 Processor (10th Gen)8 GB DDR4 RA...   \n",
       "3    AMD Ryzen 5 Hexa Core Processor8 GB DDR4 RAM64...   \n",
       "4    Intel Core i5 Processor (10th Gen)8 GB DDR4 RA...   \n",
       "..                                                 ...   \n",
       "715  Intel Celeron Dual Core Processor4 GB LPDDR4 R...   \n",
       "716  AMD Ryzen 7 Octa Core Processor8 GB DDR4 RAM64...   \n",
       "717  AMD Ryzen 9 Octa Core Processor16 GB DDR5 RAM6...   \n",
       "718  Intel Core i7 Processor (12th Gen)16 GB LPDDR5...   \n",
       "719  Intel Core i5 Processor (10th Gen)8 GB DDR4 RA...   \n",
       "\n",
       "                             Processor  \n",
       "0              Intel Core i3 Processor  \n",
       "1              Intel Core i3 Processor  \n",
       "2              Intel Core i3 Processor  \n",
       "3      AMD Ryzen 5 Hexa Core Processor  \n",
       "4              Intel Core i5 Processor  \n",
       "..                                 ...  \n",
       "715  Intel Celeron Dual Core Processor  \n",
       "716    AMD Ryzen 7 Octa Core Processor  \n",
       "717    AMD Ryzen 9 Octa Core Processor  \n",
       "718            Intel Core i7 Processor  \n",
       "719            Intel Core i5 Processor  \n",
       "\n",
       "[720 rows x 5 columns]"
      ]
     },
     "execution_count": 23,
     "metadata": {},
     "output_type": "execute_result"
    }
   ],
   "source": [
    "df"
   ]
  },
  {
   "cell_type": "code",
   "execution_count": 24,
   "metadata": {
    "colab": {
     "base_uri": "https://localhost:8080/"
    },
    "executionInfo": {
     "elapsed": 9,
     "status": "ok",
     "timestamp": 1682430340021,
     "user": {
      "displayName": "Sarfraz Hussain Mohammed",
      "userId": "04740348016143627760"
     },
     "user_tz": -330
    },
    "id": "YlODAPCnn-96",
    "outputId": "ba74dd10-a110-41d2-836b-3e0579a4808a"
   },
   "outputs": [
    {
     "data": {
      "text/plain": [
       "array(['Intel Core i3 Processor', 'AMD Ryzen 5 Hexa Core Processor',\n",
       "       'Intel Core i5 Processor', '', 'AMD Ryzen 7 Quad Core Processor',\n",
       "       'AMD Ryzen 5 Quad Core Processor',\n",
       "       'AMD Ryzen 9 Octa Core Processor',\n",
       "       'AMD Ryzen 7 Octa Core Processor', 'Apple M1 Processor',\n",
       "       'Intel Celeron Dual Core Processor',\n",
       "       'AMD Ryzen 3 Dual Core Processor',\n",
       "       'AMD Athlon Dual Core Processor', 'Intel Evo Core i5 Processor',\n",
       "       'AMD Ryzen 3 Quad Core Processor', 'Apple M2 Processor',\n",
       "       'Intel Celeron Quad Core Processor', 'Intel Core i7 Processor',\n",
       "       'Apple M1 Pro Processor', 'Qualcomm Snapdragon 7c Gen 2 Processor',\n",
       "       'Apple M1 Max Processor', 'Intel Core i9 Processor',\n",
       "       'Intel Pentium Silver Processor',\n",
       "       'AMD Ryzen 5 Dual Core Processor',\n",
       "       'Intel Pentium Quad Core Processor', 'AMD Dual Core Processor',\n",
       "       'AMD Ryzen 3 Hexa Core Processor'], dtype=object)"
      ]
     },
     "execution_count": 24,
     "metadata": {},
     "output_type": "execute_result"
    }
   ],
   "source": [
    "df['Processor'].unique()"
   ]
  },
  {
   "cell_type": "code",
   "execution_count": 26,
   "metadata": {
    "colab": {
     "base_uri": "https://localhost:8080/"
    },
    "executionInfo": {
     "elapsed": 6,
     "status": "ok",
     "timestamp": 1682430340788,
     "user": {
      "displayName": "Sarfraz Hussain Mohammed",
      "userId": "04740348016143627760"
     },
     "user_tz": -330
    },
    "id": "_0yZy7jfn-3i",
    "outputId": "00850631-bc66-4989-c92f-1cd6ba189dc5"
   },
   "outputs": [],
   "source": [
    "for i in range(len(df['Processor'])):\n",
    "    if df['Processor'][i] == \"\":\n",
    "        df['Processor'][i] = re.compile(r'(Intel Pentium|Intel Core|AMD Ryzen|AMD)\\s+\\w+').search(df['Feature'][i]).group()\n",
    "        print(df['Processor'][i])\n",
    "        print(i)"
   ]
  },
  {
   "cell_type": "code",
   "execution_count": 27,
   "metadata": {
    "colab": {
     "base_uri": "https://localhost:8080/"
    },
    "executionInfo": {
     "elapsed": 962,
     "status": "ok",
     "timestamp": 1682430347097,
     "user": {
      "displayName": "Sarfraz Hussain Mohammed",
      "userId": "04740348016143627760"
     },
     "user_tz": -330
    },
    "id": "QD1wB-Rbs4J4",
    "outputId": "981d3dff-61b5-4633-8bc6-240f48becd68"
   },
   "outputs": [
    {
     "data": {
      "text/plain": [
       "array(['Intel Core i3 Processor', 'AMD Ryzen 5 Hexa Core Processor',\n",
       "       'Intel Core i5 Processor', 'Intel Core i3',\n",
       "       'AMD Ryzen 7 Quad Core Processor',\n",
       "       'AMD Ryzen 5 Quad Core Processor',\n",
       "       'AMD Ryzen 9 Octa Core Processor',\n",
       "       'AMD Ryzen 7 Octa Core Processor', 'Apple M1 Processor',\n",
       "       'Intel Celeron Dual Core Processor',\n",
       "       'AMD Ryzen 3 Dual Core Processor',\n",
       "       'AMD Athlon Dual Core Processor', 'Intel Evo Core i5 Processor',\n",
       "       'AMD Ryzen 3 Quad Core Processor', 'Apple M2 Processor',\n",
       "       'AMD Ryzen R5', 'Intel Celeron Quad Core Processor',\n",
       "       'Intel Core i7 Processor', 'Apple M1 Pro Processor',\n",
       "       'Qualcomm Snapdragon 7c Gen 2 Processor', 'Intel Pentium Silver',\n",
       "       'AMD Ryzen 3', 'Apple M1 Max Processor', 'Intel Core i9 Processor',\n",
       "       'Intel Pentium Silver Processor', 'AMD Ryzen 5',\n",
       "       'AMD Ryzen 5 Dual Core Processor', 'Intel Core i5',\n",
       "       'Intel Pentium Quad Core Processor', 'AMD Dual Core Processor',\n",
       "       'Intel Core i7', 'AMD Ryzen 3 Hexa Core Processor'], dtype=object)"
      ]
     },
     "execution_count": 27,
     "metadata": {},
     "output_type": "execute_result"
    }
   ],
   "source": [
    "df['Processor'].unique()"
   ]
  },
  {
   "cell_type": "code",
   "execution_count": 28,
   "metadata": {
    "executionInfo": {
     "elapsed": 12,
     "status": "ok",
     "timestamp": 1682430347097,
     "user": {
      "displayName": "Sarfraz Hussain Mohammed",
      "userId": "04740348016143627760"
     },
     "user_tz": -330
    },
    "id": "D2zY9_-g21Tt"
   },
   "outputs": [],
   "source": [
    "df['Processor'] = df['Processor'].str.replace(\" Processor\",\"\")"
   ]
  },
  {
   "cell_type": "code",
   "execution_count": 29,
   "metadata": {
    "colab": {
     "base_uri": "https://localhost:8080/"
    },
    "executionInfo": {
     "elapsed": 12,
     "status": "ok",
     "timestamp": 1682430347098,
     "user": {
      "displayName": "Sarfraz Hussain Mohammed",
      "userId": "04740348016143627760"
     },
     "user_tz": -330
    },
    "id": "Lv0vZdRc3AxZ",
    "outputId": "1f4582af-387e-4bb5-91e7-9c41c3b1050c"
   },
   "outputs": [
    {
     "data": {
      "text/plain": [
       "array(['Intel Core i3', 'AMD Ryzen 5 Hexa Core', 'Intel Core i5',\n",
       "       'AMD Ryzen 7 Quad Core', 'AMD Ryzen 5 Quad Core',\n",
       "       'AMD Ryzen 9 Octa Core', 'AMD Ryzen 7 Octa Core', 'Apple M1',\n",
       "       'Intel Celeron Dual Core', 'AMD Ryzen 3 Dual Core',\n",
       "       'AMD Athlon Dual Core', 'Intel Evo Core i5',\n",
       "       'AMD Ryzen 3 Quad Core', 'Apple M2', 'AMD Ryzen R5',\n",
       "       'Intel Celeron Quad Core', 'Intel Core i7', 'Apple M1 Pro',\n",
       "       'Qualcomm Snapdragon 7c Gen 2', 'Intel Pentium Silver',\n",
       "       'AMD Ryzen 3', 'Apple M1 Max', 'Intel Core i9', 'AMD Ryzen 5',\n",
       "       'AMD Ryzen 5 Dual Core', 'Intel Pentium Quad Core',\n",
       "       'AMD Dual Core', 'AMD Ryzen 3 Hexa Core'], dtype=object)"
      ]
     },
     "execution_count": 29,
     "metadata": {},
     "output_type": "execute_result"
    }
   ],
   "source": [
    "df['Processor'].unique()"
   ]
  },
  {
   "cell_type": "code",
   "execution_count": 30,
   "metadata": {
    "executionInfo": {
     "elapsed": 10,
     "status": "ok",
     "timestamp": 1682430347103,
     "user": {
      "displayName": "Sarfraz Hussain Mohammed",
      "userId": "04740348016143627760"
     },
     "user_tz": -330
    },
    "id": "L3eOfD7Hn-US"
   },
   "outputs": [],
   "source": [
    "df['Processor'] = df['Processor'].str.replace(\" Core\",\"\")"
   ]
  },
  {
   "cell_type": "code",
   "execution_count": 31,
   "metadata": {
    "executionInfo": {
     "elapsed": 10,
     "status": "ok",
     "timestamp": 1682430347103,
     "user": {
      "displayName": "Sarfraz Hussain Mohammed",
      "userId": "04740348016143627760"
     },
     "user_tz": -330
    },
    "id": "cxy-VtC-L2zS"
   },
   "outputs": [],
   "source": [
    "df['Processor'] = df['Processor'].str.replace(\" Quad\",\"\")"
   ]
  },
  {
   "cell_type": "code",
   "execution_count": 32,
   "metadata": {
    "executionInfo": {
     "elapsed": 696,
     "status": "ok",
     "timestamp": 1682430348932,
     "user": {
      "displayName": "Sarfraz Hussain Mohammed",
      "userId": "04740348016143627760"
     },
     "user_tz": -330
    },
    "id": "hybD9YGvL5nd"
   },
   "outputs": [],
   "source": [
    "df['Processor'] = df['Processor'].str.replace(\" Hexa\",\"\")"
   ]
  },
  {
   "cell_type": "code",
   "execution_count": 33,
   "metadata": {
    "executionInfo": {
     "elapsed": 4,
     "status": "ok",
     "timestamp": 1682430348932,
     "user": {
      "displayName": "Sarfraz Hussain Mohammed",
      "userId": "04740348016143627760"
     },
     "user_tz": -330
    },
    "id": "S4gkmpiQL9GX"
   },
   "outputs": [],
   "source": [
    "df['Processor'] = df['Processor'].str.replace(\" Octa\",\"\")"
   ]
  },
  {
   "cell_type": "code",
   "execution_count": 34,
   "metadata": {
    "executionInfo": {
     "elapsed": 5,
     "status": "ok",
     "timestamp": 1682430348933,
     "user": {
      "displayName": "Sarfraz Hussain Mohammed",
      "userId": "04740348016143627760"
     },
     "user_tz": -330
    },
    "id": "BOe9RKZyMCX1"
   },
   "outputs": [],
   "source": [
    "df['Processor'] = df['Processor'].str.replace(\" Dual\",\"\")"
   ]
  },
  {
   "cell_type": "code",
   "execution_count": 35,
   "metadata": {
    "executionInfo": {
     "elapsed": 4,
     "status": "ok",
     "timestamp": 1682430348933,
     "user": {
      "displayName": "Sarfraz Hussain Mohammed",
      "userId": "04740348016143627760"
     },
     "user_tz": -330
    },
    "id": "eEyJScHjMUAY"
   },
   "outputs": [],
   "source": [
    "df['Processor'] = df['Processor'].str.replace(\" 7c Gen 2\",\"\")"
   ]
  },
  {
   "cell_type": "code",
   "execution_count": 36,
   "metadata": {
    "executionInfo": {
     "elapsed": 20,
     "status": "ok",
     "timestamp": 1682430350750,
     "user": {
      "displayName": "Sarfraz Hussain Mohammed",
      "userId": "04740348016143627760"
     },
     "user_tz": -330
    },
    "id": "GNUT_PY3MU0F"
   },
   "outputs": [],
   "source": [
    "df['Processor'] = df['Processor'].str.replace(\"Pentium\",\"Pentium Silver\")"
   ]
  },
  {
   "cell_type": "code",
   "execution_count": 37,
   "metadata": {
    "executionInfo": {
     "elapsed": 17,
     "status": "ok",
     "timestamp": 1682430350751,
     "user": {
      "displayName": "Sarfraz Hussain Mohammed",
      "userId": "04740348016143627760"
     },
     "user_tz": -330
    },
    "id": "m_cG4QXAfy5P"
   },
   "outputs": [],
   "source": [
    "df['Processor'] = df['Processor'].str.replace(\"Pentium Silver Silver\",\"Pentium Silver\")"
   ]
  },
  {
   "cell_type": "code",
   "execution_count": 38,
   "metadata": {
    "executionInfo": {
     "elapsed": 16,
     "status": "ok",
     "timestamp": 1682430350751,
     "user": {
      "displayName": "Sarfraz Hussain Mohammed",
      "userId": "04740348016143627760"
     },
     "user_tz": -330
    },
    "id": "EsuCD6Xhg8IC"
   },
   "outputs": [],
   "source": [
    "df['Processor'] = df['Processor'].str.replace(' Evo','')"
   ]
  },
  {
   "cell_type": "code",
   "execution_count": 39,
   "metadata": {
    "executionInfo": {
     "elapsed": 17,
     "status": "ok",
     "timestamp": 1682430350752,
     "user": {
      "displayName": "Sarfraz Hussain Mohammed",
      "userId": "04740348016143627760"
     },
     "user_tz": -330
    },
    "id": "8LwBj_9Vh14S"
   },
   "outputs": [],
   "source": [
    "df['Processor'] = df['Processor'].str.replace('R5','5')"
   ]
  },
  {
   "cell_type": "code",
   "execution_count": 40,
   "metadata": {
    "colab": {
     "base_uri": "https://localhost:8080/"
    },
    "executionInfo": {
     "elapsed": 17,
     "status": "ok",
     "timestamp": 1682430350753,
     "user": {
      "displayName": "Sarfraz Hussain Mohammed",
      "userId": "04740348016143627760"
     },
     "user_tz": -330
    },
    "id": "Qxv-R9dFn-QT",
    "outputId": "23de1097-17cf-4a49-e837-931f8cb258de"
   },
   "outputs": [
    {
     "data": {
      "text/plain": [
       "array(['Intel i3', 'AMD Ryzen 5', 'Intel i5', 'AMD Ryzen 7',\n",
       "       'AMD Ryzen 9', 'Apple M1', 'Intel Celeron', 'AMD Ryzen 3',\n",
       "       'AMD Athlon', 'Apple M2', 'Intel i7', 'Apple M1 Pro',\n",
       "       'Qualcomm Snapdragon', 'Intel Pentium Silver', 'Apple M1 Max',\n",
       "       'Intel i9', 'AMD'], dtype=object)"
      ]
     },
     "execution_count": 40,
     "metadata": {},
     "output_type": "execute_result"
    }
   ],
   "source": [
    "df['Processor'].unique()"
   ]
  },
  {
   "cell_type": "code",
   "execution_count": null,
   "metadata": {
    "executionInfo": {
     "elapsed": 15,
     "status": "ok",
     "timestamp": 1682430350753,
     "user": {
      "displayName": "Sarfraz Hussain Mohammed",
      "userId": "04740348016143627760"
     },
     "user_tz": -330
    },
    "id": "qqHjvHYNg7Pa"
   },
   "outputs": [],
   "source": []
  },
  {
   "cell_type": "code",
   "execution_count": 41,
   "metadata": {
    "colab": {
     "base_uri": "https://localhost:8080/",
     "height": 331
    },
    "executionInfo": {
     "elapsed": 16,
     "status": "ok",
     "timestamp": 1682430350754,
     "user": {
      "displayName": "Sarfraz Hussain Mohammed",
      "userId": "04740348016143627760"
     },
     "user_tz": -330
    },
    "id": "inkZT2Nkd4jy",
    "outputId": "2824c3bf-4b97-4b91-a75f-68aa234cfa89"
   },
   "outputs": [
    {
     "data": {
      "text/plain": [
       "<AxesSubplot:title={'center':'MRP'}, xlabel='Processor'>"
      ]
     },
     "execution_count": 41,
     "metadata": {},
     "output_type": "execute_result"
    },
    {
     "data": {
      "image/png": "[encoded data removed]",
      "text/plain": [
       "<Figure size 1800x432 with 1 Axes>"
      ]
     },
     "metadata": {
      "needs_background": "light"
     },
     "output_type": "display_data"
    }
   ],
   "source": [
    "df.boxplot(column='MRP', by='Processor', figsize=(25,6))"
   ]
  },
  {
   "cell_type": "markdown",
   "metadata": {
    "id": "uCAuygMWC-Jn"
   },
   "source": [
    "The box-plot representation of the MRP and Processors."
   ]
  },
  {
   "cell_type": "code",
   "execution_count": null,
   "metadata": {
    "executionInfo": {
     "elapsed": 36,
     "status": "ok",
     "timestamp": 1682430352459,
     "user": {
      "displayName": "Sarfraz Hussain Mohammed",
      "userId": "04740348016143627760"
     },
     "user_tz": -330
    },
    "id": "YzSk7Agid4eO"
   },
   "outputs": [],
   "source": []
  },
  {
   "cell_type": "code",
   "execution_count": null,
   "metadata": {
    "executionInfo": {
     "elapsed": 36,
     "status": "ok",
     "timestamp": 1682430352460,
     "user": {
      "displayName": "Sarfraz Hussain Mohammed",
      "userId": "04740348016143627760"
     },
     "user_tz": -330
    },
    "id": "eVsLZ1tod3-W"
   },
   "outputs": [],
   "source": []
  },
  {
   "cell_type": "markdown",
   "metadata": {
    "id": "LFjrqpsUtIYu"
   },
   "source": [
    "*Core*"
   ]
  },
  {
   "cell_type": "code",
   "execution_count": 42,
   "metadata": {
    "colab": {
     "base_uri": "https://localhost:8080/",
     "height": 53
    },
    "executionInfo": {
     "elapsed": 36,
     "status": "ok",
     "timestamp": 1682430352461,
     "user": {
      "displayName": "Sarfraz Hussain Mohammed",
      "userId": "04740348016143627760"
     },
     "user_tz": -330
    },
    "id": "0gkDNIGAtHic",
    "outputId": "2a1647a7-6193-464a-c1fe-a87b3530063a"
   },
   "outputs": [
    {
     "data": {
      "text/plain": [
       "'Intel Core i3 Processor (11th Gen)8 GB DDR4 RAM64 bit Windows 11 Operating System256 GB SSD35.56 cm (14 inch) DisplayOffice Home and Student 20212 Year Onsite�Warranty'"
      ]
     },
     "execution_count": 42,
     "metadata": {},
     "output_type": "execute_result"
    }
   ],
   "source": [
    "df['Feature'][0]"
   ]
  },
  {
   "cell_type": "markdown",
   "metadata": {
    "id": "ZTpOffnmOjS0"
   },
   "source": [
    "CORE"
   ]
  },
  {
   "cell_type": "code",
   "execution_count": 43,
   "metadata": {
    "executionInfo": {
     "elapsed": 34,
     "status": "ok",
     "timestamp": 1682430352461,
     "user": {
      "displayName": "Sarfraz Hussain Mohammed",
      "userId": "04740348016143627760"
     },
     "user_tz": -330
    },
    "id": "Q_beNjyLtZ0L"
   },
   "outputs": [],
   "source": [
    "df['Core']=df.Feature.apply(lambda x: re.compile(r'\\w+\\s+Core').search(x))\n"
   ]
  },
  {
   "cell_type": "code",
   "execution_count": 44,
   "metadata": {
    "colab": {
     "base_uri": "https://localhost:8080/"
    },
    "executionInfo": {
     "elapsed": 33,
     "status": "ok",
     "timestamp": 1682430352462,
     "user": {
      "displayName": "Sarfraz Hussain Mohammed",
      "userId": "04740348016143627760"
     },
     "user_tz": -330
    },
    "id": "yXyL9cXKtZvV",
    "outputId": "c4db8c77-2282-4392-bc1a-909a4f01068e"
   },
   "outputs": [
    {
     "name": "stderr",
     "output_type": "stream",
     "text": [
      "<ipython-input-44-8d89ffe712d9>:10: SettingWithCopyWarning: \n",
      "A value is trying to be set on a copy of a slice from a DataFrame\n",
      "\n",
      "See the caveats in the documentation: https://pandas.pydata.org/pandas-docs/stable/user_guide/indexing.html#returning-a-view-versus-a-copy\n",
      "  df['Core'][i] = df['Core'][i].group()\n",
      "<ipython-input-44-8d89ffe712d9>:4: SettingWithCopyWarning: \n",
      "A value is trying to be set on a copy of a slice from a DataFrame\n",
      "\n",
      "See the caveats in the documentation: https://pandas.pydata.org/pandas-docs/stable/user_guide/indexing.html#returning-a-view-versus-a-copy\n",
      "  df['Core'][i] = 'M Core'\n",
      "<ipython-input-44-8d89ffe712d9>:8: SettingWithCopyWarning: \n",
      "A value is trying to be set on a copy of a slice from a DataFrame\n",
      "\n",
      "See the caveats in the documentation: https://pandas.pydata.org/pandas-docs/stable/user_guide/indexing.html#returning-a-view-versus-a-copy\n",
      "  df['Core'][i] = 'Octa Core'\n",
      "<ipython-input-44-8d89ffe712d9>:6: SettingWithCopyWarning: \n",
      "A value is trying to be set on a copy of a slice from a DataFrame\n",
      "\n",
      "See the caveats in the documentation: https://pandas.pydata.org/pandas-docs/stable/user_guide/indexing.html#returning-a-view-versus-a-copy\n",
      "  df['Core'][i] = 'Intel Core'\n"
     ]
    }
   ],
   "source": [
    "for i in range(len(df['Core'])):\n",
    "    if df['Core'][i] == None:\n",
    "        if 'Apple' in df['Processor'][i]:\n",
    "            df['Core'][i] = 'M Core'\n",
    "        elif 'Pentium' in df['Processor'][i]:\n",
    "            df['Core'][i] = 'Intel Core'\n",
    "        else:\n",
    "            df['Core'][i] = 'Octa Core'\n",
    "    else:\n",
    "        df['Core'][i] = df['Core'][i].group()\n"
   ]
  },
  {
   "cell_type": "code",
   "execution_count": 45,
   "metadata": {
    "colab": {
     "base_uri": "https://localhost:8080/"
    },
    "executionInfo": {
     "elapsed": 26,
     "status": "ok",
     "timestamp": 1682430352463,
     "user": {
      "displayName": "Sarfraz Hussain Mohammed",
      "userId": "04740348016143627760"
     },
     "user_tz": -330
    },
    "id": "0pprZ5cE4lv_",
    "outputId": "cdc7d7cc-9eeb-4e9f-a3e5-de1ee27f7644"
   },
   "outputs": [
    {
     "data": {
      "text/plain": [
       "array(['Intel Core', 'Hexa Core', '2 Core', 'DriveIntel Core',\n",
       "       'Quad Core', 'Octa Core', 'M Core', 'Dual Core', 'Evo Core',\n",
       "       'availableIntel Core', 'OSIntel Core', '1Intel Core',\n",
       "       'CenterIntel Core', 'PerformanceIntel Core', 'micIntel Core',\n",
       "       'settingsIntel Core', 'TiIntel Core', 'KeypadIntel Core'],\n",
       "      dtype=object)"
      ]
     },
     "execution_count": 45,
     "metadata": {},
     "output_type": "execute_result"
    }
   ],
   "source": [
    "df['Core'].unique()"
   ]
  },
  {
   "cell_type": "code",
   "execution_count": 46,
   "metadata": {
    "colab": {
     "base_uri": "https://localhost:8080/"
    },
    "executionInfo": {
     "elapsed": 20,
     "status": "ok",
     "timestamp": 1682430352464,
     "user": {
      "displayName": "Sarfraz Hussain Mohammed",
      "userId": "04740348016143627760"
     },
     "user_tz": -330
    },
    "id": "b_xSLIYm54Ne",
    "outputId": "91dacd56-164f-4424-9e34-017664eec098"
   },
   "outputs": [
    {
     "name": "stderr",
     "output_type": "stream",
     "text": [
      "<ipython-input-46-8a38bdceb82f>:3: SettingWithCopyWarning: \n",
      "A value is trying to be set on a copy of a slice from a DataFrame\n",
      "\n",
      "See the caveats in the documentation: https://pandas.pydata.org/pandas-docs/stable/user_guide/indexing.html#returning-a-view-versus-a-copy\n",
      "  df['Core'][i] = 'Intel Core'\n"
     ]
    }
   ],
   "source": [
    "for i in range(len(df['Core'])):\n",
    "    if \"Intel\" in df['Core'][i]:\n",
    "        df['Core'][i] = 'Intel Core'"
   ]
  },
  {
   "cell_type": "code",
   "execution_count": 47,
   "metadata": {
    "colab": {
     "base_uri": "https://localhost:8080/"
    },
    "executionInfo": {
     "elapsed": 16,
     "status": "ok",
     "timestamp": 1682430352464,
     "user": {
      "displayName": "Sarfraz Hussain Mohammed",
      "userId": "04740348016143627760"
     },
     "user_tz": -330
    },
    "id": "Qf8bRoe-7AgS",
    "outputId": "ccbc14a7-1deb-4876-a331-1a2cbc53e9d4"
   },
   "outputs": [
    {
     "name": "stderr",
     "output_type": "stream",
     "text": [
      "<ipython-input-47-07a45f9e7883>:3: SettingWithCopyWarning: \n",
      "A value is trying to be set on a copy of a slice from a DataFrame\n",
      "\n",
      "See the caveats in the documentation: https://pandas.pydata.org/pandas-docs/stable/user_guide/indexing.html#returning-a-view-versus-a-copy\n",
      "  df['Core'][i] = 'Dual Core'\n"
     ]
    }
   ],
   "source": [
    "for i in range(len(df['Core'])):\n",
    "    if df['Core'][i] == '2 Core':\n",
    "        df['Core'][i] = 'Dual Core'"
   ]
  },
  {
   "cell_type": "code",
   "execution_count": 48,
   "metadata": {
    "colab": {
     "base_uri": "https://localhost:8080/",
     "height": 447
    },
    "executionInfo": {
     "elapsed": 25,
     "status": "ok",
     "timestamp": 1682430353369,
     "user": {
      "displayName": "Sarfraz Hussain Mohammed",
      "userId": "04740348016143627760"
     },
     "user_tz": -330
    },
    "id": "uVTo9vYk5mge",
    "outputId": "c034d03f-6eb2-4320-d39c-7b69825317d9"
   },
   "outputs": [
    {
     "data": {
      "text/plain": [
       "<AxesSubplot:>"
      ]
     },
     "execution_count": 48,
     "metadata": {},
     "output_type": "execute_result"
    },
    {
     "data": {
      "image/png": "[encoded data removed]",
      "text/plain": [
       "<Figure size 432x288 with 1 Axes>"
      ]
     },
     "metadata": {
      "needs_background": "light"
     },
     "output_type": "display_data"
    }
   ],
   "source": [
    "df['Core'].value_counts().plot(kind='barh')"
   ]
  },
  {
   "cell_type": "code",
   "execution_count": 49,
   "metadata": {
    "colab": {
     "base_uri": "https://localhost:8080/",
     "height": 423
    },
    "executionInfo": {
     "elapsed": 19,
     "status": "ok",
     "timestamp": 1682430353370,
     "user": {
      "displayName": "Sarfraz Hussain Mohammed",
      "userId": "04740348016143627760"
     },
     "user_tz": -330
    },
    "id": "n6qLk3BSyhv4",
    "outputId": "c91404b6-1a36-479e-ce93-53494dc55b28"
   },
   "outputs": [
    {
     "data": {
      "text/html": [
       "<div>\n",
       "<style scoped>\n",
       "    .dataframe tbody tr th:only-of-type {\n",
       "        vertical-align: middle;\n",
       "    }\n",
       "\n",
       "    .dataframe tbody tr th {\n",
       "        vertical-align: top;\n",
       "    }\n",
       "\n",
       "    .dataframe thead th {\n",
       "        text-align: right;\n",
       "    }\n",
       "</style>\n",
       "<table border=\"1\" class=\"dataframe\">\n",
       "  <thead>\n",
       "    <tr style=\"text-align: right;\">\n",
       "      <th></th>\n",
       "      <th>Product</th>\n",
       "      <th>Rating</th>\n",
       "      <th>MRP</th>\n",
       "      <th>Feature</th>\n",
       "      <th>Processor</th>\n",
       "      <th>Core</th>\n",
       "    </tr>\n",
       "  </thead>\n",
       "  <tbody>\n",
       "    <tr>\n",
       "      <th>0</th>\n",
       "      <td>Lenovo IdeaPad 3 Core i3 11th Gen - (8 GB/256 ...</td>\n",
       "      <td>4.2</td>\n",
       "      <td>36990.0</td>\n",
       "      <td>Intel Core i3 Processor (11th Gen)8 GB DDR4 RA...</td>\n",
       "      <td>Intel i3</td>\n",
       "      <td>Intel Core</td>\n",
       "    </tr>\n",
       "    <tr>\n",
       "      <th>1</th>\n",
       "      <td>Lenovo IdeaPad 3 Core i3 11th Gen - (8 GB/512 ...</td>\n",
       "      <td>4.2</td>\n",
       "      <td>39990.0</td>\n",
       "      <td>Intel Core i3 Processor (11th Gen)8 GB DDR4 RA...</td>\n",
       "      <td>Intel i3</td>\n",
       "      <td>Intel Core</td>\n",
       "    </tr>\n",
       "    <tr>\n",
       "      <th>2</th>\n",
       "      <td>ASUS VivoBook 15 (2022) Core i3 10th Gen - (8 ...</td>\n",
       "      <td>4.3</td>\n",
       "      <td>32990.0</td>\n",
       "      <td>Intel Core i3 Processor (10th Gen)8 GB DDR4 RA...</td>\n",
       "      <td>Intel i3</td>\n",
       "      <td>Intel Core</td>\n",
       "    </tr>\n",
       "    <tr>\n",
       "      <th>4</th>\n",
       "      <td>ASUS TUF Gaming F15 Core i5 10th Gen - (8 GB/5...</td>\n",
       "      <td>4.4</td>\n",
       "      <td>49990.0</td>\n",
       "      <td>Intel Core i5 Processor (10th Gen)8 GB DDR4 RA...</td>\n",
       "      <td>Intel i5</td>\n",
       "      <td>Intel Core</td>\n",
       "    </tr>\n",
       "    <tr>\n",
       "      <th>5</th>\n",
       "      <td>HP 14s Intel Core i3 11th Gen - (8 GB/256 GB S...</td>\n",
       "      <td>4.2</td>\n",
       "      <td>36990.0</td>\n",
       "      <td>Intel Core i3 Processor (11th Gen)8 GB DDR4 RA...</td>\n",
       "      <td>Intel i3</td>\n",
       "      <td>Intel Core</td>\n",
       "    </tr>\n",
       "    <tr>\n",
       "      <th>...</th>\n",
       "      <td>...</td>\n",
       "      <td>...</td>\n",
       "      <td>...</td>\n",
       "      <td>...</td>\n",
       "      <td>...</td>\n",
       "      <td>...</td>\n",
       "    </tr>\n",
       "    <tr>\n",
       "      <th>708</th>\n",
       "      <td>ASUS VivoBook 15 Core i5 10th Gen - (8 GB/1 TB...</td>\n",
       "      <td>3.9</td>\n",
       "      <td>44990.0</td>\n",
       "      <td>Intel Core i5 Processor (10th Gen)8 GB DDR4 RA...</td>\n",
       "      <td>Intel i5</td>\n",
       "      <td>Intel Core</td>\n",
       "    </tr>\n",
       "    <tr>\n",
       "      <th>712</th>\n",
       "      <td>ASUS ExpertBook B9 Core i7 10th Gen - (16 GB/2...</td>\n",
       "      <td>NaN</td>\n",
       "      <td>233990.0</td>\n",
       "      <td>Intel Core i7 Processor (10th Gen)16 GB LPDDR3...</td>\n",
       "      <td>Intel i7</td>\n",
       "      <td>Intel Core</td>\n",
       "    </tr>\n",
       "    <tr>\n",
       "      <th>713</th>\n",
       "      <td>DELL Core i5 12th Gen - (16 GB/512 GB SSD/Wind...</td>\n",
       "      <td>NaN</td>\n",
       "      <td>76590.0</td>\n",
       "      <td>Intel Core i5 Processor (12th Gen)16 GB DDR5 R...</td>\n",
       "      <td>Intel i5</td>\n",
       "      <td>Intel Core</td>\n",
       "    </tr>\n",
       "    <tr>\n",
       "      <th>718</th>\n",
       "      <td>ASUS Zenbook Flip 14 OLED (2022) Touch Panel C...</td>\n",
       "      <td>3.0</td>\n",
       "      <td>125990.0</td>\n",
       "      <td>Intel Core i7 Processor (12th Gen)16 GB LPDDR5...</td>\n",
       "      <td>Intel i7</td>\n",
       "      <td>Intel Core</td>\n",
       "    </tr>\n",
       "    <tr>\n",
       "      <th>719</th>\n",
       "      <td>Lenovo Ideapad Slim 3i Core i5 10th Gen - (8 G...</td>\n",
       "      <td>4.2</td>\n",
       "      <td>50990.0</td>\n",
       "      <td>Intel Core i5 Processor (10th Gen)8 GB DDR4 RA...</td>\n",
       "      <td>Intel i5</td>\n",
       "      <td>Intel Core</td>\n",
       "    </tr>\n",
       "  </tbody>\n",
       "</table>\n",
       "<p>360 rows × 6 columns</p>\n",
       "</div>"
      ],
      "text/plain": [
       "                                               Product  Rating       MRP  \\\n",
       "0    Lenovo IdeaPad 3 Core i3 11th Gen - (8 GB/256 ...     4.2   36990.0   \n",
       "1    Lenovo IdeaPad 3 Core i3 11th Gen - (8 GB/512 ...     4.2   39990.0   \n",
       "2    ASUS VivoBook 15 (2022) Core i3 10th Gen - (8 ...     4.3   32990.0   \n",
       "4    ASUS TUF Gaming F15 Core i5 10th Gen - (8 GB/5...     4.4   49990.0   \n",
       "5    HP 14s Intel Core i3 11th Gen - (8 GB/256 GB S...     4.2   36990.0   \n",
       "..                                                 ...     ...       ...   \n",
       "708  ASUS VivoBook 15 Core i5 10th Gen - (8 GB/1 TB...     3.9   44990.0   \n",
       "712  ASUS ExpertBook B9 Core i7 10th Gen - (16 GB/2...     NaN  233990.0   \n",
       "713  DELL Core i5 12th Gen - (16 GB/512 GB SSD/Wind...     NaN   76590.0   \n",
       "718  ASUS Zenbook Flip 14 OLED (2022) Touch Panel C...     3.0  125990.0   \n",
       "719  Lenovo Ideapad Slim 3i Core i5 10th Gen - (8 G...     4.2   50990.0   \n",
       "\n",
       "                                               Feature Processor        Core  \n",
       "0    Intel Core i3 Processor (11th Gen)8 GB DDR4 RA...  Intel i3  Intel Core  \n",
       "1    Intel Core i3 Processor (11th Gen)8 GB DDR4 RA...  Intel i3  Intel Core  \n",
       "2    Intel Core i3 Processor (10th Gen)8 GB DDR4 RA...  Intel i3  Intel Core  \n",
       "4    Intel Core i5 Processor (10th Gen)8 GB DDR4 RA...  Intel i5  Intel Core  \n",
       "5    Intel Core i3 Processor (11th Gen)8 GB DDR4 RA...  Intel i3  Intel Core  \n",
       "..                                                 ...       ...         ...  \n",
       "708  Intel Core i5 Processor (10th Gen)8 GB DDR4 RA...  Intel i5  Intel Core  \n",
       "712  Intel Core i7 Processor (10th Gen)16 GB LPDDR3...  Intel i7  Intel Core  \n",
       "713  Intel Core i5 Processor (12th Gen)16 GB DDR5 R...  Intel i5  Intel Core  \n",
       "718  Intel Core i7 Processor (12th Gen)16 GB LPDDR5...  Intel i7  Intel Core  \n",
       "719  Intel Core i5 Processor (10th Gen)8 GB DDR4 RA...  Intel i5  Intel Core  \n",
       "\n",
       "[360 rows x 6 columns]"
      ]
     },
     "execution_count": 49,
     "metadata": {},
     "output_type": "execute_result"
    }
   ],
   "source": [
    "df[df['Core']=='Intel Core']"
   ]
  },
  {
   "cell_type": "code",
   "execution_count": 50,
   "metadata": {
    "colab": {
     "base_uri": "https://localhost:8080/",
     "height": 88
    },
    "executionInfo": {
     "elapsed": 18,
     "status": "ok",
     "timestamp": 1682430353371,
     "user": {
      "displayName": "Sarfraz Hussain Mohammed",
      "userId": "04740348016143627760"
     },
     "user_tz": -330
    },
    "id": "XaTZj3r6tZqf",
    "outputId": "ef342627-f7ec-4924-f622-a6317c7eab4c"
   },
   "outputs": [
    {
     "data": {
      "text/plain": [
       "'Processor: Intel PQC-N5030 (1.10 GHz up to 3.10 GHz)RAM & Storage: 8GB DDR4 & 256GB SSDDisplay: 15.6\" HD AG Narrow BorderSoftware: Win 11 + Office H&S 20212x USB 3.2 Gen1 ,1x USB 2.0, HDMI 1.4, SD Card reader, Audio jack, 1 M.2 2230/2280 slot for solid-state drive/Intel OptaneWiFi & BT: 802.11ac 1x1 WiFi and BluetoothIntel Pentium Silver Processor8 GB DDR4 RAM64 bit Windows 11 Operating System256 GB SSD39.62 cm (15.6 Inch) Display1 Year Onsite Warranty'"
      ]
     },
     "execution_count": 50,
     "metadata": {},
     "output_type": "execute_result"
    }
   ],
   "source": [
    "df['Feature'][94]"
   ]
  },
  {
   "cell_type": "code",
   "execution_count": 51,
   "metadata": {
    "colab": {
     "base_uri": "https://localhost:8080/",
     "height": 36
    },
    "executionInfo": {
     "elapsed": 27,
     "status": "ok",
     "timestamp": 1682430354879,
     "user": {
      "displayName": "Sarfraz Hussain Mohammed",
      "userId": "04740348016143627760"
     },
     "user_tz": -330
    },
    "id": "BBn7kw42tZlz",
    "outputId": "bf3d3f63-6384-4d10-c6f9-0a38f225ccab"
   },
   "outputs": [
    {
     "data": {
      "text/plain": [
       "'Qualcomm Snapdragon'"
      ]
     },
     "execution_count": 51,
     "metadata": {},
     "output_type": "execute_result"
    }
   ],
   "source": [
    "df['Processor'][83]"
   ]
  },
  {
   "cell_type": "code",
   "execution_count": 52,
   "metadata": {
    "colab": {
     "base_uri": "https://localhost:8080/",
     "height": 406
    },
    "executionInfo": {
     "elapsed": 26,
     "status": "ok",
     "timestamp": 1682430354881,
     "user": {
      "displayName": "Sarfraz Hussain Mohammed",
      "userId": "04740348016143627760"
     },
     "user_tz": -330
    },
    "id": "JON3OuyWtZeV",
    "outputId": "5838bf7b-b59a-460f-eb44-b525ff277e2d"
   },
   "outputs": [
    {
     "data": {
      "text/plain": [
       "<AxesSubplot:title={'center':'MRP'}, xlabel='Core'>"
      ]
     },
     "execution_count": 52,
     "metadata": {},
     "output_type": "execute_result"
    },
    {
     "data": {
      "image/png": "[encoded data removed]",
      "text/plain": [
       "<Figure size 1440x432 with 1 Axes>"
      ]
     },
     "metadata": {
      "needs_background": "light"
     },
     "output_type": "display_data"
    }
   ],
   "source": [
    "df.boxplot(column='MRP', by='Core', figsize=(20,6))"
   ]
  },
  {
   "cell_type": "code",
   "execution_count": 53,
   "metadata": {
    "colab": {
     "base_uri": "https://localhost:8080/"
    },
    "executionInfo": {
     "elapsed": 16,
     "status": "ok",
     "timestamp": 1682430354882,
     "user": {
      "displayName": "Sarfraz Hussain Mohammed",
      "userId": "04740348016143627760"
     },
     "user_tz": -330
    },
    "id": "tu8i5VVdtZZb",
    "outputId": "a122f005-7004-4d3c-c08a-441da5bd0680"
   },
   "outputs": [
    {
     "name": "stderr",
     "output_type": "stream",
     "text": [
      "<ipython-input-53-dbc54ff39103>:4: SettingWithCopyWarning: \n",
      "A value is trying to be set on a copy of a slice from a DataFrame\n",
      "\n",
      "See the caveats in the documentation: https://pandas.pydata.org/pandas-docs/stable/user_guide/indexing.html#returning-a-view-versus-a-copy\n",
      "  df['Core'][i] = 'Hexa Core'\n",
      "<ipython-input-53-dbc54ff39103>:6: SettingWithCopyWarning: \n",
      "A value is trying to be set on a copy of a slice from a DataFrame\n",
      "\n",
      "See the caveats in the documentation: https://pandas.pydata.org/pandas-docs/stable/user_guide/indexing.html#returning-a-view-versus-a-copy\n",
      "  df['Core'][i] = 'Octa Core'\n"
     ]
    }
   ],
   "source": [
    "for i in range(len(df['Core'])):\n",
    "    if df['Core'][i] == 'Intel Core':\n",
    "        if df['MRP'][i]< 100000:\n",
    "            df['Core'][i] = 'Hexa Core'\n",
    "        elif df['MRP'][i]> 100000:\n",
    "            df['Core'][i] = 'Octa Core'"
   ]
  },
  {
   "cell_type": "code",
   "execution_count": 54,
   "metadata": {
    "colab": {
     "base_uri": "https://localhost:8080/",
     "height": 406
    },
    "executionInfo": {
     "elapsed": 23,
     "status": "ok",
     "timestamp": 1682430356162,
     "user": {
      "displayName": "Sarfraz Hussain Mohammed",
      "userId": "04740348016143627760"
     },
     "user_tz": -330
    },
    "id": "_pcCyCWjEcFf",
    "outputId": "221c87c1-9ffc-41ca-ee67-2252b535380f"
   },
   "outputs": [
    {
     "data": {
      "text/plain": [
       "<AxesSubplot:title={'center':'MRP'}, xlabel='Core'>"
      ]
     },
     "execution_count": 54,
     "metadata": {},
     "output_type": "execute_result"
    },
    {
     "data": {
      "image/png": "[encoded data removed]",
      "text/plain": [
       "<Figure size 1440x432 with 1 Axes>"
      ]
     },
     "metadata": {
      "needs_background": "light"
     },
     "output_type": "display_data"
    }
   ],
   "source": [
    "df.boxplot(column='MRP', by='Core', figsize=(20,6))"
   ]
  },
  {
   "cell_type": "code",
   "execution_count": null,
   "metadata": {
    "executionInfo": {
     "elapsed": 19,
     "status": "ok",
     "timestamp": 1682430356163,
     "user": {
      "displayName": "Sarfraz Hussain Mohammed",
      "userId": "04740348016143627760"
     },
     "user_tz": -330
    },
    "id": "VpqkLTVM8sOR"
   },
   "outputs": [],
   "source": []
  },
  {
   "cell_type": "code",
   "execution_count": 55,
   "metadata": {
    "executionInfo": {
     "elapsed": 20,
     "status": "ok",
     "timestamp": 1682430356164,
     "user": {
      "displayName": "Sarfraz Hussain Mohammed",
      "userId": "04740348016143627760"
     },
     "user_tz": -330
    },
    "id": "n9ty_Ste8sI8"
   },
   "outputs": [],
   "source": [
    "df['Core'] = df['Core'].str.replace(\" Core\",\"\")"
   ]
  },
  {
   "cell_type": "code",
   "execution_count": 56,
   "metadata": {
    "colab": {
     "base_uri": "https://localhost:8080/"
    },
    "executionInfo": {
     "elapsed": 19,
     "status": "ok",
     "timestamp": 1682430356165,
     "user": {
      "displayName": "Sarfraz Hussain Mohammed",
      "userId": "04740348016143627760"
     },
     "user_tz": -330
    },
    "id": "gQVLFFZQYUU6",
    "outputId": "54670c23-3436-41fe-dee0-5b8d8f19de45"
   },
   "outputs": [
    {
     "data": {
      "text/plain": [
       "array(['Hexa', 'Dual', 'Quad', 'Octa', 'M', 'Evo'], dtype=object)"
      ]
     },
     "execution_count": 56,
     "metadata": {},
     "output_type": "execute_result"
    }
   ],
   "source": [
    "df['Core'].unique()"
   ]
  },
  {
   "cell_type": "code",
   "execution_count": 57,
   "metadata": {
    "colab": {
     "base_uri": "https://localhost:8080/",
     "height": 423
    },
    "executionInfo": {
     "elapsed": 16,
     "status": "ok",
     "timestamp": 1682430356166,
     "user": {
      "displayName": "Sarfraz Hussain Mohammed",
      "userId": "04740348016143627760"
     },
     "user_tz": -330
    },
    "id": "gk6iXAMUYURl",
    "outputId": "fdea0c15-ec43-48fa-e5d8-14897f9601b9"
   },
   "outputs": [
    {
     "data": {
      "text/html": [
       "<div>\n",
       "<style scoped>\n",
       "    .dataframe tbody tr th:only-of-type {\n",
       "        vertical-align: middle;\n",
       "    }\n",
       "\n",
       "    .dataframe tbody tr th {\n",
       "        vertical-align: top;\n",
       "    }\n",
       "\n",
       "    .dataframe thead th {\n",
       "        text-align: right;\n",
       "    }\n",
       "</style>\n",
       "<table border=\"1\" class=\"dataframe\">\n",
       "  <thead>\n",
       "    <tr style=\"text-align: right;\">\n",
       "      <th></th>\n",
       "      <th>Product</th>\n",
       "      <th>Rating</th>\n",
       "      <th>MRP</th>\n",
       "      <th>Feature</th>\n",
       "      <th>Processor</th>\n",
       "      <th>Core</th>\n",
       "    </tr>\n",
       "  </thead>\n",
       "  <tbody>\n",
       "    <tr>\n",
       "      <th>0</th>\n",
       "      <td>Lenovo IdeaPad 3 Core i3 11th Gen - (8 GB/256 ...</td>\n",
       "      <td>4.2</td>\n",
       "      <td>36990.0</td>\n",
       "      <td>Intel Core i3 Processor (11th Gen)8 GB DDR4 RA...</td>\n",
       "      <td>Intel i3</td>\n",
       "      <td>Hexa</td>\n",
       "    </tr>\n",
       "    <tr>\n",
       "      <th>1</th>\n",
       "      <td>Lenovo IdeaPad 3 Core i3 11th Gen - (8 GB/512 ...</td>\n",
       "      <td>4.2</td>\n",
       "      <td>39990.0</td>\n",
       "      <td>Intel Core i3 Processor (11th Gen)8 GB DDR4 RA...</td>\n",
       "      <td>Intel i3</td>\n",
       "      <td>Hexa</td>\n",
       "    </tr>\n",
       "    <tr>\n",
       "      <th>2</th>\n",
       "      <td>ASUS VivoBook 15 (2022) Core i3 10th Gen - (8 ...</td>\n",
       "      <td>4.3</td>\n",
       "      <td>32990.0</td>\n",
       "      <td>Intel Core i3 Processor (10th Gen)8 GB DDR4 RA...</td>\n",
       "      <td>Intel i3</td>\n",
       "      <td>Hexa</td>\n",
       "    </tr>\n",
       "    <tr>\n",
       "      <th>3</th>\n",
       "      <td>HP Pavilion Ryzen 5 Hexa Core AMD R5-5600H - (...</td>\n",
       "      <td>4.4</td>\n",
       "      <td>49990.0</td>\n",
       "      <td>AMD Ryzen 5 Hexa Core Processor8 GB DDR4 RAM64...</td>\n",
       "      <td>AMD Ryzen 5</td>\n",
       "      <td>Hexa</td>\n",
       "    </tr>\n",
       "    <tr>\n",
       "      <th>4</th>\n",
       "      <td>ASUS TUF Gaming F15 Core i5 10th Gen - (8 GB/5...</td>\n",
       "      <td>4.4</td>\n",
       "      <td>49990.0</td>\n",
       "      <td>Intel Core i5 Processor (10th Gen)8 GB DDR4 RA...</td>\n",
       "      <td>Intel i5</td>\n",
       "      <td>Hexa</td>\n",
       "    </tr>\n",
       "    <tr>\n",
       "      <th>...</th>\n",
       "      <td>...</td>\n",
       "      <td>...</td>\n",
       "      <td>...</td>\n",
       "      <td>...</td>\n",
       "      <td>...</td>\n",
       "      <td>...</td>\n",
       "    </tr>\n",
       "    <tr>\n",
       "      <th>715</th>\n",
       "      <td>ASUS Chromebook Flip Touch Celeron Dual Core -...</td>\n",
       "      <td>4.0</td>\n",
       "      <td>23490.0</td>\n",
       "      <td>Intel Celeron Dual Core Processor4 GB LPDDR4 R...</td>\n",
       "      <td>Intel Celeron</td>\n",
       "      <td>Dual</td>\n",
       "    </tr>\n",
       "    <tr>\n",
       "      <th>716</th>\n",
       "      <td>Lenovo IdeaPad Gaming 3 Ryzen 7 Octa Core AMD ...</td>\n",
       "      <td>4.5</td>\n",
       "      <td>73490.0</td>\n",
       "      <td>AMD Ryzen 7 Octa Core Processor8 GB DDR4 RAM64...</td>\n",
       "      <td>AMD Ryzen 7</td>\n",
       "      <td>Octa</td>\n",
       "    </tr>\n",
       "    <tr>\n",
       "      <th>717</th>\n",
       "      <td>ASUS ROG Zephyrus G15 Ryzen 9 Octa Core 6900HS...</td>\n",
       "      <td>NaN</td>\n",
       "      <td>194990.0</td>\n",
       "      <td>AMD Ryzen 9 Octa Core Processor16 GB DDR5 RAM6...</td>\n",
       "      <td>AMD Ryzen 9</td>\n",
       "      <td>Octa</td>\n",
       "    </tr>\n",
       "    <tr>\n",
       "      <th>718</th>\n",
       "      <td>ASUS Zenbook Flip 14 OLED (2022) Touch Panel C...</td>\n",
       "      <td>3.0</td>\n",
       "      <td>125990.0</td>\n",
       "      <td>Intel Core i7 Processor (12th Gen)16 GB LPDDR5...</td>\n",
       "      <td>Intel i7</td>\n",
       "      <td>Octa</td>\n",
       "    </tr>\n",
       "    <tr>\n",
       "      <th>719</th>\n",
       "      <td>Lenovo Ideapad Slim 3i Core i5 10th Gen - (8 G...</td>\n",
       "      <td>4.2</td>\n",
       "      <td>50990.0</td>\n",
       "      <td>Intel Core i5 Processor (10th Gen)8 GB DDR4 RA...</td>\n",
       "      <td>Intel i5</td>\n",
       "      <td>Hexa</td>\n",
       "    </tr>\n",
       "  </tbody>\n",
       "</table>\n",
       "<p>720 rows × 6 columns</p>\n",
       "</div>"
      ],
      "text/plain": [
       "                                               Product  Rating       MRP  \\\n",
       "0    Lenovo IdeaPad 3 Core i3 11th Gen - (8 GB/256 ...     4.2   36990.0   \n",
       "1    Lenovo IdeaPad 3 Core i3 11th Gen - (8 GB/512 ...     4.2   39990.0   \n",
       "2    ASUS VivoBook 15 (2022) Core i3 10th Gen - (8 ...     4.3   32990.0   \n",
       "3    HP Pavilion Ryzen 5 Hexa Core AMD R5-5600H - (...     4.4   49990.0   \n",
       "4    ASUS TUF Gaming F15 Core i5 10th Gen - (8 GB/5...     4.4   49990.0   \n",
       "..                                                 ...     ...       ...   \n",
       "715  ASUS Chromebook Flip Touch Celeron Dual Core -...     4.0   23490.0   \n",
       "716  Lenovo IdeaPad Gaming 3 Ryzen 7 Octa Core AMD ...     4.5   73490.0   \n",
       "717  ASUS ROG Zephyrus G15 Ryzen 9 Octa Core 6900HS...     NaN  194990.0   \n",
       "718  ASUS Zenbook Flip 14 OLED (2022) Touch Panel C...     3.0  125990.0   \n",
       "719  Lenovo Ideapad Slim 3i Core i5 10th Gen - (8 G...     4.2   50990.0   \n",
       "\n",
       "                                               Feature      Processor  Core  \n",
       "0    Intel Core i3 Processor (11th Gen)8 GB DDR4 RA...       Intel i3  Hexa  \n",
       "1    Intel Core i3 Processor (11th Gen)8 GB DDR4 RA...       Intel i3  Hexa  \n",
       "2    Intel Core i3 Processor (10th Gen)8 GB DDR4 RA...       Intel i3  Hexa  \n",
       "3    AMD Ryzen 5 Hexa Core Processor8 GB DDR4 RAM64...    AMD Ryzen 5  Hexa  \n",
       "4    Intel Core i5 Processor (10th Gen)8 GB DDR4 RA...       Intel i5  Hexa  \n",
       "..                                                 ...            ...   ...  \n",
       "715  Intel Celeron Dual Core Processor4 GB LPDDR4 R...  Intel Celeron  Dual  \n",
       "716  AMD Ryzen 7 Octa Core Processor8 GB DDR4 RAM64...    AMD Ryzen 7  Octa  \n",
       "717  AMD Ryzen 9 Octa Core Processor16 GB DDR5 RAM6...    AMD Ryzen 9  Octa  \n",
       "718  Intel Core i7 Processor (12th Gen)16 GB LPDDR5...       Intel i7  Octa  \n",
       "719  Intel Core i5 Processor (10th Gen)8 GB DDR4 RA...       Intel i5  Hexa  \n",
       "\n",
       "[720 rows x 6 columns]"
      ]
     },
     "execution_count": 57,
     "metadata": {},
     "output_type": "execute_result"
    }
   ],
   "source": [
    "df"
   ]
  },
  {
   "cell_type": "code",
   "execution_count": null,
   "metadata": {
    "executionInfo": {
     "elapsed": 15,
     "status": "ok",
     "timestamp": 1682430356167,
     "user": {
      "displayName": "Sarfraz Hussain Mohammed",
      "userId": "04740348016143627760"
     },
     "user_tz": -330
    },
    "id": "RIkOOEmqYUOK"
   },
   "outputs": [],
   "source": []
  },
  {
   "cell_type": "markdown",
   "metadata": {
    "id": "7LpEo1V-X04x"
   },
   "source": [
    "*RAM & RAM TYPE*\n"
   ]
  },
  {
   "cell_type": "code",
   "execution_count": 58,
   "metadata": {
    "executionInfo": {
     "elapsed": 14,
     "status": "ok",
     "timestamp": 1682430356883,
     "user": {
      "displayName": "Sarfraz Hussain Mohammed",
      "userId": "04740348016143627760"
     },
     "user_tz": -330
    },
    "id": "5oR2geTxfMdD"
   },
   "outputs": [],
   "source": [
    "df['RAM']=df.Feature.apply(lambda x: re.compile(r'\\d+\\s+(?:GB|TB)\\s+(?:LP)?DDR\\d+(?:X)?\\s+RAM').search(x))"
   ]
  },
  {
   "cell_type": "code",
   "execution_count": null,
   "metadata": {
    "executionInfo": {
     "elapsed": 14,
     "status": "ok",
     "timestamp": 1682430356884,
     "user": {
      "displayName": "Sarfraz Hussain Mohammed",
      "userId": "04740348016143627760"
     },
     "user_tz": -330
    },
    "id": "er7jP0IZtE8c"
   },
   "outputs": [],
   "source": []
  },
  {
   "cell_type": "code",
   "execution_count": 59,
   "metadata": {
    "colab": {
     "base_uri": "https://localhost:8080/"
    },
    "executionInfo": {
     "elapsed": 14,
     "status": "ok",
     "timestamp": 1682430356885,
     "user": {
      "displayName": "Sarfraz Hussain Mohammed",
      "userId": "04740348016143627760"
     },
     "user_tz": -330
    },
    "id": "YrMHCA3_X0iR",
    "outputId": "084650dc-9716-4cc4-e52c-dd6030877f12"
   },
   "outputs": [
    {
     "data": {
      "text/plain": [
       "0      <re.Match object; span=(34, 47), match='8 GB D...\n",
       "1      <re.Match object; span=(34, 47), match='8 GB D...\n",
       "2      <re.Match object; span=(34, 47), match='8 GB D...\n",
       "3      <re.Match object; span=(31, 44), match='8 GB D...\n",
       "4      <re.Match object; span=(34, 47), match='8 GB D...\n",
       "                             ...                        \n",
       "715    <re.Match object; span=(33, 48), match='4 GB L...\n",
       "716    <re.Match object; span=(31, 44), match='8 GB D...\n",
       "717    <re.Match object; span=(31, 45), match='16 GB ...\n",
       "718    <re.Match object; span=(34, 50), match='16 GB ...\n",
       "719    <re.Match object; span=(34, 47), match='8 GB D...\n",
       "Name: RAM, Length: 720, dtype: object"
      ]
     },
     "execution_count": 59,
     "metadata": {},
     "output_type": "execute_result"
    }
   ],
   "source": [
    "df['RAM']"
   ]
  },
  {
   "cell_type": "code",
   "execution_count": 60,
   "metadata": {
    "colab": {
     "base_uri": "https://localhost:8080/",
     "height": 469
    },
    "executionInfo": {
     "elapsed": 13,
     "status": "ok",
     "timestamp": 1682430356885,
     "user": {
      "displayName": "Sarfraz Hussain Mohammed",
      "userId": "04740348016143627760"
     },
     "user_tz": -330
    },
    "id": "gPUoIuwefZxx",
    "outputId": "d653204e-1f55-4ca1-89e3-3baa6ba159f9"
   },
   "outputs": [
    {
     "data": {
      "text/html": [
       "<div>\n",
       "<style scoped>\n",
       "    .dataframe tbody tr th:only-of-type {\n",
       "        vertical-align: middle;\n",
       "    }\n",
       "\n",
       "    .dataframe tbody tr th {\n",
       "        vertical-align: top;\n",
       "    }\n",
       "\n",
       "    .dataframe thead th {\n",
       "        text-align: right;\n",
       "    }\n",
       "</style>\n",
       "<table border=\"1\" class=\"dataframe\">\n",
       "  <thead>\n",
       "    <tr style=\"text-align: right;\">\n",
       "      <th></th>\n",
       "      <th>Product</th>\n",
       "      <th>Rating</th>\n",
       "      <th>MRP</th>\n",
       "      <th>Feature</th>\n",
       "      <th>Processor</th>\n",
       "      <th>Core</th>\n",
       "      <th>RAM</th>\n",
       "    </tr>\n",
       "  </thead>\n",
       "  <tbody>\n",
       "    <tr>\n",
       "      <th>64</th>\n",
       "      <td>APPLE 2022 MacBook Pro M2 - (8 GB/512 GB SSD/M...</td>\n",
       "      <td>4.7</td>\n",
       "      <td>139990.0</td>\n",
       "      <td>Apple M2 Processor8 GB Unified Memory RAMMac O...</td>\n",
       "      <td>Apple M2</td>\n",
       "      <td>M</td>\n",
       "      <td>None</td>\n",
       "    </tr>\n",
       "    <tr>\n",
       "      <th>79</th>\n",
       "      <td>APPLE 2021 Macbook Pro M1 Pro - (16 GB/512 GB ...</td>\n",
       "      <td>4.8</td>\n",
       "      <td>181990.0</td>\n",
       "      <td>Apple M1 Pro Processor16 GB Unified Memory RAM...</td>\n",
       "      <td>Apple M1 Pro</td>\n",
       "      <td>M</td>\n",
       "      <td>None</td>\n",
       "    </tr>\n",
       "    <tr>\n",
       "      <th>85</th>\n",
       "      <td>APPLE 2022 MacBook AIR M2 - (8 GB/512 GB SSD/M...</td>\n",
       "      <td>5.0</td>\n",
       "      <td>139990.0</td>\n",
       "      <td>Apple M2 Processor8 GB Unified Memory RAMMac O...</td>\n",
       "      <td>Apple M2</td>\n",
       "      <td>M</td>\n",
       "      <td>None</td>\n",
       "    </tr>\n",
       "    <tr>\n",
       "      <th>153</th>\n",
       "      <td>APPLE 2021 Macbook Pro M1 Pro - (16 GB/1 TB SS...</td>\n",
       "      <td>4.8</td>\n",
       "      <td>241990.0</td>\n",
       "      <td>Apple M1 Pro Processor16 GB Unified Memory RAM...</td>\n",
       "      <td>Apple M1 Pro</td>\n",
       "      <td>M</td>\n",
       "      <td>None</td>\n",
       "    </tr>\n",
       "    <tr>\n",
       "      <th>162</th>\n",
       "      <td>APPLE 2021 Macbook Pro M1 Max - (32 GB/1 TB SS...</td>\n",
       "      <td>4.3</td>\n",
       "      <td>309490.0</td>\n",
       "      <td>Apple M1 Max Processor32 GB Unified Memory RAM...</td>\n",
       "      <td>Apple M1 Max</td>\n",
       "      <td>M</td>\n",
       "      <td>None</td>\n",
       "    </tr>\n",
       "    <tr>\n",
       "      <th>168</th>\n",
       "      <td>APPLE 2021 Macbook Pro M1 Pro - (16 GB/1 TB SS...</td>\n",
       "      <td>4.8</td>\n",
       "      <td>222990.0</td>\n",
       "      <td>Apple M1 Pro Processor16 GB Unified Memory RAM...</td>\n",
       "      <td>Apple M1 Pro</td>\n",
       "      <td>M</td>\n",
       "      <td>None</td>\n",
       "    </tr>\n",
       "    <tr>\n",
       "      <th>209</th>\n",
       "      <td>APPLE 2021 Macbook Pro M1 Pro - (16 GB/512 GB ...</td>\n",
       "      <td>4.8</td>\n",
       "      <td>222990.0</td>\n",
       "      <td>Apple M1 Pro Processor16 GB Unified Memory RAM...</td>\n",
       "      <td>Apple M1 Pro</td>\n",
       "      <td>M</td>\n",
       "      <td>None</td>\n",
       "    </tr>\n",
       "    <tr>\n",
       "      <th>233</th>\n",
       "      <td>APPLE 2022 MacBook Pro M2 - (8 GB/256 GB SSD/M...</td>\n",
       "      <td>4.6</td>\n",
       "      <td>121990.0</td>\n",
       "      <td>Apple M2 Processor8 GB Unified Memory RAMMac O...</td>\n",
       "      <td>Apple M2</td>\n",
       "      <td>M</td>\n",
       "      <td>None</td>\n",
       "    </tr>\n",
       "    <tr>\n",
       "      <th>282</th>\n",
       "      <td>APPLE 2022 MacBook AIR M2 - (8 GB/512 GB SSD/M...</td>\n",
       "      <td>4.7</td>\n",
       "      <td>139990.0</td>\n",
       "      <td>Apple M2 Processor8 GB Unified Memory RAMMac O...</td>\n",
       "      <td>Apple M2</td>\n",
       "      <td>M</td>\n",
       "      <td>None</td>\n",
       "    </tr>\n",
       "    <tr>\n",
       "      <th>297</th>\n",
       "      <td>APPLE 2022 MacBook AIR M2 - (8 GB/512 GB SSD/M...</td>\n",
       "      <td>4.3</td>\n",
       "      <td>139990.0</td>\n",
       "      <td>Apple M2 Processor8 GB Unified Memory RAMMac O...</td>\n",
       "      <td>Apple M2</td>\n",
       "      <td>M</td>\n",
       "      <td>None</td>\n",
       "    </tr>\n",
       "    <tr>\n",
       "      <th>305</th>\n",
       "      <td>APPLE 2021 Macbook Pro M1 Pro - (16 GB/1 TB SS...</td>\n",
       "      <td>4.8</td>\n",
       "      <td>241990.0</td>\n",
       "      <td>Apple M1 Pro Processor16 GB Unified Memory RAM...</td>\n",
       "      <td>Apple M1 Pro</td>\n",
       "      <td>M</td>\n",
       "      <td>None</td>\n",
       "    </tr>\n",
       "    <tr>\n",
       "      <th>325</th>\n",
       "      <td>APPLE 2021 Macbook Pro M1 Pro - (16 GB/512 GB ...</td>\n",
       "      <td>4.8</td>\n",
       "      <td>222990.0</td>\n",
       "      <td>Apple M1 Pro Processor16 GB Unified Memory RAM...</td>\n",
       "      <td>Apple M1 Pro</td>\n",
       "      <td>M</td>\n",
       "      <td>None</td>\n",
       "    </tr>\n",
       "  </tbody>\n",
       "</table>\n",
       "</div>"
      ],
      "text/plain": [
       "                                               Product  Rating       MRP  \\\n",
       "64   APPLE 2022 MacBook Pro M2 - (8 GB/512 GB SSD/M...     4.7  139990.0   \n",
       "79   APPLE 2021 Macbook Pro M1 Pro - (16 GB/512 GB ...     4.8  181990.0   \n",
       "85   APPLE 2022 MacBook AIR M2 - (8 GB/512 GB SSD/M...     5.0  139990.0   \n",
       "153  APPLE 2021 Macbook Pro M1 Pro - (16 GB/1 TB SS...     4.8  241990.0   \n",
       "162  APPLE 2021 Macbook Pro M1 Max - (32 GB/1 TB SS...     4.3  309490.0   \n",
       "168  APPLE 2021 Macbook Pro M1 Pro - (16 GB/1 TB SS...     4.8  222990.0   \n",
       "209  APPLE 2021 Macbook Pro M1 Pro - (16 GB/512 GB ...     4.8  222990.0   \n",
       "233  APPLE 2022 MacBook Pro M2 - (8 GB/256 GB SSD/M...     4.6  121990.0   \n",
       "282  APPLE 2022 MacBook AIR M2 - (8 GB/512 GB SSD/M...     4.7  139990.0   \n",
       "297  APPLE 2022 MacBook AIR M2 - (8 GB/512 GB SSD/M...     4.3  139990.0   \n",
       "305  APPLE 2021 Macbook Pro M1 Pro - (16 GB/1 TB SS...     4.8  241990.0   \n",
       "325  APPLE 2021 Macbook Pro M1 Pro - (16 GB/512 GB ...     4.8  222990.0   \n",
       "\n",
       "                                               Feature     Processor Core  \\\n",
       "64   Apple M2 Processor8 GB Unified Memory RAMMac O...      Apple M2    M   \n",
       "79   Apple M1 Pro Processor16 GB Unified Memory RAM...  Apple M1 Pro    M   \n",
       "85   Apple M2 Processor8 GB Unified Memory RAMMac O...      Apple M2    M   \n",
       "153  Apple M1 Pro Processor16 GB Unified Memory RAM...  Apple M1 Pro    M   \n",
       "162  Apple M1 Max Processor32 GB Unified Memory RAM...  Apple M1 Max    M   \n",
       "168  Apple M1 Pro Processor16 GB Unified Memory RAM...  Apple M1 Pro    M   \n",
       "209  Apple M1 Pro Processor16 GB Unified Memory RAM...  Apple M1 Pro    M   \n",
       "233  Apple M2 Processor8 GB Unified Memory RAMMac O...      Apple M2    M   \n",
       "282  Apple M2 Processor8 GB Unified Memory RAMMac O...      Apple M2    M   \n",
       "297  Apple M2 Processor8 GB Unified Memory RAMMac O...      Apple M2    M   \n",
       "305  Apple M1 Pro Processor16 GB Unified Memory RAM...  Apple M1 Pro    M   \n",
       "325  Apple M1 Pro Processor16 GB Unified Memory RAM...  Apple M1 Pro    M   \n",
       "\n",
       "      RAM  \n",
       "64   None  \n",
       "79   None  \n",
       "85   None  \n",
       "153  None  \n",
       "162  None  \n",
       "168  None  \n",
       "209  None  \n",
       "233  None  \n",
       "282  None  \n",
       "297  None  \n",
       "305  None  \n",
       "325  None  "
      ]
     },
     "execution_count": 60,
     "metadata": {},
     "output_type": "execute_result"
    }
   ],
   "source": [
    "df[df['RAM'].isnull()]"
   ]
  },
  {
   "cell_type": "code",
   "execution_count": 61,
   "metadata": {
    "colab": {
     "base_uri": "https://localhost:8080/"
    },
    "executionInfo": {
     "elapsed": 12,
     "status": "ok",
     "timestamp": 1682430356886,
     "user": {
      "displayName": "Sarfraz Hussain Mohammed",
      "userId": "04740348016143627760"
     },
     "user_tz": -330
    },
    "id": "ofzNqDjP289S",
    "outputId": "8f18ce45-09a6-4c38-fc1d-aea3196b2afa"
   },
   "outputs": [
    {
     "name": "stdout",
     "output_type": "stream",
     "text": [
      "64\n",
      "79\n",
      "85\n",
      "153\n",
      "162\n",
      "168\n",
      "209\n",
      "233\n",
      "282\n",
      "297\n",
      "305\n",
      "325\n"
     ]
    }
   ],
   "source": [
    "for i in range (len(df['RAM'])):\n",
    "    if df.RAM[i] == None:\n",
    "        print(i)"
   ]
  },
  {
   "cell_type": "code",
   "execution_count": 62,
   "metadata": {
    "colab": {
     "base_uri": "https://localhost:8080/",
     "height": 70
    },
    "executionInfo": {
     "elapsed": 810,
     "status": "ok",
     "timestamp": 1682430360846,
     "user": {
      "displayName": "Sarfraz Hussain Mohammed",
      "userId": "04740348016143627760"
     },
     "user_tz": -330
    },
    "id": "S4_cXmuYjrkw",
    "outputId": "6a1a3044-79a4-46c5-9090-7c508e79282e"
   },
   "outputs": [
    {
     "data": {
      "text/plain": [
       "'Apple M2 Processor8 GB Unified Memory RAMMac OS Operating System512 GB SSD34.54 cm (13.6 Inch) DisplayBuilt-in Apps: iMovie, Siri, GarageBand, Pages, Numbers, Photos, Keynote, Safari, Mail, FaceTime, Messages, Maps, Stocks, Home, Voice Memos, Notes, Calendar, Contacts, Reminders, Photo Booth, Preview, Books, App Store, Time Machine, TV, Music, Podcasts, Find My, QuickTime Player1 Year Limited Warranty'"
      ]
     },
     "execution_count": 62,
     "metadata": {},
     "output_type": "execute_result"
    }
   ],
   "source": [
    "df['Feature'][85]"
   ]
  },
  {
   "cell_type": "code",
   "execution_count": 63,
   "metadata": {
    "colab": {
     "base_uri": "https://localhost:8080/"
    },
    "executionInfo": {
     "elapsed": 13,
     "status": "ok",
     "timestamp": 1682430360847,
     "user": {
      "displayName": "Sarfraz Hussain Mohammed",
      "userId": "04740348016143627760"
     },
     "user_tz": -330
    },
    "id": "N4dEkFQjkhYW",
    "outputId": "c584f040-0dbb-4085-bf0f-f4b64ec8ee02"
   },
   "outputs": [
    {
     "name": "stderr",
     "output_type": "stream",
     "text": [
      "<ipython-input-63-5b701583e829>:3: SettingWithCopyWarning: \n",
      "A value is trying to be set on a copy of a slice from a DataFrame\n",
      "\n",
      "See the caveats in the documentation: https://pandas.pydata.org/pandas-docs/stable/user_guide/indexing.html#returning-a-view-versus-a-copy\n",
      "  df.RAM[i] = re.compile(r'\\d\\s+GB+\\s+\\w+\\s+\\w+\\s+RAM').search(df['Feature'][i])\n"
     ]
    }
   ],
   "source": [
    "for i in range (len(df['RAM'])):\n",
    "    if df.RAM[i] == None:\n",
    "        df.RAM[i] = re.compile(r'\\d\\s+GB+\\s+\\w+\\s+\\w+\\s+RAM').search(df['Feature'][i])"
   ]
  },
  {
   "cell_type": "code",
   "execution_count": 64,
   "metadata": {
    "executionInfo": {
     "elapsed": 3,
     "status": "ok",
     "timestamp": 1682430361932,
     "user": {
      "displayName": "Sarfraz Hussain Mohammed",
      "userId": "04740348016143627760"
     },
     "user_tz": -330
    },
    "id": "WxGFgOTDqJUU"
   },
   "outputs": [],
   "source": [
    "for i in range (len(df['RAM'])):\n",
    "    if df.RAM[i] == None:\n",
    "        print(i)\n",
    "  "
   ]
  },
  {
   "cell_type": "code",
   "execution_count": 65,
   "metadata": {
    "colab": {
     "base_uri": "https://localhost:8080/"
    },
    "executionInfo": {
     "elapsed": 8,
     "status": "ok",
     "timestamp": 1682430364657,
     "user": {
      "displayName": "Sarfraz Hussain Mohammed",
      "userId": "04740348016143627760"
     },
     "user_tz": -330
    },
    "id": "dHmCID8ASfK6",
    "outputId": "74f9238e-f791-4305-fe8d-1ec0b6244960"
   },
   "outputs": [
    {
     "data": {
      "text/plain": [
       "0      <re.Match object; span=(34, 47), match='8 GB D...\n",
       "1      <re.Match object; span=(34, 47), match='8 GB D...\n",
       "2      <re.Match object; span=(34, 47), match='8 GB D...\n",
       "3      <re.Match object; span=(31, 44), match='8 GB D...\n",
       "4      <re.Match object; span=(34, 47), match='8 GB D...\n",
       "                             ...                        \n",
       "715    <re.Match object; span=(33, 48), match='4 GB L...\n",
       "716    <re.Match object; span=(31, 44), match='8 GB D...\n",
       "717    <re.Match object; span=(31, 45), match='16 GB ...\n",
       "718    <re.Match object; span=(34, 50), match='16 GB ...\n",
       "719    <re.Match object; span=(34, 47), match='8 GB D...\n",
       "Name: RAM, Length: 720, dtype: object"
      ]
     },
     "execution_count": 65,
     "metadata": {},
     "output_type": "execute_result"
    }
   ],
   "source": [
    "df['RAM']"
   ]
  },
  {
   "cell_type": "code",
   "execution_count": 66,
   "metadata": {
    "executionInfo": {
     "elapsed": 702,
     "status": "ok",
     "timestamp": 1682430371086,
     "user": {
      "displayName": "Sarfraz Hussain Mohammed",
      "userId": "04740348016143627760"
     },
     "user_tz": -330
    },
    "id": "kZG37x5ImRHt"
   },
   "outputs": [],
   "source": [
    "ram = []\n",
    "for i in df['RAM']:\n",
    "    ram.append(i.group())"
   ]
  },
  {
   "cell_type": "code",
   "execution_count": 67,
   "metadata": {
    "executionInfo": {
     "elapsed": 6,
     "status": "ok",
     "timestamp": 1682430372372,
     "user": {
      "displayName": "Sarfraz Hussain Mohammed",
      "userId": "04740348016143627760"
     },
     "user_tz": -330
    },
    "id": "rWqWGxiBmTj2"
   },
   "outputs": [],
   "source": [
    "df['RAM'] = ram"
   ]
  },
  {
   "cell_type": "code",
   "execution_count": 68,
   "metadata": {
    "colab": {
     "base_uri": "https://localhost:8080/"
    },
    "executionInfo": {
     "elapsed": 5,
     "status": "ok",
     "timestamp": 1682430373184,
     "user": {
      "displayName": "Sarfraz Hussain Mohammed",
      "userId": "04740348016143627760"
     },
     "user_tz": -330
    },
    "id": "jiJ9hhM34bBR",
    "outputId": "1f44017e-5bb4-4b4e-ed8b-4f9cc9b7d1c6"
   },
   "outputs": [
    {
     "data": {
      "text/plain": [
       "array(['8 GB DDR4 RAM', '16 GB DDR4 RAM', '16 GB DDR5 RAM',\n",
       "       '4 GB LPDDR4 RAM', '4 GB DDR4 RAM', '8 GB Unified Memory RAM',\n",
       "       '8 GB LPDDR4X RAM', '6 GB Unified Memory RAM', '4 GB LPDDR4X RAM',\n",
       "       '16 GB LPDDR4X RAM', '16 GB LPDDR5 RAM', '2 GB Unified Memory RAM',\n",
       "       '16 GB LPDDR4 RAM', '32 GB DDR5 RAM', '8 GB DDR5 RAM',\n",
       "       '32 GB DDR4 RAM', '32 GB LPDDR4X RAM', '16 GB LPDDR3 RAM'],\n",
       "      dtype=object)"
      ]
     },
     "execution_count": 68,
     "metadata": {},
     "output_type": "execute_result"
    }
   ],
   "source": [
    "df['RAM'].unique()"
   ]
  },
  {
   "cell_type": "code",
   "execution_count": 69,
   "metadata": {
    "executionInfo": {
     "elapsed": 7,
     "status": "ok",
     "timestamp": 1682430374622,
     "user": {
      "displayName": "Sarfraz Hussain Mohammed",
      "userId": "04740348016143627760"
     },
     "user_tz": -330
    },
    "id": "y5q_o1ahODef"
   },
   "outputs": [],
   "source": [
    "ram_type = df.RAM.apply(lambda x: re.compile(r'\\w+\\s+RAM').search(x).group())\n"
   ]
  },
  {
   "cell_type": "code",
   "execution_count": 70,
   "metadata": {
    "colab": {
     "base_uri": "https://localhost:8080/"
    },
    "executionInfo": {
     "elapsed": 8,
     "status": "ok",
     "timestamp": 1682430375233,
     "user": {
      "displayName": "Sarfraz Hussain Mohammed",
      "userId": "04740348016143627760"
     },
     "user_tz": -330
    },
    "id": "QD5zOr0FUqLa",
    "outputId": "6003dc37-bb0f-48af-b1bc-a0020eb0c314"
   },
   "outputs": [
    {
     "data": {
      "text/plain": [
       "0        DDR4 RAM\n",
       "1        DDR4 RAM\n",
       "2        DDR4 RAM\n",
       "3        DDR4 RAM\n",
       "4        DDR4 RAM\n",
       "          ...    \n",
       "715    LPDDR4 RAM\n",
       "716      DDR4 RAM\n",
       "717      DDR5 RAM\n",
       "718    LPDDR5 RAM\n",
       "719      DDR4 RAM\n",
       "Name: RAM, Length: 720, dtype: object"
      ]
     },
     "execution_count": 70,
     "metadata": {},
     "output_type": "execute_result"
    }
   ],
   "source": [
    "ram_type"
   ]
  },
  {
   "cell_type": "code",
   "execution_count": 71,
   "metadata": {
    "executionInfo": {
     "elapsed": 6,
     "status": "ok",
     "timestamp": 1682430376051,
     "user": {
      "displayName": "Sarfraz Hussain Mohammed",
      "userId": "04740348016143627760"
     },
     "user_tz": -330
    },
    "id": "6Xw3G36aUyOO"
   },
   "outputs": [],
   "source": [
    "df['RAM_type'] = ram_type"
   ]
  },
  {
   "cell_type": "code",
   "execution_count": 72,
   "metadata": {
    "colab": {
     "base_uri": "https://localhost:8080/"
    },
    "executionInfo": {
     "elapsed": 8,
     "status": "ok",
     "timestamp": 1682430377638,
     "user": {
      "displayName": "Sarfraz Hussain Mohammed",
      "userId": "04740348016143627760"
     },
     "user_tz": -330
    },
    "id": "FmNtWvC9VkEW",
    "outputId": "0fbf970a-5944-40e3-efde-443ce797af79"
   },
   "outputs": [
    {
     "data": {
      "text/plain": [
       "array(['DDR4 RAM', 'DDR5 RAM', 'LPDDR4 RAM', 'Memory RAM', 'LPDDR4X RAM',\n",
       "       'LPDDR5 RAM', 'LPDDR3 RAM'], dtype=object)"
      ]
     },
     "execution_count": 72,
     "metadata": {},
     "output_type": "execute_result"
    }
   ],
   "source": [
    "df['RAM_type'].unique()"
   ]
  },
  {
   "cell_type": "code",
   "execution_count": 73,
   "metadata": {
    "colab": {
     "base_uri": "https://localhost:8080/",
     "height": 678
    },
    "executionInfo": {
     "elapsed": 12,
     "status": "ok",
     "timestamp": 1682430378625,
     "user": {
      "displayName": "Sarfraz Hussain Mohammed",
      "userId": "04740348016143627760"
     },
     "user_tz": -330
    },
    "id": "T0i2_oydiOsH",
    "outputId": "dc2f7184-c5af-4007-e2ca-72eaf27c6085"
   },
   "outputs": [
    {
     "data": {
      "text/html": [
       "<div>\n",
       "<style scoped>\n",
       "    .dataframe tbody tr th:only-of-type {\n",
       "        vertical-align: middle;\n",
       "    }\n",
       "\n",
       "    .dataframe tbody tr th {\n",
       "        vertical-align: top;\n",
       "    }\n",
       "\n",
       "    .dataframe thead th {\n",
       "        text-align: right;\n",
       "    }\n",
       "</style>\n",
       "<table border=\"1\" class=\"dataframe\">\n",
       "  <thead>\n",
       "    <tr style=\"text-align: right;\">\n",
       "      <th></th>\n",
       "      <th>Product</th>\n",
       "      <th>Rating</th>\n",
       "      <th>MRP</th>\n",
       "      <th>Feature</th>\n",
       "      <th>Processor</th>\n",
       "      <th>Core</th>\n",
       "      <th>RAM</th>\n",
       "      <th>RAM_type</th>\n",
       "    </tr>\n",
       "  </thead>\n",
       "  <tbody>\n",
       "    <tr>\n",
       "      <th>64</th>\n",
       "      <td>APPLE 2022 MacBook Pro M2 - (8 GB/512 GB SSD/M...</td>\n",
       "      <td>4.7</td>\n",
       "      <td>139990.0</td>\n",
       "      <td>Apple M2 Processor8 GB Unified Memory RAMMac O...</td>\n",
       "      <td>Apple M2</td>\n",
       "      <td>M</td>\n",
       "      <td>8 GB Unified Memory RAM</td>\n",
       "      <td>Memory RAM</td>\n",
       "    </tr>\n",
       "    <tr>\n",
       "      <th>79</th>\n",
       "      <td>APPLE 2021 Macbook Pro M1 Pro - (16 GB/512 GB ...</td>\n",
       "      <td>4.8</td>\n",
       "      <td>181990.0</td>\n",
       "      <td>Apple M1 Pro Processor16 GB Unified Memory RAM...</td>\n",
       "      <td>Apple M1 Pro</td>\n",
       "      <td>M</td>\n",
       "      <td>6 GB Unified Memory RAM</td>\n",
       "      <td>Memory RAM</td>\n",
       "    </tr>\n",
       "    <tr>\n",
       "      <th>85</th>\n",
       "      <td>APPLE 2022 MacBook AIR M2 - (8 GB/512 GB SSD/M...</td>\n",
       "      <td>5.0</td>\n",
       "      <td>139990.0</td>\n",
       "      <td>Apple M2 Processor8 GB Unified Memory RAMMac O...</td>\n",
       "      <td>Apple M2</td>\n",
       "      <td>M</td>\n",
       "      <td>8 GB Unified Memory RAM</td>\n",
       "      <td>Memory RAM</td>\n",
       "    </tr>\n",
       "    <tr>\n",
       "      <th>153</th>\n",
       "      <td>APPLE 2021 Macbook Pro M1 Pro - (16 GB/1 TB SS...</td>\n",
       "      <td>4.8</td>\n",
       "      <td>241990.0</td>\n",
       "      <td>Apple M1 Pro Processor16 GB Unified Memory RAM...</td>\n",
       "      <td>Apple M1 Pro</td>\n",
       "      <td>M</td>\n",
       "      <td>6 GB Unified Memory RAM</td>\n",
       "      <td>Memory RAM</td>\n",
       "    </tr>\n",
       "    <tr>\n",
       "      <th>162</th>\n",
       "      <td>APPLE 2021 Macbook Pro M1 Max - (32 GB/1 TB SS...</td>\n",
       "      <td>4.3</td>\n",
       "      <td>309490.0</td>\n",
       "      <td>Apple M1 Max Processor32 GB Unified Memory RAM...</td>\n",
       "      <td>Apple M1 Max</td>\n",
       "      <td>M</td>\n",
       "      <td>2 GB Unified Memory RAM</td>\n",
       "      <td>Memory RAM</td>\n",
       "    </tr>\n",
       "    <tr>\n",
       "      <th>168</th>\n",
       "      <td>APPLE 2021 Macbook Pro M1 Pro - (16 GB/1 TB SS...</td>\n",
       "      <td>4.8</td>\n",
       "      <td>222990.0</td>\n",
       "      <td>Apple M1 Pro Processor16 GB Unified Memory RAM...</td>\n",
       "      <td>Apple M1 Pro</td>\n",
       "      <td>M</td>\n",
       "      <td>6 GB Unified Memory RAM</td>\n",
       "      <td>Memory RAM</td>\n",
       "    </tr>\n",
       "    <tr>\n",
       "      <th>209</th>\n",
       "      <td>APPLE 2021 Macbook Pro M1 Pro - (16 GB/512 GB ...</td>\n",
       "      <td>4.8</td>\n",
       "      <td>222990.0</td>\n",
       "      <td>Apple M1 Pro Processor16 GB Unified Memory RAM...</td>\n",
       "      <td>Apple M1 Pro</td>\n",
       "      <td>M</td>\n",
       "      <td>6 GB Unified Memory RAM</td>\n",
       "      <td>Memory RAM</td>\n",
       "    </tr>\n",
       "    <tr>\n",
       "      <th>233</th>\n",
       "      <td>APPLE 2022 MacBook Pro M2 - (8 GB/256 GB SSD/M...</td>\n",
       "      <td>4.6</td>\n",
       "      <td>121990.0</td>\n",
       "      <td>Apple M2 Processor8 GB Unified Memory RAMMac O...</td>\n",
       "      <td>Apple M2</td>\n",
       "      <td>M</td>\n",
       "      <td>8 GB Unified Memory RAM</td>\n",
       "      <td>Memory RAM</td>\n",
       "    </tr>\n",
       "    <tr>\n",
       "      <th>282</th>\n",
       "      <td>APPLE 2022 MacBook AIR M2 - (8 GB/512 GB SSD/M...</td>\n",
       "      <td>4.7</td>\n",
       "      <td>139990.0</td>\n",
       "      <td>Apple M2 Processor8 GB Unified Memory RAMMac O...</td>\n",
       "      <td>Apple M2</td>\n",
       "      <td>M</td>\n",
       "      <td>8 GB Unified Memory RAM</td>\n",
       "      <td>Memory RAM</td>\n",
       "    </tr>\n",
       "    <tr>\n",
       "      <th>297</th>\n",
       "      <td>APPLE 2022 MacBook AIR M2 - (8 GB/512 GB SSD/M...</td>\n",
       "      <td>4.3</td>\n",
       "      <td>139990.0</td>\n",
       "      <td>Apple M2 Processor8 GB Unified Memory RAMMac O...</td>\n",
       "      <td>Apple M2</td>\n",
       "      <td>M</td>\n",
       "      <td>8 GB Unified Memory RAM</td>\n",
       "      <td>Memory RAM</td>\n",
       "    </tr>\n",
       "    <tr>\n",
       "      <th>305</th>\n",
       "      <td>APPLE 2021 Macbook Pro M1 Pro - (16 GB/1 TB SS...</td>\n",
       "      <td>4.8</td>\n",
       "      <td>241990.0</td>\n",
       "      <td>Apple M1 Pro Processor16 GB Unified Memory RAM...</td>\n",
       "      <td>Apple M1 Pro</td>\n",
       "      <td>M</td>\n",
       "      <td>6 GB Unified Memory RAM</td>\n",
       "      <td>Memory RAM</td>\n",
       "    </tr>\n",
       "    <tr>\n",
       "      <th>325</th>\n",
       "      <td>APPLE 2021 Macbook Pro M1 Pro - (16 GB/512 GB ...</td>\n",
       "      <td>4.8</td>\n",
       "      <td>222990.0</td>\n",
       "      <td>Apple M1 Pro Processor16 GB Unified Memory RAM...</td>\n",
       "      <td>Apple M1 Pro</td>\n",
       "      <td>M</td>\n",
       "      <td>6 GB Unified Memory RAM</td>\n",
       "      <td>Memory RAM</td>\n",
       "    </tr>\n",
       "  </tbody>\n",
       "</table>\n",
       "</div>"
      ],
      "text/plain": [
       "                                               Product  Rating       MRP  \\\n",
       "64   APPLE 2022 MacBook Pro M2 - (8 GB/512 GB SSD/M...     4.7  139990.0   \n",
       "79   APPLE 2021 Macbook Pro M1 Pro - (16 GB/512 GB ...     4.8  181990.0   \n",
       "85   APPLE 2022 MacBook AIR M2 - (8 GB/512 GB SSD/M...     5.0  139990.0   \n",
       "153  APPLE 2021 Macbook Pro M1 Pro - (16 GB/1 TB SS...     4.8  241990.0   \n",
       "162  APPLE 2021 Macbook Pro M1 Max - (32 GB/1 TB SS...     4.3  309490.0   \n",
       "168  APPLE 2021 Macbook Pro M1 Pro - (16 GB/1 TB SS...     4.8  222990.0   \n",
       "209  APPLE 2021 Macbook Pro M1 Pro - (16 GB/512 GB ...     4.8  222990.0   \n",
       "233  APPLE 2022 MacBook Pro M2 - (8 GB/256 GB SSD/M...     4.6  121990.0   \n",
       "282  APPLE 2022 MacBook AIR M2 - (8 GB/512 GB SSD/M...     4.7  139990.0   \n",
       "297  APPLE 2022 MacBook AIR M2 - (8 GB/512 GB SSD/M...     4.3  139990.0   \n",
       "305  APPLE 2021 Macbook Pro M1 Pro - (16 GB/1 TB SS...     4.8  241990.0   \n",
       "325  APPLE 2021 Macbook Pro M1 Pro - (16 GB/512 GB ...     4.8  222990.0   \n",
       "\n",
       "                                               Feature     Processor Core  \\\n",
       "64   Apple M2 Processor8 GB Unified Memory RAMMac O...      Apple M2    M   \n",
       "79   Apple M1 Pro Processor16 GB Unified Memory RAM...  Apple M1 Pro    M   \n",
       "85   Apple M2 Processor8 GB Unified Memory RAMMac O...      Apple M2    M   \n",
       "153  Apple M1 Pro Processor16 GB Unified Memory RAM...  Apple M1 Pro    M   \n",
       "162  Apple M1 Max Processor32 GB Unified Memory RAM...  Apple M1 Max    M   \n",
       "168  Apple M1 Pro Processor16 GB Unified Memory RAM...  Apple M1 Pro    M   \n",
       "209  Apple M1 Pro Processor16 GB Unified Memory RAM...  Apple M1 Pro    M   \n",
       "233  Apple M2 Processor8 GB Unified Memory RAMMac O...      Apple M2    M   \n",
       "282  Apple M2 Processor8 GB Unified Memory RAMMac O...      Apple M2    M   \n",
       "297  Apple M2 Processor8 GB Unified Memory RAMMac O...      Apple M2    M   \n",
       "305  Apple M1 Pro Processor16 GB Unified Memory RAM...  Apple M1 Pro    M   \n",
       "325  Apple M1 Pro Processor16 GB Unified Memory RAM...  Apple M1 Pro    M   \n",
       "\n",
       "                         RAM    RAM_type  \n",
       "64   8 GB Unified Memory RAM  Memory RAM  \n",
       "79   6 GB Unified Memory RAM  Memory RAM  \n",
       "85   8 GB Unified Memory RAM  Memory RAM  \n",
       "153  6 GB Unified Memory RAM  Memory RAM  \n",
       "162  2 GB Unified Memory RAM  Memory RAM  \n",
       "168  6 GB Unified Memory RAM  Memory RAM  \n",
       "209  6 GB Unified Memory RAM  Memory RAM  \n",
       "233  8 GB Unified Memory RAM  Memory RAM  \n",
       "282  8 GB Unified Memory RAM  Memory RAM  \n",
       "297  8 GB Unified Memory RAM  Memory RAM  \n",
       "305  6 GB Unified Memory RAM  Memory RAM  \n",
       "325  6 GB Unified Memory RAM  Memory RAM  "
      ]
     },
     "execution_count": 73,
     "metadata": {},
     "output_type": "execute_result"
    }
   ],
   "source": [
    "df[df['RAM_type']=='Memory RAM']"
   ]
  },
  {
   "cell_type": "code",
   "execution_count": 74,
   "metadata": {
    "colab": {
     "base_uri": "https://localhost:8080/",
     "height": 70
    },
    "executionInfo": {
     "elapsed": 1140,
     "status": "ok",
     "timestamp": 1682430390863,
     "user": {
      "displayName": "Sarfraz Hussain Mohammed",
      "userId": "04740348016143627760"
     },
     "user_tz": -330
    },
    "id": "lPvDPWJviiHn",
    "outputId": "2e421609-a498-418c-e4da-1b9641a93bc7"
   },
   "outputs": [
    {
     "data": {
      "text/plain": [
       "'Apple M1 Pro Processor16 GB Unified Memory RAMMac OS Operating System512 GB SSD41.15 cm (16.2 inch) DisplayiMovie, Siri, GarageBand, Pages, Numbers, Photos, Keynote, Safari, Mail, FaceTime, Messages, Maps, Stocks, Home, Voice Memos, Notes, Calendar, Contacts, Reminders, Photo Booth, Preview, Books, App Store, Time Machine, TV, Music, Podcasts, Find My, QuickTime Player1 Year Limited Warranty'"
      ]
     },
     "execution_count": 74,
     "metadata": {},
     "output_type": "execute_result"
    }
   ],
   "source": [
    "df['Feature'][325]"
   ]
  },
  {
   "cell_type": "code",
   "execution_count": 75,
   "metadata": {
    "executionInfo": {
     "elapsed": 6,
     "status": "ok",
     "timestamp": 1682430391939,
     "user": {
      "displayName": "Sarfraz Hussain Mohammed",
      "userId": "04740348016143627760"
     },
     "user_tz": -330
    },
    "id": "nkjBzl9lSVVX"
   },
   "outputs": [],
   "source": [
    "for i in range(len(ram_type)):\n",
    "    if 'Memory RAM' in ram_type[i]:\n",
    "        ram_type[i] = re.compile(r'\\w+\\s+\\w+\\s+RAM').search(df['RAM'][i]).group()\n",
    "  "
   ]
  },
  {
   "cell_type": "code",
   "execution_count": 76,
   "metadata": {
    "executionInfo": {
     "elapsed": 6,
     "status": "ok",
     "timestamp": 1682430391940,
     "user": {
      "displayName": "Sarfraz Hussain Mohammed",
      "userId": "04740348016143627760"
     },
     "user_tz": -330
    },
    "id": "9sfMm-Z5QRc3"
   },
   "outputs": [],
   "source": [
    "df['RAM_type'] = ram_type"
   ]
  },
  {
   "cell_type": "code",
   "execution_count": 77,
   "metadata": {
    "colab": {
     "base_uri": "https://localhost:8080/"
    },
    "executionInfo": {
     "elapsed": 5,
     "status": "ok",
     "timestamp": 1682430391940,
     "user": {
      "displayName": "Sarfraz Hussain Mohammed",
      "userId": "04740348016143627760"
     },
     "user_tz": -330
    },
    "id": "3UazY-zzQHoU",
    "outputId": "82345a44-b815-486e-8cb8-722871cb8943"
   },
   "outputs": [
    {
     "data": {
      "text/plain": [
       "array(['DDR4 RAM', 'DDR5 RAM', 'LPDDR4 RAM', 'Unified Memory RAM',\n",
       "       'LPDDR4X RAM', 'LPDDR5 RAM', 'LPDDR3 RAM'], dtype=object)"
      ]
     },
     "execution_count": 77,
     "metadata": {},
     "output_type": "execute_result"
    }
   ],
   "source": [
    "df['RAM_type'].unique()"
   ]
  },
  {
   "cell_type": "code",
   "execution_count": 78,
   "metadata": {
    "executionInfo": {
     "elapsed": 5,
     "status": "ok",
     "timestamp": 1682430392769,
     "user": {
      "displayName": "Sarfraz Hussain Mohammed",
      "userId": "04740348016143627760"
     },
     "user_tz": -330
    },
    "id": "0AbJcJf1QpQ8"
   },
   "outputs": [],
   "source": [
    "df['RAM_type'] = df['RAM_type'].str.replace(\" RAM\",\"\")"
   ]
  },
  {
   "cell_type": "code",
   "execution_count": 79,
   "metadata": {
    "colab": {
     "base_uri": "https://localhost:8080/"
    },
    "executionInfo": {
     "elapsed": 5,
     "status": "ok",
     "timestamp": 1682430392770,
     "user": {
      "displayName": "Sarfraz Hussain Mohammed",
      "userId": "04740348016143627760"
     },
     "user_tz": -330
    },
    "id": "wBj1-vZUQ0qO",
    "outputId": "eb1e3661-525f-47d2-9d8a-b85536441156"
   },
   "outputs": [
    {
     "data": {
      "text/plain": [
       "array(['DDR4', 'DDR5', 'LPDDR4', 'Unified Memory', 'LPDDR4X', 'LPDDR5',\n",
       "       'LPDDR3'], dtype=object)"
      ]
     },
     "execution_count": 79,
     "metadata": {},
     "output_type": "execute_result"
    }
   ],
   "source": [
    "df['RAM_type'].unique()"
   ]
  },
  {
   "cell_type": "code",
   "execution_count": 80,
   "metadata": {
    "executionInfo": {
     "elapsed": 5,
     "status": "ok",
     "timestamp": 1682430392771,
     "user": {
      "displayName": "Sarfraz Hussain Mohammed",
      "userId": "04740348016143627760"
     },
     "user_tz": -330
    },
    "id": "kPWzUKYeXQQJ"
   },
   "outputs": [],
   "source": [
    "df['RAM'] = df.RAM.apply(lambda x: re.compile(r'\\d+').search(x).group())"
   ]
  },
  {
   "cell_type": "code",
   "execution_count": 81,
   "metadata": {
    "colab": {
     "base_uri": "https://localhost:8080/"
    },
    "executionInfo": {
     "elapsed": 19,
     "status": "ok",
     "timestamp": 1682430393625,
     "user": {
      "displayName": "Sarfraz Hussain Mohammed",
      "userId": "04740348016143627760"
     },
     "user_tz": -330
    },
    "id": "BKBlKEAGOnDd",
    "outputId": "6ce83acb-a376-470d-95e6-ff796bfb4f0d"
   },
   "outputs": [
    {
     "data": {
      "text/plain": [
       "array(['8', '16', '4', '6', '2', '32'], dtype=object)"
      ]
     },
     "execution_count": 81,
     "metadata": {},
     "output_type": "execute_result"
    }
   ],
   "source": [
    "df['RAM'].unique()"
   ]
  },
  {
   "cell_type": "code",
   "execution_count": 82,
   "metadata": {
    "colab": {
     "base_uri": "https://localhost:8080/",
     "height": 49
    },
    "executionInfo": {
     "elapsed": 17,
     "status": "ok",
     "timestamp": 1682430393627,
     "user": {
      "displayName": "Sarfraz Hussain Mohammed",
      "userId": "04740348016143627760"
     },
     "user_tz": -330
    },
    "id": "AaUEnDvnPw4p",
    "outputId": "cdf13811-6d27-4a59-f4e3-22f37fbcca9f"
   },
   "outputs": [
    {
     "data": {
      "text/html": [
       "<div>\n",
       "<style scoped>\n",
       "    .dataframe tbody tr th:only-of-type {\n",
       "        vertical-align: middle;\n",
       "    }\n",
       "\n",
       "    .dataframe tbody tr th {\n",
       "        vertical-align: top;\n",
       "    }\n",
       "\n",
       "    .dataframe thead th {\n",
       "        text-align: right;\n",
       "    }\n",
       "</style>\n",
       "<table border=\"1\" class=\"dataframe\">\n",
       "  <thead>\n",
       "    <tr style=\"text-align: right;\">\n",
       "      <th></th>\n",
       "      <th>Product</th>\n",
       "      <th>Rating</th>\n",
       "      <th>MRP</th>\n",
       "      <th>Feature</th>\n",
       "      <th>Processor</th>\n",
       "      <th>Core</th>\n",
       "      <th>RAM</th>\n",
       "      <th>RAM_type</th>\n",
       "    </tr>\n",
       "  </thead>\n",
       "  <tbody>\n",
       "  </tbody>\n",
       "</table>\n",
       "</div>"
      ],
      "text/plain": [
       "Empty DataFrame\n",
       "Columns: [Product, Rating, MRP, Feature, Processor, Core, RAM, RAM_type]\n",
       "Index: []"
      ]
     },
     "execution_count": 82,
     "metadata": {},
     "output_type": "execute_result"
    }
   ],
   "source": [
    "df[df['RAM_type'].isnull()]"
   ]
  },
  {
   "cell_type": "code",
   "execution_count": 83,
   "metadata": {
    "colab": {
     "base_uri": "https://localhost:8080/",
     "height": 571
    },
    "executionInfo": {
     "elapsed": 1264,
     "status": "ok",
     "timestamp": 1682430451032,
     "user": {
      "displayName": "Sarfraz Hussain Mohammed",
      "userId": "04740348016143627760"
     },
     "user_tz": -330
    },
    "id": "yZEFEv04P1At",
    "outputId": "80889023-0bb8-460f-dd82-ecde0ddfe685"
   },
   "outputs": [
    {
     "data": {
      "text/html": [
       "<div>\n",
       "<style scoped>\n",
       "    .dataframe tbody tr th:only-of-type {\n",
       "        vertical-align: middle;\n",
       "    }\n",
       "\n",
       "    .dataframe tbody tr th {\n",
       "        vertical-align: top;\n",
       "    }\n",
       "\n",
       "    .dataframe thead th {\n",
       "        text-align: right;\n",
       "    }\n",
       "</style>\n",
       "<table border=\"1\" class=\"dataframe\">\n",
       "  <thead>\n",
       "    <tr style=\"text-align: right;\">\n",
       "      <th></th>\n",
       "      <th>Product</th>\n",
       "      <th>Rating</th>\n",
       "      <th>MRP</th>\n",
       "      <th>Feature</th>\n",
       "      <th>Processor</th>\n",
       "      <th>Core</th>\n",
       "      <th>RAM</th>\n",
       "      <th>RAM_type</th>\n",
       "    </tr>\n",
       "  </thead>\n",
       "  <tbody>\n",
       "    <tr>\n",
       "      <th>0</th>\n",
       "      <td>Lenovo IdeaPad 3 Core i3 11th Gen - (8 GB/256 ...</td>\n",
       "      <td>4.2</td>\n",
       "      <td>36990.0</td>\n",
       "      <td>Intel Core i3 Processor (11th Gen)8 GB DDR4 RA...</td>\n",
       "      <td>Intel i3</td>\n",
       "      <td>Hexa</td>\n",
       "      <td>8</td>\n",
       "      <td>DDR4</td>\n",
       "    </tr>\n",
       "    <tr>\n",
       "      <th>1</th>\n",
       "      <td>Lenovo IdeaPad 3 Core i3 11th Gen - (8 GB/512 ...</td>\n",
       "      <td>4.2</td>\n",
       "      <td>39990.0</td>\n",
       "      <td>Intel Core i3 Processor (11th Gen)8 GB DDR4 RA...</td>\n",
       "      <td>Intel i3</td>\n",
       "      <td>Hexa</td>\n",
       "      <td>8</td>\n",
       "      <td>DDR4</td>\n",
       "    </tr>\n",
       "    <tr>\n",
       "      <th>2</th>\n",
       "      <td>ASUS VivoBook 15 (2022) Core i3 10th Gen - (8 ...</td>\n",
       "      <td>4.3</td>\n",
       "      <td>32990.0</td>\n",
       "      <td>Intel Core i3 Processor (10th Gen)8 GB DDR4 RA...</td>\n",
       "      <td>Intel i3</td>\n",
       "      <td>Hexa</td>\n",
       "      <td>8</td>\n",
       "      <td>DDR4</td>\n",
       "    </tr>\n",
       "    <tr>\n",
       "      <th>3</th>\n",
       "      <td>HP Pavilion Ryzen 5 Hexa Core AMD R5-5600H - (...</td>\n",
       "      <td>4.4</td>\n",
       "      <td>49990.0</td>\n",
       "      <td>AMD Ryzen 5 Hexa Core Processor8 GB DDR4 RAM64...</td>\n",
       "      <td>AMD Ryzen 5</td>\n",
       "      <td>Hexa</td>\n",
       "      <td>8</td>\n",
       "      <td>DDR4</td>\n",
       "    </tr>\n",
       "    <tr>\n",
       "      <th>4</th>\n",
       "      <td>ASUS TUF Gaming F15 Core i5 10th Gen - (8 GB/5...</td>\n",
       "      <td>4.4</td>\n",
       "      <td>49990.0</td>\n",
       "      <td>Intel Core i5 Processor (10th Gen)8 GB DDR4 RA...</td>\n",
       "      <td>Intel i5</td>\n",
       "      <td>Hexa</td>\n",
       "      <td>8</td>\n",
       "      <td>DDR4</td>\n",
       "    </tr>\n",
       "    <tr>\n",
       "      <th>...</th>\n",
       "      <td>...</td>\n",
       "      <td>...</td>\n",
       "      <td>...</td>\n",
       "      <td>...</td>\n",
       "      <td>...</td>\n",
       "      <td>...</td>\n",
       "      <td>...</td>\n",
       "      <td>...</td>\n",
       "    </tr>\n",
       "    <tr>\n",
       "      <th>715</th>\n",
       "      <td>ASUS Chromebook Flip Touch Celeron Dual Core -...</td>\n",
       "      <td>4.0</td>\n",
       "      <td>23490.0</td>\n",
       "      <td>Intel Celeron Dual Core Processor4 GB LPDDR4 R...</td>\n",
       "      <td>Intel Celeron</td>\n",
       "      <td>Dual</td>\n",
       "      <td>4</td>\n",
       "      <td>LPDDR4</td>\n",
       "    </tr>\n",
       "    <tr>\n",
       "      <th>716</th>\n",
       "      <td>Lenovo IdeaPad Gaming 3 Ryzen 7 Octa Core AMD ...</td>\n",
       "      <td>4.5</td>\n",
       "      <td>73490.0</td>\n",
       "      <td>AMD Ryzen 7 Octa Core Processor8 GB DDR4 RAM64...</td>\n",
       "      <td>AMD Ryzen 7</td>\n",
       "      <td>Octa</td>\n",
       "      <td>8</td>\n",
       "      <td>DDR4</td>\n",
       "    </tr>\n",
       "    <tr>\n",
       "      <th>717</th>\n",
       "      <td>ASUS ROG Zephyrus G15 Ryzen 9 Octa Core 6900HS...</td>\n",
       "      <td>NaN</td>\n",
       "      <td>194990.0</td>\n",
       "      <td>AMD Ryzen 9 Octa Core Processor16 GB DDR5 RAM6...</td>\n",
       "      <td>AMD Ryzen 9</td>\n",
       "      <td>Octa</td>\n",
       "      <td>16</td>\n",
       "      <td>DDR5</td>\n",
       "    </tr>\n",
       "    <tr>\n",
       "      <th>718</th>\n",
       "      <td>ASUS Zenbook Flip 14 OLED (2022) Touch Panel C...</td>\n",
       "      <td>3.0</td>\n",
       "      <td>125990.0</td>\n",
       "      <td>Intel Core i7 Processor (12th Gen)16 GB LPDDR5...</td>\n",
       "      <td>Intel i7</td>\n",
       "      <td>Octa</td>\n",
       "      <td>16</td>\n",
       "      <td>LPDDR5</td>\n",
       "    </tr>\n",
       "    <tr>\n",
       "      <th>719</th>\n",
       "      <td>Lenovo Ideapad Slim 3i Core i5 10th Gen - (8 G...</td>\n",
       "      <td>4.2</td>\n",
       "      <td>50990.0</td>\n",
       "      <td>Intel Core i5 Processor (10th Gen)8 GB DDR4 RA...</td>\n",
       "      <td>Intel i5</td>\n",
       "      <td>Hexa</td>\n",
       "      <td>8</td>\n",
       "      <td>DDR4</td>\n",
       "    </tr>\n",
       "  </tbody>\n",
       "</table>\n",
       "<p>720 rows × 8 columns</p>\n",
       "</div>"
      ],
      "text/plain": [
       "                                               Product  Rating       MRP  \\\n",
       "0    Lenovo IdeaPad 3 Core i3 11th Gen - (8 GB/256 ...     4.2   36990.0   \n",
       "1    Lenovo IdeaPad 3 Core i3 11th Gen - (8 GB/512 ...     4.2   39990.0   \n",
       "2    ASUS VivoBook 15 (2022) Core i3 10th Gen - (8 ...     4.3   32990.0   \n",
       "3    HP Pavilion Ryzen 5 Hexa Core AMD R5-5600H - (...     4.4   49990.0   \n",
       "4    ASUS TUF Gaming F15 Core i5 10th Gen - (8 GB/5...     4.4   49990.0   \n",
       "..                                                 ...     ...       ...   \n",
       "715  ASUS Chromebook Flip Touch Celeron Dual Core -...     4.0   23490.0   \n",
       "716  Lenovo IdeaPad Gaming 3 Ryzen 7 Octa Core AMD ...     4.5   73490.0   \n",
       "717  ASUS ROG Zephyrus G15 Ryzen 9 Octa Core 6900HS...     NaN  194990.0   \n",
       "718  ASUS Zenbook Flip 14 OLED (2022) Touch Panel C...     3.0  125990.0   \n",
       "719  Lenovo Ideapad Slim 3i Core i5 10th Gen - (8 G...     4.2   50990.0   \n",
       "\n",
       "                                               Feature      Processor  Core  \\\n",
       "0    Intel Core i3 Processor (11th Gen)8 GB DDR4 RA...       Intel i3  Hexa   \n",
       "1    Intel Core i3 Processor (11th Gen)8 GB DDR4 RA...       Intel i3  Hexa   \n",
       "2    Intel Core i3 Processor (10th Gen)8 GB DDR4 RA...       Intel i3  Hexa   \n",
       "3    AMD Ryzen 5 Hexa Core Processor8 GB DDR4 RAM64...    AMD Ryzen 5  Hexa   \n",
       "4    Intel Core i5 Processor (10th Gen)8 GB DDR4 RA...       Intel i5  Hexa   \n",
       "..                                                 ...            ...   ...   \n",
       "715  Intel Celeron Dual Core Processor4 GB LPDDR4 R...  Intel Celeron  Dual   \n",
       "716  AMD Ryzen 7 Octa Core Processor8 GB DDR4 RAM64...    AMD Ryzen 7  Octa   \n",
       "717  AMD Ryzen 9 Octa Core Processor16 GB DDR5 RAM6...    AMD Ryzen 9  Octa   \n",
       "718  Intel Core i7 Processor (12th Gen)16 GB LPDDR5...       Intel i7  Octa   \n",
       "719  Intel Core i5 Processor (10th Gen)8 GB DDR4 RA...       Intel i5  Hexa   \n",
       "\n",
       "    RAM RAM_type  \n",
       "0     8     DDR4  \n",
       "1     8     DDR4  \n",
       "2     8     DDR4  \n",
       "3     8     DDR4  \n",
       "4     8     DDR4  \n",
       "..   ..      ...  \n",
       "715   4   LPDDR4  \n",
       "716   8     DDR4  \n",
       "717  16     DDR5  \n",
       "718  16   LPDDR5  \n",
       "719   8     DDR4  \n",
       "\n",
       "[720 rows x 8 columns]"
      ]
     },
     "execution_count": 83,
     "metadata": {},
     "output_type": "execute_result"
    }
   ],
   "source": [
    "df"
   ]
  },
  {
   "cell_type": "code",
   "execution_count": null,
   "metadata": {
    "executionInfo": {
     "elapsed": 1751,
     "status": "ok",
     "timestamp": 1682430459765,
     "user": {
      "displayName": "Sarfraz Hussain Mohammed",
      "userId": "04740348016143627760"
     },
     "user_tz": -330
    },
    "id": "Ej2wfvYvoHvh"
   },
   "outputs": [],
   "source": []
  },
  {
   "cell_type": "code",
   "execution_count": null,
   "metadata": {
    "executionInfo": {
     "elapsed": 5,
     "status": "ok",
     "timestamp": 1682430459765,
     "user": {
      "displayName": "Sarfraz Hussain Mohammed",
      "userId": "04740348016143627760"
     },
     "user_tz": -330
    },
    "id": "_yvSMwqkoHnz"
   },
   "outputs": [],
   "source": []
  },
  {
   "cell_type": "code",
   "execution_count": null,
   "metadata": {
    "executionInfo": {
     "elapsed": 4,
     "status": "ok",
     "timestamp": 1682430459766,
     "user": {
      "displayName": "Sarfraz Hussain Mohammed",
      "userId": "04740348016143627760"
     },
     "user_tz": -330
    },
    "id": "bIv9q1IVoHhr"
   },
   "outputs": [],
   "source": []
  },
  {
   "cell_type": "code",
   "execution_count": null,
   "metadata": {
    "executionInfo": {
     "elapsed": 3,
     "status": "ok",
     "timestamp": 1682430459766,
     "user": {
      "displayName": "Sarfraz Hussain Mohammed",
      "userId": "04740348016143627760"
     },
     "user_tz": -330
    },
    "id": "w-UxkUfBoHZE"
   },
   "outputs": [],
   "source": []
  },
  {
   "cell_type": "code",
   "execution_count": null,
   "metadata": {
    "executionInfo": {
     "elapsed": 14,
     "status": "ok",
     "timestamp": 1682430460871,
     "user": {
      "displayName": "Sarfraz Hussain Mohammed",
      "userId": "04740348016143627760"
     },
     "user_tz": -330
    },
    "id": "5Sp_x7wmoHP1"
   },
   "outputs": [],
   "source": []
  },
  {
   "cell_type": "code",
   "execution_count": null,
   "metadata": {
    "executionInfo": {
     "elapsed": 13,
     "status": "ok",
     "timestamp": 1682430460871,
     "user": {
      "displayName": "Sarfraz Hussain Mohammed",
      "userId": "04740348016143627760"
     },
     "user_tz": -330
    },
    "id": "2ZZqnb8loHB4"
   },
   "outputs": [],
   "source": []
  },
  {
   "cell_type": "markdown",
   "metadata": {
    "id": "Fgg90ZBVGsxH"
   },
   "source": [
    "*Storage*"
   ]
  },
  {
   "cell_type": "code",
   "execution_count": 84,
   "metadata": {
    "colab": {
     "base_uri": "https://localhost:8080/",
     "height": 53
    },
    "executionInfo": {
     "elapsed": 1095,
     "status": "ok",
     "timestamp": 1682430461954,
     "user": {
      "displayName": "Sarfraz Hussain Mohammed",
      "userId": "04740348016143627760"
     },
     "user_tz": -330
    },
    "id": "Yj1hrrYdGzi3",
    "outputId": "c23c6e17-16e3-433f-ee9c-e5c652541a28"
   },
   "outputs": [
    {
     "data": {
      "text/plain": [
       "'Intel Core i3 Processor (11th Gen)8 GB DDR4 RAM64 bit Windows 11 Operating System256 GB SSD35.56 cm (14 inch) DisplayOffice Home and Student 20212 Year Onsite�Warranty'"
      ]
     },
     "execution_count": 84,
     "metadata": {},
     "output_type": "execute_result"
    }
   ],
   "source": [
    "df['Feature'][50]"
   ]
  },
  {
   "cell_type": "code",
   "execution_count": 85,
   "metadata": {
    "executionInfo": {
     "elapsed": 31,
     "status": "ok",
     "timestamp": 1682430461955,
     "user": {
      "displayName": "Sarfraz Hussain Mohammed",
      "userId": "04740348016143627760"
     },
     "user_tz": -330
    },
    "id": "6BJ3ABtpINHq"
   },
   "outputs": [],
   "source": [
    "df['Storage']=df.Product.apply(lambda x: re.compile(r'(\\d+\\s+\\w+\\s+(HDD|SSD))').search(x))"
   ]
  },
  {
   "cell_type": "code",
   "execution_count": 86,
   "metadata": {
    "colab": {
     "base_uri": "https://localhost:8080/",
     "height": 580
    },
    "executionInfo": {
     "elapsed": 28,
     "status": "ok",
     "timestamp": 1682430461956,
     "user": {
      "displayName": "Sarfraz Hussain Mohammed",
      "userId": "04740348016143627760"
     },
     "user_tz": -330
    },
    "id": "fpkUI3NpF3RE",
    "outputId": "e4dc7df1-1a72-467a-a0e7-130c02b27d1b"
   },
   "outputs": [
    {
     "data": {
      "text/html": [
       "<div>\n",
       "<style scoped>\n",
       "    .dataframe tbody tr th:only-of-type {\n",
       "        vertical-align: middle;\n",
       "    }\n",
       "\n",
       "    .dataframe tbody tr th {\n",
       "        vertical-align: top;\n",
       "    }\n",
       "\n",
       "    .dataframe thead th {\n",
       "        text-align: right;\n",
       "    }\n",
       "</style>\n",
       "<table border=\"1\" class=\"dataframe\">\n",
       "  <thead>\n",
       "    <tr style=\"text-align: right;\">\n",
       "      <th></th>\n",
       "      <th>Product</th>\n",
       "      <th>Rating</th>\n",
       "      <th>MRP</th>\n",
       "      <th>Feature</th>\n",
       "      <th>Processor</th>\n",
       "      <th>Core</th>\n",
       "      <th>RAM</th>\n",
       "      <th>RAM_type</th>\n",
       "      <th>Storage</th>\n",
       "    </tr>\n",
       "  </thead>\n",
       "  <tbody>\n",
       "    <tr>\n",
       "      <th>83</th>\n",
       "      <td>SAMSUNG Galaxy Book Go Snapdragon 7c Gen 2 - (...</td>\n",
       "      <td>4.4</td>\n",
       "      <td>32990.0</td>\n",
       "      <td>Qualcomm Snapdragon 7c Gen 2 Processor4 GB LPD...</td>\n",
       "      <td>Qualcomm Snapdragon</td>\n",
       "      <td>Octa</td>\n",
       "      <td>4</td>\n",
       "      <td>LPDDR4X</td>\n",
       "      <td>None</td>\n",
       "    </tr>\n",
       "    <tr>\n",
       "      <th>89</th>\n",
       "      <td>Lenovo IdeaPad 3 CB Celeron Dual Core - (4 GB/...</td>\n",
       "      <td>NaN</td>\n",
       "      <td>19490.0</td>\n",
       "      <td>Intel Celeron Dual Core Processor4 GB DDR4 RAM...</td>\n",
       "      <td>Intel Celeron</td>\n",
       "      <td>Dual</td>\n",
       "      <td>4</td>\n",
       "      <td>DDR4</td>\n",
       "      <td>None</td>\n",
       "    </tr>\n",
       "    <tr>\n",
       "      <th>96</th>\n",
       "      <td>Lenovo IdeaPad 3 CB Celeron Dual Core - (4 GB/...</td>\n",
       "      <td>NaN</td>\n",
       "      <td>19490.0</td>\n",
       "      <td>Intel Celeron Dual Core Processor4 GB DDR4 RAM...</td>\n",
       "      <td>Intel Celeron</td>\n",
       "      <td>Dual</td>\n",
       "      <td>4</td>\n",
       "      <td>DDR4</td>\n",
       "      <td>None</td>\n",
       "    </tr>\n",
       "    <tr>\n",
       "      <th>345</th>\n",
       "      <td>ASUS Chromebook Flip Touch Celeron Dual Core -...</td>\n",
       "      <td>4.0</td>\n",
       "      <td>14990.0</td>\n",
       "      <td>Intel Celeron Dual Core Processor4 GB LPDDR4 R...</td>\n",
       "      <td>Intel Celeron</td>\n",
       "      <td>Dual</td>\n",
       "      <td>4</td>\n",
       "      <td>LPDDR4</td>\n",
       "      <td>None</td>\n",
       "    </tr>\n",
       "    <tr>\n",
       "      <th>509</th>\n",
       "      <td>ASUS Chromebook Flip Touch Celeron Dual Core -...</td>\n",
       "      <td>4.0</td>\n",
       "      <td>24390.0</td>\n",
       "      <td>Intel Celeron Dual Core Processor4 GB LPDDR4 R...</td>\n",
       "      <td>Intel Celeron</td>\n",
       "      <td>Dual</td>\n",
       "      <td>4</td>\n",
       "      <td>LPDDR4</td>\n",
       "      <td>None</td>\n",
       "    </tr>\n",
       "    <tr>\n",
       "      <th>544</th>\n",
       "      <td>ASUS EeeBook 12 Celeron Dual Core - (4 GB/64 G...</td>\n",
       "      <td>4.5</td>\n",
       "      <td>21990.0</td>\n",
       "      <td>Intel Celeron Dual Core Processor4 GB DDR4 RAM...</td>\n",
       "      <td>Intel Celeron</td>\n",
       "      <td>Dual</td>\n",
       "      <td>4</td>\n",
       "      <td>DDR4</td>\n",
       "      <td>None</td>\n",
       "    </tr>\n",
       "    <tr>\n",
       "      <th>559</th>\n",
       "      <td>ASUS EeeBook 12 Celeron Dual Core - (4 GB/64 G...</td>\n",
       "      <td>4.0</td>\n",
       "      <td>19990.0</td>\n",
       "      <td>Intel Celeron Dual Core Processor4 GB DDR4 RAM...</td>\n",
       "      <td>Intel Celeron</td>\n",
       "      <td>Dual</td>\n",
       "      <td>4</td>\n",
       "      <td>DDR4</td>\n",
       "      <td>None</td>\n",
       "    </tr>\n",
       "    <tr>\n",
       "      <th>632</th>\n",
       "      <td>Lenovo IdeaPad Flex 3 Chromebook Celeron Dual ...</td>\n",
       "      <td>3.6</td>\n",
       "      <td>28490.0</td>\n",
       "      <td>Intel Celeron Dual Core Processor4 GB LPDDR4X ...</td>\n",
       "      <td>Intel Celeron</td>\n",
       "      <td>Dual</td>\n",
       "      <td>4</td>\n",
       "      <td>LPDDR4X</td>\n",
       "      <td>None</td>\n",
       "    </tr>\n",
       "    <tr>\n",
       "      <th>695</th>\n",
       "      <td>ASUS Chromebook Celeron Dual Core - (4 GB/64 G...</td>\n",
       "      <td>4.1</td>\n",
       "      <td>25990.0</td>\n",
       "      <td>Intel Celeron Dual Core Processor4 GB LPDDR4 R...</td>\n",
       "      <td>Intel Celeron</td>\n",
       "      <td>Dual</td>\n",
       "      <td>4</td>\n",
       "      <td>LPDDR4</td>\n",
       "      <td>None</td>\n",
       "    </tr>\n",
       "    <tr>\n",
       "      <th>715</th>\n",
       "      <td>ASUS Chromebook Flip Touch Celeron Dual Core -...</td>\n",
       "      <td>4.0</td>\n",
       "      <td>23490.0</td>\n",
       "      <td>Intel Celeron Dual Core Processor4 GB LPDDR4 R...</td>\n",
       "      <td>Intel Celeron</td>\n",
       "      <td>Dual</td>\n",
       "      <td>4</td>\n",
       "      <td>LPDDR4</td>\n",
       "      <td>None</td>\n",
       "    </tr>\n",
       "  </tbody>\n",
       "</table>\n",
       "</div>"
      ],
      "text/plain": [
       "                                               Product  Rating      MRP  \\\n",
       "83   SAMSUNG Galaxy Book Go Snapdragon 7c Gen 2 - (...     4.4  32990.0   \n",
       "89   Lenovo IdeaPad 3 CB Celeron Dual Core - (4 GB/...     NaN  19490.0   \n",
       "96   Lenovo IdeaPad 3 CB Celeron Dual Core - (4 GB/...     NaN  19490.0   \n",
       "345  ASUS Chromebook Flip Touch Celeron Dual Core -...     4.0  14990.0   \n",
       "509  ASUS Chromebook Flip Touch Celeron Dual Core -...     4.0  24390.0   \n",
       "544  ASUS EeeBook 12 Celeron Dual Core - (4 GB/64 G...     4.5  21990.0   \n",
       "559  ASUS EeeBook 12 Celeron Dual Core - (4 GB/64 G...     4.0  19990.0   \n",
       "632  Lenovo IdeaPad Flex 3 Chromebook Celeron Dual ...     3.6  28490.0   \n",
       "695  ASUS Chromebook Celeron Dual Core - (4 GB/64 G...     4.1  25990.0   \n",
       "715  ASUS Chromebook Flip Touch Celeron Dual Core -...     4.0  23490.0   \n",
       "\n",
       "                                               Feature            Processor  \\\n",
       "83   Qualcomm Snapdragon 7c Gen 2 Processor4 GB LPD...  Qualcomm Snapdragon   \n",
       "89   Intel Celeron Dual Core Processor4 GB DDR4 RAM...        Intel Celeron   \n",
       "96   Intel Celeron Dual Core Processor4 GB DDR4 RAM...        Intel Celeron   \n",
       "345  Intel Celeron Dual Core Processor4 GB LPDDR4 R...        Intel Celeron   \n",
       "509  Intel Celeron Dual Core Processor4 GB LPDDR4 R...        Intel Celeron   \n",
       "544  Intel Celeron Dual Core Processor4 GB DDR4 RAM...        Intel Celeron   \n",
       "559  Intel Celeron Dual Core Processor4 GB DDR4 RAM...        Intel Celeron   \n",
       "632  Intel Celeron Dual Core Processor4 GB LPDDR4X ...        Intel Celeron   \n",
       "695  Intel Celeron Dual Core Processor4 GB LPDDR4 R...        Intel Celeron   \n",
       "715  Intel Celeron Dual Core Processor4 GB LPDDR4 R...        Intel Celeron   \n",
       "\n",
       "     Core RAM RAM_type Storage  \n",
       "83   Octa   4  LPDDR4X    None  \n",
       "89   Dual   4     DDR4    None  \n",
       "96   Dual   4     DDR4    None  \n",
       "345  Dual   4   LPDDR4    None  \n",
       "509  Dual   4   LPDDR4    None  \n",
       "544  Dual   4     DDR4    None  \n",
       "559  Dual   4     DDR4    None  \n",
       "632  Dual   4  LPDDR4X    None  \n",
       "695  Dual   4   LPDDR4    None  \n",
       "715  Dual   4   LPDDR4    None  "
      ]
     },
     "execution_count": 86,
     "metadata": {},
     "output_type": "execute_result"
    }
   ],
   "source": [
    "df[df['Storage'].isnull()]"
   ]
  },
  {
   "cell_type": "code",
   "execution_count": 87,
   "metadata": {
    "colab": {
     "base_uri": "https://localhost:8080/"
    },
    "executionInfo": {
     "elapsed": 25,
     "status": "ok",
     "timestamp": 1682430461956,
     "user": {
      "displayName": "Sarfraz Hussain Mohammed",
      "userId": "04740348016143627760"
     },
     "user_tz": -330
    },
    "id": "pkj5l7XfJqQU",
    "outputId": "32252b9d-0a22-4c03-d24d-cecf62e27471"
   },
   "outputs": [
    {
     "name": "stderr",
     "output_type": "stream",
     "text": [
      "<ipython-input-87-e23946f88b72>:3: SettingWithCopyWarning: \n",
      "A value is trying to be set on a copy of a slice from a DataFrame\n",
      "\n",
      "See the caveats in the documentation: https://pandas.pydata.org/pandas-docs/stable/user_guide/indexing.html#returning-a-view-versus-a-copy\n",
      "  df['Storage'][i] = re.compile(r'\\d+\\s+\\w+\\s+\\w+\\s+Storage').search(df['Product'][i])\n"
     ]
    }
   ],
   "source": [
    "for i in range(len(df['Storage'])):\n",
    "    if df['Storage'][i] == None:\n",
    "        df['Storage'][i] = re.compile(r'\\d+\\s+\\w+\\s+\\w+\\s+Storage').search(df['Product'][i])"
   ]
  },
  {
   "cell_type": "code",
   "execution_count": 88,
   "metadata": {
    "colab": {
     "base_uri": "https://localhost:8080/",
     "height": 49
    },
    "executionInfo": {
     "elapsed": 20,
     "status": "ok",
     "timestamp": 1682430461957,
     "user": {
      "displayName": "Sarfraz Hussain Mohammed",
      "userId": "04740348016143627760"
     },
     "user_tz": -330
    },
    "id": "euxYlvbeNHFd",
    "outputId": "c3e84d69-59d3-439a-f3ba-9707c779af8f"
   },
   "outputs": [
    {
     "data": {
      "text/html": [
       "<div>\n",
       "<style scoped>\n",
       "    .dataframe tbody tr th:only-of-type {\n",
       "        vertical-align: middle;\n",
       "    }\n",
       "\n",
       "    .dataframe tbody tr th {\n",
       "        vertical-align: top;\n",
       "    }\n",
       "\n",
       "    .dataframe thead th {\n",
       "        text-align: right;\n",
       "    }\n",
       "</style>\n",
       "<table border=\"1\" class=\"dataframe\">\n",
       "  <thead>\n",
       "    <tr style=\"text-align: right;\">\n",
       "      <th></th>\n",
       "      <th>Product</th>\n",
       "      <th>Rating</th>\n",
       "      <th>MRP</th>\n",
       "      <th>Feature</th>\n",
       "      <th>Processor</th>\n",
       "      <th>Core</th>\n",
       "      <th>RAM</th>\n",
       "      <th>RAM_type</th>\n",
       "      <th>Storage</th>\n",
       "    </tr>\n",
       "  </thead>\n",
       "  <tbody>\n",
       "  </tbody>\n",
       "</table>\n",
       "</div>"
      ],
      "text/plain": [
       "Empty DataFrame\n",
       "Columns: [Product, Rating, MRP, Feature, Processor, Core, RAM, RAM_type, Storage]\n",
       "Index: []"
      ]
     },
     "execution_count": 88,
     "metadata": {},
     "output_type": "execute_result"
    }
   ],
   "source": [
    "df[df['Storage'].isnull()]"
   ]
  },
  {
   "cell_type": "code",
   "execution_count": 89,
   "metadata": {
    "executionInfo": {
     "elapsed": 20,
     "status": "ok",
     "timestamp": 1682430461959,
     "user": {
      "displayName": "Sarfraz Hussain Mohammed",
      "userId": "04740348016143627760"
     },
     "user_tz": -330
    },
    "id": "RZX225TaTWz4"
   },
   "outputs": [],
   "source": [
    "df['Storage'] = df['Storage'].apply(lambda x: x.group())"
   ]
  },
  {
   "cell_type": "code",
   "execution_count": 90,
   "metadata": {
    "colab": {
     "base_uri": "https://localhost:8080/"
    },
    "executionInfo": {
     "elapsed": 21,
     "status": "ok",
     "timestamp": 1682430461960,
     "user": {
      "displayName": "Sarfraz Hussain Mohammed",
      "userId": "04740348016143627760"
     },
     "user_tz": -330
    },
    "id": "hNJcEE1oOCiI",
    "outputId": "ed21f3ae-fca7-4307-8559-bd730444c4e9"
   },
   "outputs": [
    {
     "data": {
      "text/plain": [
       "array(['256 GB SSD', '512 GB SSD', '1 TB HDD', '1 TB SSD', '256 GB HDD',\n",
       "       '128 GB EMMC Storage', '64 GB EMMC Storage', '128 GB SSD',\n",
       "       '32 GB EMMC Storage', '2 TB SSD'], dtype=object)"
      ]
     },
     "execution_count": 90,
     "metadata": {},
     "output_type": "execute_result"
    }
   ],
   "source": [
    "df['Storage'].unique()"
   ]
  },
  {
   "cell_type": "code",
   "execution_count": 91,
   "metadata": {
    "executionInfo": {
     "elapsed": 6,
     "status": "ok",
     "timestamp": 1682430462810,
     "user": {
      "displayName": "Sarfraz Hussain Mohammed",
      "userId": "04740348016143627760"
     },
     "user_tz": -330
    },
    "id": "Ug-hIzIQoLEQ"
   },
   "outputs": [],
   "source": [
    "df['Storage'] = df['Storage'].str.replace(\" Storage\",\"\")"
   ]
  },
  {
   "cell_type": "code",
   "execution_count": 92,
   "metadata": {
    "colab": {
     "base_uri": "https://localhost:8080/"
    },
    "executionInfo": {
     "elapsed": 5,
     "status": "ok",
     "timestamp": 1682430462811,
     "user": {
      "displayName": "Sarfraz Hussain Mohammed",
      "userId": "04740348016143627760"
     },
     "user_tz": -330
    },
    "id": "LSDtk1MYoKsC",
    "outputId": "72766d44-1222-4e73-80eb-db684e868379"
   },
   "outputs": [
    {
     "data": {
      "text/plain": [
       "array(['256 GB SSD', '512 GB SSD', '1 TB HDD', '1 TB SSD', '256 GB HDD',\n",
       "       '128 GB EMMC', '64 GB EMMC', '128 GB SSD', '32 GB EMMC',\n",
       "       '2 TB SSD'], dtype=object)"
      ]
     },
     "execution_count": 92,
     "metadata": {},
     "output_type": "execute_result"
    }
   ],
   "source": [
    "df['Storage'].unique()"
   ]
  },
  {
   "cell_type": "code",
   "execution_count": 93,
   "metadata": {
    "executionInfo": {
     "elapsed": 945,
     "status": "ok",
     "timestamp": 1682430463752,
     "user": {
      "displayName": "Sarfraz Hussain Mohammed",
      "userId": "04740348016143627760"
     },
     "user_tz": -330
    },
    "id": "HdcIdJIDoJ9t"
   },
   "outputs": [],
   "source": [
    "df['Storagebytes'] = df.Storage.apply(lambda x: re.compile(r'(GB|TB)').search(x).group())"
   ]
  },
  {
   "cell_type": "code",
   "execution_count": 94,
   "metadata": {
    "colab": {
     "base_uri": "https://localhost:8080/"
    },
    "executionInfo": {
     "elapsed": 17,
     "status": "ok",
     "timestamp": 1682430463754,
     "user": {
      "displayName": "Sarfraz Hussain Mohammed",
      "userId": "04740348016143627760"
     },
     "user_tz": -330
    },
    "id": "H7LAV6vwVzq6",
    "outputId": "2f8b7f08-cf85-4807-c2a6-a4a8baa12ff3"
   },
   "outputs": [
    {
     "data": {
      "text/plain": [
       "array(['GB', 'TB'], dtype=object)"
      ]
     },
     "execution_count": 94,
     "metadata": {},
     "output_type": "execute_result"
    }
   ],
   "source": [
    "df['Storagebytes'].unique()"
   ]
  },
  {
   "cell_type": "code",
   "execution_count": 95,
   "metadata": {
    "executionInfo": {
     "elapsed": 11,
     "status": "ok",
     "timestamp": 1682430463757,
     "user": {
      "displayName": "Sarfraz Hussain Mohammed",
      "userId": "04740348016143627760"
     },
     "user_tz": -330
    },
    "id": "xbioYiQ7WipC"
   },
   "outputs": [],
   "source": [
    "df['Storagetype'] = df.Storage.apply(lambda x: re.compile(r'(SSD|HDD|EMMC)').search(x).group())"
   ]
  },
  {
   "cell_type": "code",
   "execution_count": 96,
   "metadata": {
    "executionInfo": {
     "elapsed": 7,
     "status": "ok",
     "timestamp": 1682430466257,
     "user": {
      "displayName": "Sarfraz Hussain Mohammed",
      "userId": "04740348016143627760"
     },
     "user_tz": -330
    },
    "id": "zbOM3v2nWTkV"
   },
   "outputs": [],
   "source": [
    "df['Storage'] = df.Storage.apply(lambda x: re.compile(r'\\d+').search(x).group())"
   ]
  },
  {
   "cell_type": "code",
   "execution_count": 97,
   "metadata": {
    "colab": {
     "base_uri": "https://localhost:8080/"
    },
    "executionInfo": {
     "elapsed": 7,
     "status": "ok",
     "timestamp": 1682430469373,
     "user": {
      "displayName": "Sarfraz Hussain Mohammed",
      "userId": "04740348016143627760"
     },
     "user_tz": -330
    },
    "id": "bpM1WMwcV-sN",
    "outputId": "d9d47580-bf7f-4d14-ecb9-7bf88571bde6"
   },
   "outputs": [
    {
     "data": {
      "text/plain": [
       "0      256\n",
       "1      512\n",
       "2      512\n",
       "3      512\n",
       "4      512\n",
       "      ... \n",
       "715     64\n",
       "716    512\n",
       "717      1\n",
       "718    512\n",
       "719      1\n",
       "Name: Storage, Length: 720, dtype: object"
      ]
     },
     "execution_count": 97,
     "metadata": {},
     "output_type": "execute_result"
    }
   ],
   "source": [
    "df['Storage']"
   ]
  },
  {
   "cell_type": "code",
   "execution_count": 98,
   "metadata": {
    "colab": {
     "base_uri": "https://localhost:8080/",
     "height": 710
    },
    "executionInfo": {
     "elapsed": 772,
     "status": "ok",
     "timestamp": 1682430528770,
     "user": {
      "displayName": "Sarfraz Hussain Mohammed",
      "userId": "04740348016143627760"
     },
     "user_tz": -330
    },
    "id": "92-C9kH0q7Kd",
    "outputId": "3f784aea-531d-4208-a309-18b69396e87f"
   },
   "outputs": [
    {
     "data": {
      "text/html": [
       "<div>\n",
       "<style scoped>\n",
       "    .dataframe tbody tr th:only-of-type {\n",
       "        vertical-align: middle;\n",
       "    }\n",
       "\n",
       "    .dataframe tbody tr th {\n",
       "        vertical-align: top;\n",
       "    }\n",
       "\n",
       "    .dataframe thead th {\n",
       "        text-align: right;\n",
       "    }\n",
       "</style>\n",
       "<table border=\"1\" class=\"dataframe\">\n",
       "  <thead>\n",
       "    <tr style=\"text-align: right;\">\n",
       "      <th></th>\n",
       "      <th>Product</th>\n",
       "      <th>Rating</th>\n",
       "      <th>MRP</th>\n",
       "      <th>Feature</th>\n",
       "      <th>Processor</th>\n",
       "      <th>Core</th>\n",
       "      <th>RAM</th>\n",
       "      <th>RAM_type</th>\n",
       "      <th>Storage</th>\n",
       "      <th>Storagebytes</th>\n",
       "      <th>Storagetype</th>\n",
       "    </tr>\n",
       "  </thead>\n",
       "  <tbody>\n",
       "    <tr>\n",
       "      <th>6</th>\n",
       "      <td>DELL Inspiron Core i3 11th Gen - (8 GB/1 TB HD...</td>\n",
       "      <td>4.3</td>\n",
       "      <td>38990.0</td>\n",
       "      <td>Processor: Intel i3-1115G4 (Base- 1.70 GHz &amp; T...</td>\n",
       "      <td>Intel i3</td>\n",
       "      <td>Dual</td>\n",
       "      <td>8</td>\n",
       "      <td>DDR4</td>\n",
       "      <td>1</td>\n",
       "      <td>TB</td>\n",
       "      <td>HDD</td>\n",
       "    </tr>\n",
       "    <tr>\n",
       "      <th>15</th>\n",
       "      <td>ASUS ROG Strix G15 (2022) with 90Whr Battery R...</td>\n",
       "      <td>NaN</td>\n",
       "      <td>196990.0</td>\n",
       "      <td>AMD Ryzen 9 Octa Core Processor16 GB DDR5 RAMW...</td>\n",
       "      <td>AMD Ryzen 9</td>\n",
       "      <td>Octa</td>\n",
       "      <td>16</td>\n",
       "      <td>DDR5</td>\n",
       "      <td>1</td>\n",
       "      <td>TB</td>\n",
       "      <td>SSD</td>\n",
       "    </tr>\n",
       "    <tr>\n",
       "      <th>16</th>\n",
       "      <td>ASUS VivoBook 15 (2022) Core i5 11th Gen - (8 ...</td>\n",
       "      <td>4.3</td>\n",
       "      <td>47990.0</td>\n",
       "      <td>Intel Core i5 Processor (11th Gen)8 GB DDR4 RA...</td>\n",
       "      <td>Intel i5</td>\n",
       "      <td>Hexa</td>\n",
       "      <td>8</td>\n",
       "      <td>DDR4</td>\n",
       "      <td>1</td>\n",
       "      <td>TB</td>\n",
       "      <td>HDD</td>\n",
       "    </tr>\n",
       "    <tr>\n",
       "      <th>19</th>\n",
       "      <td>ASUS ROG Strix G15 Ryzen 7 Octa Core AMD R7-48...</td>\n",
       "      <td>4.6</td>\n",
       "      <td>85990.0</td>\n",
       "      <td>AMD Ryzen 7 Octa Core Processor16 GB DDR4 RAMW...</td>\n",
       "      <td>AMD Ryzen 7</td>\n",
       "      <td>Octa</td>\n",
       "      <td>16</td>\n",
       "      <td>DDR4</td>\n",
       "      <td>1</td>\n",
       "      <td>TB</td>\n",
       "      <td>SSD</td>\n",
       "    </tr>\n",
       "    <tr>\n",
       "      <th>27</th>\n",
       "      <td>ASUS ROG Strix G15 (2022) with 90Whr Battery R...</td>\n",
       "      <td>NaN</td>\n",
       "      <td>196990.0</td>\n",
       "      <td>AMD Ryzen 9 Octa Core Processor16 GB DDR5 RAMW...</td>\n",
       "      <td>AMD Ryzen 9</td>\n",
       "      <td>Octa</td>\n",
       "      <td>16</td>\n",
       "      <td>DDR5</td>\n",
       "      <td>1</td>\n",
       "      <td>TB</td>\n",
       "      <td>SSD</td>\n",
       "    </tr>\n",
       "    <tr>\n",
       "      <th>...</th>\n",
       "      <td>...</td>\n",
       "      <td>...</td>\n",
       "      <td>...</td>\n",
       "      <td>...</td>\n",
       "      <td>...</td>\n",
       "      <td>...</td>\n",
       "      <td>...</td>\n",
       "      <td>...</td>\n",
       "      <td>...</td>\n",
       "      <td>...</td>\n",
       "      <td>...</td>\n",
       "    </tr>\n",
       "    <tr>\n",
       "      <th>709</th>\n",
       "      <td>ASUS ROG Flow X13 (2022) Ryzen 9 Octa Core 690...</td>\n",
       "      <td>NaN</td>\n",
       "      <td>151990.0</td>\n",
       "      <td>AMD Ryzen 9 Octa Core Processor16 GB LPDDR5 RA...</td>\n",
       "      <td>AMD Ryzen 9</td>\n",
       "      <td>Octa</td>\n",
       "      <td>16</td>\n",
       "      <td>LPDDR5</td>\n",
       "      <td>1</td>\n",
       "      <td>TB</td>\n",
       "      <td>SSD</td>\n",
       "    </tr>\n",
       "    <tr>\n",
       "      <th>711</th>\n",
       "      <td>ASUS ROG Strix G15 Advantage Edition with 90Wh...</td>\n",
       "      <td>4.9</td>\n",
       "      <td>150990.0</td>\n",
       "      <td>AMD Ryzen 9 Octa Core Processor16 GB DDR4 RAMW...</td>\n",
       "      <td>AMD Ryzen 9</td>\n",
       "      <td>Octa</td>\n",
       "      <td>16</td>\n",
       "      <td>DDR4</td>\n",
       "      <td>1</td>\n",
       "      <td>TB</td>\n",
       "      <td>SSD</td>\n",
       "    </tr>\n",
       "    <tr>\n",
       "      <th>712</th>\n",
       "      <td>ASUS ExpertBook B9 Core i7 10th Gen - (16 GB/2...</td>\n",
       "      <td>NaN</td>\n",
       "      <td>233990.0</td>\n",
       "      <td>Intel Core i7 Processor (10th Gen)16 GB LPDDR3...</td>\n",
       "      <td>Intel i7</td>\n",
       "      <td>Octa</td>\n",
       "      <td>16</td>\n",
       "      <td>LPDDR3</td>\n",
       "      <td>2</td>\n",
       "      <td>TB</td>\n",
       "      <td>SSD</td>\n",
       "    </tr>\n",
       "    <tr>\n",
       "      <th>717</th>\n",
       "      <td>ASUS ROG Zephyrus G15 Ryzen 9 Octa Core 6900HS...</td>\n",
       "      <td>NaN</td>\n",
       "      <td>194990.0</td>\n",
       "      <td>AMD Ryzen 9 Octa Core Processor16 GB DDR5 RAM6...</td>\n",
       "      <td>AMD Ryzen 9</td>\n",
       "      <td>Octa</td>\n",
       "      <td>16</td>\n",
       "      <td>DDR5</td>\n",
       "      <td>1</td>\n",
       "      <td>TB</td>\n",
       "      <td>SSD</td>\n",
       "    </tr>\n",
       "    <tr>\n",
       "      <th>719</th>\n",
       "      <td>Lenovo Ideapad Slim 3i Core i5 10th Gen - (8 G...</td>\n",
       "      <td>4.2</td>\n",
       "      <td>50990.0</td>\n",
       "      <td>Intel Core i5 Processor (10th Gen)8 GB DDR4 RA...</td>\n",
       "      <td>Intel i5</td>\n",
       "      <td>Hexa</td>\n",
       "      <td>8</td>\n",
       "      <td>DDR4</td>\n",
       "      <td>1</td>\n",
       "      <td>TB</td>\n",
       "      <td>HDD</td>\n",
       "    </tr>\n",
       "  </tbody>\n",
       "</table>\n",
       "<p>230 rows × 11 columns</p>\n",
       "</div>"
      ],
      "text/plain": [
       "                                               Product  Rating       MRP  \\\n",
       "6    DELL Inspiron Core i3 11th Gen - (8 GB/1 TB HD...     4.3   38990.0   \n",
       "15   ASUS ROG Strix G15 (2022) with 90Whr Battery R...     NaN  196990.0   \n",
       "16   ASUS VivoBook 15 (2022) Core i5 11th Gen - (8 ...     4.3   47990.0   \n",
       "19   ASUS ROG Strix G15 Ryzen 7 Octa Core AMD R7-48...     4.6   85990.0   \n",
       "27   ASUS ROG Strix G15 (2022) with 90Whr Battery R...     NaN  196990.0   \n",
       "..                                                 ...     ...       ...   \n",
       "709  ASUS ROG Flow X13 (2022) Ryzen 9 Octa Core 690...     NaN  151990.0   \n",
       "711  ASUS ROG Strix G15 Advantage Edition with 90Wh...     4.9  150990.0   \n",
       "712  ASUS ExpertBook B9 Core i7 10th Gen - (16 GB/2...     NaN  233990.0   \n",
       "717  ASUS ROG Zephyrus G15 Ryzen 9 Octa Core 6900HS...     NaN  194990.0   \n",
       "719  Lenovo Ideapad Slim 3i Core i5 10th Gen - (8 G...     4.2   50990.0   \n",
       "\n",
       "                                               Feature    Processor  Core RAM  \\\n",
       "6    Processor: Intel i3-1115G4 (Base- 1.70 GHz & T...     Intel i3  Dual   8   \n",
       "15   AMD Ryzen 9 Octa Core Processor16 GB DDR5 RAMW...  AMD Ryzen 9  Octa  16   \n",
       "16   Intel Core i5 Processor (11th Gen)8 GB DDR4 RA...     Intel i5  Hexa   8   \n",
       "19   AMD Ryzen 7 Octa Core Processor16 GB DDR4 RAMW...  AMD Ryzen 7  Octa  16   \n",
       "27   AMD Ryzen 9 Octa Core Processor16 GB DDR5 RAMW...  AMD Ryzen 9  Octa  16   \n",
       "..                                                 ...          ...   ...  ..   \n",
       "709  AMD Ryzen 9 Octa Core Processor16 GB LPDDR5 RA...  AMD Ryzen 9  Octa  16   \n",
       "711  AMD Ryzen 9 Octa Core Processor16 GB DDR4 RAMW...  AMD Ryzen 9  Octa  16   \n",
       "712  Intel Core i7 Processor (10th Gen)16 GB LPDDR3...     Intel i7  Octa  16   \n",
       "717  AMD Ryzen 9 Octa Core Processor16 GB DDR5 RAM6...  AMD Ryzen 9  Octa  16   \n",
       "719  Intel Core i5 Processor (10th Gen)8 GB DDR4 RA...     Intel i5  Hexa   8   \n",
       "\n",
       "    RAM_type Storage Storagebytes Storagetype  \n",
       "6       DDR4       1           TB         HDD  \n",
       "15      DDR5       1           TB         SSD  \n",
       "16      DDR4       1           TB         HDD  \n",
       "19      DDR4       1           TB         SSD  \n",
       "27      DDR5       1           TB         SSD  \n",
       "..       ...     ...          ...         ...  \n",
       "709   LPDDR5       1           TB         SSD  \n",
       "711     DDR4       1           TB         SSD  \n",
       "712   LPDDR3       2           TB         SSD  \n",
       "717     DDR5       1           TB         SSD  \n",
       "719     DDR4       1           TB         HDD  \n",
       "\n",
       "[230 rows x 11 columns]"
      ]
     },
     "execution_count": 98,
     "metadata": {},
     "output_type": "execute_result"
    }
   ],
   "source": [
    "df[df['Storagebytes']=='TB']"
   ]
  },
  {
   "cell_type": "code",
   "execution_count": 99,
   "metadata": {
    "colab": {
     "base_uri": "https://localhost:8080/"
    },
    "executionInfo": {
     "elapsed": 1444,
     "status": "ok",
     "timestamp": 1682430830509,
     "user": {
      "displayName": "Sarfraz Hussain Mohammed",
      "userId": "04740348016143627760"
     },
     "user_tz": -330
    },
    "id": "QHwtoyKyrLrC",
    "outputId": "9a92bddd-7765-4135-cdcc-f8d837f2844c"
   },
   "outputs": [
    {
     "name": "stderr",
     "output_type": "stream",
     "text": [
      "<ipython-input-99-6f7c877e39fa>:3: SettingWithCopyWarning: \n",
      "A value is trying to be set on a copy of a slice from a DataFrame\n",
      "\n",
      "See the caveats in the documentation: https://pandas.pydata.org/pandas-docs/stable/user_guide/indexing.html#returning-a-view-versus-a-copy\n",
      "  df['Storage'][i] = int(df['Storage'][i])*1000\n"
     ]
    }
   ],
   "source": [
    "for i in range(len(df['Storagebytes'])):\n",
    "    if df['Storagebytes'][i] == 'TB':\n",
    "        df['Storage'][i] = int(df['Storage'][i])*1000"
   ]
  },
  {
   "cell_type": "code",
   "execution_count": 100,
   "metadata": {
    "executionInfo": {
     "elapsed": 621,
     "status": "ok",
     "timestamp": 1682431075661,
     "user": {
      "displayName": "Sarfraz Hussain Mohammed",
      "userId": "04740348016143627760"
     },
     "user_tz": -330
    },
    "id": "3Sn0OofnsS-C"
   },
   "outputs": [],
   "source": [
    "df.rename(columns = {'Storage':'Storage(GB)'}, inplace = True)"
   ]
  },
  {
   "cell_type": "code",
   "execution_count": 101,
   "metadata": {
    "executionInfo": {
     "elapsed": 1121,
     "status": "ok",
     "timestamp": 1682431306057,
     "user": {
      "displayName": "Sarfraz Hussain Mohammed",
      "userId": "04740348016143627760"
     },
     "user_tz": -330
    },
    "id": "B_-DJa8utani"
   },
   "outputs": [],
   "source": [
    "df = df.drop(['Storagebytes'], axis=1)"
   ]
  },
  {
   "cell_type": "code",
   "execution_count": 102,
   "metadata": {
    "colab": {
     "base_uri": "https://localhost:8080/",
     "height": 641
    },
    "executionInfo": {
     "elapsed": 525,
     "status": "ok",
     "timestamp": 1682431310670,
     "user": {
      "displayName": "Sarfraz Hussain Mohammed",
      "userId": "04740348016143627760"
     },
     "user_tz": -330
    },
    "id": "TRy4IWARV9-T",
    "outputId": "da416389-0abd-45b6-dd97-06ddf9a3030c"
   },
   "outputs": [
    {
     "data": {
      "text/html": [
       "<div>\n",
       "<style scoped>\n",
       "    .dataframe tbody tr th:only-of-type {\n",
       "        vertical-align: middle;\n",
       "    }\n",
       "\n",
       "    .dataframe tbody tr th {\n",
       "        vertical-align: top;\n",
       "    }\n",
       "\n",
       "    .dataframe thead th {\n",
       "        text-align: right;\n",
       "    }\n",
       "</style>\n",
       "<table border=\"1\" class=\"dataframe\">\n",
       "  <thead>\n",
       "    <tr style=\"text-align: right;\">\n",
       "      <th></th>\n",
       "      <th>Product</th>\n",
       "      <th>Rating</th>\n",
       "      <th>MRP</th>\n",
       "      <th>Feature</th>\n",
       "      <th>Processor</th>\n",
       "      <th>Core</th>\n",
       "      <th>RAM</th>\n",
       "      <th>RAM_type</th>\n",
       "      <th>Storage(GB)</th>\n",
       "      <th>Storagetype</th>\n",
       "    </tr>\n",
       "  </thead>\n",
       "  <tbody>\n",
       "    <tr>\n",
       "      <th>0</th>\n",
       "      <td>Lenovo IdeaPad 3 Core i3 11th Gen - (8 GB/256 ...</td>\n",
       "      <td>4.2</td>\n",
       "      <td>36990.0</td>\n",
       "      <td>Intel Core i3 Processor (11th Gen)8 GB DDR4 RA...</td>\n",
       "      <td>Intel i3</td>\n",
       "      <td>Hexa</td>\n",
       "      <td>8</td>\n",
       "      <td>DDR4</td>\n",
       "      <td>256</td>\n",
       "      <td>SSD</td>\n",
       "    </tr>\n",
       "    <tr>\n",
       "      <th>1</th>\n",
       "      <td>Lenovo IdeaPad 3 Core i3 11th Gen - (8 GB/512 ...</td>\n",
       "      <td>4.2</td>\n",
       "      <td>39990.0</td>\n",
       "      <td>Intel Core i3 Processor (11th Gen)8 GB DDR4 RA...</td>\n",
       "      <td>Intel i3</td>\n",
       "      <td>Hexa</td>\n",
       "      <td>8</td>\n",
       "      <td>DDR4</td>\n",
       "      <td>512</td>\n",
       "      <td>SSD</td>\n",
       "    </tr>\n",
       "    <tr>\n",
       "      <th>2</th>\n",
       "      <td>ASUS VivoBook 15 (2022) Core i3 10th Gen - (8 ...</td>\n",
       "      <td>4.3</td>\n",
       "      <td>32990.0</td>\n",
       "      <td>Intel Core i3 Processor (10th Gen)8 GB DDR4 RA...</td>\n",
       "      <td>Intel i3</td>\n",
       "      <td>Hexa</td>\n",
       "      <td>8</td>\n",
       "      <td>DDR4</td>\n",
       "      <td>512</td>\n",
       "      <td>SSD</td>\n",
       "    </tr>\n",
       "    <tr>\n",
       "      <th>3</th>\n",
       "      <td>HP Pavilion Ryzen 5 Hexa Core AMD R5-5600H - (...</td>\n",
       "      <td>4.4</td>\n",
       "      <td>49990.0</td>\n",
       "      <td>AMD Ryzen 5 Hexa Core Processor8 GB DDR4 RAM64...</td>\n",
       "      <td>AMD Ryzen 5</td>\n",
       "      <td>Hexa</td>\n",
       "      <td>8</td>\n",
       "      <td>DDR4</td>\n",
       "      <td>512</td>\n",
       "      <td>SSD</td>\n",
       "    </tr>\n",
       "    <tr>\n",
       "      <th>4</th>\n",
       "      <td>ASUS TUF Gaming F15 Core i5 10th Gen - (8 GB/5...</td>\n",
       "      <td>4.4</td>\n",
       "      <td>49990.0</td>\n",
       "      <td>Intel Core i5 Processor (10th Gen)8 GB DDR4 RA...</td>\n",
       "      <td>Intel i5</td>\n",
       "      <td>Hexa</td>\n",
       "      <td>8</td>\n",
       "      <td>DDR4</td>\n",
       "      <td>512</td>\n",
       "      <td>SSD</td>\n",
       "    </tr>\n",
       "    <tr>\n",
       "      <th>...</th>\n",
       "      <td>...</td>\n",
       "      <td>...</td>\n",
       "      <td>...</td>\n",
       "      <td>...</td>\n",
       "      <td>...</td>\n",
       "      <td>...</td>\n",
       "      <td>...</td>\n",
       "      <td>...</td>\n",
       "      <td>...</td>\n",
       "      <td>...</td>\n",
       "    </tr>\n",
       "    <tr>\n",
       "      <th>715</th>\n",
       "      <td>ASUS Chromebook Flip Touch Celeron Dual Core -...</td>\n",
       "      <td>4.0</td>\n",
       "      <td>23490.0</td>\n",
       "      <td>Intel Celeron Dual Core Processor4 GB LPDDR4 R...</td>\n",
       "      <td>Intel Celeron</td>\n",
       "      <td>Dual</td>\n",
       "      <td>4</td>\n",
       "      <td>LPDDR4</td>\n",
       "      <td>64</td>\n",
       "      <td>EMMC</td>\n",
       "    </tr>\n",
       "    <tr>\n",
       "      <th>716</th>\n",
       "      <td>Lenovo IdeaPad Gaming 3 Ryzen 7 Octa Core AMD ...</td>\n",
       "      <td>4.5</td>\n",
       "      <td>73490.0</td>\n",
       "      <td>AMD Ryzen 7 Octa Core Processor8 GB DDR4 RAM64...</td>\n",
       "      <td>AMD Ryzen 7</td>\n",
       "      <td>Octa</td>\n",
       "      <td>8</td>\n",
       "      <td>DDR4</td>\n",
       "      <td>512</td>\n",
       "      <td>SSD</td>\n",
       "    </tr>\n",
       "    <tr>\n",
       "      <th>717</th>\n",
       "      <td>ASUS ROG Zephyrus G15 Ryzen 9 Octa Core 6900HS...</td>\n",
       "      <td>NaN</td>\n",
       "      <td>194990.0</td>\n",
       "      <td>AMD Ryzen 9 Octa Core Processor16 GB DDR5 RAM6...</td>\n",
       "      <td>AMD Ryzen 9</td>\n",
       "      <td>Octa</td>\n",
       "      <td>16</td>\n",
       "      <td>DDR5</td>\n",
       "      <td>1000</td>\n",
       "      <td>SSD</td>\n",
       "    </tr>\n",
       "    <tr>\n",
       "      <th>718</th>\n",
       "      <td>ASUS Zenbook Flip 14 OLED (2022) Touch Panel C...</td>\n",
       "      <td>3.0</td>\n",
       "      <td>125990.0</td>\n",
       "      <td>Intel Core i7 Processor (12th Gen)16 GB LPDDR5...</td>\n",
       "      <td>Intel i7</td>\n",
       "      <td>Octa</td>\n",
       "      <td>16</td>\n",
       "      <td>LPDDR5</td>\n",
       "      <td>512</td>\n",
       "      <td>SSD</td>\n",
       "    </tr>\n",
       "    <tr>\n",
       "      <th>719</th>\n",
       "      <td>Lenovo Ideapad Slim 3i Core i5 10th Gen - (8 G...</td>\n",
       "      <td>4.2</td>\n",
       "      <td>50990.0</td>\n",
       "      <td>Intel Core i5 Processor (10th Gen)8 GB DDR4 RA...</td>\n",
       "      <td>Intel i5</td>\n",
       "      <td>Hexa</td>\n",
       "      <td>8</td>\n",
       "      <td>DDR4</td>\n",
       "      <td>1000</td>\n",
       "      <td>HDD</td>\n",
       "    </tr>\n",
       "  </tbody>\n",
       "</table>\n",
       "<p>720 rows × 10 columns</p>\n",
       "</div>"
      ],
      "text/plain": [
       "                                               Product  Rating       MRP  \\\n",
       "0    Lenovo IdeaPad 3 Core i3 11th Gen - (8 GB/256 ...     4.2   36990.0   \n",
       "1    Lenovo IdeaPad 3 Core i3 11th Gen - (8 GB/512 ...     4.2   39990.0   \n",
       "2    ASUS VivoBook 15 (2022) Core i3 10th Gen - (8 ...     4.3   32990.0   \n",
       "3    HP Pavilion Ryzen 5 Hexa Core AMD R5-5600H - (...     4.4   49990.0   \n",
       "4    ASUS TUF Gaming F15 Core i5 10th Gen - (8 GB/5...     4.4   49990.0   \n",
       "..                                                 ...     ...       ...   \n",
       "715  ASUS Chromebook Flip Touch Celeron Dual Core -...     4.0   23490.0   \n",
       "716  Lenovo IdeaPad Gaming 3 Ryzen 7 Octa Core AMD ...     4.5   73490.0   \n",
       "717  ASUS ROG Zephyrus G15 Ryzen 9 Octa Core 6900HS...     NaN  194990.0   \n",
       "718  ASUS Zenbook Flip 14 OLED (2022) Touch Panel C...     3.0  125990.0   \n",
       "719  Lenovo Ideapad Slim 3i Core i5 10th Gen - (8 G...     4.2   50990.0   \n",
       "\n",
       "                                               Feature      Processor  Core  \\\n",
       "0    Intel Core i3 Processor (11th Gen)8 GB DDR4 RA...       Intel i3  Hexa   \n",
       "1    Intel Core i3 Processor (11th Gen)8 GB DDR4 RA...       Intel i3  Hexa   \n",
       "2    Intel Core i3 Processor (10th Gen)8 GB DDR4 RA...       Intel i3  Hexa   \n",
       "3    AMD Ryzen 5 Hexa Core Processor8 GB DDR4 RAM64...    AMD Ryzen 5  Hexa   \n",
       "4    Intel Core i5 Processor (10th Gen)8 GB DDR4 RA...       Intel i5  Hexa   \n",
       "..                                                 ...            ...   ...   \n",
       "715  Intel Celeron Dual Core Processor4 GB LPDDR4 R...  Intel Celeron  Dual   \n",
       "716  AMD Ryzen 7 Octa Core Processor8 GB DDR4 RAM64...    AMD Ryzen 7  Octa   \n",
       "717  AMD Ryzen 9 Octa Core Processor16 GB DDR5 RAM6...    AMD Ryzen 9  Octa   \n",
       "718  Intel Core i7 Processor (12th Gen)16 GB LPDDR5...       Intel i7  Octa   \n",
       "719  Intel Core i5 Processor (10th Gen)8 GB DDR4 RA...       Intel i5  Hexa   \n",
       "\n",
       "    RAM RAM_type Storage(GB) Storagetype  \n",
       "0     8     DDR4         256         SSD  \n",
       "1     8     DDR4         512         SSD  \n",
       "2     8     DDR4         512         SSD  \n",
       "3     8     DDR4         512         SSD  \n",
       "4     8     DDR4         512         SSD  \n",
       "..   ..      ...         ...         ...  \n",
       "715   4   LPDDR4          64        EMMC  \n",
       "716   8     DDR4         512         SSD  \n",
       "717  16     DDR5        1000         SSD  \n",
       "718  16   LPDDR5         512         SSD  \n",
       "719   8     DDR4        1000         HDD  \n",
       "\n",
       "[720 rows x 10 columns]"
      ]
     },
     "execution_count": 102,
     "metadata": {},
     "output_type": "execute_result"
    }
   ],
   "source": [
    "df"
   ]
  },
  {
   "cell_type": "code",
   "execution_count": null,
   "metadata": {
    "id": "mYcwCeE-V9tz"
   },
   "outputs": [],
   "source": []
  },
  {
   "cell_type": "code",
   "execution_count": null,
   "metadata": {
    "id": "IozinSWSV9hh"
   },
   "outputs": [],
   "source": []
  },
  {
   "cell_type": "markdown",
   "metadata": {
    "id": "a8xm7DO7PMOD"
   },
   "source": [
    "*Brand*"
   ]
  },
  {
   "cell_type": "code",
   "execution_count": 103,
   "metadata": {
    "executionInfo": {
     "elapsed": 6,
     "status": "ok",
     "timestamp": 1682431369686,
     "user": {
      "displayName": "Sarfraz Hussain Mohammed",
      "userId": "04740348016143627760"
     },
     "user_tz": -330
    },
    "id": "PKX9h1l9XrPO"
   },
   "outputs": [],
   "source": [
    "df['Brand'] = df.Product.apply(lambda x: re.compile(r'\\w+').search(x).group())"
   ]
  },
  {
   "cell_type": "code",
   "execution_count": 104,
   "metadata": {
    "colab": {
     "base_uri": "https://localhost:8080/"
    },
    "executionInfo": {
     "elapsed": 12,
     "status": "ok",
     "timestamp": 1682431370890,
     "user": {
      "displayName": "Sarfraz Hussain Mohammed",
      "userId": "04740348016143627760"
     },
     "user_tz": -330
    },
    "id": "MskgSYSyXzOb",
    "outputId": "1dfaf234-315a-4034-fe1c-58b6de0c8127"
   },
   "outputs": [
    {
     "data": {
      "text/plain": [
       "array(['Lenovo', 'ASUS', 'HP', 'DELL', 'RedmiBook', 'realme', 'acer',\n",
       "       'MSI', 'APPLE', 'Infinix', 'SAMSUNG', 'Ultimus', 'Vaio',\n",
       "       'GIGABYTE', 'Nokia', 'ALIENWARE'], dtype=object)"
      ]
     },
     "execution_count": 104,
     "metadata": {},
     "output_type": "execute_result"
    }
   ],
   "source": [
    "df['Brand'].unique()"
   ]
  },
  {
   "cell_type": "code",
   "execution_count": null,
   "metadata": {
    "executionInfo": {
     "elapsed": 9,
     "status": "ok",
     "timestamp": 1682431370892,
     "user": {
      "displayName": "Sarfraz Hussain Mohammed",
      "userId": "04740348016143627760"
     },
     "user_tz": -330
    },
    "id": "NRrScoleyrBg"
   },
   "outputs": [],
   "source": []
  },
  {
   "cell_type": "code",
   "execution_count": null,
   "metadata": {
    "executionInfo": {
     "elapsed": 760,
     "status": "ok",
     "timestamp": 1682431381497,
     "user": {
      "displayName": "Sarfraz Hussain Mohammed",
      "userId": "04740348016143627760"
     },
     "user_tz": -330
    },
    "id": "FQGis4vhyqz2"
   },
   "outputs": [],
   "source": []
  },
  {
   "cell_type": "code",
   "execution_count": 105,
   "metadata": {
    "colab": {
     "base_uri": "https://localhost:8080/",
     "height": 641
    },
    "executionInfo": {
     "elapsed": 10,
     "status": "ok",
     "timestamp": 1682431383033,
     "user": {
      "displayName": "Sarfraz Hussain Mohammed",
      "userId": "04740348016143627760"
     },
     "user_tz": -330
    },
    "id": "ZHhugpbdoMmX",
    "outputId": "b9e49f6e-4bbc-42e4-9c68-3ac711cd3810"
   },
   "outputs": [
    {
     "data": {
      "text/html": [
       "<div>\n",
       "<style scoped>\n",
       "    .dataframe tbody tr th:only-of-type {\n",
       "        vertical-align: middle;\n",
       "    }\n",
       "\n",
       "    .dataframe tbody tr th {\n",
       "        vertical-align: top;\n",
       "    }\n",
       "\n",
       "    .dataframe thead th {\n",
       "        text-align: right;\n",
       "    }\n",
       "</style>\n",
       "<table border=\"1\" class=\"dataframe\">\n",
       "  <thead>\n",
       "    <tr style=\"text-align: right;\">\n",
       "      <th></th>\n",
       "      <th>Product</th>\n",
       "      <th>Rating</th>\n",
       "      <th>MRP</th>\n",
       "      <th>Feature</th>\n",
       "      <th>Processor</th>\n",
       "      <th>Core</th>\n",
       "      <th>RAM</th>\n",
       "      <th>RAM_type</th>\n",
       "      <th>Storage(GB)</th>\n",
       "      <th>Storagetype</th>\n",
       "      <th>Brand</th>\n",
       "    </tr>\n",
       "  </thead>\n",
       "  <tbody>\n",
       "    <tr>\n",
       "      <th>0</th>\n",
       "      <td>Lenovo IdeaPad 3 Core i3 11th Gen - (8 GB/256 ...</td>\n",
       "      <td>4.2</td>\n",
       "      <td>36990.0</td>\n",
       "      <td>Intel Core i3 Processor (11th Gen)8 GB DDR4 RA...</td>\n",
       "      <td>Intel i3</td>\n",
       "      <td>Hexa</td>\n",
       "      <td>8</td>\n",
       "      <td>DDR4</td>\n",
       "      <td>256</td>\n",
       "      <td>SSD</td>\n",
       "      <td>Lenovo</td>\n",
       "    </tr>\n",
       "    <tr>\n",
       "      <th>1</th>\n",
       "      <td>Lenovo IdeaPad 3 Core i3 11th Gen - (8 GB/512 ...</td>\n",
       "      <td>4.2</td>\n",
       "      <td>39990.0</td>\n",
       "      <td>Intel Core i3 Processor (11th Gen)8 GB DDR4 RA...</td>\n",
       "      <td>Intel i3</td>\n",
       "      <td>Hexa</td>\n",
       "      <td>8</td>\n",
       "      <td>DDR4</td>\n",
       "      <td>512</td>\n",
       "      <td>SSD</td>\n",
       "      <td>Lenovo</td>\n",
       "    </tr>\n",
       "    <tr>\n",
       "      <th>2</th>\n",
       "      <td>ASUS VivoBook 15 (2022) Core i3 10th Gen - (8 ...</td>\n",
       "      <td>4.3</td>\n",
       "      <td>32990.0</td>\n",
       "      <td>Intel Core i3 Processor (10th Gen)8 GB DDR4 RA...</td>\n",
       "      <td>Intel i3</td>\n",
       "      <td>Hexa</td>\n",
       "      <td>8</td>\n",
       "      <td>DDR4</td>\n",
       "      <td>512</td>\n",
       "      <td>SSD</td>\n",
       "      <td>ASUS</td>\n",
       "    </tr>\n",
       "    <tr>\n",
       "      <th>3</th>\n",
       "      <td>HP Pavilion Ryzen 5 Hexa Core AMD R5-5600H - (...</td>\n",
       "      <td>4.4</td>\n",
       "      <td>49990.0</td>\n",
       "      <td>AMD Ryzen 5 Hexa Core Processor8 GB DDR4 RAM64...</td>\n",
       "      <td>AMD Ryzen 5</td>\n",
       "      <td>Hexa</td>\n",
       "      <td>8</td>\n",
       "      <td>DDR4</td>\n",
       "      <td>512</td>\n",
       "      <td>SSD</td>\n",
       "      <td>HP</td>\n",
       "    </tr>\n",
       "    <tr>\n",
       "      <th>4</th>\n",
       "      <td>ASUS TUF Gaming F15 Core i5 10th Gen - (8 GB/5...</td>\n",
       "      <td>4.4</td>\n",
       "      <td>49990.0</td>\n",
       "      <td>Intel Core i5 Processor (10th Gen)8 GB DDR4 RA...</td>\n",
       "      <td>Intel i5</td>\n",
       "      <td>Hexa</td>\n",
       "      <td>8</td>\n",
       "      <td>DDR4</td>\n",
       "      <td>512</td>\n",
       "      <td>SSD</td>\n",
       "      <td>ASUS</td>\n",
       "    </tr>\n",
       "    <tr>\n",
       "      <th>...</th>\n",
       "      <td>...</td>\n",
       "      <td>...</td>\n",
       "      <td>...</td>\n",
       "      <td>...</td>\n",
       "      <td>...</td>\n",
       "      <td>...</td>\n",
       "      <td>...</td>\n",
       "      <td>...</td>\n",
       "      <td>...</td>\n",
       "      <td>...</td>\n",
       "      <td>...</td>\n",
       "    </tr>\n",
       "    <tr>\n",
       "      <th>715</th>\n",
       "      <td>ASUS Chromebook Flip Touch Celeron Dual Core -...</td>\n",
       "      <td>4.0</td>\n",
       "      <td>23490.0</td>\n",
       "      <td>Intel Celeron Dual Core Processor4 GB LPDDR4 R...</td>\n",
       "      <td>Intel Celeron</td>\n",
       "      <td>Dual</td>\n",
       "      <td>4</td>\n",
       "      <td>LPDDR4</td>\n",
       "      <td>64</td>\n",
       "      <td>EMMC</td>\n",
       "      <td>ASUS</td>\n",
       "    </tr>\n",
       "    <tr>\n",
       "      <th>716</th>\n",
       "      <td>Lenovo IdeaPad Gaming 3 Ryzen 7 Octa Core AMD ...</td>\n",
       "      <td>4.5</td>\n",
       "      <td>73490.0</td>\n",
       "      <td>AMD Ryzen 7 Octa Core Processor8 GB DDR4 RAM64...</td>\n",
       "      <td>AMD Ryzen 7</td>\n",
       "      <td>Octa</td>\n",
       "      <td>8</td>\n",
       "      <td>DDR4</td>\n",
       "      <td>512</td>\n",
       "      <td>SSD</td>\n",
       "      <td>Lenovo</td>\n",
       "    </tr>\n",
       "    <tr>\n",
       "      <th>717</th>\n",
       "      <td>ASUS ROG Zephyrus G15 Ryzen 9 Octa Core 6900HS...</td>\n",
       "      <td>NaN</td>\n",
       "      <td>194990.0</td>\n",
       "      <td>AMD Ryzen 9 Octa Core Processor16 GB DDR5 RAM6...</td>\n",
       "      <td>AMD Ryzen 9</td>\n",
       "      <td>Octa</td>\n",
       "      <td>16</td>\n",
       "      <td>DDR5</td>\n",
       "      <td>1000</td>\n",
       "      <td>SSD</td>\n",
       "      <td>ASUS</td>\n",
       "    </tr>\n",
       "    <tr>\n",
       "      <th>718</th>\n",
       "      <td>ASUS Zenbook Flip 14 OLED (2022) Touch Panel C...</td>\n",
       "      <td>3.0</td>\n",
       "      <td>125990.0</td>\n",
       "      <td>Intel Core i7 Processor (12th Gen)16 GB LPDDR5...</td>\n",
       "      <td>Intel i7</td>\n",
       "      <td>Octa</td>\n",
       "      <td>16</td>\n",
       "      <td>LPDDR5</td>\n",
       "      <td>512</td>\n",
       "      <td>SSD</td>\n",
       "      <td>ASUS</td>\n",
       "    </tr>\n",
       "    <tr>\n",
       "      <th>719</th>\n",
       "      <td>Lenovo Ideapad Slim 3i Core i5 10th Gen - (8 G...</td>\n",
       "      <td>4.2</td>\n",
       "      <td>50990.0</td>\n",
       "      <td>Intel Core i5 Processor (10th Gen)8 GB DDR4 RA...</td>\n",
       "      <td>Intel i5</td>\n",
       "      <td>Hexa</td>\n",
       "      <td>8</td>\n",
       "      <td>DDR4</td>\n",
       "      <td>1000</td>\n",
       "      <td>HDD</td>\n",
       "      <td>Lenovo</td>\n",
       "    </tr>\n",
       "  </tbody>\n",
       "</table>\n",
       "<p>720 rows × 11 columns</p>\n",
       "</div>"
      ],
      "text/plain": [
       "                                               Product  Rating       MRP  \\\n",
       "0    Lenovo IdeaPad 3 Core i3 11th Gen - (8 GB/256 ...     4.2   36990.0   \n",
       "1    Lenovo IdeaPad 3 Core i3 11th Gen - (8 GB/512 ...     4.2   39990.0   \n",
       "2    ASUS VivoBook 15 (2022) Core i3 10th Gen - (8 ...     4.3   32990.0   \n",
       "3    HP Pavilion Ryzen 5 Hexa Core AMD R5-5600H - (...     4.4   49990.0   \n",
       "4    ASUS TUF Gaming F15 Core i5 10th Gen - (8 GB/5...     4.4   49990.0   \n",
       "..                                                 ...     ...       ...   \n",
       "715  ASUS Chromebook Flip Touch Celeron Dual Core -...     4.0   23490.0   \n",
       "716  Lenovo IdeaPad Gaming 3 Ryzen 7 Octa Core AMD ...     4.5   73490.0   \n",
       "717  ASUS ROG Zephyrus G15 Ryzen 9 Octa Core 6900HS...     NaN  194990.0   \n",
       "718  ASUS Zenbook Flip 14 OLED (2022) Touch Panel C...     3.0  125990.0   \n",
       "719  Lenovo Ideapad Slim 3i Core i5 10th Gen - (8 G...     4.2   50990.0   \n",
       "\n",
       "                                               Feature      Processor  Core  \\\n",
       "0    Intel Core i3 Processor (11th Gen)8 GB DDR4 RA...       Intel i3  Hexa   \n",
       "1    Intel Core i3 Processor (11th Gen)8 GB DDR4 RA...       Intel i3  Hexa   \n",
       "2    Intel Core i3 Processor (10th Gen)8 GB DDR4 RA...       Intel i3  Hexa   \n",
       "3    AMD Ryzen 5 Hexa Core Processor8 GB DDR4 RAM64...    AMD Ryzen 5  Hexa   \n",
       "4    Intel Core i5 Processor (10th Gen)8 GB DDR4 RA...       Intel i5  Hexa   \n",
       "..                                                 ...            ...   ...   \n",
       "715  Intel Celeron Dual Core Processor4 GB LPDDR4 R...  Intel Celeron  Dual   \n",
       "716  AMD Ryzen 7 Octa Core Processor8 GB DDR4 RAM64...    AMD Ryzen 7  Octa   \n",
       "717  AMD Ryzen 9 Octa Core Processor16 GB DDR5 RAM6...    AMD Ryzen 9  Octa   \n",
       "718  Intel Core i7 Processor (12th Gen)16 GB LPDDR5...       Intel i7  Octa   \n",
       "719  Intel Core i5 Processor (10th Gen)8 GB DDR4 RA...       Intel i5  Hexa   \n",
       "\n",
       "    RAM RAM_type Storage(GB) Storagetype   Brand  \n",
       "0     8     DDR4         256         SSD  Lenovo  \n",
       "1     8     DDR4         512         SSD  Lenovo  \n",
       "2     8     DDR4         512         SSD    ASUS  \n",
       "3     8     DDR4         512         SSD      HP  \n",
       "4     8     DDR4         512         SSD    ASUS  \n",
       "..   ..      ...         ...         ...     ...  \n",
       "715   4   LPDDR4          64        EMMC    ASUS  \n",
       "716   8     DDR4         512         SSD  Lenovo  \n",
       "717  16     DDR5        1000         SSD    ASUS  \n",
       "718  16   LPDDR5         512         SSD    ASUS  \n",
       "719   8     DDR4        1000         HDD  Lenovo  \n",
       "\n",
       "[720 rows x 11 columns]"
      ]
     },
     "execution_count": 105,
     "metadata": {},
     "output_type": "execute_result"
    }
   ],
   "source": [
    "df"
   ]
  },
  {
   "cell_type": "code",
   "execution_count": null,
   "metadata": {
    "executionInfo": {
     "elapsed": 6,
     "status": "ok",
     "timestamp": 1682431383033,
     "user": {
      "displayName": "Sarfraz Hussain Mohammed",
      "userId": "04740348016143627760"
     },
     "user_tz": -330
    },
    "id": "cHturtEZoMhH"
   },
   "outputs": [],
   "source": []
  },
  {
   "cell_type": "code",
   "execution_count": null,
   "metadata": {
    "executionInfo": {
     "elapsed": 5,
     "status": "ok",
     "timestamp": 1682431383033,
     "user": {
      "displayName": "Sarfraz Hussain Mohammed",
      "userId": "04740348016143627760"
     },
     "user_tz": -330
    },
    "id": "f4ECawM5oMdn"
   },
   "outputs": [],
   "source": []
  },
  {
   "cell_type": "code",
   "execution_count": null,
   "metadata": {
    "executionInfo": {
     "elapsed": 6,
     "status": "ok",
     "timestamp": 1682431383034,
     "user": {
      "displayName": "Sarfraz Hussain Mohammed",
      "userId": "04740348016143627760"
     },
     "user_tz": -330
    },
    "id": "9E38_10RoMMZ"
   },
   "outputs": [],
   "source": []
  },
  {
   "cell_type": "markdown",
   "metadata": {
    "id": "UIaIdgC4TBBT"
   },
   "source": [
    "OS"
   ]
  },
  {
   "cell_type": "code",
   "execution_count": 106,
   "metadata": {
    "executionInfo": {
     "elapsed": 5,
     "status": "ok",
     "timestamp": 1682431383034,
     "user": {
      "displayName": "Sarfraz Hussain Mohammed",
      "userId": "04740348016143627760"
     },
     "user_tz": -330
    },
    "id": "0XX_SsWRa4pX"
   },
   "outputs": [],
   "source": [
    "df['OS'] = df.Feature.apply(lambda x: re.compile(r'(Windows|Chrome|Mac|DOS)+\\s+\\w+').search(x).group())"
   ]
  },
  {
   "cell_type": "code",
   "execution_count": 107,
   "metadata": {
    "colab": {
     "base_uri": "https://localhost:8080/"
    },
    "executionInfo": {
     "elapsed": 30,
     "status": "ok",
     "timestamp": 1682431384483,
     "user": {
      "displayName": "Sarfraz Hussain Mohammed",
      "userId": "04740348016143627760"
     },
     "user_tz": -330
    },
    "id": "9b6cVJswW7c6",
    "outputId": "8b284fc6-0820-4ddf-c3c7-b00d32017761"
   },
   "outputs": [
    {
     "data": {
      "text/plain": [
       "array(['Windows 11', 'Windows 10', 'Mac OS', 'DOS Operating',\n",
       "       'Chrome Operating'], dtype=object)"
      ]
     },
     "execution_count": 107,
     "metadata": {},
     "output_type": "execute_result"
    }
   ],
   "source": [
    "df[\"OS\"].unique()"
   ]
  },
  {
   "cell_type": "code",
   "execution_count": 108,
   "metadata": {
    "executionInfo": {
     "elapsed": 21,
     "status": "ok",
     "timestamp": 1682431384485,
     "user": {
      "displayName": "Sarfraz Hussain Mohammed",
      "userId": "04740348016143627760"
     },
     "user_tz": -330
    },
    "id": "lxi6lTP4bXPD"
   },
   "outputs": [],
   "source": [
    "df['OS'] = df['OS'].str.replace(\" Operating\",\"\")"
   ]
  },
  {
   "cell_type": "code",
   "execution_count": 109,
   "metadata": {
    "colab": {
     "base_uri": "https://localhost:8080/"
    },
    "executionInfo": {
     "elapsed": 21,
     "status": "ok",
     "timestamp": 1682431384486,
     "user": {
      "displayName": "Sarfraz Hussain Mohammed",
      "userId": "04740348016143627760"
     },
     "user_tz": -330
    },
    "id": "gQ4BnM9obprH",
    "outputId": "bc09d53d-474f-4114-98fd-a4a25e5acbfd"
   },
   "outputs": [
    {
     "data": {
      "text/plain": [
       "array(['Windows 11', 'Windows 10', 'Mac OS', 'DOS', 'Chrome'],\n",
       "      dtype=object)"
      ]
     },
     "execution_count": 109,
     "metadata": {},
     "output_type": "execute_result"
    }
   ],
   "source": [
    "df['OS'].unique()"
   ]
  },
  {
   "cell_type": "code",
   "execution_count": 110,
   "metadata": {
    "colab": {
     "base_uri": "https://localhost:8080/",
     "height": 814
    },
    "executionInfo": {
     "elapsed": 17,
     "status": "ok",
     "timestamp": 1682431384487,
     "user": {
      "displayName": "Sarfraz Hussain Mohammed",
      "userId": "04740348016143627760"
     },
     "user_tz": -330
    },
    "id": "WmI6T7unW_W1",
    "outputId": "5bdc9eac-8055-4184-99b7-5c76d20169c3"
   },
   "outputs": [
    {
     "data": {
      "text/html": [
       "<div>\n",
       "<style scoped>\n",
       "    .dataframe tbody tr th:only-of-type {\n",
       "        vertical-align: middle;\n",
       "    }\n",
       "\n",
       "    .dataframe tbody tr th {\n",
       "        vertical-align: top;\n",
       "    }\n",
       "\n",
       "    .dataframe thead th {\n",
       "        text-align: right;\n",
       "    }\n",
       "</style>\n",
       "<table border=\"1\" class=\"dataframe\">\n",
       "  <thead>\n",
       "    <tr style=\"text-align: right;\">\n",
       "      <th></th>\n",
       "      <th>Product</th>\n",
       "      <th>Rating</th>\n",
       "      <th>MRP</th>\n",
       "      <th>Feature</th>\n",
       "      <th>Processor</th>\n",
       "      <th>Core</th>\n",
       "      <th>RAM</th>\n",
       "      <th>RAM_type</th>\n",
       "      <th>Storage(GB)</th>\n",
       "      <th>Storagetype</th>\n",
       "      <th>Brand</th>\n",
       "      <th>OS</th>\n",
       "    </tr>\n",
       "  </thead>\n",
       "  <tbody>\n",
       "    <tr>\n",
       "      <th>0</th>\n",
       "      <td>Lenovo IdeaPad 3 Core i3 11th Gen - (8 GB/256 ...</td>\n",
       "      <td>4.2</td>\n",
       "      <td>36990.0</td>\n",
       "      <td>Intel Core i3 Processor (11th Gen)8 GB DDR4 RA...</td>\n",
       "      <td>Intel i3</td>\n",
       "      <td>Hexa</td>\n",
       "      <td>8</td>\n",
       "      <td>DDR4</td>\n",
       "      <td>256</td>\n",
       "      <td>SSD</td>\n",
       "      <td>Lenovo</td>\n",
       "      <td>Windows 11</td>\n",
       "    </tr>\n",
       "    <tr>\n",
       "      <th>1</th>\n",
       "      <td>Lenovo IdeaPad 3 Core i3 11th Gen - (8 GB/512 ...</td>\n",
       "      <td>4.2</td>\n",
       "      <td>39990.0</td>\n",
       "      <td>Intel Core i3 Processor (11th Gen)8 GB DDR4 RA...</td>\n",
       "      <td>Intel i3</td>\n",
       "      <td>Hexa</td>\n",
       "      <td>8</td>\n",
       "      <td>DDR4</td>\n",
       "      <td>512</td>\n",
       "      <td>SSD</td>\n",
       "      <td>Lenovo</td>\n",
       "      <td>Windows 11</td>\n",
       "    </tr>\n",
       "    <tr>\n",
       "      <th>2</th>\n",
       "      <td>ASUS VivoBook 15 (2022) Core i3 10th Gen - (8 ...</td>\n",
       "      <td>4.3</td>\n",
       "      <td>32990.0</td>\n",
       "      <td>Intel Core i3 Processor (10th Gen)8 GB DDR4 RA...</td>\n",
       "      <td>Intel i3</td>\n",
       "      <td>Hexa</td>\n",
       "      <td>8</td>\n",
       "      <td>DDR4</td>\n",
       "      <td>512</td>\n",
       "      <td>SSD</td>\n",
       "      <td>ASUS</td>\n",
       "      <td>Windows 11</td>\n",
       "    </tr>\n",
       "    <tr>\n",
       "      <th>3</th>\n",
       "      <td>HP Pavilion Ryzen 5 Hexa Core AMD R5-5600H - (...</td>\n",
       "      <td>4.4</td>\n",
       "      <td>49990.0</td>\n",
       "      <td>AMD Ryzen 5 Hexa Core Processor8 GB DDR4 RAM64...</td>\n",
       "      <td>AMD Ryzen 5</td>\n",
       "      <td>Hexa</td>\n",
       "      <td>8</td>\n",
       "      <td>DDR4</td>\n",
       "      <td>512</td>\n",
       "      <td>SSD</td>\n",
       "      <td>HP</td>\n",
       "      <td>Windows 10</td>\n",
       "    </tr>\n",
       "    <tr>\n",
       "      <th>4</th>\n",
       "      <td>ASUS TUF Gaming F15 Core i5 10th Gen - (8 GB/5...</td>\n",
       "      <td>4.4</td>\n",
       "      <td>49990.0</td>\n",
       "      <td>Intel Core i5 Processor (10th Gen)8 GB DDR4 RA...</td>\n",
       "      <td>Intel i5</td>\n",
       "      <td>Hexa</td>\n",
       "      <td>8</td>\n",
       "      <td>DDR4</td>\n",
       "      <td>512</td>\n",
       "      <td>SSD</td>\n",
       "      <td>ASUS</td>\n",
       "      <td>Windows 11</td>\n",
       "    </tr>\n",
       "    <tr>\n",
       "      <th>...</th>\n",
       "      <td>...</td>\n",
       "      <td>...</td>\n",
       "      <td>...</td>\n",
       "      <td>...</td>\n",
       "      <td>...</td>\n",
       "      <td>...</td>\n",
       "      <td>...</td>\n",
       "      <td>...</td>\n",
       "      <td>...</td>\n",
       "      <td>...</td>\n",
       "      <td>...</td>\n",
       "      <td>...</td>\n",
       "    </tr>\n",
       "    <tr>\n",
       "      <th>715</th>\n",
       "      <td>ASUS Chromebook Flip Touch Celeron Dual Core -...</td>\n",
       "      <td>4.0</td>\n",
       "      <td>23490.0</td>\n",
       "      <td>Intel Celeron Dual Core Processor4 GB LPDDR4 R...</td>\n",
       "      <td>Intel Celeron</td>\n",
       "      <td>Dual</td>\n",
       "      <td>4</td>\n",
       "      <td>LPDDR4</td>\n",
       "      <td>64</td>\n",
       "      <td>EMMC</td>\n",
       "      <td>ASUS</td>\n",
       "      <td>Chrome</td>\n",
       "    </tr>\n",
       "    <tr>\n",
       "      <th>716</th>\n",
       "      <td>Lenovo IdeaPad Gaming 3 Ryzen 7 Octa Core AMD ...</td>\n",
       "      <td>4.5</td>\n",
       "      <td>73490.0</td>\n",
       "      <td>AMD Ryzen 7 Octa Core Processor8 GB DDR4 RAM64...</td>\n",
       "      <td>AMD Ryzen 7</td>\n",
       "      <td>Octa</td>\n",
       "      <td>8</td>\n",
       "      <td>DDR4</td>\n",
       "      <td>512</td>\n",
       "      <td>SSD</td>\n",
       "      <td>Lenovo</td>\n",
       "      <td>Windows 11</td>\n",
       "    </tr>\n",
       "    <tr>\n",
       "      <th>717</th>\n",
       "      <td>ASUS ROG Zephyrus G15 Ryzen 9 Octa Core 6900HS...</td>\n",
       "      <td>NaN</td>\n",
       "      <td>194990.0</td>\n",
       "      <td>AMD Ryzen 9 Octa Core Processor16 GB DDR5 RAM6...</td>\n",
       "      <td>AMD Ryzen 9</td>\n",
       "      <td>Octa</td>\n",
       "      <td>16</td>\n",
       "      <td>DDR5</td>\n",
       "      <td>1000</td>\n",
       "      <td>SSD</td>\n",
       "      <td>ASUS</td>\n",
       "      <td>Windows 11</td>\n",
       "    </tr>\n",
       "    <tr>\n",
       "      <th>718</th>\n",
       "      <td>ASUS Zenbook Flip 14 OLED (2022) Touch Panel C...</td>\n",
       "      <td>3.0</td>\n",
       "      <td>125990.0</td>\n",
       "      <td>Intel Core i7 Processor (12th Gen)16 GB LPDDR5...</td>\n",
       "      <td>Intel i7</td>\n",
       "      <td>Octa</td>\n",
       "      <td>16</td>\n",
       "      <td>LPDDR5</td>\n",
       "      <td>512</td>\n",
       "      <td>SSD</td>\n",
       "      <td>ASUS</td>\n",
       "      <td>Windows 11</td>\n",
       "    </tr>\n",
       "    <tr>\n",
       "      <th>719</th>\n",
       "      <td>Lenovo Ideapad Slim 3i Core i5 10th Gen - (8 G...</td>\n",
       "      <td>4.2</td>\n",
       "      <td>50990.0</td>\n",
       "      <td>Intel Core i5 Processor (10th Gen)8 GB DDR4 RA...</td>\n",
       "      <td>Intel i5</td>\n",
       "      <td>Hexa</td>\n",
       "      <td>8</td>\n",
       "      <td>DDR4</td>\n",
       "      <td>1000</td>\n",
       "      <td>HDD</td>\n",
       "      <td>Lenovo</td>\n",
       "      <td>Windows 10</td>\n",
       "    </tr>\n",
       "  </tbody>\n",
       "</table>\n",
       "<p>720 rows × 12 columns</p>\n",
       "</div>"
      ],
      "text/plain": [
       "                                               Product  Rating       MRP  \\\n",
       "0    Lenovo IdeaPad 3 Core i3 11th Gen - (8 GB/256 ...     4.2   36990.0   \n",
       "1    Lenovo IdeaPad 3 Core i3 11th Gen - (8 GB/512 ...     4.2   39990.0   \n",
       "2    ASUS VivoBook 15 (2022) Core i3 10th Gen - (8 ...     4.3   32990.0   \n",
       "3    HP Pavilion Ryzen 5 Hexa Core AMD R5-5600H - (...     4.4   49990.0   \n",
       "4    ASUS TUF Gaming F15 Core i5 10th Gen - (8 GB/5...     4.4   49990.0   \n",
       "..                                                 ...     ...       ...   \n",
       "715  ASUS Chromebook Flip Touch Celeron Dual Core -...     4.0   23490.0   \n",
       "716  Lenovo IdeaPad Gaming 3 Ryzen 7 Octa Core AMD ...     4.5   73490.0   \n",
       "717  ASUS ROG Zephyrus G15 Ryzen 9 Octa Core 6900HS...     NaN  194990.0   \n",
       "718  ASUS Zenbook Flip 14 OLED (2022) Touch Panel C...     3.0  125990.0   \n",
       "719  Lenovo Ideapad Slim 3i Core i5 10th Gen - (8 G...     4.2   50990.0   \n",
       "\n",
       "                                               Feature      Processor  Core  \\\n",
       "0    Intel Core i3 Processor (11th Gen)8 GB DDR4 RA...       Intel i3  Hexa   \n",
       "1    Intel Core i3 Processor (11th Gen)8 GB DDR4 RA...       Intel i3  Hexa   \n",
       "2    Intel Core i3 Processor (10th Gen)8 GB DDR4 RA...       Intel i3  Hexa   \n",
       "3    AMD Ryzen 5 Hexa Core Processor8 GB DDR4 RAM64...    AMD Ryzen 5  Hexa   \n",
       "4    Intel Core i5 Processor (10th Gen)8 GB DDR4 RA...       Intel i5  Hexa   \n",
       "..                                                 ...            ...   ...   \n",
       "715  Intel Celeron Dual Core Processor4 GB LPDDR4 R...  Intel Celeron  Dual   \n",
       "716  AMD Ryzen 7 Octa Core Processor8 GB DDR4 RAM64...    AMD Ryzen 7  Octa   \n",
       "717  AMD Ryzen 9 Octa Core Processor16 GB DDR5 RAM6...    AMD Ryzen 9  Octa   \n",
       "718  Intel Core i7 Processor (12th Gen)16 GB LPDDR5...       Intel i7  Octa   \n",
       "719  Intel Core i5 Processor (10th Gen)8 GB DDR4 RA...       Intel i5  Hexa   \n",
       "\n",
       "    RAM RAM_type Storage(GB) Storagetype   Brand          OS  \n",
       "0     8     DDR4         256         SSD  Lenovo  Windows 11  \n",
       "1     8     DDR4         512         SSD  Lenovo  Windows 11  \n",
       "2     8     DDR4         512         SSD    ASUS  Windows 11  \n",
       "3     8     DDR4         512         SSD      HP  Windows 10  \n",
       "4     8     DDR4         512         SSD    ASUS  Windows 11  \n",
       "..   ..      ...         ...         ...     ...         ...  \n",
       "715   4   LPDDR4          64        EMMC    ASUS      Chrome  \n",
       "716   8     DDR4         512         SSD  Lenovo  Windows 11  \n",
       "717  16     DDR5        1000         SSD    ASUS  Windows 11  \n",
       "718  16   LPDDR5         512         SSD    ASUS  Windows 11  \n",
       "719   8     DDR4        1000         HDD  Lenovo  Windows 10  \n",
       "\n",
       "[720 rows x 12 columns]"
      ]
     },
     "execution_count": 110,
     "metadata": {},
     "output_type": "execute_result"
    }
   ],
   "source": [
    "df"
   ]
  },
  {
   "cell_type": "code",
   "execution_count": null,
   "metadata": {
    "executionInfo": {
     "elapsed": 13,
     "status": "ok",
     "timestamp": 1682431384487,
     "user": {
      "displayName": "Sarfraz Hussain Mohammed",
      "userId": "04740348016143627760"
     },
     "user_tz": -330
    },
    "id": "kvtGSiB6oSBZ"
   },
   "outputs": [],
   "source": []
  },
  {
   "cell_type": "code",
   "execution_count": null,
   "metadata": {
    "executionInfo": {
     "elapsed": 14,
     "status": "ok",
     "timestamp": 1682431384489,
     "user": {
      "displayName": "Sarfraz Hussain Mohammed",
      "userId": "04740348016143627760"
     },
     "user_tz": -330
    },
    "id": "bbedDTBUoR0U"
   },
   "outputs": [],
   "source": []
  },
  {
   "cell_type": "code",
   "execution_count": null,
   "metadata": {
    "executionInfo": {
     "elapsed": 11,
     "status": "ok",
     "timestamp": 1682431385184,
     "user": {
      "displayName": "Sarfraz Hussain Mohammed",
      "userId": "04740348016143627760"
     },
     "user_tz": -330
    },
    "id": "cEqaEjp2oRmZ"
   },
   "outputs": [],
   "source": []
  },
  {
   "cell_type": "code",
   "execution_count": null,
   "metadata": {
    "executionInfo": {
     "elapsed": 4,
     "status": "ok",
     "timestamp": 1682431385185,
     "user": {
      "displayName": "Sarfraz Hussain Mohammed",
      "userId": "04740348016143627760"
     },
     "user_tz": -330
    },
    "id": "shbhej7esY9_"
   },
   "outputs": [],
   "source": []
  },
  {
   "cell_type": "markdown",
   "metadata": {
    "id": "f5HOSk5boSjS"
   },
   "source": [
    "*Screen Size*"
   ]
  },
  {
   "cell_type": "code",
   "execution_count": 111,
   "metadata": {
    "executionInfo": {
     "elapsed": 15,
     "status": "ok",
     "timestamp": 1682431386379,
     "user": {
      "displayName": "Sarfraz Hussain Mohammed",
      "userId": "04740348016143627760"
     },
     "user_tz": -330
    },
    "id": "vvgng3wJjjKL"
   },
   "outputs": [],
   "source": [
    "df['Screen_Size']=df.Feature.apply(lambda x: re.compile(r'(\\(|:|:\\s)(\\d+(?:\\.\\d+)?)\\s*(inch|Inch|in|\\\"|-inch|\")').search(x).group())"
   ]
  },
  {
   "cell_type": "code",
   "execution_count": 112,
   "metadata": {
    "colab": {
     "base_uri": "https://localhost:8080/"
    },
    "executionInfo": {
     "elapsed": 14,
     "status": "ok",
     "timestamp": 1682431386379,
     "user": {
      "displayName": "Sarfraz Hussain Mohammed",
      "userId": "04740348016143627760"
     },
     "user_tz": -330
    },
    "id": "U1CUbBoWlyP6",
    "outputId": "40f571f8-ea48-4dd0-819e-07f89a017c6d"
   },
   "outputs": [
    {
     "data": {
      "text/plain": [
       "array(['(14 inch', '(15.6 inch', ': 15.6\"', '(15.6 Inch', '(17.3 Inch',\n",
       "       '(13.3 inch', '(14 Inch', '(13.3 Inch', '(14.2 inch', '(13.6 Inch',\n",
       "       '(16 inch', ': 14.0\"', '(16.1 inch', '(16.2 inch', '(17.3 inch',\n",
       "       '(14.1 inch', '(16 Inch', '(13.4 Inch', '(11.6 inch', ':14.0-inch',\n",
       "       '(15 inch', '(13 inch', '(14.96 Inch', '(13.5 inch', '(16.1 Inch',\n",
       "       '(11.6 Inch', '(16.6 inch'], dtype=object)"
      ]
     },
     "execution_count": 112,
     "metadata": {},
     "output_type": "execute_result"
    }
   ],
   "source": [
    "df['Screen_Size'].unique()"
   ]
  },
  {
   "cell_type": "code",
   "execution_count": 113,
   "metadata": {
    "colab": {
     "base_uri": "https://localhost:8080/"
    },
    "executionInfo": {
     "elapsed": 14,
     "status": "ok",
     "timestamp": 1682431386380,
     "user": {
      "displayName": "Sarfraz Hussain Mohammed",
      "userId": "04740348016143627760"
     },
     "user_tz": -330
    },
    "id": "6RY3a2NGmXf6",
    "outputId": "ea82587e-dfcc-4692-d0a9-f2382c921f21"
   },
   "outputs": [
    {
     "name": "stderr",
     "output_type": "stream",
     "text": [
      "<ipython-input-113-0b307401b07c>:1: FutureWarning: The default value of regex will change from True to False in a future version. In addition, single character regular expressions will*not* be treated as literal strings when regex=True.\n",
      "  df['Screen_Size'] = df[\"Screen_Size\"].str.replace(\"(\",\"\")\n"
     ]
    }
   ],
   "source": [
    "df['Screen_Size'] = df[\"Screen_Size\"].str.replace(\"(\",\"\")"
   ]
  },
  {
   "cell_type": "code",
   "execution_count": 114,
   "metadata": {
    "executionInfo": {
     "elapsed": 7,
     "status": "ok",
     "timestamp": 1682431386380,
     "user": {
      "displayName": "Sarfraz Hussain Mohammed",
      "userId": "04740348016143627760"
     },
     "user_tz": -330
    },
    "id": "kCrLKylxuJTg"
   },
   "outputs": [],
   "source": [
    "df['Screen_Size'] = df[\"Screen_Size\"].str.replace(\":\",\"\")"
   ]
  },
  {
   "cell_type": "code",
   "execution_count": 115,
   "metadata": {
    "executionInfo": {
     "elapsed": 6,
     "status": "ok",
     "timestamp": 1682431387266,
     "user": {
      "displayName": "Sarfraz Hussain Mohammed",
      "userId": "04740348016143627760"
     },
     "user_tz": -330
    },
    "id": "LjE2WIV3udIf"
   },
   "outputs": [],
   "source": [
    "df['Screen_Size'] = df[\"Screen_Size\"].str.replace(\"-\",\"\")"
   ]
  },
  {
   "cell_type": "code",
   "execution_count": 116,
   "metadata": {
    "executionInfo": {
     "elapsed": 6,
     "status": "ok",
     "timestamp": 1682431387267,
     "user": {
      "displayName": "Sarfraz Hussain Mohammed",
      "userId": "04740348016143627760"
     },
     "user_tz": -330
    },
    "id": "5ToNU-XxufqC"
   },
   "outputs": [],
   "source": [
    "df['Screen_Size'] = df[\"Screen_Size\"].str.replace(\"inch\",\"\")"
   ]
  },
  {
   "cell_type": "code",
   "execution_count": 117,
   "metadata": {
    "executionInfo": {
     "elapsed": 6,
     "status": "ok",
     "timestamp": 1682431387268,
     "user": {
      "displayName": "Sarfraz Hussain Mohammed",
      "userId": "04740348016143627760"
     },
     "user_tz": -330
    },
    "id": "SW9E6hgquxAD"
   },
   "outputs": [],
   "source": [
    "df['Screen_Size'] = df[\"Screen_Size\"].str.replace(\"Inch\",\"\")"
   ]
  },
  {
   "cell_type": "code",
   "execution_count": 118,
   "metadata": {
    "executionInfo": {
     "elapsed": 5,
     "status": "ok",
     "timestamp": 1682431387268,
     "user": {
      "displayName": "Sarfraz Hussain Mohammed",
      "userId": "04740348016143627760"
     },
     "user_tz": -330
    },
    "id": "o19XfMUqu2wY"
   },
   "outputs": [],
   "source": [
    "df['Screen_Size'] = df[\"Screen_Size\"].str.replace(\" \",\"\")"
   ]
  },
  {
   "cell_type": "code",
   "execution_count": 119,
   "metadata": {
    "executionInfo": {
     "elapsed": 13,
     "status": "ok",
     "timestamp": 1682431388717,
     "user": {
      "displayName": "Sarfraz Hussain Mohammed",
      "userId": "04740348016143627760"
     },
     "user_tz": -330
    },
    "id": "2CVsfgGSvrPY"
   },
   "outputs": [],
   "source": [
    "df['Screen_Size'] = df[\"Screen_Size\"].str.replace('\"',\"\")"
   ]
  },
  {
   "cell_type": "code",
   "execution_count": 120,
   "metadata": {
    "executionInfo": {
     "elapsed": 12,
     "status": "ok",
     "timestamp": 1682431388718,
     "user": {
      "displayName": "Sarfraz Hussain Mohammed",
      "userId": "04740348016143627760"
     },
     "user_tz": -330
    },
    "id": "ZMQo9C-xvfBx"
   },
   "outputs": [],
   "source": [
    "df['Screen_Size'] = df['Screen_Size'].astype('float')"
   ]
  },
  {
   "cell_type": "code",
   "execution_count": 121,
   "metadata": {
    "colab": {
     "base_uri": "https://localhost:8080/"
    },
    "executionInfo": {
     "elapsed": 13,
     "status": "ok",
     "timestamp": 1682431388720,
     "user": {
      "displayName": "Sarfraz Hussain Mohammed",
      "userId": "04740348016143627760"
     },
     "user_tz": -330
    },
    "id": "FsXwRNhGvw6D",
    "outputId": "81af6765-1d04-4c05-f50a-6e7a1911944d"
   },
   "outputs": [
    {
     "data": {
      "text/plain": [
       "array([14.  , 15.6 , 17.3 , 13.3 , 14.2 , 13.6 , 16.  , 16.1 , 16.2 ,\n",
       "       14.1 , 13.4 , 11.6 , 15.  , 13.  , 14.96, 13.5 , 16.6 ])"
      ]
     },
     "execution_count": 121,
     "metadata": {},
     "output_type": "execute_result"
    }
   ],
   "source": [
    "df['Screen_Size'].unique()"
   ]
  },
  {
   "cell_type": "code",
   "execution_count": 122,
   "metadata": {
    "colab": {
     "base_uri": "https://localhost:8080/",
     "height": 988
    },
    "executionInfo": {
     "elapsed": 14,
     "status": "ok",
     "timestamp": 1682431391781,
     "user": {
      "displayName": "Sarfraz Hussain Mohammed",
      "userId": "04740348016143627760"
     },
     "user_tz": -330
    },
    "id": "tZGZ7js66QHc",
    "outputId": "74524d59-b540-4ad8-9c14-d6dbf0b7a1e5"
   },
   "outputs": [
    {
     "data": {
      "text/html": [
       "<div>\n",
       "<style scoped>\n",
       "    .dataframe tbody tr th:only-of-type {\n",
       "        vertical-align: middle;\n",
       "    }\n",
       "\n",
       "    .dataframe tbody tr th {\n",
       "        vertical-align: top;\n",
       "    }\n",
       "\n",
       "    .dataframe thead th {\n",
       "        text-align: right;\n",
       "    }\n",
       "</style>\n",
       "<table border=\"1\" class=\"dataframe\">\n",
       "  <thead>\n",
       "    <tr style=\"text-align: right;\">\n",
       "      <th></th>\n",
       "      <th>Product</th>\n",
       "      <th>Rating</th>\n",
       "      <th>MRP</th>\n",
       "      <th>Feature</th>\n",
       "      <th>Processor</th>\n",
       "      <th>Core</th>\n",
       "      <th>RAM</th>\n",
       "      <th>RAM_type</th>\n",
       "      <th>Storage(GB)</th>\n",
       "      <th>Storagetype</th>\n",
       "      <th>Brand</th>\n",
       "      <th>OS</th>\n",
       "      <th>Screen_Size</th>\n",
       "    </tr>\n",
       "  </thead>\n",
       "  <tbody>\n",
       "    <tr>\n",
       "      <th>0</th>\n",
       "      <td>Lenovo IdeaPad 3 Core i3 11th Gen - (8 GB/256 ...</td>\n",
       "      <td>4.2</td>\n",
       "      <td>36990.0</td>\n",
       "      <td>Intel Core i3 Processor (11th Gen)8 GB DDR4 RA...</td>\n",
       "      <td>Intel i3</td>\n",
       "      <td>Hexa</td>\n",
       "      <td>8</td>\n",
       "      <td>DDR4</td>\n",
       "      <td>256</td>\n",
       "      <td>SSD</td>\n",
       "      <td>Lenovo</td>\n",
       "      <td>Windows 11</td>\n",
       "      <td>14.0</td>\n",
       "    </tr>\n",
       "    <tr>\n",
       "      <th>1</th>\n",
       "      <td>Lenovo IdeaPad 3 Core i3 11th Gen - (8 GB/512 ...</td>\n",
       "      <td>4.2</td>\n",
       "      <td>39990.0</td>\n",
       "      <td>Intel Core i3 Processor (11th Gen)8 GB DDR4 RA...</td>\n",
       "      <td>Intel i3</td>\n",
       "      <td>Hexa</td>\n",
       "      <td>8</td>\n",
       "      <td>DDR4</td>\n",
       "      <td>512</td>\n",
       "      <td>SSD</td>\n",
       "      <td>Lenovo</td>\n",
       "      <td>Windows 11</td>\n",
       "      <td>15.6</td>\n",
       "    </tr>\n",
       "    <tr>\n",
       "      <th>2</th>\n",
       "      <td>ASUS VivoBook 15 (2022) Core i3 10th Gen - (8 ...</td>\n",
       "      <td>4.3</td>\n",
       "      <td>32990.0</td>\n",
       "      <td>Intel Core i3 Processor (10th Gen)8 GB DDR4 RA...</td>\n",
       "      <td>Intel i3</td>\n",
       "      <td>Hexa</td>\n",
       "      <td>8</td>\n",
       "      <td>DDR4</td>\n",
       "      <td>512</td>\n",
       "      <td>SSD</td>\n",
       "      <td>ASUS</td>\n",
       "      <td>Windows 11</td>\n",
       "      <td>15.6</td>\n",
       "    </tr>\n",
       "    <tr>\n",
       "      <th>3</th>\n",
       "      <td>HP Pavilion Ryzen 5 Hexa Core AMD R5-5600H - (...</td>\n",
       "      <td>4.4</td>\n",
       "      <td>49990.0</td>\n",
       "      <td>AMD Ryzen 5 Hexa Core Processor8 GB DDR4 RAM64...</td>\n",
       "      <td>AMD Ryzen 5</td>\n",
       "      <td>Hexa</td>\n",
       "      <td>8</td>\n",
       "      <td>DDR4</td>\n",
       "      <td>512</td>\n",
       "      <td>SSD</td>\n",
       "      <td>HP</td>\n",
       "      <td>Windows 10</td>\n",
       "      <td>15.6</td>\n",
       "    </tr>\n",
       "    <tr>\n",
       "      <th>4</th>\n",
       "      <td>ASUS TUF Gaming F15 Core i5 10th Gen - (8 GB/5...</td>\n",
       "      <td>4.4</td>\n",
       "      <td>49990.0</td>\n",
       "      <td>Intel Core i5 Processor (10th Gen)8 GB DDR4 RA...</td>\n",
       "      <td>Intel i5</td>\n",
       "      <td>Hexa</td>\n",
       "      <td>8</td>\n",
       "      <td>DDR4</td>\n",
       "      <td>512</td>\n",
       "      <td>SSD</td>\n",
       "      <td>ASUS</td>\n",
       "      <td>Windows 11</td>\n",
       "      <td>15.6</td>\n",
       "    </tr>\n",
       "    <tr>\n",
       "      <th>...</th>\n",
       "      <td>...</td>\n",
       "      <td>...</td>\n",
       "      <td>...</td>\n",
       "      <td>...</td>\n",
       "      <td>...</td>\n",
       "      <td>...</td>\n",
       "      <td>...</td>\n",
       "      <td>...</td>\n",
       "      <td>...</td>\n",
       "      <td>...</td>\n",
       "      <td>...</td>\n",
       "      <td>...</td>\n",
       "      <td>...</td>\n",
       "    </tr>\n",
       "    <tr>\n",
       "      <th>715</th>\n",
       "      <td>ASUS Chromebook Flip Touch Celeron Dual Core -...</td>\n",
       "      <td>4.0</td>\n",
       "      <td>23490.0</td>\n",
       "      <td>Intel Celeron Dual Core Processor4 GB LPDDR4 R...</td>\n",
       "      <td>Intel Celeron</td>\n",
       "      <td>Dual</td>\n",
       "      <td>4</td>\n",
       "      <td>LPDDR4</td>\n",
       "      <td>64</td>\n",
       "      <td>EMMC</td>\n",
       "      <td>ASUS</td>\n",
       "      <td>Chrome</td>\n",
       "      <td>11.6</td>\n",
       "    </tr>\n",
       "    <tr>\n",
       "      <th>716</th>\n",
       "      <td>Lenovo IdeaPad Gaming 3 Ryzen 7 Octa Core AMD ...</td>\n",
       "      <td>4.5</td>\n",
       "      <td>73490.0</td>\n",
       "      <td>AMD Ryzen 7 Octa Core Processor8 GB DDR4 RAM64...</td>\n",
       "      <td>AMD Ryzen 7</td>\n",
       "      <td>Octa</td>\n",
       "      <td>8</td>\n",
       "      <td>DDR4</td>\n",
       "      <td>512</td>\n",
       "      <td>SSD</td>\n",
       "      <td>Lenovo</td>\n",
       "      <td>Windows 11</td>\n",
       "      <td>15.6</td>\n",
       "    </tr>\n",
       "    <tr>\n",
       "      <th>717</th>\n",
       "      <td>ASUS ROG Zephyrus G15 Ryzen 9 Octa Core 6900HS...</td>\n",
       "      <td>NaN</td>\n",
       "      <td>194990.0</td>\n",
       "      <td>AMD Ryzen 9 Octa Core Processor16 GB DDR5 RAM6...</td>\n",
       "      <td>AMD Ryzen 9</td>\n",
       "      <td>Octa</td>\n",
       "      <td>16</td>\n",
       "      <td>DDR5</td>\n",
       "      <td>1000</td>\n",
       "      <td>SSD</td>\n",
       "      <td>ASUS</td>\n",
       "      <td>Windows 11</td>\n",
       "      <td>15.6</td>\n",
       "    </tr>\n",
       "    <tr>\n",
       "      <th>718</th>\n",
       "      <td>ASUS Zenbook Flip 14 OLED (2022) Touch Panel C...</td>\n",
       "      <td>3.0</td>\n",
       "      <td>125990.0</td>\n",
       "      <td>Intel Core i7 Processor (12th Gen)16 GB LPDDR5...</td>\n",
       "      <td>Intel i7</td>\n",
       "      <td>Octa</td>\n",
       "      <td>16</td>\n",
       "      <td>LPDDR5</td>\n",
       "      <td>512</td>\n",
       "      <td>SSD</td>\n",
       "      <td>ASUS</td>\n",
       "      <td>Windows 11</td>\n",
       "      <td>14.0</td>\n",
       "    </tr>\n",
       "    <tr>\n",
       "      <th>719</th>\n",
       "      <td>Lenovo Ideapad Slim 3i Core i5 10th Gen - (8 G...</td>\n",
       "      <td>4.2</td>\n",
       "      <td>50990.0</td>\n",
       "      <td>Intel Core i5 Processor (10th Gen)8 GB DDR4 RA...</td>\n",
       "      <td>Intel i5</td>\n",
       "      <td>Hexa</td>\n",
       "      <td>8</td>\n",
       "      <td>DDR4</td>\n",
       "      <td>1000</td>\n",
       "      <td>HDD</td>\n",
       "      <td>Lenovo</td>\n",
       "      <td>Windows 10</td>\n",
       "      <td>15.6</td>\n",
       "    </tr>\n",
       "  </tbody>\n",
       "</table>\n",
       "<p>720 rows × 13 columns</p>\n",
       "</div>"
      ],
      "text/plain": [
       "                                               Product  Rating       MRP  \\\n",
       "0    Lenovo IdeaPad 3 Core i3 11th Gen - (8 GB/256 ...     4.2   36990.0   \n",
       "1    Lenovo IdeaPad 3 Core i3 11th Gen - (8 GB/512 ...     4.2   39990.0   \n",
       "2    ASUS VivoBook 15 (2022) Core i3 10th Gen - (8 ...     4.3   32990.0   \n",
       "3    HP Pavilion Ryzen 5 Hexa Core AMD R5-5600H - (...     4.4   49990.0   \n",
       "4    ASUS TUF Gaming F15 Core i5 10th Gen - (8 GB/5...     4.4   49990.0   \n",
       "..                                                 ...     ...       ...   \n",
       "715  ASUS Chromebook Flip Touch Celeron Dual Core -...     4.0   23490.0   \n",
       "716  Lenovo IdeaPad Gaming 3 Ryzen 7 Octa Core AMD ...     4.5   73490.0   \n",
       "717  ASUS ROG Zephyrus G15 Ryzen 9 Octa Core 6900HS...     NaN  194990.0   \n",
       "718  ASUS Zenbook Flip 14 OLED (2022) Touch Panel C...     3.0  125990.0   \n",
       "719  Lenovo Ideapad Slim 3i Core i5 10th Gen - (8 G...     4.2   50990.0   \n",
       "\n",
       "                                               Feature      Processor  Core  \\\n",
       "0    Intel Core i3 Processor (11th Gen)8 GB DDR4 RA...       Intel i3  Hexa   \n",
       "1    Intel Core i3 Processor (11th Gen)8 GB DDR4 RA...       Intel i3  Hexa   \n",
       "2    Intel Core i3 Processor (10th Gen)8 GB DDR4 RA...       Intel i3  Hexa   \n",
       "3    AMD Ryzen 5 Hexa Core Processor8 GB DDR4 RAM64...    AMD Ryzen 5  Hexa   \n",
       "4    Intel Core i5 Processor (10th Gen)8 GB DDR4 RA...       Intel i5  Hexa   \n",
       "..                                                 ...            ...   ...   \n",
       "715  Intel Celeron Dual Core Processor4 GB LPDDR4 R...  Intel Celeron  Dual   \n",
       "716  AMD Ryzen 7 Octa Core Processor8 GB DDR4 RAM64...    AMD Ryzen 7  Octa   \n",
       "717  AMD Ryzen 9 Octa Core Processor16 GB DDR5 RAM6...    AMD Ryzen 9  Octa   \n",
       "718  Intel Core i7 Processor (12th Gen)16 GB LPDDR5...       Intel i7  Octa   \n",
       "719  Intel Core i5 Processor (10th Gen)8 GB DDR4 RA...       Intel i5  Hexa   \n",
       "\n",
       "    RAM RAM_type Storage(GB) Storagetype   Brand          OS  Screen_Size  \n",
       "0     8     DDR4         256         SSD  Lenovo  Windows 11         14.0  \n",
       "1     8     DDR4         512         SSD  Lenovo  Windows 11         15.6  \n",
       "2     8     DDR4         512         SSD    ASUS  Windows 11         15.6  \n",
       "3     8     DDR4         512         SSD      HP  Windows 10         15.6  \n",
       "4     8     DDR4         512         SSD    ASUS  Windows 11         15.6  \n",
       "..   ..      ...         ...         ...     ...         ...          ...  \n",
       "715   4   LPDDR4          64        EMMC    ASUS      Chrome         11.6  \n",
       "716   8     DDR4         512         SSD  Lenovo  Windows 11         15.6  \n",
       "717  16     DDR5        1000         SSD    ASUS  Windows 11         15.6  \n",
       "718  16   LPDDR5         512         SSD    ASUS  Windows 11         14.0  \n",
       "719   8     DDR4        1000         HDD  Lenovo  Windows 10         15.6  \n",
       "\n",
       "[720 rows x 13 columns]"
      ]
     },
     "execution_count": 122,
     "metadata": {},
     "output_type": "execute_result"
    }
   ],
   "source": [
    "df"
   ]
  },
  {
   "cell_type": "code",
   "execution_count": null,
   "metadata": {},
   "outputs": [],
   "source": []
  },
  {
   "cell_type": "code",
   "execution_count": null,
   "metadata": {},
   "outputs": [],
   "source": []
  },
  {
   "cell_type": "code",
   "execution_count": null,
   "metadata": {},
   "outputs": [],
   "source": []
  },
  {
   "cell_type": "code",
   "execution_count": null,
   "metadata": {},
   "outputs": [],
   "source": []
  },
  {
   "cell_type": "code",
   "execution_count": null,
   "metadata": {},
   "outputs": [],
   "source": []
  },
  {
   "cell_type": "code",
   "execution_count": 123,
   "metadata": {
    "executionInfo": {
     "elapsed": 787,
     "status": "ok",
     "timestamp": 1682431518520,
     "user": {
      "displayName": "Sarfraz Hussain Mohammed",
      "userId": "04740348016143627760"
     },
     "user_tz": -330
    },
    "id": "_83sA60zcIqD"
   },
   "outputs": [],
   "source": [
    "df.to_csv('file.csv')"
   ]
  },
  {
   "cell_type": "code",
   "execution_count": null,
   "metadata": {
    "id": "KDjTyORBcImk"
   },
   "outputs": [],
   "source": []
  },
  {
   "cell_type": "code",
   "execution_count": null,
   "metadata": {
    "id": "41tofkn4cIkL"
   },
   "outputs": [],
   "source": []
  },
  {
   "cell_type": "code",
   "execution_count": null,
   "metadata": {
    "id": "KMhCJfftcIhL"
   },
   "outputs": [],
   "source": []
  },
  {
   "cell_type": "code",
   "execution_count": null,
   "metadata": {
    "id": "0lTvH_ywcIeA"
   },
   "outputs": [],
   "source": []
  },
  {
   "cell_type": "code",
   "execution_count": null,
   "metadata": {
    "id": "UfjCnMr5cIbd"
   },
   "outputs": [],
   "source": []
  },
  {
   "cell_type": "code",
   "execution_count": null,
   "metadata": {
    "id": "EyMS6skNcIYb"
   },
   "outputs": [],
   "source": []
  },
  {
   "cell_type": "code",
   "execution_count": null,
   "metadata": {
    "id": "G0R1ipBRcIVn"
   },
   "outputs": [],
   "source": []
  },
  {
   "cell_type": "code",
   "execution_count": null,
   "metadata": {
    "colab": {
     "base_uri": "https://localhost:8080/",
     "height": 447
    },
    "executionInfo": {
     "elapsed": 466,
     "status": "ok",
     "timestamp": 1681850806286,
     "user": {
      "displayName": "Sarfraz Hussain Mohammed",
      "userId": "04740348016143627760"
     },
     "user_tz": -330
    },
    "id": "p3mIh3VYDtkL",
    "outputId": "d1816c84-d548-41f9-89d3-e8be4e378a95"
   },
   "outputs": [
    {
     "data": {
      "text/plain": [
       "<Axes: >"
      ]
     },
     "execution_count": 122,
     "metadata": {},
     "output_type": "execute_result"
    },
    {
     "data": {
      "image/png": "[encoded data removed]",
      "text/plain": [
       "<Figure size 640x480 with 1 Axes>"
      ]
     },
     "metadata": {},
     "output_type": "display_data"
    }
   ],
   "source": [
    "df['MRP'].plot(kind='box')"
   ]
  },
  {
   "cell_type": "code",
   "execution_count": null,
   "metadata": {
    "colab": {
     "base_uri": "https://localhost:8080/",
     "height": 462
    },
    "executionInfo": {
     "elapsed": 1167,
     "status": "ok",
     "timestamp": 1681850812515,
     "user": {
      "displayName": "Sarfraz Hussain Mohammed",
      "userId": "04740348016143627760"
     },
     "user_tz": -330
    },
    "id": "ZRY_RvGVD-2C",
    "outputId": "b304a8ff-94eb-4275-eb36-4e87b7615987"
   },
   "outputs": [
    {
     "data": {
      "text/plain": [
       "<Axes: ylabel='Density'>"
      ]
     },
     "execution_count": 123,
     "metadata": {},
     "output_type": "execute_result"
    },
    {
     "data": {
      "image/png": "[encoded data removed]",
      "text/plain": [
       "<Figure size 640x480 with 1 Axes>"
      ]
     },
     "metadata": {},
     "output_type": "display_data"
    }
   ],
   "source": [
    "df['MRP'].plot(kind='kde')"
   ]
  },
  {
   "cell_type": "code",
   "execution_count": null,
   "metadata": {
    "colab": {
     "base_uri": "https://localhost:8080/",
     "height": 447
    },
    "executionInfo": {
     "elapsed": 4,
     "status": "ok",
     "timestamp": 1681850812931,
     "user": {
      "displayName": "Sarfraz Hussain Mohammed",
      "userId": "04740348016143627760"
     },
     "user_tz": -330
    },
    "id": "kRlJ3RlLEEYU",
    "outputId": "f6ed7762-dbe0-42c1-b59a-7e544c496ce8"
   },
   "outputs": [
    {
     "data": {
      "text/plain": [
       "<Axes: ylabel='Frequency'>"
      ]
     },
     "execution_count": 124,
     "metadata": {},
     "output_type": "execute_result"
    },
    {
     "data": {
      "image/png": "[encoded data removed]",
      "text/plain": [
       "<Figure size 640x480 with 1 Axes>"
      ]
     },
     "metadata": {},
     "output_type": "display_data"
    }
   ],
   "source": [
    "df['MRP'].plot(kind='hist')"
   ]
  },
  {
   "cell_type": "markdown",
   "metadata": {
    "id": "pYO8tn0NEeDq"
   },
   "source": [
    "Observations\n",
    "\n",
    "1.   HIST and KDE are right skewed.\n",
    "2.   As you can see from the above kde and histogram, we can say that maximum laptops are under 100000.\n",
    "3.   MRP column has outliers but this columns datapoints are important, so we can not remove these. \n"
   ]
  },
  {
   "cell_type": "code",
   "execution_count": null,
   "metadata": {
    "colab": {
     "base_uri": "https://localhost:8080/",
     "height": 447
    },
    "executionInfo": {
     "elapsed": 538,
     "status": "ok",
     "timestamp": 1681851523273,
     "user": {
      "displayName": "Sarfraz Hussain Mohammed",
      "userId": "04740348016143627760"
     },
     "user_tz": -330
    },
    "id": "V4CklJlzXv6A",
    "outputId": "80c9eb2a-ea4c-4a52-dcce-6046a281bb56"
   },
   "outputs": [
    {
     "data": {
      "text/plain": [
       "<Axes: >"
      ]
     },
     "execution_count": 125,
     "metadata": {},
     "output_type": "execute_result"
    },
    {
     "data": {
      "image/png": "[encoded data removed]",
      "text/plain": [
       "<Figure size 640x480 with 1 Axes>"
      ]
     },
     "metadata": {},
     "output_type": "display_data"
    }
   ],
   "source": [
    "df['Brand'].value_counts().plot(kind='barh')"
   ]
  },
  {
   "cell_type": "code",
   "execution_count": null,
   "metadata": {
    "colab": {
     "base_uri": "https://localhost:8080/",
     "height": 506
    },
    "executionInfo": {
     "elapsed": 660,
     "status": "ok",
     "timestamp": 1681851530065,
     "user": {
      "displayName": "Sarfraz Hussain Mohammed",
      "userId": "04740348016143627760"
     },
     "user_tz": -330
    },
    "id": "cNFrL9pGY8x9",
    "outputId": "afd070e6-a656-4ede-a413-fad9c448df9f"
   },
   "outputs": [
    {
     "data": {
      "text/plain": [
       "<Axes: title={'center': 'MRP'}, xlabel='Brand'>"
      ]
     },
     "execution_count": 126,
     "metadata": {},
     "output_type": "execute_result"
    },
    {
     "data": {
      "image/png": "[encoded data removed]",
      "text/plain": [
       "<Figure size 2000x600 with 1 Axes>"
      ]
     },
     "metadata": {},
     "output_type": "display_data"
    }
   ],
   "source": [
    "df.boxplot(column='MRP', by='Brand', figsize=(20,6))"
   ]
  },
  {
   "cell_type": "code",
   "execution_count": null,
   "metadata": {
    "id": "-CuAyUrla4sN"
   },
   "outputs": [],
   "source": [
    "import matplotlib.pyplot as plt"
   ]
  },
  {
   "cell_type": "code",
   "execution_count": null,
   "metadata": {
    "colab": {
     "base_uri": "https://localhost:8080/",
     "height": 722
    },
    "executionInfo": {
     "elapsed": 1532,
     "status": "ok",
     "timestamp": 1681851544521,
     "user": {
      "displayName": "Sarfraz Hussain Mohammed",
      "userId": "04740348016143627760"
     },
     "user_tz": -330
    },
    "id": "3VpSAnLiZnsb",
    "outputId": "03f9d73b-c126-4ec9-f932-d2f1edc83347"
   },
   "outputs": [
    {
     "name": "stderr",
     "output_type": "stream",
     "text": [
      "<ipython-input-128-ce8c392d4dba>:6: MatplotlibDeprecationWarning: Auto-removal of overlapping axes is deprecated since 3.6 and will be removed two minor releases later; explicitly call ax.remove() as needed.\n",
      "  plt.subplot(1,2,1)\n"
     ]
    },
    {
     "data": {
      "image/png": "[encoded data removed]",
      "text/plain": [
       "<Figure size 2000x2000 with 2 Axes>"
      ]
     },
     "metadata": {},
     "output_type": "display_data"
    }
   ],
   "source": [
    "pie1= dict(df.Brand.value_counts())\n",
    "brand_list=list(pie1.keys())\n",
    "count_list=list(pie1.values())\n",
    "plt.figure(figsize=(20,20))\n",
    "plt.title('Laptop Brands with highest Variants')\n",
    "plt.subplot(1,2,1)\n",
    "plt.pie(count_list[:7],labels=brand_list[:7],autopct='%1.2f%%',shadow=True,startangle=90)\n",
    "plt.subplot(1,2,2)\n",
    "plt.pie(count_list[7:18],labels=brand_list[7:18],autopct='%1.2f%%',shadow=True,startangle=90)\n",
    "plt.show()"
   ]
  },
  {
   "cell_type": "code",
   "execution_count": null,
   "metadata": {
    "colab": {
     "base_uri": "https://localhost:8080/",
     "height": 482
    },
    "executionInfo": {
     "elapsed": 8,
     "status": "ok",
     "timestamp": 1681851569499,
     "user": {
      "displayName": "Sarfraz Hussain Mohammed",
      "userId": "04740348016143627760"
     },
     "user_tz": -330
    },
    "id": "6-nu8cPPOThz",
    "outputId": "38d04a34-1fec-4780-89b1-c68902daf9ba"
   },
   "outputs": [
    {
     "data": {
      "text/plain": [
       "<Axes: xlabel='Brand', ylabel='MRP'>"
      ]
     },
     "execution_count": 129,
     "metadata": {},
     "output_type": "execute_result"
    },
    {
     "data": {
      "image/png": "[encoded data removed]",
      "text/plain": [
       "<Figure size 1500x500 with 1 Axes>"
      ]
     },
     "metadata": {},
     "output_type": "display_data"
    }
   ],
   "source": [
    "df.plot(kind=\"scatter\", x=\"Brand\", y=\"MRP\",figsize=(15,5))"
   ]
  },
  {
   "cell_type": "code",
   "execution_count": null,
   "metadata": {
    "colab": {
     "base_uri": "https://localhost:8080/",
     "height": 482
    },
    "executionInfo": {
     "elapsed": 1278,
     "status": "ok",
     "timestamp": 1681851600015,
     "user": {
      "displayName": "Sarfraz Hussain Mohammed",
      "userId": "04740348016143627760"
     },
     "user_tz": -330
    },
    "id": "9m0Tqn2pL_vr",
    "outputId": "c27c1f3a-7f64-43e3-c221-a25d6a19d041"
   },
   "outputs": [
    {
     "data": {
      "text/plain": [
       "<Axes: xlabel='Brand', ylabel='RAM_type'>"
      ]
     },
     "execution_count": 131,
     "metadata": {},
     "output_type": "execute_result"
    },
    {
     "data": {
      "image/png": "[encoded data removed]",
      "text/plain": [
       "<Figure size 1500x500 with 1 Axes>"
      ]
     },
     "metadata": {},
     "output_type": "display_data"
    }
   ],
   "source": [
    "df.plot(kind=\"scatter\", x=\"Brand\", y=\"RAM_type\",figsize=(15,5))"
   ]
  },
  {
   "cell_type": "code",
   "execution_count": null,
   "metadata": {
    "colab": {
     "base_uri": "https://localhost:8080/",
     "height": 482
    },
    "executionInfo": {
     "elapsed": 1364,
     "status": "ok",
     "timestamp": 1681851623834,
     "user": {
      "displayName": "Sarfraz Hussain Mohammed",
      "userId": "04740348016143627760"
     },
     "user_tz": -330
    },
    "id": "dxQmliKsHapa",
    "outputId": "d131ccfd-0c61-420c-f4ca-1d4f46ad0251"
   },
   "outputs": [
    {
     "data": {
      "text/plain": [
       "<Axes: xlabel='Brand', ylabel='Processor'>"
      ]
     },
     "execution_count": 132,
     "metadata": {},
     "output_type": "execute_result"
    },
    {
     "data": {
      "image/png": "[encoded data removed]",
      "text/plain": [
       "<Figure size 1500x500 with 1 Axes>"
      ]
     },
     "metadata": {},
     "output_type": "display_data"
    }
   ],
   "source": [
    "df.plot(kind=\"scatter\", x=\"Brand\", y=\"Processor\",figsize=(15,5))"
   ]
  },
  {
   "cell_type": "code",
   "execution_count": null,
   "metadata": {
    "id": "w5HLIXpEMkUF"
   },
   "outputs": [],
   "source": []
  }
 ],
 "metadata": {
  "colab": {
   "authorship_tag": "ABX9TyPO9Tetct6XO+ZCAmIoIKd8",
   "mount_file_id": "12El9-aDyb5bsZ09djCJBGprweK4Zk7nj",
   "provenance": []
  },
  "kernelspec": {
   "display_name": "Python 3",
   "language": "python",
   "name": "python3"
  },
  "language_info": {
   "codemirror_mode": {
    "name": "ipython",
    "version": 3
   },
   "file_extension": ".py",
   "mimetype": "text/x-python",
   "name": "python",
   "nbconvert_exporter": "python",
   "pygments_lexer": "ipython3",
   "version": "3.8.8"
  }
 },
 "nbformat": 4,
 "nbformat_minor": 1
}
